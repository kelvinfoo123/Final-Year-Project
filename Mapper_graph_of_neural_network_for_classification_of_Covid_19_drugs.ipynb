{
  "nbformat": 4,
  "nbformat_minor": 0,
  "metadata": {
    "colab": {
      "provenance": [],
      "authorship_tag": "ABX9TyMFGkaLwQdaypmejsqFWT4X",
      "include_colab_link": true
    },
    "kernelspec": {
      "name": "python3",
      "display_name": "Python 3"
    },
    "language_info": {
      "name": "python"
    },
    "accelerator": "GPU",
    "gpuClass": "standard"
  },
  "cells": [
    {
      "cell_type": "markdown",
      "metadata": {
        "id": "view-in-github",
        "colab_type": "text"
      },
      "source": [
        "<a href=\"https://colab.research.google.com/github/kelvinfoo123/Final-Year-Project/blob/main/Mapper_graph_of_neural_network_for_classification_of_Covid_19_drugs.ipynb\" target=\"_parent\"><img src=\"https://colab.research.google.com/assets/colab-badge.svg\" alt=\"Open In Colab\"/></a>"
      ]
    },
    {
      "cell_type": "markdown",
      "source": [
        "## **Load and Clean Data**"
      ],
      "metadata": {
        "id": "mqAKBxYZZqd-"
      }
    },
    {
      "cell_type": "code",
      "execution_count": 1,
      "metadata": {
        "colab": {
          "base_uri": "https://localhost:8080/",
          "height": 560
        },
        "id": "sLpL23EMYN8D",
        "outputId": "d861b9e3-b847-4435-e1f2-c22fc7eb664a"
      },
      "outputs": [
        {
          "output_type": "execute_result",
          "data": {
            "text/plain": [
              "       CID                                             SMILES  \\\n",
              "0  2744814  ClC1=CC(NC(=O)CSC2=NC=CC(=N2)C2=CSC(=N2)C2=CC=...   \n",
              "1  2821293  CN1N=C(C=C1C(F)(F)F)C1=CC=C(S1)C1=CC=NC(SCC(=O...   \n",
              "2  2820912  CSC1=C(C(C)=C(S1)C1=NC(C)=CS1)C1=CC=NC(SCC(=O)...   \n",
              "3  2820914  CSC1=C(C(C)=C(S1)C1=NC(C)=CS1)C1=CC=NC(SCC(=O)...   \n",
              "4  2744846  CC1=NC(=CS1)C1=NC(=CS1)C1=NC(SCC(=O)NC2=CC=C(C...   \n",
              "\n",
              "  MolecularFormula  MolecularWeight  \\\n",
              "0   C21H14Cl2N4OS2            473.4   \n",
              "1  C21H15ClF3N5OS2            510.0   \n",
              "2    C22H19ClN4OS4            519.1   \n",
              "3    C22H19ClN4OS4            519.1   \n",
              "4    C19H14ClN5OS3            460.0   \n",
              "\n",
              "                                               InChI  \\\n",
              "0  InChI=1S/C21H14Cl2N4OS2/c22-14-8-15(23)10-16(9...   \n",
              "1  InChI=1S/C21H15ClF3N5OS2/c1-30-18(21(23,24)25)...   \n",
              "2  InChI=1S/C22H19ClN4OS4/c1-12-10-30-20(25-12)19...   \n",
              "3  InChI=1S/C22H19ClN4OS4/c1-12-10-30-20(25-12)19...   \n",
              "4  InChI=1S/C19H14ClN5OS3/c1-11-22-16(9-27-11)18-...   \n",
              "\n",
              "                      InChIKey  \\\n",
              "0  LILOEJREEQFTPM-UHFFFAOYSA-N   \n",
              "1  AWQBIBTZJKFLEW-UHFFFAOYSA-N   \n",
              "2  WRXXISITJDZVCL-UHFFFAOYSA-N   \n",
              "3  NNVVKOVHRSDRSQ-UHFFFAOYSA-N   \n",
              "4  JEZYTEDGOJCVQS-UHFFFAOYSA-N   \n",
              "\n",
              "                                           IUPACName  XLogP   ExactMass  \\\n",
              "0  N-(3,5-dichlorophenyl)-2-[4-(2-phenyl-1,3-thia...    5.6  471.998609   \n",
              "1  N-(4-chlorophenyl)-2-[4-[5-[1-methyl-5-(triflu...    4.9  509.035865   \n",
              "2  N-(4-chlorophenyl)-2-[4-[4-methyl-2-methylsulf...    6.3  518.013024   \n",
              "3  N-(2-chlorophenyl)-2-[4-[4-methyl-2-methylsulf...    6.3  518.013024   \n",
              "4  N-(4-chlorophenyl)-2-[4-[2-(2-methyl-1,3-thiaz...    4.4  459.004901   \n",
              "\n",
              "   MonoisotopicMass  ...  FeatureAcceptorCount3D  FeatureDonorCount3D  \\\n",
              "0        471.998609  ...                     3.0                  1.0   \n",
              "1        509.035865  ...                     3.0                  1.0   \n",
              "2        518.013024  ...                     3.0                  1.0   \n",
              "3        518.013024  ...                     3.0                  1.0   \n",
              "4        459.004901  ...                     4.0                  1.0   \n",
              "\n",
              "   FeatureAnionCount3D  FeatureCationCount3D  FeatureRingCount3D  \\\n",
              "0                  0.0                   1.0                 4.0   \n",
              "1                  0.0                   1.0                 4.0   \n",
              "2                  0.0                   1.0                 4.0   \n",
              "3                  0.0                   1.0                 4.0   \n",
              "4                  0.0                   1.0                 4.0   \n",
              "\n",
              "   FeatureHydrophobeCount3D  ConformerModelRMSD3D  EffectiveRotorCount3D  \\\n",
              "0                       0.0                   1.0                    7.0   \n",
              "1                       0.0                   1.2                    8.0   \n",
              "2                       1.0                   1.0                    8.0   \n",
              "3                       1.0                   1.2                    8.0   \n",
              "4                       0.0                   1.0                    7.0   \n",
              "\n",
              "   ConformerCount3D         pIC50  \n",
              "0              10.0  -0.477121255  \n",
              "1              10.0            -1  \n",
              "2              10.0  -1.041392685  \n",
              "3              10.0       BLINDED  \n",
              "4              10.0  -1.146128036  \n",
              "\n",
              "[5 rows x 40 columns]"
            ],
            "text/html": [
              "\n",
              "  <div id=\"df-5a6031de-5292-4267-b452-cf5f8afc6d92\">\n",
              "    <div class=\"colab-df-container\">\n",
              "      <div>\n",
              "<style scoped>\n",
              "    .dataframe tbody tr th:only-of-type {\n",
              "        vertical-align: middle;\n",
              "    }\n",
              "\n",
              "    .dataframe tbody tr th {\n",
              "        vertical-align: top;\n",
              "    }\n",
              "\n",
              "    .dataframe thead th {\n",
              "        text-align: right;\n",
              "    }\n",
              "</style>\n",
              "<table border=\"1\" class=\"dataframe\">\n",
              "  <thead>\n",
              "    <tr style=\"text-align: right;\">\n",
              "      <th></th>\n",
              "      <th>CID</th>\n",
              "      <th>SMILES</th>\n",
              "      <th>MolecularFormula</th>\n",
              "      <th>MolecularWeight</th>\n",
              "      <th>InChI</th>\n",
              "      <th>InChIKey</th>\n",
              "      <th>IUPACName</th>\n",
              "      <th>XLogP</th>\n",
              "      <th>ExactMass</th>\n",
              "      <th>MonoisotopicMass</th>\n",
              "      <th>...</th>\n",
              "      <th>FeatureAcceptorCount3D</th>\n",
              "      <th>FeatureDonorCount3D</th>\n",
              "      <th>FeatureAnionCount3D</th>\n",
              "      <th>FeatureCationCount3D</th>\n",
              "      <th>FeatureRingCount3D</th>\n",
              "      <th>FeatureHydrophobeCount3D</th>\n",
              "      <th>ConformerModelRMSD3D</th>\n",
              "      <th>EffectiveRotorCount3D</th>\n",
              "      <th>ConformerCount3D</th>\n",
              "      <th>pIC50</th>\n",
              "    </tr>\n",
              "  </thead>\n",
              "  <tbody>\n",
              "    <tr>\n",
              "      <th>0</th>\n",
              "      <td>2744814</td>\n",
              "      <td>ClC1=CC(NC(=O)CSC2=NC=CC(=N2)C2=CSC(=N2)C2=CC=...</td>\n",
              "      <td>C21H14Cl2N4OS2</td>\n",
              "      <td>473.4</td>\n",
              "      <td>InChI=1S/C21H14Cl2N4OS2/c22-14-8-15(23)10-16(9...</td>\n",
              "      <td>LILOEJREEQFTPM-UHFFFAOYSA-N</td>\n",
              "      <td>N-(3,5-dichlorophenyl)-2-[4-(2-phenyl-1,3-thia...</td>\n",
              "      <td>5.6</td>\n",
              "      <td>471.998609</td>\n",
              "      <td>471.998609</td>\n",
              "      <td>...</td>\n",
              "      <td>3.0</td>\n",
              "      <td>1.0</td>\n",
              "      <td>0.0</td>\n",
              "      <td>1.0</td>\n",
              "      <td>4.0</td>\n",
              "      <td>0.0</td>\n",
              "      <td>1.0</td>\n",
              "      <td>7.0</td>\n",
              "      <td>10.0</td>\n",
              "      <td>-0.477121255</td>\n",
              "    </tr>\n",
              "    <tr>\n",
              "      <th>1</th>\n",
              "      <td>2821293</td>\n",
              "      <td>CN1N=C(C=C1C(F)(F)F)C1=CC=C(S1)C1=CC=NC(SCC(=O...</td>\n",
              "      <td>C21H15ClF3N5OS2</td>\n",
              "      <td>510.0</td>\n",
              "      <td>InChI=1S/C21H15ClF3N5OS2/c1-30-18(21(23,24)25)...</td>\n",
              "      <td>AWQBIBTZJKFLEW-UHFFFAOYSA-N</td>\n",
              "      <td>N-(4-chlorophenyl)-2-[4-[5-[1-methyl-5-(triflu...</td>\n",
              "      <td>4.9</td>\n",
              "      <td>509.035865</td>\n",
              "      <td>509.035865</td>\n",
              "      <td>...</td>\n",
              "      <td>3.0</td>\n",
              "      <td>1.0</td>\n",
              "      <td>0.0</td>\n",
              "      <td>1.0</td>\n",
              "      <td>4.0</td>\n",
              "      <td>0.0</td>\n",
              "      <td>1.2</td>\n",
              "      <td>8.0</td>\n",
              "      <td>10.0</td>\n",
              "      <td>-1</td>\n",
              "    </tr>\n",
              "    <tr>\n",
              "      <th>2</th>\n",
              "      <td>2820912</td>\n",
              "      <td>CSC1=C(C(C)=C(S1)C1=NC(C)=CS1)C1=CC=NC(SCC(=O)...</td>\n",
              "      <td>C22H19ClN4OS4</td>\n",
              "      <td>519.1</td>\n",
              "      <td>InChI=1S/C22H19ClN4OS4/c1-12-10-30-20(25-12)19...</td>\n",
              "      <td>WRXXISITJDZVCL-UHFFFAOYSA-N</td>\n",
              "      <td>N-(4-chlorophenyl)-2-[4-[4-methyl-2-methylsulf...</td>\n",
              "      <td>6.3</td>\n",
              "      <td>518.013024</td>\n",
              "      <td>518.013024</td>\n",
              "      <td>...</td>\n",
              "      <td>3.0</td>\n",
              "      <td>1.0</td>\n",
              "      <td>0.0</td>\n",
              "      <td>1.0</td>\n",
              "      <td>4.0</td>\n",
              "      <td>1.0</td>\n",
              "      <td>1.0</td>\n",
              "      <td>8.0</td>\n",
              "      <td>10.0</td>\n",
              "      <td>-1.041392685</td>\n",
              "    </tr>\n",
              "    <tr>\n",
              "      <th>3</th>\n",
              "      <td>2820914</td>\n",
              "      <td>CSC1=C(C(C)=C(S1)C1=NC(C)=CS1)C1=CC=NC(SCC(=O)...</td>\n",
              "      <td>C22H19ClN4OS4</td>\n",
              "      <td>519.1</td>\n",
              "      <td>InChI=1S/C22H19ClN4OS4/c1-12-10-30-20(25-12)19...</td>\n",
              "      <td>NNVVKOVHRSDRSQ-UHFFFAOYSA-N</td>\n",
              "      <td>N-(2-chlorophenyl)-2-[4-[4-methyl-2-methylsulf...</td>\n",
              "      <td>6.3</td>\n",
              "      <td>518.013024</td>\n",
              "      <td>518.013024</td>\n",
              "      <td>...</td>\n",
              "      <td>3.0</td>\n",
              "      <td>1.0</td>\n",
              "      <td>0.0</td>\n",
              "      <td>1.0</td>\n",
              "      <td>4.0</td>\n",
              "      <td>1.0</td>\n",
              "      <td>1.2</td>\n",
              "      <td>8.0</td>\n",
              "      <td>10.0</td>\n",
              "      <td>BLINDED</td>\n",
              "    </tr>\n",
              "    <tr>\n",
              "      <th>4</th>\n",
              "      <td>2744846</td>\n",
              "      <td>CC1=NC(=CS1)C1=NC(=CS1)C1=NC(SCC(=O)NC2=CC=C(C...</td>\n",
              "      <td>C19H14ClN5OS3</td>\n",
              "      <td>460.0</td>\n",
              "      <td>InChI=1S/C19H14ClN5OS3/c1-11-22-16(9-27-11)18-...</td>\n",
              "      <td>JEZYTEDGOJCVQS-UHFFFAOYSA-N</td>\n",
              "      <td>N-(4-chlorophenyl)-2-[4-[2-(2-methyl-1,3-thiaz...</td>\n",
              "      <td>4.4</td>\n",
              "      <td>459.004901</td>\n",
              "      <td>459.004901</td>\n",
              "      <td>...</td>\n",
              "      <td>4.0</td>\n",
              "      <td>1.0</td>\n",
              "      <td>0.0</td>\n",
              "      <td>1.0</td>\n",
              "      <td>4.0</td>\n",
              "      <td>0.0</td>\n",
              "      <td>1.0</td>\n",
              "      <td>7.0</td>\n",
              "      <td>10.0</td>\n",
              "      <td>-1.146128036</td>\n",
              "    </tr>\n",
              "  </tbody>\n",
              "</table>\n",
              "<p>5 rows × 40 columns</p>\n",
              "</div>\n",
              "      <button class=\"colab-df-convert\" onclick=\"convertToInteractive('df-5a6031de-5292-4267-b452-cf5f8afc6d92')\"\n",
              "              title=\"Convert this dataframe to an interactive table.\"\n",
              "              style=\"display:none;\">\n",
              "        \n",
              "  <svg xmlns=\"http://www.w3.org/2000/svg\" height=\"24px\"viewBox=\"0 0 24 24\"\n",
              "       width=\"24px\">\n",
              "    <path d=\"M0 0h24v24H0V0z\" fill=\"none\"/>\n",
              "    <path d=\"M18.56 5.44l.94 2.06.94-2.06 2.06-.94-2.06-.94-.94-2.06-.94 2.06-2.06.94zm-11 1L8.5 8.5l.94-2.06 2.06-.94-2.06-.94L8.5 2.5l-.94 2.06-2.06.94zm10 10l.94 2.06.94-2.06 2.06-.94-2.06-.94-.94-2.06-.94 2.06-2.06.94z\"/><path d=\"M17.41 7.96l-1.37-1.37c-.4-.4-.92-.59-1.43-.59-.52 0-1.04.2-1.43.59L10.3 9.45l-7.72 7.72c-.78.78-.78 2.05 0 2.83L4 21.41c.39.39.9.59 1.41.59.51 0 1.02-.2 1.41-.59l7.78-7.78 2.81-2.81c.8-.78.8-2.07 0-2.86zM5.41 20L4 18.59l7.72-7.72 1.47 1.35L5.41 20z\"/>\n",
              "  </svg>\n",
              "      </button>\n",
              "      \n",
              "  <style>\n",
              "    .colab-df-container {\n",
              "      display:flex;\n",
              "      flex-wrap:wrap;\n",
              "      gap: 12px;\n",
              "    }\n",
              "\n",
              "    .colab-df-convert {\n",
              "      background-color: #E8F0FE;\n",
              "      border: none;\n",
              "      border-radius: 50%;\n",
              "      cursor: pointer;\n",
              "      display: none;\n",
              "      fill: #1967D2;\n",
              "      height: 32px;\n",
              "      padding: 0 0 0 0;\n",
              "      width: 32px;\n",
              "    }\n",
              "\n",
              "    .colab-df-convert:hover {\n",
              "      background-color: #E2EBFA;\n",
              "      box-shadow: 0px 1px 2px rgba(60, 64, 67, 0.3), 0px 1px 3px 1px rgba(60, 64, 67, 0.15);\n",
              "      fill: #174EA6;\n",
              "    }\n",
              "\n",
              "    [theme=dark] .colab-df-convert {\n",
              "      background-color: #3B4455;\n",
              "      fill: #D2E3FC;\n",
              "    }\n",
              "\n",
              "    [theme=dark] .colab-df-convert:hover {\n",
              "      background-color: #434B5C;\n",
              "      box-shadow: 0px 1px 3px 1px rgba(0, 0, 0, 0.15);\n",
              "      filter: drop-shadow(0px 1px 2px rgba(0, 0, 0, 0.3));\n",
              "      fill: #FFFFFF;\n",
              "    }\n",
              "  </style>\n",
              "\n",
              "      <script>\n",
              "        const buttonEl =\n",
              "          document.querySelector('#df-5a6031de-5292-4267-b452-cf5f8afc6d92 button.colab-df-convert');\n",
              "        buttonEl.style.display =\n",
              "          google.colab.kernel.accessAllowed ? 'block' : 'none';\n",
              "\n",
              "        async function convertToInteractive(key) {\n",
              "          const element = document.querySelector('#df-5a6031de-5292-4267-b452-cf5f8afc6d92');\n",
              "          const dataTable =\n",
              "            await google.colab.kernel.invokeFunction('convertToInteractive',\n",
              "                                                     [key], {});\n",
              "          if (!dataTable) return;\n",
              "\n",
              "          const docLinkHtml = 'Like what you see? Visit the ' +\n",
              "            '<a target=\"_blank\" href=https://colab.research.google.com/notebooks/data_table.ipynb>data table notebook</a>'\n",
              "            + ' to learn more about interactive tables.';\n",
              "          element.innerHTML = '';\n",
              "          dataTable['output_type'] = 'display_data';\n",
              "          await google.colab.output.renderOutput(dataTable, element);\n",
              "          const docLink = document.createElement('div');\n",
              "          docLink.innerHTML = docLinkHtml;\n",
              "          element.appendChild(docLink);\n",
              "        }\n",
              "      </script>\n",
              "    </div>\n",
              "  </div>\n",
              "  "
            ]
          },
          "metadata": {},
          "execution_count": 1
        }
      ],
      "source": [
        "import numpy as np \n",
        "import pandas as pd \n",
        "\n",
        "drug = pd.read_csv(\"COVID_DRUGS.csv\")\n",
        "drug.head()"
      ]
    },
    {
      "cell_type": "code",
      "source": [
        "drug = drug.dropna()"
      ],
      "metadata": {
        "id": "Hpud_7XgZVq9"
      },
      "execution_count": 2,
      "outputs": []
    },
    {
      "cell_type": "code",
      "source": [
        "drug.shape"
      ],
      "metadata": {
        "colab": {
          "base_uri": "https://localhost:8080/"
        },
        "id": "bnoX5flmZ1V-",
        "outputId": "70f2dda9-d276-4e09-b1b1-61729d7d1bbd"
      },
      "execution_count": null,
      "outputs": [
        {
          "output_type": "execute_result",
          "data": {
            "text/plain": [
              "(100, 40)"
            ]
          },
          "metadata": {},
          "execution_count": 3
        }
      ]
    },
    {
      "cell_type": "code",
      "source": [
        "# Scale the data \n",
        "from sklearn.preprocessing import MinMaxScaler\n",
        "\n",
        "def min_max(df):\n",
        "    min_max_scaler = MinMaxScaler(feature_range=(0,1))\n",
        "    df_scaled = min_max_scaler.fit_transform(df[[item for item in df.columns]])\n",
        "    df_scaled= pd.DataFrame(df_scaled)\n",
        "    df = df.mask(df==0).fillna(method='backfill')\n",
        "    return df"
      ],
      "metadata": {
        "id": "Ta7MuraVaGHD"
      },
      "execution_count": 3,
      "outputs": []
    },
    {
      "cell_type": "code",
      "source": [
        "drug = drug.drop(columns=['CID', \t'SMILES', \t'MolecularFormula', 'InChI', \t'InChIKey', \t'IUPACName'])"
      ],
      "metadata": {
        "id": "n2pJnksFaexg"
      },
      "execution_count": 4,
      "outputs": []
    },
    {
      "cell_type": "markdown",
      "source": [
        "## **Training and Testing Set**"
      ],
      "metadata": {
        "id": "0ckVBM-9asGS"
      }
    },
    {
      "cell_type": "code",
      "source": [
        "#train values\n",
        "clean = drug[drug['pIC50'] != 'BLINDED']\n",
        "clean['pIC50'] = clean['pIC50'].astype('float')\n",
        "clean = clean.dropna()\n",
        "clean = clean.reset_index(drop=True)\n",
        "\n",
        "# Prediction \n",
        "predict = drug[drug['pIC50'] == 'BLINDED'] # We don't know the actual value of pIC50"
      ],
      "metadata": {
        "colab": {
          "base_uri": "https://localhost:8080/"
        },
        "id": "FfQjK5kgavWV",
        "outputId": "ffb8fbb4-058b-40a9-d393-6a78672b8cdb"
      },
      "execution_count": 5,
      "outputs": [
        {
          "output_type": "stream",
          "name": "stderr",
          "text": [
            "<ipython-input-5-132128bef1a4>:3: SettingWithCopyWarning: \n",
            "A value is trying to be set on a copy of a slice from a DataFrame.\n",
            "Try using .loc[row_indexer,col_indexer] = value instead\n",
            "\n",
            "See the caveats in the documentation: https://pandas.pydata.org/pandas-docs/stable/user_guide/indexing.html#returning-a-view-versus-a-copy\n",
            "  clean['pIC50'] = clean['pIC50'].astype('float')\n"
          ]
        }
      ]
    },
    {
      "cell_type": "code",
      "source": [
        "from sklearn.model_selection import train_test_split \n",
        "\n",
        "df = clean \n",
        "X = df.drop(columns = 'pIC50')\n",
        "y = df['pIC50']\n",
        "y = pd.cut(y, bins=[-3.0,  0.0, 1.5], labels=[0, 1])\n",
        "X_train, X_test, y_train, y_test = train_test_split(X, y, test_size=0.33, random_state=1)"
      ],
      "metadata": {
        "id": "7Sl7bfYEcj4A"
      },
      "execution_count": 6,
      "outputs": []
    },
    {
      "cell_type": "markdown",
      "source": [
        "## **Building Neural Networks**"
      ],
      "metadata": {
        "id": "ab7-S0s5cIJZ"
      }
    },
    {
      "cell_type": "code",
      "source": [
        "input_dim = len(clean.drop(columns = 'pIC50').columns)"
      ],
      "metadata": {
        "id": "Z4WgneZVbSJt"
      },
      "execution_count": 7,
      "outputs": []
    },
    {
      "cell_type": "code",
      "source": [
        "import keras \n",
        "from keras.layers import Dense, Dropout, BatchNormalization\n",
        "from keras.models import Sequential\n",
        "from tensorflow.keras import regularizers"
      ],
      "metadata": {
        "id": "99BFdSFWdXcZ"
      },
      "execution_count": 8,
      "outputs": []
    },
    {
      "cell_type": "code",
      "source": [
        "model = Sequential()\n",
        "model.add(Dense(50, activation='relu', kernel_initializer='random_normal',\n",
        "                kernel_regularizer=regularizers.l2(0.05), input_dim = input_dim))\n",
        "model.add(Dense(40, activation='relu', kernel_initializer='random_normal',\n",
        "                kernel_regularizer=regularizers.l2(0.05)))         \n",
        "model.add(Dense(20, activation='relu', kernel_initializer='random_normal',\n",
        "                kernel_regularizer=regularizers.l2(0.05)))\n",
        "model.add(Dense(1, activation='sigmoid', kernel_initializer='random_normal',\n",
        "                kernel_regularizer=regularizers.l2(0.05)))"
      ],
      "metadata": {
        "id": "9y3KpgPtdgZq"
      },
      "execution_count": 9,
      "outputs": []
    },
    {
      "cell_type": "code",
      "source": [
        "model.compile(optimizer = 'adam', loss = 'binary_crossentropy', metrics = ['accuracy'])"
      ],
      "metadata": {
        "id": "1cVq6FXHeHyx"
      },
      "execution_count": 10,
      "outputs": []
    },
    {
      "cell_type": "code",
      "source": [
        "from keras.utils.vis_utils import plot_model \n",
        "\n",
        "plot_model(model, to_file = 'model_plot.png', show_shapes = True, show_layer_names = True)"
      ],
      "metadata": {
        "colab": {
          "base_uri": "https://localhost:8080/",
          "height": 533
        },
        "id": "n9k8VOEjF1qG",
        "outputId": "7aabba21-3e84-4e21-93a3-d30b1112f8d2"
      },
      "execution_count": 12,
      "outputs": [
        {
          "output_type": "execute_result",
          "data": {
            "image/png": "[encoded data removed]",
            "text/plain": [
              "<IPython.core.display.Image object>"
            ]
          },
          "metadata": {},
          "execution_count": 12
        }
      ]
    },
    {
      "cell_type": "code",
      "source": [
        "model.summary()"
      ],
      "metadata": {
        "colab": {
          "base_uri": "https://localhost:8080/"
        },
        "id": "frfKuvbCeVtQ",
        "outputId": "20e28b5c-dfcb-4ac5-ae30-6d466c4f2361"
      },
      "execution_count": null,
      "outputs": [
        {
          "output_type": "stream",
          "name": "stdout",
          "text": [
            "Model: \"sequential\"\n",
            "_________________________________________________________________\n",
            " Layer (type)                Output Shape              Param #   \n",
            "=================================================================\n",
            " dense (Dense)               (None, 50)                1700      \n",
            "                                                                 \n",
            " dense_1 (Dense)             (None, 40)                2040      \n",
            "                                                                 \n",
            " dense_2 (Dense)             (None, 20)                820       \n",
            "                                                                 \n",
            " dense_3 (Dense)             (None, 1)                 21        \n",
            "                                                                 \n",
            "=================================================================\n",
            "Total params: 4,581\n",
            "Trainable params: 4,581\n",
            "Non-trainable params: 0\n",
            "_________________________________________________________________\n"
          ]
        }
      ]
    },
    {
      "cell_type": "code",
      "source": [
        "history = model.fit(X_train, y_train, epochs = 100, batch_size = 10, shuffle = True, verbose = 2, validation_data = (X_test, y_test))"
      ],
      "metadata": {
        "colab": {
          "base_uri": "https://localhost:8080/"
        },
        "id": "OceUanxbeZnZ",
        "outputId": "a705c3dd-2b81-4c18-941c-d7115ea746b9"
      },
      "execution_count": null,
      "outputs": [
        {
          "output_type": "stream",
          "name": "stdout",
          "text": [
            "Epoch 1/100\n",
            "6/6 - 3s - loss: 0.8783 - accuracy: 0.9167 - val_loss: 1.1615 - val_accuracy: 0.7097 - 3s/epoch - 491ms/step\n",
            "Epoch 2/100\n",
            "6/6 - 0s - loss: 0.6625 - accuracy: 0.9167 - val_loss: 1.2802 - val_accuracy: 0.7097 - 42ms/epoch - 7ms/step\n",
            "Epoch 3/100\n",
            "6/6 - 0s - loss: 0.6253 - accuracy: 0.9167 - val_loss: 1.2748 - val_accuracy: 0.7097 - 46ms/epoch - 8ms/step\n",
            "Epoch 4/100\n",
            "6/6 - 0s - loss: 0.5688 - accuracy: 0.9167 - val_loss: 1.1567 - val_accuracy: 0.7097 - 40ms/epoch - 7ms/step\n",
            "Epoch 5/100\n",
            "6/6 - 0s - loss: 0.5241 - accuracy: 0.9167 - val_loss: 0.9584 - val_accuracy: 0.7097 - 40ms/epoch - 7ms/step\n",
            "Epoch 6/100\n",
            "6/6 - 0s - loss: 0.4743 - accuracy: 0.9167 - val_loss: 0.9118 - val_accuracy: 0.7097 - 39ms/epoch - 6ms/step\n",
            "Epoch 7/100\n",
            "6/6 - 0s - loss: 0.4441 - accuracy: 0.9167 - val_loss: 0.8880 - val_accuracy: 0.7097 - 52ms/epoch - 9ms/step\n",
            "Epoch 8/100\n",
            "6/6 - 0s - loss: 0.4164 - accuracy: 0.9167 - val_loss: 0.9224 - val_accuracy: 0.7097 - 40ms/epoch - 7ms/step\n",
            "Epoch 9/100\n",
            "6/6 - 0s - loss: 0.3951 - accuracy: 0.9167 - val_loss: 0.9381 - val_accuracy: 0.7097 - 40ms/epoch - 7ms/step\n",
            "Epoch 10/100\n",
            "6/6 - 0s - loss: 0.3764 - accuracy: 0.9167 - val_loss: 0.9098 - val_accuracy: 0.7097 - 41ms/epoch - 7ms/step\n",
            "Epoch 11/100\n",
            "6/6 - 0s - loss: 0.3599 - accuracy: 0.9167 - val_loss: 0.8439 - val_accuracy: 0.7097 - 52ms/epoch - 9ms/step\n",
            "Epoch 12/100\n",
            "6/6 - 0s - loss: 0.3467 - accuracy: 0.9167 - val_loss: 0.8227 - val_accuracy: 0.7097 - 39ms/epoch - 7ms/step\n",
            "Epoch 13/100\n",
            "6/6 - 0s - loss: 0.3364 - accuracy: 0.9167 - val_loss: 0.8294 - val_accuracy: 0.7097 - 37ms/epoch - 6ms/step\n",
            "Epoch 14/100\n",
            "6/6 - 0s - loss: 0.3267 - accuracy: 0.9167 - val_loss: 0.8305 - val_accuracy: 0.7097 - 40ms/epoch - 7ms/step\n",
            "Epoch 15/100\n",
            "6/6 - 0s - loss: 0.3189 - accuracy: 0.9167 - val_loss: 0.8233 - val_accuracy: 0.7097 - 41ms/epoch - 7ms/step\n",
            "Epoch 16/100\n",
            "6/6 - 0s - loss: 0.3153 - accuracy: 0.9167 - val_loss: 0.7978 - val_accuracy: 0.7097 - 53ms/epoch - 9ms/step\n",
            "Epoch 17/100\n",
            "6/6 - 0s - loss: 0.3062 - accuracy: 0.9167 - val_loss: 0.8011 - val_accuracy: 0.7097 - 45ms/epoch - 7ms/step\n",
            "Epoch 18/100\n",
            "6/6 - 0s - loss: 0.3041 - accuracy: 0.9167 - val_loss: 0.8348 - val_accuracy: 0.7097 - 41ms/epoch - 7ms/step\n",
            "Epoch 19/100\n",
            "6/6 - 0s - loss: 0.2998 - accuracy: 0.9167 - val_loss: 0.7961 - val_accuracy: 0.7097 - 38ms/epoch - 6ms/step\n",
            "Epoch 20/100\n",
            "6/6 - 0s - loss: 0.2941 - accuracy: 0.9167 - val_loss: 0.8092 - val_accuracy: 0.7097 - 40ms/epoch - 7ms/step\n",
            "Epoch 21/100\n",
            "6/6 - 0s - loss: 0.2901 - accuracy: 0.9167 - val_loss: 0.7953 - val_accuracy: 0.7097 - 52ms/epoch - 9ms/step\n",
            "Epoch 22/100\n",
            "6/6 - 0s - loss: 0.2882 - accuracy: 0.9167 - val_loss: 0.7599 - val_accuracy: 0.7097 - 40ms/epoch - 7ms/step\n",
            "Epoch 23/100\n",
            "6/6 - 0s - loss: 0.2856 - accuracy: 0.9167 - val_loss: 0.7867 - val_accuracy: 0.7097 - 40ms/epoch - 7ms/step\n",
            "Epoch 24/100\n",
            "6/6 - 0s - loss: 0.2818 - accuracy: 0.9167 - val_loss: 0.7802 - val_accuracy: 0.7097 - 48ms/epoch - 8ms/step\n",
            "Epoch 25/100\n",
            "6/6 - 0s - loss: 0.2796 - accuracy: 0.9167 - val_loss: 0.7873 - val_accuracy: 0.7097 - 40ms/epoch - 7ms/step\n",
            "Epoch 26/100\n",
            "6/6 - 0s - loss: 0.2796 - accuracy: 0.9167 - val_loss: 0.7871 - val_accuracy: 0.7097 - 55ms/epoch - 9ms/step\n",
            "Epoch 27/100\n",
            "6/6 - 0s - loss: 0.2807 - accuracy: 0.9167 - val_loss: 0.7474 - val_accuracy: 0.7097 - 53ms/epoch - 9ms/step\n",
            "Epoch 28/100\n",
            "6/6 - 0s - loss: 0.2750 - accuracy: 0.9167 - val_loss: 0.7589 - val_accuracy: 0.7097 - 39ms/epoch - 7ms/step\n",
            "Epoch 29/100\n",
            "6/6 - 0s - loss: 0.2752 - accuracy: 0.9167 - val_loss: 0.8039 - val_accuracy: 0.7097 - 57ms/epoch - 9ms/step\n",
            "Epoch 30/100\n",
            "6/6 - 0s - loss: 0.2734 - accuracy: 0.9167 - val_loss: 0.7766 - val_accuracy: 0.7097 - 40ms/epoch - 7ms/step\n",
            "Epoch 31/100\n",
            "6/6 - 0s - loss: 0.2707 - accuracy: 0.9167 - val_loss: 0.7602 - val_accuracy: 0.7097 - 56ms/epoch - 9ms/step\n",
            "Epoch 32/100\n",
            "6/6 - 0s - loss: 0.2693 - accuracy: 0.9167 - val_loss: 0.7584 - val_accuracy: 0.7097 - 42ms/epoch - 7ms/step\n",
            "Epoch 33/100\n",
            "6/6 - 0s - loss: 0.2702 - accuracy: 0.9167 - val_loss: 0.7783 - val_accuracy: 0.7097 - 46ms/epoch - 8ms/step\n",
            "Epoch 34/100\n",
            "6/6 - 0s - loss: 0.2682 - accuracy: 0.9167 - val_loss: 0.7635 - val_accuracy: 0.7097 - 53ms/epoch - 9ms/step\n",
            "Epoch 35/100\n",
            "6/6 - 0s - loss: 0.2695 - accuracy: 0.9167 - val_loss: 0.7530 - val_accuracy: 0.7097 - 53ms/epoch - 9ms/step\n",
            "Epoch 36/100\n",
            "6/6 - 0s - loss: 0.2666 - accuracy: 0.9167 - val_loss: 0.7674 - val_accuracy: 0.7097 - 38ms/epoch - 6ms/step\n",
            "Epoch 37/100\n",
            "6/6 - 0s - loss: 0.2650 - accuracy: 0.9167 - val_loss: 0.7676 - val_accuracy: 0.7097 - 39ms/epoch - 6ms/step\n",
            "Epoch 38/100\n",
            "6/6 - 0s - loss: 0.2645 - accuracy: 0.9167 - val_loss: 0.7622 - val_accuracy: 0.7097 - 51ms/epoch - 9ms/step\n",
            "Epoch 39/100\n",
            "6/6 - 0s - loss: 0.2630 - accuracy: 0.9167 - val_loss: 0.7601 - val_accuracy: 0.7097 - 41ms/epoch - 7ms/step\n",
            "Epoch 40/100\n",
            "6/6 - 0s - loss: 0.2627 - accuracy: 0.9167 - val_loss: 0.7552 - val_accuracy: 0.7097 - 40ms/epoch - 7ms/step\n",
            "Epoch 41/100\n",
            "6/6 - 0s - loss: 0.2645 - accuracy: 0.9167 - val_loss: 0.7306 - val_accuracy: 0.7097 - 39ms/epoch - 7ms/step\n",
            "Epoch 42/100\n",
            "6/6 - 0s - loss: 0.2616 - accuracy: 0.9167 - val_loss: 0.7604 - val_accuracy: 0.7097 - 41ms/epoch - 7ms/step\n",
            "Epoch 43/100\n",
            "6/6 - 0s - loss: 0.2616 - accuracy: 0.9167 - val_loss: 0.7550 - val_accuracy: 0.7097 - 53ms/epoch - 9ms/step\n",
            "Epoch 44/100\n",
            "6/6 - 0s - loss: 0.2612 - accuracy: 0.9167 - val_loss: 0.7803 - val_accuracy: 0.7097 - 49ms/epoch - 8ms/step\n",
            "Epoch 45/100\n",
            "6/6 - 0s - loss: 0.2609 - accuracy: 0.9167 - val_loss: 0.7485 - val_accuracy: 0.7097 - 53ms/epoch - 9ms/step\n",
            "Epoch 46/100\n",
            "6/6 - 0s - loss: 0.2610 - accuracy: 0.9167 - val_loss: 0.7492 - val_accuracy: 0.7097 - 39ms/epoch - 7ms/step\n",
            "Epoch 47/100\n",
            "6/6 - 0s - loss: 0.2597 - accuracy: 0.9167 - val_loss: 0.7640 - val_accuracy: 0.7097 - 48ms/epoch - 8ms/step\n",
            "Epoch 48/100\n",
            "6/6 - 0s - loss: 0.2639 - accuracy: 0.9167 - val_loss: 0.7208 - val_accuracy: 0.7097 - 52ms/epoch - 9ms/step\n",
            "Epoch 49/100\n",
            "6/6 - 0s - loss: 0.2601 - accuracy: 0.9167 - val_loss: 0.7686 - val_accuracy: 0.7097 - 44ms/epoch - 7ms/step\n",
            "Epoch 50/100\n",
            "6/6 - 0s - loss: 0.2581 - accuracy: 0.9167 - val_loss: 0.7511 - val_accuracy: 0.7097 - 54ms/epoch - 9ms/step\n",
            "Epoch 51/100\n",
            "6/6 - 0s - loss: 0.2568 - accuracy: 0.9167 - val_loss: 0.7408 - val_accuracy: 0.7097 - 40ms/epoch - 7ms/step\n",
            "Epoch 52/100\n",
            "6/6 - 0s - loss: 0.2586 - accuracy: 0.9167 - val_loss: 0.7227 - val_accuracy: 0.7097 - 41ms/epoch - 7ms/step\n",
            "Epoch 53/100\n",
            "6/6 - 0s - loss: 0.2570 - accuracy: 0.9167 - val_loss: 0.7361 - val_accuracy: 0.7097 - 41ms/epoch - 7ms/step\n",
            "Epoch 54/100\n",
            "6/6 - 0s - loss: 0.2576 - accuracy: 0.9167 - val_loss: 0.7874 - val_accuracy: 0.7097 - 45ms/epoch - 7ms/step\n",
            "Epoch 55/100\n",
            "6/6 - 0s - loss: 0.2619 - accuracy: 0.9167 - val_loss: 0.7973 - val_accuracy: 0.7097 - 41ms/epoch - 7ms/step\n",
            "Epoch 56/100\n",
            "6/6 - 0s - loss: 0.2590 - accuracy: 0.9167 - val_loss: 0.7020 - val_accuracy: 0.7097 - 41ms/epoch - 7ms/step\n",
            "Epoch 57/100\n",
            "6/6 - 0s - loss: 0.2603 - accuracy: 0.9167 - val_loss: 0.7372 - val_accuracy: 0.7097 - 54ms/epoch - 9ms/step\n",
            "Epoch 58/100\n",
            "6/6 - 0s - loss: 0.2550 - accuracy: 0.9167 - val_loss: 0.7411 - val_accuracy: 0.7097 - 41ms/epoch - 7ms/step\n",
            "Epoch 59/100\n",
            "6/6 - 0s - loss: 0.2572 - accuracy: 0.9167 - val_loss: 0.7069 - val_accuracy: 0.7097 - 53ms/epoch - 9ms/step\n",
            "Epoch 60/100\n",
            "6/6 - 0s - loss: 0.2572 - accuracy: 0.9167 - val_loss: 0.7186 - val_accuracy: 0.7097 - 44ms/epoch - 7ms/step\n",
            "Epoch 61/100\n",
            "6/6 - 0s - loss: 0.2585 - accuracy: 0.9167 - val_loss: 0.7955 - val_accuracy: 0.7097 - 53ms/epoch - 9ms/step\n",
            "Epoch 62/100\n",
            "6/6 - 0s - loss: 0.2553 - accuracy: 0.9167 - val_loss: 0.7699 - val_accuracy: 0.7097 - 39ms/epoch - 7ms/step\n",
            "Epoch 63/100\n",
            "6/6 - 0s - loss: 0.2555 - accuracy: 0.9167 - val_loss: 0.7578 - val_accuracy: 0.7097 - 52ms/epoch - 9ms/step\n",
            "Epoch 64/100\n",
            "6/6 - 0s - loss: 0.2680 - accuracy: 0.9167 - val_loss: 0.6703 - val_accuracy: 0.7097 - 43ms/epoch - 7ms/step\n",
            "Epoch 65/100\n",
            "6/6 - 0s - loss: 0.2577 - accuracy: 0.9167 - val_loss: 0.7296 - val_accuracy: 0.7097 - 51ms/epoch - 9ms/step\n",
            "Epoch 66/100\n",
            "6/6 - 0s - loss: 0.2544 - accuracy: 0.9167 - val_loss: 0.7665 - val_accuracy: 0.7097 - 41ms/epoch - 7ms/step\n",
            "Epoch 67/100\n",
            "6/6 - 0s - loss: 0.2533 - accuracy: 0.9167 - val_loss: 0.7308 - val_accuracy: 0.7097 - 56ms/epoch - 9ms/step\n",
            "Epoch 68/100\n",
            "6/6 - 0s - loss: 0.2550 - accuracy: 0.9167 - val_loss: 0.7238 - val_accuracy: 0.7097 - 53ms/epoch - 9ms/step\n",
            "Epoch 69/100\n",
            "6/6 - 0s - loss: 0.2523 - accuracy: 0.9167 - val_loss: 0.7269 - val_accuracy: 0.7097 - 45ms/epoch - 8ms/step\n",
            "Epoch 70/100\n",
            "6/6 - 0s - loss: 0.2520 - accuracy: 0.9167 - val_loss: 0.7491 - val_accuracy: 0.7097 - 43ms/epoch - 7ms/step\n",
            "Epoch 71/100\n",
            "6/6 - 0s - loss: 0.2518 - accuracy: 0.9167 - val_loss: 0.7582 - val_accuracy: 0.7097 - 52ms/epoch - 9ms/step\n",
            "Epoch 72/100\n",
            "6/6 - 0s - loss: 0.2509 - accuracy: 0.9167 - val_loss: 0.7339 - val_accuracy: 0.7097 - 56ms/epoch - 9ms/step\n",
            "Epoch 73/100\n",
            "6/6 - 0s - loss: 0.2514 - accuracy: 0.9167 - val_loss: 0.7208 - val_accuracy: 0.7097 - 41ms/epoch - 7ms/step\n",
            "Epoch 74/100\n",
            "6/6 - 0s - loss: 0.2516 - accuracy: 0.9167 - val_loss: 0.7424 - val_accuracy: 0.7097 - 41ms/epoch - 7ms/step\n",
            "Epoch 75/100\n",
            "6/6 - 0s - loss: 0.2505 - accuracy: 0.9167 - val_loss: 0.7291 - val_accuracy: 0.7097 - 42ms/epoch - 7ms/step\n",
            "Epoch 76/100\n",
            "6/6 - 0s - loss: 0.2513 - accuracy: 0.9167 - val_loss: 0.7140 - val_accuracy: 0.7097 - 39ms/epoch - 7ms/step\n",
            "Epoch 77/100\n",
            "6/6 - 0s - loss: 0.2512 - accuracy: 0.9167 - val_loss: 0.7461 - val_accuracy: 0.7097 - 39ms/epoch - 7ms/step\n",
            "Epoch 78/100\n",
            "6/6 - 0s - loss: 0.2515 - accuracy: 0.9167 - val_loss: 0.7380 - val_accuracy: 0.7097 - 54ms/epoch - 9ms/step\n",
            "Epoch 79/100\n",
            "6/6 - 0s - loss: 0.2504 - accuracy: 0.9167 - val_loss: 0.7533 - val_accuracy: 0.7097 - 39ms/epoch - 7ms/step\n",
            "Epoch 80/100\n",
            "6/6 - 0s - loss: 0.2499 - accuracy: 0.9167 - val_loss: 0.7362 - val_accuracy: 0.7097 - 54ms/epoch - 9ms/step\n",
            "Epoch 81/100\n",
            "6/6 - 0s - loss: 0.2542 - accuracy: 0.9167 - val_loss: 0.6978 - val_accuracy: 0.7097 - 51ms/epoch - 9ms/step\n",
            "Epoch 82/100\n",
            "6/6 - 0s - loss: 0.2505 - accuracy: 0.9167 - val_loss: 0.7410 - val_accuracy: 0.7097 - 40ms/epoch - 7ms/step\n",
            "Epoch 83/100\n",
            "6/6 - 0s - loss: 0.2502 - accuracy: 0.9167 - val_loss: 0.7551 - val_accuracy: 0.7097 - 48ms/epoch - 8ms/step\n",
            "Epoch 84/100\n",
            "6/6 - 0s - loss: 0.2513 - accuracy: 0.9167 - val_loss: 0.7672 - val_accuracy: 0.7097 - 40ms/epoch - 7ms/step\n",
            "Epoch 85/100\n",
            "6/6 - 0s - loss: 0.2516 - accuracy: 0.9167 - val_loss: 0.6972 - val_accuracy: 0.7097 - 39ms/epoch - 6ms/step\n",
            "Epoch 86/100\n",
            "6/6 - 0s - loss: 0.2503 - accuracy: 0.9167 - val_loss: 0.6918 - val_accuracy: 0.7097 - 39ms/epoch - 7ms/step\n",
            "Epoch 87/100\n",
            "6/6 - 0s - loss: 0.2495 - accuracy: 0.9167 - val_loss: 0.7169 - val_accuracy: 0.7097 - 37ms/epoch - 6ms/step\n",
            "Epoch 88/100\n",
            "6/6 - 0s - loss: 0.2478 - accuracy: 0.9167 - val_loss: 0.7620 - val_accuracy: 0.7097 - 42ms/epoch - 7ms/step\n",
            "Epoch 89/100\n",
            "6/6 - 0s - loss: 0.2491 - accuracy: 0.9167 - val_loss: 0.7561 - val_accuracy: 0.7097 - 37ms/epoch - 6ms/step\n",
            "Epoch 90/100\n",
            "6/6 - 0s - loss: 0.2498 - accuracy: 0.9167 - val_loss: 0.7617 - val_accuracy: 0.7097 - 61ms/epoch - 10ms/step\n",
            "Epoch 91/100\n",
            "6/6 - 0s - loss: 0.2495 - accuracy: 0.9167 - val_loss: 0.7381 - val_accuracy: 0.7097 - 41ms/epoch - 7ms/step\n",
            "Epoch 92/100\n",
            "6/6 - 0s - loss: 0.2476 - accuracy: 0.9167 - val_loss: 0.6928 - val_accuracy: 0.7097 - 55ms/epoch - 9ms/step\n",
            "Epoch 93/100\n",
            "6/6 - 0s - loss: 0.2492 - accuracy: 0.9167 - val_loss: 0.6921 - val_accuracy: 0.7097 - 40ms/epoch - 7ms/step\n",
            "Epoch 94/100\n",
            "6/6 - 0s - loss: 0.2476 - accuracy: 0.9167 - val_loss: 0.7319 - val_accuracy: 0.7097 - 38ms/epoch - 6ms/step\n",
            "Epoch 95/100\n",
            "6/6 - 0s - loss: 0.2479 - accuracy: 0.9167 - val_loss: 0.7333 - val_accuracy: 0.7097 - 40ms/epoch - 7ms/step\n",
            "Epoch 96/100\n",
            "6/6 - 0s - loss: 0.2494 - accuracy: 0.9167 - val_loss: 0.7483 - val_accuracy: 0.7097 - 53ms/epoch - 9ms/step\n",
            "Epoch 97/100\n",
            "6/6 - 0s - loss: 0.2478 - accuracy: 0.9167 - val_loss: 0.7187 - val_accuracy: 0.7097 - 39ms/epoch - 7ms/step\n",
            "Epoch 98/100\n",
            "6/6 - 0s - loss: 0.2498 - accuracy: 0.9167 - val_loss: 0.7406 - val_accuracy: 0.7097 - 36ms/epoch - 6ms/step\n",
            "Epoch 99/100\n",
            "6/6 - 0s - loss: 0.2470 - accuracy: 0.9167 - val_loss: 0.7127 - val_accuracy: 0.7097 - 37ms/epoch - 6ms/step\n",
            "Epoch 100/100\n",
            "6/6 - 0s - loss: 0.2484 - accuracy: 0.9167 - val_loss: 0.7006 - val_accuracy: 0.7097 - 54ms/epoch - 9ms/step\n"
          ]
        }
      ]
    },
    {
      "cell_type": "code",
      "source": [
        "import plotly.express as px\n",
        "from plotly.subplots import make_subplots\n",
        "import plotly.graph_objects as go\n",
        "import plotly.figure_factory as ff\n",
        "\n",
        "dH = pd.DataFrame(history.history)\n",
        "fig = go.Figure()\n",
        "\n",
        "fig.add_trace(go.Scatter(x=dH.index, y=dH['loss'],\n",
        "                    mode='lines',\n",
        "                    name='Training loss',\n",
        "                    line_color='red'))\n",
        "fig.add_trace(go.Scatter(x=dH.index, y=dH['val_loss'],\n",
        "                    mode='lines',\n",
        "                    name='Validation loss',\n",
        "                    line_color='orange'))\n",
        "fig.update_layout(\n",
        "    title=\"Accuracy and Loss\",\n",
        "    xaxis_title=\"Number of epochs\")\n",
        "fig.update_layout({'plot_bgcolor': 'aliceblue' , #or azure\n",
        "'paper_bgcolor': 'white',}, template='plotly_white')"
      ],
      "metadata": {
        "colab": {
          "base_uri": "https://localhost:8080/",
          "height": 542
        },
        "id": "Rql-v5sHfVhZ",
        "outputId": "74d7d47c-5dc5-44ce-c8b1-2d2481f67b45"
      },
      "execution_count": null,
      "outputs": [
        {
          "output_type": "display_data",
          "data": {
            "text/html": [
              "<html>\n",
              "<head><meta charset=\"utf-8\" /></head>\n",
              "<body>\n",
              "    <div>            <script src=\"https://cdnjs.cloudflare.com/ajax/libs/mathjax/2.7.5/MathJax.js?config=TeX-AMS-MML_SVG\"></script><script type=\"text/javascript\">if (window.MathJax) {MathJax.Hub.Config({SVG: {font: \"STIX-Web\"}});}</script>                <script type=\"text/javascript\">window.PlotlyConfig = {MathJaxConfig: 'local'};</script>\n",
              "        <script src=\"https://cdn.plot.ly/plotly-2.8.3.min.js\"></script>                <div id=\"b4736d93-9c84-4e13-aec1-099d9884c53c\" class=\"plotly-graph-div\" style=\"height:525px; width:100%;\"></div>            <script type=\"text/javascript\">                                    window.PLOTLYENV=window.PLOTLYENV || {};                                    if (document.getElementById(\"b4736d93-9c84-4e13-aec1-099d9884c53c\")) {                    Plotly.newPlot(                        \"b4736d93-9c84-4e13-aec1-099d9884c53c\",                        [{\"line\":{\"color\":\"red\"},\"mode\":\"lines\",\"name\":\"Training loss\",\"x\":[0,1,2,3,4,5,6,7,8,9,10,11,12,13,14,15,16,17,18,19,20,21,22,23,24,25,26,27,28,29,30,31,32,33,34,35,36,37,38,39,40,41,42,43,44,45,46,47,48,49,50,51,52,53,54,55,56,57,58,59,60,61,62,63,64,65,66,67,68,69,70,71,72,73,74,75,76,77,78,79,80,81,82,83,84,85,86,87,88,89,90,91,92,93,94,95,96,97,98,99],\"y\":[0.8782691359519958,0.66252201795578,0.6253418326377869,0.5687763690948486,0.5240923166275024,0.47431403398513794,0.4441455006599426,0.41637250781059265,0.3951132595539093,0.37635356187820435,0.3598853647708893,0.3466993272304535,0.33637750148773193,0.3266836702823639,0.31886157393455505,0.31529349088668823,0.3061935007572174,0.3041297197341919,0.2997686266899109,0.2940896451473236,0.2900841534137726,0.288210928440094,0.28561124205589294,0.28184834122657776,0.27961280941963196,0.27960482239723206,0.28071168065071106,0.2750064432621002,0.2751917839050293,0.27341774106025696,0.27067387104034424,0.26934394240379333,0.27017614245414734,0.26817232370376587,0.2694804072380066,0.26661160588264465,0.2650289833545685,0.2644762098789215,0.2629988491535187,0.2626934349536896,0.26448264718055725,0.26164868474006653,0.26162680983543396,0.26118290424346924,0.26091304421424866,0.26100555062294006,0.25972360372543335,0.2639065384864807,0.26012319326400757,0.25811710953712463,0.25675949454307556,0.2586438059806824,0.25698885321617126,0.25764399766921997,0.2618512809276581,0.2589680552482605,0.2603265047073364,0.25496408343315125,0.25724756717681885,0.2572239935398102,0.25845932960510254,0.25529512763023376,0.25549396872520447,0.26802608370780945,0.2577190101146698,0.2543506622314453,0.2532729506492615,0.25500619411468506,0.252346009016037,0.25204983353614807,0.251832515001297,0.2508811354637146,0.25138479471206665,0.2515971064567566,0.25049179792404175,0.25131264328956604,0.25117579102516174,0.25148695707321167,0.25042960047721863,0.2498866766691208,0.25415346026420593,0.25047793984413147,0.25017035007476807,0.25126248598098755,0.2516290247440338,0.25034114718437195,0.24948760867118835,0.24778014421463013,0.24913083016872406,0.24976195394992828,0.2494695633649826,0.24756178259849548,0.24916522204875946,0.24759234488010406,0.24785150587558746,0.24935057759284973,0.24776281416416168,0.24984145164489746,0.2470095008611679,0.2483823299407959],\"type\":\"scatter\"},{\"line\":{\"color\":\"orange\"},\"mode\":\"lines\",\"name\":\"Validation loss\",\"x\":[0,1,2,3,4,5,6,7,8,9,10,11,12,13,14,15,16,17,18,19,20,21,22,23,24,25,26,27,28,29,30,31,32,33,34,35,36,37,38,39,40,41,42,43,44,45,46,47,48,49,50,51,52,53,54,55,56,57,58,59,60,61,62,63,64,65,66,67,68,69,70,71,72,73,74,75,76,77,78,79,80,81,82,83,84,85,86,87,88,89,90,91,92,93,94,95,96,97,98,99],\"y\":[1.161548376083374,1.280167818069458,1.2747730016708374,1.1567208766937256,0.9584313035011292,0.9117699861526489,0.8880051970481873,0.9224402904510498,0.9381320476531982,0.9098222255706787,0.8438535928726196,0.8227335810661316,0.8293534517288208,0.8304905891418457,0.8233082890510559,0.797831118106842,0.801124095916748,0.8347587585449219,0.7960699200630188,0.809195339679718,0.7953259944915771,0.7599393129348755,0.7867305874824524,0.7802203893661499,0.7873070240020752,0.7870653867721558,0.7473862767219543,0.7588959336280823,0.8039219975471497,0.7766183018684387,0.7602044343948364,0.7583663463592529,0.7783230543136597,0.76345294713974,0.7530009150505066,0.7673681378364563,0.7675902843475342,0.7622254490852356,0.7600694298744202,0.7551618218421936,0.7306498289108276,0.7603955268859863,0.7549644112586975,0.7803491353988647,0.7485013008117676,0.7492387294769287,0.764034628868103,0.7207528948783875,0.7685711979866028,0.7510978579521179,0.7407787442207336,0.7226731777191162,0.7361041903495789,0.7874277234077454,0.7972812056541443,0.7020152807235718,0.7371580004692078,0.7411239743232727,0.7068617343902588,0.7185808420181274,0.7955013513565063,0.7699399590492249,0.7578006982803345,0.670275092124939,0.7296378016471863,0.7664911150932312,0.7307830452919006,0.7238031625747681,0.726934015750885,0.7491183876991272,0.7581531405448914,0.7339317202568054,0.7207967042922974,0.7423645257949829,0.7290818095207214,0.7139594554901123,0.7460891008377075,0.7379900217056274,0.75327467918396,0.7362447381019592,0.6978476643562317,0.7410305738449097,0.7550851702690125,0.7671733498573303,0.6971552968025208,0.6918399930000305,0.7168744206428528,0.7620030641555786,0.7560951709747314,0.7617035508155823,0.7380619645118713,0.6927500367164612,0.6920858025550842,0.7318969368934631,0.7332730293273926,0.7482752799987793,0.7186823487281799,0.7406293153762817,0.7127482891082764,0.7006113529205322],\"type\":\"scatter\"}],                        {\"template\":{\"data\":{\"barpolar\":[{\"marker\":{\"line\":{\"color\":\"white\",\"width\":0.5},\"pattern\":{\"fillmode\":\"overlay\",\"size\":10,\"solidity\":0.2}},\"type\":\"barpolar\"}],\"bar\":[{\"error_x\":{\"color\":\"#2a3f5f\"},\"error_y\":{\"color\":\"#2a3f5f\"},\"marker\":{\"line\":{\"color\":\"white\",\"width\":0.5},\"pattern\":{\"fillmode\":\"overlay\",\"size\":10,\"solidity\":0.2}},\"type\":\"bar\"}],\"carpet\":[{\"aaxis\":{\"endlinecolor\":\"#2a3f5f\",\"gridcolor\":\"#C8D4E3\",\"linecolor\":\"#C8D4E3\",\"minorgridcolor\":\"#C8D4E3\",\"startlinecolor\":\"#2a3f5f\"},\"baxis\":{\"endlinecolor\":\"#2a3f5f\",\"gridcolor\":\"#C8D4E3\",\"linecolor\":\"#C8D4E3\",\"minorgridcolor\":\"#C8D4E3\",\"startlinecolor\":\"#2a3f5f\"},\"type\":\"carpet\"}],\"choropleth\":[{\"colorbar\":{\"outlinewidth\":0,\"ticks\":\"\"},\"type\":\"choropleth\"}],\"contourcarpet\":[{\"colorbar\":{\"outlinewidth\":0,\"ticks\":\"\"},\"type\":\"contourcarpet\"}],\"contour\":[{\"colorbar\":{\"outlinewidth\":0,\"ticks\":\"\"},\"colorscale\":[[0.0,\"#0d0887\"],[0.1111111111111111,\"#46039f\"],[0.2222222222222222,\"#7201a8\"],[0.3333333333333333,\"#9c179e\"],[0.4444444444444444,\"#bd3786\"],[0.5555555555555556,\"#d8576b\"],[0.6666666666666666,\"#ed7953\"],[0.7777777777777778,\"#fb9f3a\"],[0.8888888888888888,\"#fdca26\"],[1.0,\"#f0f921\"]],\"type\":\"contour\"}],\"heatmapgl\":[{\"colorbar\":{\"outlinewidth\":0,\"ticks\":\"\"},\"colorscale\":[[0.0,\"#0d0887\"],[0.1111111111111111,\"#46039f\"],[0.2222222222222222,\"#7201a8\"],[0.3333333333333333,\"#9c179e\"],[0.4444444444444444,\"#bd3786\"],[0.5555555555555556,\"#d8576b\"],[0.6666666666666666,\"#ed7953\"],[0.7777777777777778,\"#fb9f3a\"],[0.8888888888888888,\"#fdca26\"],[1.0,\"#f0f921\"]],\"type\":\"heatmapgl\"}],\"heatmap\":[{\"colorbar\":{\"outlinewidth\":0,\"ticks\":\"\"},\"colorscale\":[[0.0,\"#0d0887\"],[0.1111111111111111,\"#46039f\"],[0.2222222222222222,\"#7201a8\"],[0.3333333333333333,\"#9c179e\"],[0.4444444444444444,\"#bd3786\"],[0.5555555555555556,\"#d8576b\"],[0.6666666666666666,\"#ed7953\"],[0.7777777777777778,\"#fb9f3a\"],[0.8888888888888888,\"#fdca26\"],[1.0,\"#f0f921\"]],\"type\":\"heatmap\"}],\"histogram2dcontour\":[{\"colorbar\":{\"outlinewidth\":0,\"ticks\":\"\"},\"colorscale\":[[0.0,\"#0d0887\"],[0.1111111111111111,\"#46039f\"],[0.2222222222222222,\"#7201a8\"],[0.3333333333333333,\"#9c179e\"],[0.4444444444444444,\"#bd3786\"],[0.5555555555555556,\"#d8576b\"],[0.6666666666666666,\"#ed7953\"],[0.7777777777777778,\"#fb9f3a\"],[0.8888888888888888,\"#fdca26\"],[1.0,\"#f0f921\"]],\"type\":\"histogram2dcontour\"}],\"histogram2d\":[{\"colorbar\":{\"outlinewidth\":0,\"ticks\":\"\"},\"colorscale\":[[0.0,\"#0d0887\"],[0.1111111111111111,\"#46039f\"],[0.2222222222222222,\"#7201a8\"],[0.3333333333333333,\"#9c179e\"],[0.4444444444444444,\"#bd3786\"],[0.5555555555555556,\"#d8576b\"],[0.6666666666666666,\"#ed7953\"],[0.7777777777777778,\"#fb9f3a\"],[0.8888888888888888,\"#fdca26\"],[1.0,\"#f0f921\"]],\"type\":\"histogram2d\"}],\"histogram\":[{\"marker\":{\"pattern\":{\"fillmode\":\"overlay\",\"size\":10,\"solidity\":0.2}},\"type\":\"histogram\"}],\"mesh3d\":[{\"colorbar\":{\"outlinewidth\":0,\"ticks\":\"\"},\"type\":\"mesh3d\"}],\"parcoords\":[{\"line\":{\"colorbar\":{\"outlinewidth\":0,\"ticks\":\"\"}},\"type\":\"parcoords\"}],\"pie\":[{\"automargin\":true,\"type\":\"pie\"}],\"scatter3d\":[{\"line\":{\"colorbar\":{\"outlinewidth\":0,\"ticks\":\"\"}},\"marker\":{\"colorbar\":{\"outlinewidth\":0,\"ticks\":\"\"}},\"type\":\"scatter3d\"}],\"scattercarpet\":[{\"marker\":{\"colorbar\":{\"outlinewidth\":0,\"ticks\":\"\"}},\"type\":\"scattercarpet\"}],\"scattergeo\":[{\"marker\":{\"colorbar\":{\"outlinewidth\":0,\"ticks\":\"\"}},\"type\":\"scattergeo\"}],\"scattergl\":[{\"marker\":{\"colorbar\":{\"outlinewidth\":0,\"ticks\":\"\"}},\"type\":\"scattergl\"}],\"scattermapbox\":[{\"marker\":{\"colorbar\":{\"outlinewidth\":0,\"ticks\":\"\"}},\"type\":\"scattermapbox\"}],\"scatterpolargl\":[{\"marker\":{\"colorbar\":{\"outlinewidth\":0,\"ticks\":\"\"}},\"type\":\"scatterpolargl\"}],\"scatterpolar\":[{\"marker\":{\"colorbar\":{\"outlinewidth\":0,\"ticks\":\"\"}},\"type\":\"scatterpolar\"}],\"scatter\":[{\"marker\":{\"colorbar\":{\"outlinewidth\":0,\"ticks\":\"\"}},\"type\":\"scatter\"}],\"scatterternary\":[{\"marker\":{\"colorbar\":{\"outlinewidth\":0,\"ticks\":\"\"}},\"type\":\"scatterternary\"}],\"surface\":[{\"colorbar\":{\"outlinewidth\":0,\"ticks\":\"\"},\"colorscale\":[[0.0,\"#0d0887\"],[0.1111111111111111,\"#46039f\"],[0.2222222222222222,\"#7201a8\"],[0.3333333333333333,\"#9c179e\"],[0.4444444444444444,\"#bd3786\"],[0.5555555555555556,\"#d8576b\"],[0.6666666666666666,\"#ed7953\"],[0.7777777777777778,\"#fb9f3a\"],[0.8888888888888888,\"#fdca26\"],[1.0,\"#f0f921\"]],\"type\":\"surface\"}],\"table\":[{\"cells\":{\"fill\":{\"color\":\"#EBF0F8\"},\"line\":{\"color\":\"white\"}},\"header\":{\"fill\":{\"color\":\"#C8D4E3\"},\"line\":{\"color\":\"white\"}},\"type\":\"table\"}]},\"layout\":{\"annotationdefaults\":{\"arrowcolor\":\"#2a3f5f\",\"arrowhead\":0,\"arrowwidth\":1},\"autotypenumbers\":\"strict\",\"coloraxis\":{\"colorbar\":{\"outlinewidth\":0,\"ticks\":\"\"}},\"colorscale\":{\"diverging\":[[0,\"#8e0152\"],[0.1,\"#c51b7d\"],[0.2,\"#de77ae\"],[0.3,\"#f1b6da\"],[0.4,\"#fde0ef\"],[0.5,\"#f7f7f7\"],[0.6,\"#e6f5d0\"],[0.7,\"#b8e186\"],[0.8,\"#7fbc41\"],[0.9,\"#4d9221\"],[1,\"#276419\"]],\"sequential\":[[0.0,\"#0d0887\"],[0.1111111111111111,\"#46039f\"],[0.2222222222222222,\"#7201a8\"],[0.3333333333333333,\"#9c179e\"],[0.4444444444444444,\"#bd3786\"],[0.5555555555555556,\"#d8576b\"],[0.6666666666666666,\"#ed7953\"],[0.7777777777777778,\"#fb9f3a\"],[0.8888888888888888,\"#fdca26\"],[1.0,\"#f0f921\"]],\"sequentialminus\":[[0.0,\"#0d0887\"],[0.1111111111111111,\"#46039f\"],[0.2222222222222222,\"#7201a8\"],[0.3333333333333333,\"#9c179e\"],[0.4444444444444444,\"#bd3786\"],[0.5555555555555556,\"#d8576b\"],[0.6666666666666666,\"#ed7953\"],[0.7777777777777778,\"#fb9f3a\"],[0.8888888888888888,\"#fdca26\"],[1.0,\"#f0f921\"]]},\"colorway\":[\"#636efa\",\"#EF553B\",\"#00cc96\",\"#ab63fa\",\"#FFA15A\",\"#19d3f3\",\"#FF6692\",\"#B6E880\",\"#FF97FF\",\"#FECB52\"],\"font\":{\"color\":\"#2a3f5f\"},\"geo\":{\"bgcolor\":\"white\",\"lakecolor\":\"white\",\"landcolor\":\"white\",\"showlakes\":true,\"showland\":true,\"subunitcolor\":\"#C8D4E3\"},\"hoverlabel\":{\"align\":\"left\"},\"hovermode\":\"closest\",\"mapbox\":{\"style\":\"light\"},\"paper_bgcolor\":\"white\",\"plot_bgcolor\":\"white\",\"polar\":{\"angularaxis\":{\"gridcolor\":\"#EBF0F8\",\"linecolor\":\"#EBF0F8\",\"ticks\":\"\"},\"bgcolor\":\"white\",\"radialaxis\":{\"gridcolor\":\"#EBF0F8\",\"linecolor\":\"#EBF0F8\",\"ticks\":\"\"}},\"scene\":{\"xaxis\":{\"backgroundcolor\":\"white\",\"gridcolor\":\"#DFE8F3\",\"gridwidth\":2,\"linecolor\":\"#EBF0F8\",\"showbackground\":true,\"ticks\":\"\",\"zerolinecolor\":\"#EBF0F8\"},\"yaxis\":{\"backgroundcolor\":\"white\",\"gridcolor\":\"#DFE8F3\",\"gridwidth\":2,\"linecolor\":\"#EBF0F8\",\"showbackground\":true,\"ticks\":\"\",\"zerolinecolor\":\"#EBF0F8\"},\"zaxis\":{\"backgroundcolor\":\"white\",\"gridcolor\":\"#DFE8F3\",\"gridwidth\":2,\"linecolor\":\"#EBF0F8\",\"showbackground\":true,\"ticks\":\"\",\"zerolinecolor\":\"#EBF0F8\"}},\"shapedefaults\":{\"line\":{\"color\":\"#2a3f5f\"}},\"ternary\":{\"aaxis\":{\"gridcolor\":\"#DFE8F3\",\"linecolor\":\"#A2B1C6\",\"ticks\":\"\"},\"baxis\":{\"gridcolor\":\"#DFE8F3\",\"linecolor\":\"#A2B1C6\",\"ticks\":\"\"},\"bgcolor\":\"white\",\"caxis\":{\"gridcolor\":\"#DFE8F3\",\"linecolor\":\"#A2B1C6\",\"ticks\":\"\"}},\"title\":{\"x\":0.05},\"xaxis\":{\"automargin\":true,\"gridcolor\":\"#EBF0F8\",\"linecolor\":\"#EBF0F8\",\"ticks\":\"\",\"title\":{\"standoff\":15},\"zerolinecolor\":\"#EBF0F8\",\"zerolinewidth\":2},\"yaxis\":{\"automargin\":true,\"gridcolor\":\"#EBF0F8\",\"linecolor\":\"#EBF0F8\",\"ticks\":\"\",\"title\":{\"standoff\":15},\"zerolinecolor\":\"#EBF0F8\",\"zerolinewidth\":2}}},\"title\":{\"text\":\"Accuracy and Loss\"},\"xaxis\":{\"title\":{\"text\":\"Number of epochs\"}},\"plot_bgcolor\":\"aliceblue\",\"paper_bgcolor\":\"white\"},                        {\"responsive\": true}                    ).then(function(){\n",
              "                            \n",
              "var gd = document.getElementById('b4736d93-9c84-4e13-aec1-099d9884c53c');\n",
              "var x = new MutationObserver(function (mutations, observer) {{\n",
              "        var display = window.getComputedStyle(gd).display;\n",
              "        if (!display || display === 'none') {{\n",
              "            console.log([gd, 'removed!']);\n",
              "            Plotly.purge(gd);\n",
              "            observer.disconnect();\n",
              "        }}\n",
              "}});\n",
              "\n",
              "// Listen for the removal of the full notebook cells\n",
              "var notebookContainer = gd.closest('#notebook-container');\n",
              "if (notebookContainer) {{\n",
              "    x.observe(notebookContainer, {childList: true});\n",
              "}}\n",
              "\n",
              "// Listen for the clearing of the current output cell\n",
              "var outputEl = gd.closest('.output');\n",
              "if (outputEl) {{\n",
              "    x.observe(outputEl, {childList: true});\n",
              "}}\n",
              "\n",
              "                        })                };                            </script>        </div>\n",
              "</body>\n",
              "</html>"
            ]
          },
          "metadata": {}
        }
      ]
    },
    {
      "cell_type": "code",
      "source": [
        "y_pred = model.predict(X_test) \n",
        "y_pred = (y_pred > 0.5)\n",
        "\n",
        "from sklearn.metrics import confusion_matrix \n",
        "import seaborn as sns \n",
        "import matplotlib.pyplot as plt \n",
        "\n",
        "cm = confusion_matrix(y_test, y_pred)\n",
        "sns.heatmap(cm, annot = True)\n",
        "plt.xlabel(\"Actual\")\n",
        "plt.ylabel(\"Predicted\")\n",
        "plt.show()"
      ],
      "metadata": {
        "colab": {
          "base_uri": "https://localhost:8080/",
          "height": 297
        },
        "id": "o_qqT0TygVNx",
        "outputId": "abcaecab-ddc0-4ade-b9f7-7eb947510018"
      },
      "execution_count": null,
      "outputs": [
        {
          "output_type": "stream",
          "name": "stdout",
          "text": [
            "1/1 [==============================] - 1s 627ms/step\n"
          ]
        },
        {
          "output_type": "display_data",
          "data": {
            "text/plain": [
              "<Figure size 432x288 with 2 Axes>"
            ],
            "image/png": "[encoded data removed]"
          },
          "metadata": {
            "needs_background": "light"
          }
        }
      ]
    },
    {
      "cell_type": "markdown",
      "source": [
        "## **Visualizing Weights**"
      ],
      "metadata": {
        "id": "8uoxqYB1hfIN"
      }
    },
    {
      "cell_type": "code",
      "source": [
        "from keras.models import Model\n",
        "data = clean.drop(columns=['pIC50'])\n",
        "\n",
        "layer_name_0 = 'dense'\n",
        "layer_name_1 = 'dense_1'\n",
        "layer_name_2 = 'dense_2'\n",
        "layer_name_3 = 'dense_3'"
      ],
      "metadata": {
        "id": "uPbQZSj3hjHt"
      },
      "execution_count": null,
      "outputs": []
    },
    {
      "cell_type": "code",
      "source": [
        "intermediate_layer_model_0 = Model(inputs=model.input,\n",
        "                                 outputs=model.get_layer(layer_name_0).output)\n",
        "intermediate_layer_model_1 = Model(inputs=model.input,\n",
        "                                 outputs=model.get_layer(layer_name_1).output)\n",
        "intermediate_layer_model_2 = Model(inputs=model.input,\n",
        "                                 outputs=model.get_layer(layer_name_2).output)\n",
        "intermediate_layer_model_3 = Model(inputs=model.input,\n",
        "                                 outputs=model.get_layer(layer_name_3).output)\n",
        "\n",
        "intermediate_output_0 = intermediate_layer_model_0.predict(data)\n",
        "intermediate_output_1 = intermediate_layer_model_1.predict(data)\n",
        "intermediate_output_2 = intermediate_layer_model_2.predict(data)\n",
        "intermediate_output_3 = intermediate_layer_model_3.predict(data)"
      ],
      "metadata": {
        "colab": {
          "base_uri": "https://localhost:8080/"
        },
        "id": "wzfh3jqqhtRB",
        "outputId": "b14f01ef-e4cd-4201-a22f-fdcc7644e833"
      },
      "execution_count": null,
      "outputs": [
        {
          "output_type": "stream",
          "name": "stdout",
          "text": [
            "3/3 [==============================] - 0s 5ms/step\n",
            "3/3 [==============================] - 0s 7ms/step\n",
            "3/3 [==============================] - 0s 6ms/step\n"
          ]
        },
        {
          "output_type": "stream",
          "name": "stderr",
          "text": [
            "WARNING:tensorflow:5 out of the last 11 calls to <function Model.make_predict_function.<locals>.predict_function at 0x7f910d13bee0> triggered tf.function retracing. Tracing is expensive and the excessive number of tracings could be due to (1) creating @tf.function repeatedly in a loop, (2) passing tensors with different shapes, (3) passing Python objects instead of tensors. For (1), please define your @tf.function outside of the loop. For (2), @tf.function has reduce_retracing=True option that can avoid unnecessary retracing. For (3), please refer to https://www.tensorflow.org/guide/function#controlling_retracing and https://www.tensorflow.org/api_docs/python/tf/function for  more details.\n"
          ]
        },
        {
          "output_type": "stream",
          "name": "stdout",
          "text": [
            "3/3 [==============================] - 0s 7ms/step\n"
          ]
        }
      ]
    },
    {
      "cell_type": "markdown",
      "source": [
        "## **Mapper Algorithm**"
      ],
      "metadata": {
        "id": "OWyA4UDsh7Jr"
      }
    },
    {
      "cell_type": "code",
      "source": [
        "!pip install giotto-tda"
      ],
      "metadata": {
        "colab": {
          "base_uri": "https://localhost:8080/"
        },
        "id": "Aqhb2gz3iNa6",
        "outputId": "50d554a6-35c0-4fbe-dd9a-f752761b3817"
      },
      "execution_count": null,
      "outputs": [
        {
          "output_type": "stream",
          "name": "stdout",
          "text": [
            "Looking in indexes: https://pypi.org/simple, https://us-python.pkg.dev/colab-wheels/public/simple/\n",
            "Collecting giotto-tda\n",
            "  Downloading giotto_tda-0.6.0-cp38-cp38-manylinux_2_17_x86_64.manylinux2014_x86_64.whl (1.3 MB)\n",
            "\u001b[K     |████████████████████████████████| 1.3 MB 20.8 MB/s \n",
            "\u001b[?25hCollecting igraph>=0.9.8\n",
            "  Downloading igraph-0.10.2-cp38-cp38-manylinux_2_17_x86_64.manylinux2014_x86_64.whl (3.3 MB)\n",
            "\u001b[K     |████████████████████████████████| 3.3 MB 41.1 MB/s \n",
            "\u001b[?25hCollecting pyflagser>=0.4.3\n",
            "  Downloading pyflagser-0.4.5-cp38-cp38-manylinux_2_17_x86_64.manylinux2014_x86_64.whl (452 kB)\n",
            "\u001b[K     |████████████████████████████████| 452 kB 50.2 MB/s \n",
            "\u001b[?25hRequirement already satisfied: plotly>=4.8.2 in /usr/local/lib/python3.8/dist-packages (from giotto-tda) (5.5.0)\n",
            "Requirement already satisfied: ipywidgets>=7.5.1 in /usr/local/lib/python3.8/dist-packages (from giotto-tda) (7.7.1)\n",
            "Requirement already satisfied: scipy>=1.5.0 in /usr/local/lib/python3.8/dist-packages (from giotto-tda) (1.7.3)\n",
            "Requirement already satisfied: numpy>=1.19.1 in /usr/local/lib/python3.8/dist-packages (from giotto-tda) (1.21.6)\n",
            "Collecting giotto-ph>=0.2.1\n",
            "  Downloading giotto_ph-0.2.2-cp38-cp38-manylinux_2_17_x86_64.manylinux2014_x86_64.whl (526 kB)\n",
            "\u001b[K     |████████████████████████████████| 526 kB 55.5 MB/s \n",
            "\u001b[?25hRequirement already satisfied: joblib>=0.16.0 in /usr/local/lib/python3.8/dist-packages (from giotto-tda) (1.2.0)\n",
            "Requirement already satisfied: scikit-learn>=0.23.1 in /usr/local/lib/python3.8/dist-packages (from giotto-tda) (1.0.2)\n",
            "Collecting texttable>=1.6.2\n",
            "  Downloading texttable-1.6.7-py2.py3-none-any.whl (10 kB)\n",
            "Requirement already satisfied: widgetsnbextension~=3.6.0 in /usr/local/lib/python3.8/dist-packages (from ipywidgets>=7.5.1->giotto-tda) (3.6.1)\n",
            "Requirement already satisfied: traitlets>=4.3.1 in /usr/local/lib/python3.8/dist-packages (from ipywidgets>=7.5.1->giotto-tda) (5.6.0)\n",
            "Requirement already satisfied: ipython>=4.0.0 in /usr/local/lib/python3.8/dist-packages (from ipywidgets>=7.5.1->giotto-tda) (7.9.0)\n",
            "Requirement already satisfied: ipython-genutils~=0.2.0 in /usr/local/lib/python3.8/dist-packages (from ipywidgets>=7.5.1->giotto-tda) (0.2.0)\n",
            "Requirement already satisfied: ipykernel>=4.5.1 in /usr/local/lib/python3.8/dist-packages (from ipywidgets>=7.5.1->giotto-tda) (5.3.4)\n",
            "Requirement already satisfied: jupyterlab-widgets>=1.0.0 in /usr/local/lib/python3.8/dist-packages (from ipywidgets>=7.5.1->giotto-tda) (3.0.3)\n",
            "Requirement already satisfied: tornado>=4.2 in /usr/local/lib/python3.8/dist-packages (from ipykernel>=4.5.1->ipywidgets>=7.5.1->giotto-tda) (6.0.4)\n",
            "Requirement already satisfied: jupyter-client in /usr/local/lib/python3.8/dist-packages (from ipykernel>=4.5.1->ipywidgets>=7.5.1->giotto-tda) (6.1.12)\n",
            "Collecting jedi>=0.10\n",
            "  Downloading jedi-0.18.2-py2.py3-none-any.whl (1.6 MB)\n",
            "\u001b[K     |████████████████████████████████| 1.6 MB 41.0 MB/s \n",
            "\u001b[?25hRequirement already satisfied: prompt-toolkit<2.1.0,>=2.0.0 in /usr/local/lib/python3.8/dist-packages (from ipython>=4.0.0->ipywidgets>=7.5.1->giotto-tda) (2.0.10)\n",
            "Requirement already satisfied: pexpect in /usr/local/lib/python3.8/dist-packages (from ipython>=4.0.0->ipywidgets>=7.5.1->giotto-tda) (4.8.0)\n",
            "Requirement already satisfied: setuptools>=18.5 in /usr/local/lib/python3.8/dist-packages (from ipython>=4.0.0->ipywidgets>=7.5.1->giotto-tda) (57.4.0)\n",
            "Requirement already satisfied: decorator in /usr/local/lib/python3.8/dist-packages (from ipython>=4.0.0->ipywidgets>=7.5.1->giotto-tda) (4.4.2)\n",
            "Requirement already satisfied: backcall in /usr/local/lib/python3.8/dist-packages (from ipython>=4.0.0->ipywidgets>=7.5.1->giotto-tda) (0.2.0)\n",
            "Requirement already satisfied: pickleshare in /usr/local/lib/python3.8/dist-packages (from ipython>=4.0.0->ipywidgets>=7.5.1->giotto-tda) (0.7.5)\n",
            "Requirement already satisfied: pygments in /usr/local/lib/python3.8/dist-packages (from ipython>=4.0.0->ipywidgets>=7.5.1->giotto-tda) (2.6.1)\n",
            "Requirement already satisfied: parso<0.9.0,>=0.8.0 in /usr/local/lib/python3.8/dist-packages (from jedi>=0.10->ipython>=4.0.0->ipywidgets>=7.5.1->giotto-tda) (0.8.3)\n",
            "Requirement already satisfied: tenacity>=6.2.0 in /usr/local/lib/python3.8/dist-packages (from plotly>=4.8.2->giotto-tda) (8.1.0)\n",
            "Requirement already satisfied: six in /usr/local/lib/python3.8/dist-packages (from plotly>=4.8.2->giotto-tda) (1.15.0)\n",
            "Requirement already satisfied: wcwidth in /usr/local/lib/python3.8/dist-packages (from prompt-toolkit<2.1.0,>=2.0.0->ipython>=4.0.0->ipywidgets>=7.5.1->giotto-tda) (0.2.5)\n",
            "Requirement already satisfied: threadpoolctl>=2.0.0 in /usr/local/lib/python3.8/dist-packages (from scikit-learn>=0.23.1->giotto-tda) (3.1.0)\n",
            "Requirement already satisfied: notebook>=4.4.1 in /usr/local/lib/python3.8/dist-packages (from widgetsnbextension~=3.6.0->ipywidgets>=7.5.1->giotto-tda) (5.7.16)\n",
            "Requirement already satisfied: nbconvert<6.0 in /usr/local/lib/python3.8/dist-packages (from notebook>=4.4.1->widgetsnbextension~=3.6.0->ipywidgets>=7.5.1->giotto-tda) (5.6.1)\n",
            "Requirement already satisfied: terminado>=0.8.1 in /usr/local/lib/python3.8/dist-packages (from notebook>=4.4.1->widgetsnbextension~=3.6.0->ipywidgets>=7.5.1->giotto-tda) (0.13.3)\n",
            "Requirement already satisfied: pyzmq>=17 in /usr/local/lib/python3.8/dist-packages (from notebook>=4.4.1->widgetsnbextension~=3.6.0->ipywidgets>=7.5.1->giotto-tda) (23.2.1)\n",
            "Requirement already satisfied: Send2Trash in /usr/local/lib/python3.8/dist-packages (from notebook>=4.4.1->widgetsnbextension~=3.6.0->ipywidgets>=7.5.1->giotto-tda) (1.8.0)\n",
            "Requirement already satisfied: jupyter-core>=4.4.0 in /usr/local/lib/python3.8/dist-packages (from notebook>=4.4.1->widgetsnbextension~=3.6.0->ipywidgets>=7.5.1->giotto-tda) (5.1.0)\n",
            "Requirement already satisfied: nbformat in /usr/local/lib/python3.8/dist-packages (from notebook>=4.4.1->widgetsnbextension~=3.6.0->ipywidgets>=7.5.1->giotto-tda) (5.7.0)\n",
            "Requirement already satisfied: prometheus-client in /usr/local/lib/python3.8/dist-packages (from notebook>=4.4.1->widgetsnbextension~=3.6.0->ipywidgets>=7.5.1->giotto-tda) (0.15.0)\n",
            "Requirement already satisfied: jinja2<=3.0.0 in /usr/local/lib/python3.8/dist-packages (from notebook>=4.4.1->widgetsnbextension~=3.6.0->ipywidgets>=7.5.1->giotto-tda) (2.11.3)\n",
            "Requirement already satisfied: MarkupSafe>=0.23 in /usr/local/lib/python3.8/dist-packages (from jinja2<=3.0.0->notebook>=4.4.1->widgetsnbextension~=3.6.0->ipywidgets>=7.5.1->giotto-tda) (2.0.1)\n",
            "Requirement already satisfied: python-dateutil>=2.1 in /usr/local/lib/python3.8/dist-packages (from jupyter-client->ipykernel>=4.5.1->ipywidgets>=7.5.1->giotto-tda) (2.8.2)\n",
            "Requirement already satisfied: platformdirs>=2.5 in /usr/local/lib/python3.8/dist-packages (from jupyter-core>=4.4.0->notebook>=4.4.1->widgetsnbextension~=3.6.0->ipywidgets>=7.5.1->giotto-tda) (2.5.4)\n",
            "Requirement already satisfied: defusedxml in /usr/local/lib/python3.8/dist-packages (from nbconvert<6.0->notebook>=4.4.1->widgetsnbextension~=3.6.0->ipywidgets>=7.5.1->giotto-tda) (0.7.1)\n",
            "Requirement already satisfied: entrypoints>=0.2.2 in /usr/local/lib/python3.8/dist-packages (from nbconvert<6.0->notebook>=4.4.1->widgetsnbextension~=3.6.0->ipywidgets>=7.5.1->giotto-tda) (0.4)\n",
            "Requirement already satisfied: testpath in /usr/local/lib/python3.8/dist-packages (from nbconvert<6.0->notebook>=4.4.1->widgetsnbextension~=3.6.0->ipywidgets>=7.5.1->giotto-tda) (0.6.0)\n",
            "Requirement already satisfied: pandocfilters>=1.4.1 in /usr/local/lib/python3.8/dist-packages (from nbconvert<6.0->notebook>=4.4.1->widgetsnbextension~=3.6.0->ipywidgets>=7.5.1->giotto-tda) (1.5.0)\n",
            "Requirement already satisfied: mistune<2,>=0.8.1 in /usr/local/lib/python3.8/dist-packages (from nbconvert<6.0->notebook>=4.4.1->widgetsnbextension~=3.6.0->ipywidgets>=7.5.1->giotto-tda) (0.8.4)\n",
            "Requirement already satisfied: bleach in /usr/local/lib/python3.8/dist-packages (from nbconvert<6.0->notebook>=4.4.1->widgetsnbextension~=3.6.0->ipywidgets>=7.5.1->giotto-tda) (5.0.1)\n",
            "Requirement already satisfied: jsonschema>=2.6 in /usr/local/lib/python3.8/dist-packages (from nbformat->notebook>=4.4.1->widgetsnbextension~=3.6.0->ipywidgets>=7.5.1->giotto-tda) (4.3.3)\n",
            "Requirement already satisfied: fastjsonschema in /usr/local/lib/python3.8/dist-packages (from nbformat->notebook>=4.4.1->widgetsnbextension~=3.6.0->ipywidgets>=7.5.1->giotto-tda) (2.16.2)\n",
            "Requirement already satisfied: attrs>=17.4.0 in /usr/local/lib/python3.8/dist-packages (from jsonschema>=2.6->nbformat->notebook>=4.4.1->widgetsnbextension~=3.6.0->ipywidgets>=7.5.1->giotto-tda) (22.1.0)\n",
            "Requirement already satisfied: importlib-resources>=1.4.0 in /usr/local/lib/python3.8/dist-packages (from jsonschema>=2.6->nbformat->notebook>=4.4.1->widgetsnbextension~=3.6.0->ipywidgets>=7.5.1->giotto-tda) (5.10.0)\n",
            "Requirement already satisfied: pyrsistent!=0.17.0,!=0.17.1,!=0.17.2,>=0.14.0 in /usr/local/lib/python3.8/dist-packages (from jsonschema>=2.6->nbformat->notebook>=4.4.1->widgetsnbextension~=3.6.0->ipywidgets>=7.5.1->giotto-tda) (0.19.2)\n",
            "Requirement already satisfied: zipp>=3.1.0 in /usr/local/lib/python3.8/dist-packages (from importlib-resources>=1.4.0->jsonschema>=2.6->nbformat->notebook>=4.4.1->widgetsnbextension~=3.6.0->ipywidgets>=7.5.1->giotto-tda) (3.11.0)\n",
            "Requirement already satisfied: ptyprocess in /usr/local/lib/python3.8/dist-packages (from terminado>=0.8.1->notebook>=4.4.1->widgetsnbextension~=3.6.0->ipywidgets>=7.5.1->giotto-tda) (0.7.0)\n",
            "Requirement already satisfied: webencodings in /usr/local/lib/python3.8/dist-packages (from bleach->nbconvert<6.0->notebook>=4.4.1->widgetsnbextension~=3.6.0->ipywidgets>=7.5.1->giotto-tda) (0.5.1)\n",
            "Installing collected packages: jedi, texttable, pyflagser, igraph, giotto-ph, giotto-tda\n",
            "Successfully installed giotto-ph-0.2.2 giotto-tda-0.6.0 igraph-0.10.2 jedi-0.18.2 pyflagser-0.4.5 texttable-1.6.7\n"
          ]
        }
      ]
    },
    {
      "cell_type": "code",
      "source": [
        "import gtda.graphs as gr\n",
        "from gtda.pipeline import Pipeline\n",
        "from gtda.plotting import plot_point_cloud, plot_heatmap\n",
        "from gtda.graphs import KNeighborsGraph, GraphGeodesicDistance\n",
        "from gtda.mapper import (\n",
        "    CubicalCover,\n",
        "    OneDimensionalCover,\n",
        "    make_mapper_pipeline,\n",
        "    Projection,\n",
        "    plot_static_mapper_graph,\n",
        "    plot_interactive_mapper_graph)\n",
        "from gtda.mapper import Eccentricity, Entropy\n",
        "from sklearn.cluster import DBSCAN\n",
        "from sklearn.metrics import pairwise_distances\n",
        "from sklearn.decomposition import PCA"
      ],
      "metadata": {
        "id": "bxmjYBWch_v6"
      },
      "execution_count": null,
      "outputs": []
    },
    {
      "cell_type": "code",
      "source": [
        "filter_func = Eccentricity(metric = 'euclidean')\n",
        "cover = CubicalCover(n_intervals = 20, overlap_frac = 0.5)\n",
        "clusterer = DBSCAN(eps = 8, min_samples = 2, metric = 'euclidean') \n",
        "pipe_mapper = make_mapper_pipeline(filter_func = filter_func, cover = cover, clusterer = clusterer, verbose = False, n_jobs = 1)"
      ],
      "metadata": {
        "id": "ajdLURXWijHx"
      },
      "execution_count": null,
      "outputs": []
    },
    {
      "cell_type": "markdown",
      "source": [
        "**Mapper for original data set**"
      ],
      "metadata": {
        "id": "sNijmmBMozpY"
      }
    },
    {
      "cell_type": "code",
      "source": [
        "plotly_params = {\"node_trace\": {\"marker_colorscale\": \"RdBu\"}}\n",
        "fig = plot_static_mapper_graph(pipe_mapper,\n",
        "                               X, \n",
        "                               layout='fruchterman_reingold',\n",
        "                               node_scale =20,\n",
        "                               plotly_params=plotly_params)\n",
        "fig.show(config={'scrollZoom': True})"
      ],
      "metadata": {
        "colab": {
          "base_uri": "https://localhost:8080/",
          "height": 542
        },
        "id": "t3hjtXWwl5YS",
        "outputId": "794fa9b6-7042-4686-c526-d751a5c587cc"
      },
      "execution_count": null,
      "outputs": [
        {
          "output_type": "display_data",
          "data": {
            "text/html": [
              "<html>\n",
              "<head><meta charset=\"utf-8\" /></head>\n",
              "<body>\n",
              "    <div>            <script src=\"https://cdnjs.cloudflare.com/ajax/libs/mathjax/2.7.5/MathJax.js?config=TeX-AMS-MML_SVG\"></script><script type=\"text/javascript\">if (window.MathJax) {MathJax.Hub.Config({SVG: {font: \"STIX-Web\"}});}</script>                <script type=\"text/javascript\">window.PlotlyConfig = {MathJaxConfig: 'local'};</script>\n",
              "        <script src=\"https://cdn.plot.ly/plotly-2.8.3.min.js\"></script>                <div id=\"70e13c6b-0bf5-43a2-9733-d1629e803273\" class=\"plotly-graph-div\" style=\"height:525px; width:100%;\"></div>            <script type=\"text/javascript\">                                    window.PLOTLYENV=window.PLOTLYENV || {};                                    if (document.getElementById(\"70e13c6b-0bf5-43a2-9733-d1629e803273\")) {                    Plotly.newPlot(                        \"70e13c6b-0bf5-43a2-9733-d1629e803273\",                        [{\"hoverinfo\":\"none\",\"line\":{\"color\":\"#888\",\"width\":1},\"mode\":\"lines\",\"name\":\"edge_trace\",\"x\":[2.7544791956458723,1.7119032836129595,null,2.7544791956458723,3.5667562343853434,null,1.7119032836129595,0.708004405809234,null,-1.2395956936897785,-2.2237021624929425,null,-1.2395956936897785,-0.26184826414816564,null,-2.2237021624929425,-3.2121004792456724,null,-3.2121004792456724,-4.2032526551577325,null,3.784958038307476,3.7769762165822756,null,3.7769762165822756,3.5667562343853434,null,-4.2032526551577325,-4.741060503006397,null,0.708004405809234,-0.26184826414816564,null,-1.1604945336476706,-1.0983161576529592,null,-1.0983161576529592,-0.08384606624973154,null,-1.0983161576529592,-1.9736353700371714,null,-3.8005034964435365,-2.875862500505426,null,-2.875862500505426,-1.9736353700371714,null,1.971751421148909,1.1811482193613614,null,2.7916187308460563,2.061861785716225,null,-3.5183051397075404,-2.903508134789287,null,0.34626114009429776,-0.5113728407207057,null,-1.4075815964194178,-0.6503813063274761,null,1.6332022171127483,2.3977057136682385,null],\"y\":[-2.0415517516024884,-1.9293658369054336,null,-2.0415517516024884,-1.4761535295600112,null,-1.9293658369054336,-1.5396464049663823,null,-0.49767863750380625,-0.01802895817267225,null,-0.49767863750380625,-1.0198279685371034,null,-0.01802895817267225,0.34296901760009957,null,0.34296901760009957,0.33178901726629956,null,0.4580694377029033,-0.49237642298179674,null,-0.49237642298179674,-1.4761535295600112,null,0.33178901726629956,-0.4201512867424163,null,-1.5396464049663823,-1.0198279685371034,null,-4.847588169068531,-3.8904736541929603,null,-3.8904736541929603,-3.9889929302816207,null,-3.8904736541929603,-3.1923099789817275,null,-2.1721204420963596,-2.564113376671213,null,-2.564113376671213,-3.1923099789817275,null,0.8406712838655335,1.2207836033173372,null,2.4484478080636722,2.9492619296253597,null,2.3589491370197524,2.9861780499337356,null,3.62170300556657,3.837991149908578,null,2.3710643209269646,1.9409604877053022,null,-4.320132164860761,-3.9039831399238714,null],\"type\":\"scatter\",\"uid\":\"63dea5a1-9a6d-4b29-a9d1-46c39b391855\"},{\"hoverinfo\":\"text\",\"hovertext\":[\"Node ID: 0<br>Pullback set label: 3<br>Partial cluster label: -1<br>Node size: 22<br>Summary statistic: 45.5\",\"Node ID: 1<br>Pullback set label: 4<br>Partial cluster label: -1<br>Node size: 17<br>Summary statistic: 46.1\",\"Node ID: 2<br>Pullback set label: 7<br>Partial cluster label: -1<br>Node size: 6<br>Summary statistic: 39.3\",\"Node ID: 3<br>Pullback set label: 8<br>Partial cluster label: -1<br>Node size: 6<br>Summary statistic: 36.3\",\"Node ID: 4<br>Pullback set label: 9<br>Partial cluster label: -1<br>Node size: 5<br>Summary statistic: 18.2\",\"Node ID: 5<br>Pullback set label: 0<br>Partial cluster label: -1<br>Node size: 22<br>Summary statistic: 38.0\",\"Node ID: 6<br>Pullback set label: 1<br>Partial cluster label: -1<br>Node size: 18<br>Summary statistic: 49.7\",\"Node ID: 7<br>Pullback set label: 10<br>Partial cluster label: -1<br>Node size: 4<br>Summary statistic: 33.8\",\"Node ID: 8<br>Pullback set label: 2<br>Partial cluster label: -1<br>Node size: 17<br>Summary statistic: 51.8\",\"Node ID: 9<br>Pullback set label: 5<br>Partial cluster label: -1<br>Node size: 7<br>Summary statistic: 35.7\",\"Node ID: 10<br>Pullback set label: 6<br>Partial cluster label: -1<br>Node size: 5<br>Summary statistic: 18.4\",\"Node ID: 11<br>Pullback set label: 15<br>Partial cluster label: -1<br>Node size: 1<br>Summary statistic: 8.0\",\"Node ID: 12<br>Pullback set label: 16<br>Partial cluster label: -1<br>Node size: 3<br>Summary statistic: 37.0\",\"Node ID: 13<br>Pullback set label: 12<br>Partial cluster label: -1<br>Node size: 1<br>Summary statistic: 12.0\",\"Node ID: 14<br>Pullback set label: 13<br>Partial cluster label: -1<br>Node size: 1<br>Summary statistic: 32.0\",\"Node ID: 15<br>Pullback set label: 14<br>Partial cluster label: -1<br>Node size: 2<br>Summary statistic: 43.5\",\"Node ID: 16<br>Pullback set label: 17<br>Partial cluster label: -1<br>Node size: 2<br>Summary statistic: 63.0\",\"Node ID: 17<br>Pullback set label: 0<br>Partial cluster label: 0<br>Node size: 2<br>Summary statistic: 52.5\",\"Node ID: 18<br>Pullback set label: 1<br>Partial cluster label: 0<br>Node size: 2<br>Summary statistic: 52.5\",\"Node ID: 19<br>Pullback set label: 15<br>Partial cluster label: 0<br>Node size: 2<br>Summary statistic: 54.5\",\"Node ID: 20<br>Pullback set label: 9<br>Partial cluster label: 0<br>Node size: 2<br>Summary statistic: 56.5\",\"Node ID: 21<br>Pullback set label: 10<br>Partial cluster label: 0<br>Node size: 2<br>Summary statistic: 56.5\",\"Node ID: 22<br>Pullback set label: 11<br>Partial cluster label: -1<br>Node size: 1<br>Summary statistic: 61.0\",\"Node ID: 23<br>Pullback set label: 1<br>Partial cluster label: 1<br>Node size: 3<br>Summary statistic: 68.0\",\"Node ID: 24<br>Pullback set label: 2<br>Partial cluster label: 0<br>Node size: 3<br>Summary statistic: 68.0\",\"Node ID: 25<br>Pullback set label: 0<br>Partial cluster label: 1<br>Node size: 2<br>Summary statistic: 71.5\",\"Node ID: 26<br>Pullback set label: 1<br>Partial cluster label: 2<br>Node size: 2<br>Summary statistic: 71.5\",\"Node ID: 27<br>Pullback set label: 1<br>Partial cluster label: 3<br>Node size: 2<br>Summary statistic: 71.5\",\"Node ID: 28<br>Pullback set label: 2<br>Partial cluster label: 1<br>Node size: 2<br>Summary statistic: 71.5\",\"Node ID: 29<br>Pullback set label: 9<br>Partial cluster label: 1<br>Node size: 2<br>Summary statistic: 77.5\",\"Node ID: 30<br>Pullback set label: 10<br>Partial cluster label: 1<br>Node size: 2<br>Summary statistic: 77.5\"],\"marker\":{\"color\":[45.45454545454545,46.05882352941177,39.333333333333336,36.333333333333336,18.2,38.04545454545455,49.72222222222222,33.75,51.76470588235294,35.714285714285715,18.4,8.0,37.0,12.0,32.0,43.5,63.0,52.5,52.5,54.5,56.5,56.5,61.0,68.0,68.0,71.5,71.5,71.5,71.5,77.5,77.5],\"colorbar\":{\"thickness\":15,\"title\":{\"side\":\"right\",\"text\":\"\"},\"xanchor\":\"left\"},\"colorscale\":[[0.0,\"rgb(103,0,31)\"],[0.1,\"rgb(178,24,43)\"],[0.2,\"rgb(214,96,77)\"],[0.3,\"rgb(244,165,130)\"],[0.4,\"rgb(253,219,199)\"],[0.5,\"rgb(247,247,247)\"],[0.6,\"rgb(209,229,240)\"],[0.7,\"rgb(146,197,222)\"],[0.8,\"rgb(67,147,195)\"],[0.9,\"rgb(33,102,172)\"],[1.0,\"rgb(5,48,97)\"]],\"line\":{\"color\":\"#888\",\"width\":1},\"opacity\":1.0,\"reversescale\":false,\"showscale\":true,\"size\":[22,17,6,6,5,22,18,4,17,7,5,1,3,1,1,2,2,2,2,2,2,2,1,3,3,2,2,2,2,2,2],\"sizemin\":4,\"sizemode\":\"area\",\"sizeref\":0.11},\"mode\":\"markers\",\"name\":\"node_trace\",\"x\":[2.7544791956458723,1.7119032836129595,-1.2395956936897785,-2.2237021624929425,-3.2121004792456724,3.784958038307476,3.7769762165822756,-4.2032526551577325,3.5667562343853434,0.708004405809234,-0.26184826414816564,-1.1604945336476706,-1.0983161576529592,-3.5913474208609286,-3.8005034964435365,-2.875862500505426,-0.08384606624973154,1.971751421148909,1.1811482193613614,-1.9736353700371714,2.7916187308460563,2.061861785716225,-4.741060503006397,-3.5183051397075404,-2.903508134789287,0.34626114009429776,-0.5113728407207057,-1.4075815964194178,-0.6503813063274761,1.6332022171127483,2.3977057136682385],\"y\":[-2.0415517516024884,-1.9293658369054336,-0.49767863750380625,-0.01802895817267225,0.34296901760009957,0.4580694377029033,-0.49237642298179674,0.33178901726629956,-1.4761535295600112,-1.5396464049663823,-1.0198279685371034,-4.847588169068531,-3.8904736541929603,-3.905221995037688,-2.1721204420963596,-2.564113376671213,-3.9889929302816207,0.8406712838655335,1.2207836033173372,-3.1923099789817275,2.4484478080636722,2.9492619296253597,-0.4201512867424163,2.3589491370197524,2.9861780499337356,3.62170300556657,3.837991149908578,2.3710643209269646,1.9409604877053022,-4.320132164860761,-3.9039831399238714],\"type\":\"scatter\",\"uid\":\"b7db30b1-47d4-4fcd-8eb1-22ae2fddef03\"}],                        {\"autosize\":false,\"hovermode\":\"closest\",\"margin\":{\"b\":20,\"l\":5,\"r\":5,\"t\":40},\"showlegend\":false,\"template\":{\"data\":{\"barpolar\":[{\"marker\":{\"line\":{\"color\":\"white\",\"width\":0.5},\"pattern\":{\"fillmode\":\"overlay\",\"size\":10,\"solidity\":0.2}},\"type\":\"barpolar\"}],\"bar\":[{\"error_x\":{\"color\":\"rgb(36,36,36)\"},\"error_y\":{\"color\":\"rgb(36,36,36)\"},\"marker\":{\"line\":{\"color\":\"white\",\"width\":0.5},\"pattern\":{\"fillmode\":\"overlay\",\"size\":10,\"solidity\":0.2}},\"type\":\"bar\"}],\"carpet\":[{\"aaxis\":{\"endlinecolor\":\"rgb(36,36,36)\",\"gridcolor\":\"white\",\"linecolor\":\"white\",\"minorgridcolor\":\"white\",\"startlinecolor\":\"rgb(36,36,36)\"},\"baxis\":{\"endlinecolor\":\"rgb(36,36,36)\",\"gridcolor\":\"white\",\"linecolor\":\"white\",\"minorgridcolor\":\"white\",\"startlinecolor\":\"rgb(36,36,36)\"},\"type\":\"carpet\"}],\"choropleth\":[{\"colorbar\":{\"outlinewidth\":1,\"tickcolor\":\"rgb(36,36,36)\",\"ticks\":\"outside\"},\"type\":\"choropleth\"}],\"contourcarpet\":[{\"colorbar\":{\"outlinewidth\":1,\"tickcolor\":\"rgb(36,36,36)\",\"ticks\":\"outside\"},\"type\":\"contourcarpet\"}],\"contour\":[{\"colorbar\":{\"outlinewidth\":1,\"tickcolor\":\"rgb(36,36,36)\",\"ticks\":\"outside\"},\"colorscale\":[[0.0,\"#440154\"],[0.1111111111111111,\"#482878\"],[0.2222222222222222,\"#3e4989\"],[0.3333333333333333,\"#31688e\"],[0.4444444444444444,\"#26828e\"],[0.5555555555555556,\"#1f9e89\"],[0.6666666666666666,\"#35b779\"],[0.7777777777777778,\"#6ece58\"],[0.8888888888888888,\"#b5de2b\"],[1.0,\"#fde725\"]],\"type\":\"contour\"}],\"heatmapgl\":[{\"colorbar\":{\"outlinewidth\":1,\"tickcolor\":\"rgb(36,36,36)\",\"ticks\":\"outside\"},\"colorscale\":[[0.0,\"#440154\"],[0.1111111111111111,\"#482878\"],[0.2222222222222222,\"#3e4989\"],[0.3333333333333333,\"#31688e\"],[0.4444444444444444,\"#26828e\"],[0.5555555555555556,\"#1f9e89\"],[0.6666666666666666,\"#35b779\"],[0.7777777777777778,\"#6ece58\"],[0.8888888888888888,\"#b5de2b\"],[1.0,\"#fde725\"]],\"type\":\"heatmapgl\"}],\"heatmap\":[{\"colorbar\":{\"outlinewidth\":1,\"tickcolor\":\"rgb(36,36,36)\",\"ticks\":\"outside\"},\"colorscale\":[[0.0,\"#440154\"],[0.1111111111111111,\"#482878\"],[0.2222222222222222,\"#3e4989\"],[0.3333333333333333,\"#31688e\"],[0.4444444444444444,\"#26828e\"],[0.5555555555555556,\"#1f9e89\"],[0.6666666666666666,\"#35b779\"],[0.7777777777777778,\"#6ece58\"],[0.8888888888888888,\"#b5de2b\"],[1.0,\"#fde725\"]],\"type\":\"heatmap\"}],\"histogram2dcontour\":[{\"colorbar\":{\"outlinewidth\":1,\"tickcolor\":\"rgb(36,36,36)\",\"ticks\":\"outside\"},\"colorscale\":[[0.0,\"#440154\"],[0.1111111111111111,\"#482878\"],[0.2222222222222222,\"#3e4989\"],[0.3333333333333333,\"#31688e\"],[0.4444444444444444,\"#26828e\"],[0.5555555555555556,\"#1f9e89\"],[0.6666666666666666,\"#35b779\"],[0.7777777777777778,\"#6ece58\"],[0.8888888888888888,\"#b5de2b\"],[1.0,\"#fde725\"]],\"type\":\"histogram2dcontour\"}],\"histogram2d\":[{\"colorbar\":{\"outlinewidth\":1,\"tickcolor\":\"rgb(36,36,36)\",\"ticks\":\"outside\"},\"colorscale\":[[0.0,\"#440154\"],[0.1111111111111111,\"#482878\"],[0.2222222222222222,\"#3e4989\"],[0.3333333333333333,\"#31688e\"],[0.4444444444444444,\"#26828e\"],[0.5555555555555556,\"#1f9e89\"],[0.6666666666666666,\"#35b779\"],[0.7777777777777778,\"#6ece58\"],[0.8888888888888888,\"#b5de2b\"],[1.0,\"#fde725\"]],\"type\":\"histogram2d\"}],\"histogram\":[{\"marker\":{\"line\":{\"color\":\"white\",\"width\":0.6}},\"type\":\"histogram\"}],\"mesh3d\":[{\"colorbar\":{\"outlinewidth\":1,\"tickcolor\":\"rgb(36,36,36)\",\"ticks\":\"outside\"},\"type\":\"mesh3d\"}],\"parcoords\":[{\"line\":{\"colorbar\":{\"outlinewidth\":1,\"tickcolor\":\"rgb(36,36,36)\",\"ticks\":\"outside\"}},\"type\":\"parcoords\"}],\"pie\":[{\"automargin\":true,\"type\":\"pie\"}],\"scatter3d\":[{\"line\":{\"colorbar\":{\"outlinewidth\":1,\"tickcolor\":\"rgb(36,36,36)\",\"ticks\":\"outside\"}},\"marker\":{\"colorbar\":{\"outlinewidth\":1,\"tickcolor\":\"rgb(36,36,36)\",\"ticks\":\"outside\"}},\"type\":\"scatter3d\"}],\"scattercarpet\":[{\"marker\":{\"colorbar\":{\"outlinewidth\":1,\"tickcolor\":\"rgb(36,36,36)\",\"ticks\":\"outside\"}},\"type\":\"scattercarpet\"}],\"scattergeo\":[{\"marker\":{\"colorbar\":{\"outlinewidth\":1,\"tickcolor\":\"rgb(36,36,36)\",\"ticks\":\"outside\"}},\"type\":\"scattergeo\"}],\"scattergl\":[{\"marker\":{\"colorbar\":{\"outlinewidth\":1,\"tickcolor\":\"rgb(36,36,36)\",\"ticks\":\"outside\"}},\"type\":\"scattergl\"}],\"scattermapbox\":[{\"marker\":{\"colorbar\":{\"outlinewidth\":1,\"tickcolor\":\"rgb(36,36,36)\",\"ticks\":\"outside\"}},\"type\":\"scattermapbox\"}],\"scatterpolargl\":[{\"marker\":{\"colorbar\":{\"outlinewidth\":1,\"tickcolor\":\"rgb(36,36,36)\",\"ticks\":\"outside\"}},\"type\":\"scatterpolargl\"}],\"scatterpolar\":[{\"marker\":{\"colorbar\":{\"outlinewidth\":1,\"tickcolor\":\"rgb(36,36,36)\",\"ticks\":\"outside\"}},\"type\":\"scatterpolar\"}],\"scatter\":[{\"marker\":{\"colorbar\":{\"outlinewidth\":1,\"tickcolor\":\"rgb(36,36,36)\",\"ticks\":\"outside\"}},\"type\":\"scatter\"}],\"scatterternary\":[{\"marker\":{\"colorbar\":{\"outlinewidth\":1,\"tickcolor\":\"rgb(36,36,36)\",\"ticks\":\"outside\"}},\"type\":\"scatterternary\"}],\"surface\":[{\"colorbar\":{\"outlinewidth\":1,\"tickcolor\":\"rgb(36,36,36)\",\"ticks\":\"outside\"},\"colorscale\":[[0.0,\"#440154\"],[0.1111111111111111,\"#482878\"],[0.2222222222222222,\"#3e4989\"],[0.3333333333333333,\"#31688e\"],[0.4444444444444444,\"#26828e\"],[0.5555555555555556,\"#1f9e89\"],[0.6666666666666666,\"#35b779\"],[0.7777777777777778,\"#6ece58\"],[0.8888888888888888,\"#b5de2b\"],[1.0,\"#fde725\"]],\"type\":\"surface\"}],\"table\":[{\"cells\":{\"fill\":{\"color\":\"rgb(237,237,237)\"},\"line\":{\"color\":\"white\"}},\"header\":{\"fill\":{\"color\":\"rgb(217,217,217)\"},\"line\":{\"color\":\"white\"}},\"type\":\"table\"}]},\"layout\":{\"annotationdefaults\":{\"arrowhead\":0,\"arrowwidth\":1},\"autotypenumbers\":\"strict\",\"coloraxis\":{\"colorbar\":{\"outlinewidth\":1,\"tickcolor\":\"rgb(36,36,36)\",\"ticks\":\"outside\"}},\"colorscale\":{\"diverging\":[[0.0,\"rgb(103,0,31)\"],[0.1,\"rgb(178,24,43)\"],[0.2,\"rgb(214,96,77)\"],[0.3,\"rgb(244,165,130)\"],[0.4,\"rgb(253,219,199)\"],[0.5,\"rgb(247,247,247)\"],[0.6,\"rgb(209,229,240)\"],[0.7,\"rgb(146,197,222)\"],[0.8,\"rgb(67,147,195)\"],[0.9,\"rgb(33,102,172)\"],[1.0,\"rgb(5,48,97)\"]],\"sequential\":[[0.0,\"#440154\"],[0.1111111111111111,\"#482878\"],[0.2222222222222222,\"#3e4989\"],[0.3333333333333333,\"#31688e\"],[0.4444444444444444,\"#26828e\"],[0.5555555555555556,\"#1f9e89\"],[0.6666666666666666,\"#35b779\"],[0.7777777777777778,\"#6ece58\"],[0.8888888888888888,\"#b5de2b\"],[1.0,\"#fde725\"]],\"sequentialminus\":[[0.0,\"#440154\"],[0.1111111111111111,\"#482878\"],[0.2222222222222222,\"#3e4989\"],[0.3333333333333333,\"#31688e\"],[0.4444444444444444,\"#26828e\"],[0.5555555555555556,\"#1f9e89\"],[0.6666666666666666,\"#35b779\"],[0.7777777777777778,\"#6ece58\"],[0.8888888888888888,\"#b5de2b\"],[1.0,\"#fde725\"]]},\"colorway\":[\"#1F77B4\",\"#FF7F0E\",\"#2CA02C\",\"#D62728\",\"#9467BD\",\"#8C564B\",\"#E377C2\",\"#7F7F7F\",\"#BCBD22\",\"#17BECF\"],\"font\":{\"color\":\"rgb(36,36,36)\"},\"geo\":{\"bgcolor\":\"white\",\"lakecolor\":\"white\",\"landcolor\":\"white\",\"showlakes\":true,\"showland\":true,\"subunitcolor\":\"white\"},\"hoverlabel\":{\"align\":\"left\"},\"hovermode\":\"closest\",\"mapbox\":{\"style\":\"light\"},\"paper_bgcolor\":\"white\",\"plot_bgcolor\":\"white\",\"polar\":{\"angularaxis\":{\"gridcolor\":\"rgb(232,232,232)\",\"linecolor\":\"rgb(36,36,36)\",\"showgrid\":false,\"showline\":true,\"ticks\":\"outside\"},\"bgcolor\":\"white\",\"radialaxis\":{\"gridcolor\":\"rgb(232,232,232)\",\"linecolor\":\"rgb(36,36,36)\",\"showgrid\":false,\"showline\":true,\"ticks\":\"outside\"}},\"scene\":{\"xaxis\":{\"backgroundcolor\":\"white\",\"gridcolor\":\"rgb(232,232,232)\",\"gridwidth\":2,\"linecolor\":\"rgb(36,36,36)\",\"showbackground\":true,\"showgrid\":false,\"showline\":true,\"ticks\":\"outside\",\"zeroline\":false,\"zerolinecolor\":\"rgb(36,36,36)\"},\"yaxis\":{\"backgroundcolor\":\"white\",\"gridcolor\":\"rgb(232,232,232)\",\"gridwidth\":2,\"linecolor\":\"rgb(36,36,36)\",\"showbackground\":true,\"showgrid\":false,\"showline\":true,\"ticks\":\"outside\",\"zeroline\":false,\"zerolinecolor\":\"rgb(36,36,36)\"},\"zaxis\":{\"backgroundcolor\":\"white\",\"gridcolor\":\"rgb(232,232,232)\",\"gridwidth\":2,\"linecolor\":\"rgb(36,36,36)\",\"showbackground\":true,\"showgrid\":false,\"showline\":true,\"ticks\":\"outside\",\"zeroline\":false,\"zerolinecolor\":\"rgb(36,36,36)\"}},\"shapedefaults\":{\"fillcolor\":\"black\",\"line\":{\"width\":0},\"opacity\":0.3},\"ternary\":{\"aaxis\":{\"gridcolor\":\"rgb(232,232,232)\",\"linecolor\":\"rgb(36,36,36)\",\"showgrid\":false,\"showline\":true,\"ticks\":\"outside\"},\"baxis\":{\"gridcolor\":\"rgb(232,232,232)\",\"linecolor\":\"rgb(36,36,36)\",\"showgrid\":false,\"showline\":true,\"ticks\":\"outside\"},\"bgcolor\":\"white\",\"caxis\":{\"gridcolor\":\"rgb(232,232,232)\",\"linecolor\":\"rgb(36,36,36)\",\"showgrid\":false,\"showline\":true,\"ticks\":\"outside\"}},\"title\":{\"x\":0.05},\"xaxis\":{\"automargin\":true,\"gridcolor\":\"rgb(232,232,232)\",\"linecolor\":\"rgb(36,36,36)\",\"showgrid\":false,\"showline\":true,\"ticks\":\"outside\",\"title\":{\"standoff\":15},\"zeroline\":false,\"zerolinecolor\":\"rgb(36,36,36)\"},\"yaxis\":{\"automargin\":true,\"gridcolor\":\"rgb(232,232,232)\",\"linecolor\":\"rgb(36,36,36)\",\"showgrid\":false,\"showline\":true,\"ticks\":\"outside\",\"title\":{\"standoff\":15},\"zeroline\":false,\"zerolinecolor\":\"rgb(36,36,36)\"}}},\"title\":{\"text\":\"\"},\"xaxis\":{\"showgrid\":false,\"showline\":false,\"showticklabels\":false,\"ticks\":\"\",\"title\":{\"text\":\"\"},\"zeroline\":false},\"yaxis\":{\"showgrid\":false,\"showline\":false,\"showticklabels\":false,\"ticks\":\"\",\"title\":{\"text\":\"\"},\"zeroline\":false}},                        {\"scrollZoom\": true, \"responsive\": true}                    ).then(function(){\n",
              "                            \n",
              "var gd = document.getElementById('70e13c6b-0bf5-43a2-9733-d1629e803273');\n",
              "var x = new MutationObserver(function (mutations, observer) {{\n",
              "        var display = window.getComputedStyle(gd).display;\n",
              "        if (!display || display === 'none') {{\n",
              "            console.log([gd, 'removed!']);\n",
              "            Plotly.purge(gd);\n",
              "            observer.disconnect();\n",
              "        }}\n",
              "}});\n",
              "\n",
              "// Listen for the removal of the full notebook cells\n",
              "var notebookContainer = gd.closest('#notebook-container');\n",
              "if (notebookContainer) {{\n",
              "    x.observe(notebookContainer, {childList: true});\n",
              "}}\n",
              "\n",
              "// Listen for the clearing of the current output cell\n",
              "var outputEl = gd.closest('.output');\n",
              "if (outputEl) {{\n",
              "    x.observe(outputEl, {childList: true});\n",
              "}}\n",
              "\n",
              "                        })                };                            </script>        </div>\n",
              "</body>\n",
              "</html>"
            ]
          },
          "metadata": {}
        }
      ]
    },
    {
      "cell_type": "markdown",
      "source": [
        "**Mapper for first dense layer**"
      ],
      "metadata": {
        "id": "mYTcgkbCo4hS"
      }
    },
    {
      "cell_type": "code",
      "source": [
        "plotly_params = {\"node_trace\": {\"marker_colorscale\": \"RdBu\"}}\n",
        "fig = plot_static_mapper_graph(pipe_mapper,\n",
        "                               intermediate_output_0, \n",
        "                               layout='fruchterman_reingold',\n",
        "                               node_scale =20,\n",
        "                               plotly_params=plotly_params)\n",
        "fig.show(config={'scrollZoom': True})"
      ],
      "metadata": {
        "colab": {
          "base_uri": "https://localhost:8080/",
          "height": 542
        },
        "id": "JFhIyMp6jKaV",
        "outputId": "7cf75211-518a-40e3-f4ef-ef983daa9169"
      },
      "execution_count": null,
      "outputs": [
        {
          "output_type": "display_data",
          "data": {
            "text/html": [
              "<html>\n",
              "<head><meta charset=\"utf-8\" /></head>\n",
              "<body>\n",
              "    <div>            <script src=\"https://cdnjs.cloudflare.com/ajax/libs/mathjax/2.7.5/MathJax.js?config=TeX-AMS-MML_SVG\"></script><script type=\"text/javascript\">if (window.MathJax) {MathJax.Hub.Config({SVG: {font: \"STIX-Web\"}});}</script>                <script type=\"text/javascript\">window.PlotlyConfig = {MathJaxConfig: 'local'};</script>\n",
              "        <script src=\"https://cdn.plot.ly/plotly-2.8.3.min.js\"></script>                <div id=\"b8437f8c-0254-4174-9da9-330975898442\" class=\"plotly-graph-div\" style=\"height:525px; width:100%;\"></div>            <script type=\"text/javascript\">                                    window.PLOTLYENV=window.PLOTLYENV || {};                                    if (document.getElementById(\"b8437f8c-0254-4174-9da9-330975898442\")) {                    Plotly.newPlot(                        \"b8437f8c-0254-4174-9da9-330975898442\",                        [{\"hoverinfo\":\"none\",\"line\":{\"color\":\"#888\",\"width\":1},\"mode\":\"lines\",\"name\":\"edge_trace\",\"x\":[-2.3883669774183414,-1.6294571201844323,null,-4.368508141573654,-4.1308245187306785,null,4.6658767554806815,4.13449286459015,null,3.871134102140952,3.1853148389713355,null,-1.0462773476907112,-1.8930270662631639,null,0.41291481301973704,-0.6254439193128579,null,0.41291481301973704,1.3448454529842873,null,-0.6254439193128579,-1.5416971852751866,null,-3.171834695617343,-3.9899104038254536,null,-3.171834695617343,-2.2660367635002867,null,5.392308395421453,4.511522206833514,null,4.511522206833514,3.5502770884726162,null,0.7427285454078811,1.5739784829481536,null,-0.4091808684897316,-1.3193441903835808,null,-1.3193441903835808,-2.2660367635002867,null,2.081568944677317,1.961429685413721,null,1.961429685413721,1.3448454529842873,null,-0.05190105910864181,-1.0892983549554984,null,-0.05190105910864181,1.0037600166650917,null,-1.0892983549554984,-1.9345522305073612,null,4.818920460186684,4.175835517219961,null,-1.5416971852751866,-1.9345522305073612,null,-1.9345522305073612,-2.956163389776843,null,2.7015185066923766,3.5502770884726162,null,0.244154097264036,1.1297368675913566,null,1.0037600166650917,1.9653221244775858,null,2.6575408528674385,1.9653221244775858,null],\"y\":[-3.788527895059038,-4.221191849554271,null,-0.20880746293012573,0.6059597635670636,null,-2.568162550320679,-3.2289226104319075,null,3.8344241585115837,4.347411384597541,null,4.915996636139803,4.625634479808023,null,0.6164775998048159,0.29756486352489386,null,0.6164775998048159,1.1217163211340233,null,0.29756486352489386,-0.2829141652168352,null,2.3273483069161753,2.5753004043764594,null,2.3273483069161753,2.5509592526056073,null,-0.7660750686538335,-0.5387596512359729,null,-0.5387596512359729,-0.5915390200443128,null,4.891641275693176,4.920478191306652,null,3.155480456745458,2.8306585670401136,null,2.8306585670401136,2.5509592526056073,null,2.8724616350282655,1.9358789468537219,null,1.9358789468537219,1.1217163211340233,null,-2.5150729182576383,-2.1268704512906975,null,-2.5150729182576383,-2.7302403729420486,null,-2.1268704512906975,-1.3329278036771193,null,2.4117692150554633,1.8289292527513787,null,-0.2829141652168352,-1.3329278036771193,null,-1.3329278036771193,-1.3485975204861613,null,-0.9720975446539968,-0.5915390200443128,null,-4.759033531137681,-4.863616726950513,null,-2.7302403729420486,-3.1481053067141422,null,-3.817830705497854,-3.1481053067141422,null],\"type\":\"scatter\",\"uid\":\"e7a8c048-d0d2-41c8-ac03-59524ccac383\"},{\"hoverinfo\":\"text\",\"hovertext\":[\"Node ID: 0<br>Pullback set label: 0<br>Partial cluster label: 0<br>Node size: 6<br>Summary statistic: 31.8\",\"Node ID: 1<br>Pullback set label: 1<br>Partial cluster label: 0<br>Node size: 4<br>Summary statistic: 23.8\",\"Node ID: 2<br>Pullback set label: 1<br>Partial cluster label: 1<br>Node size: 2<br>Summary statistic: 3.0\",\"Node ID: 3<br>Pullback set label: 2<br>Partial cluster label: 0<br>Node size: 2<br>Summary statistic: 3.0\",\"Node ID: 4<br>Pullback set label: 0<br>Partial cluster label: 1<br>Node size: 3<br>Summary statistic: 35.3\",\"Node ID: 5<br>Pullback set label: 1<br>Partial cluster label: 2<br>Node size: 3<br>Summary statistic: 35.3\",\"Node ID: 6<br>Pullback set label: 8<br>Partial cluster label: -1<br>Node size: 1<br>Summary statistic: 7.0\",\"Node ID: 7<br>Pullback set label: 9<br>Partial cluster label: -1<br>Node size: 1<br>Summary statistic: 7.0\",\"Node ID: 8<br>Pullback set label: 17<br>Partial cluster label: -1<br>Node size: 2<br>Summary statistic: 42.5\",\"Node ID: 9<br>Pullback set label: 3<br>Partial cluster label: 0<br>Node size: 5<br>Summary statistic: 39.8\",\"Node ID: 10<br>Pullback set label: 4<br>Partial cluster label: 0<br>Node size: 4<br>Summary statistic: 40.5\",\"Node ID: 11<br>Pullback set label: 0<br>Partial cluster label: 2<br>Node size: 6<br>Summary statistic: 23.2\",\"Node ID: 12<br>Pullback set label: 11<br>Partial cluster label: 0<br>Node size: 2<br>Summary statistic: 43.5\",\"Node ID: 13<br>Pullback set label: 12<br>Partial cluster label: -1<br>Node size: 1<br>Summary statistic: 11.0\",\"Node ID: 14<br>Pullback set label: 14<br>Partial cluster label: -1<br>Node size: 1<br>Summary statistic: 12.0\",\"Node ID: 15<br>Pullback set label: 15<br>Partial cluster label: -1<br>Node size: 2<br>Summary statistic: 33.0\",\"Node ID: 16<br>Pullback set label: 6<br>Partial cluster label: 0<br>Node size: 2<br>Summary statistic: 19.5\",\"Node ID: 17<br>Pullback set label: 7<br>Partial cluster label: 0<br>Node size: 2<br>Summary statistic: 19.5\",\"Node ID: 18<br>Pullback set label: 8<br>Partial cluster label: 0<br>Node size: 3<br>Summary statistic: 52.3\",\"Node ID: 19<br>Pullback set label: 9<br>Partial cluster label: 0<br>Node size: 4<br>Summary statistic: 59.0\",\"Node ID: 20<br>Pullback set label: 0<br>Partial cluster label: 3<br>Node size: 5<br>Summary statistic: 36.6\",\"Node ID: 21<br>Pullback set label: 0<br>Partial cluster label: 4<br>Node size: 21<br>Summary statistic: 53.7\",\"Node ID: 22<br>Pullback set label: 1<br>Partial cluster label: 3<br>Node size: 16<br>Summary statistic: 53.9\",\"Node ID: 23<br>Pullback set label: 4<br>Partial cluster label: 1<br>Node size: 3<br>Summary statistic: 52.0\",\"Node ID: 24<br>Pullback set label: 5<br>Partial cluster label: 0<br>Node size: 2<br>Summary statistic: 42.0\",\"Node ID: 25<br>Pullback set label: 2<br>Partial cluster label: 1<br>Node size: 13<br>Summary statistic: 52.3\",\"Node ID: 26<br>Pullback set label: 2<br>Partial cluster label: -1<br>Node size: 1<br>Summary statistic: 31.0\",\"Node ID: 27<br>Pullback set label: 3<br>Partial cluster label: -1<br>Node size: 1<br>Summary statistic: 31.0\",\"Node ID: 28<br>Pullback set label: 5<br>Partial cluster label: -1<br>Node size: 3<br>Summary statistic: 37.7\",\"Node ID: 29<br>Pullback set label: 6<br>Partial cluster label: -1<br>Node size: 4<br>Summary statistic: 44.5\",\"Node ID: 30<br>Pullback set label: 13<br>Partial cluster label: 0<br>Node size: 2<br>Summary statistic: 52.0\",\"Node ID: 31<br>Pullback set label: 14<br>Partial cluster label: 0<br>Node size: 3<br>Summary statistic: 52.7\",\"Node ID: 32<br>Pullback set label: 7<br>Partial cluster label: -1<br>Node size: 1<br>Summary statistic: 50.0\",\"Node ID: 33<br>Pullback set label: 7<br>Partial cluster label: 1<br>Node size: 3<br>Summary statistic: 57.0\",\"Node ID: 34<br>Pullback set label: 8<br>Partial cluster label: 1<br>Node size: 3<br>Summary statistic: 57.0\",\"Node ID: 35<br>Pullback set label: 3<br>Partial cluster label: 1<br>Node size: 4<br>Summary statistic: 69.5\",\"Node ID: 36<br>Pullback set label: 1<br>Partial cluster label: 4<br>Node size: 3<br>Summary statistic: 66.0\",\"Node ID: 37<br>Pullback set label: 2<br>Partial cluster label: 2<br>Node size: 5<br>Summary statistic: 68.2\",\"Node ID: 38<br>Pullback set label: 10<br>Partial cluster label: 0<br>Node size: 2<br>Summary statistic: 77.5\",\"Node ID: 39<br>Pullback set label: 16<br>Partial cluster label: -1<br>Node size: 1<br>Summary statistic: 77.0\"],\"marker\":{\"color\":[31.833333333333332,23.75,3.0,3.0,35.333333333333336,35.333333333333336,7.0,7.0,42.5,39.8,40.5,23.166666666666668,43.5,11.0,12.0,33.0,19.5,19.5,52.333333333333336,59.0,36.6,53.666666666666664,53.875,52.0,42.0,52.30769230769231,31.0,31.0,37.666666666666664,44.5,52.0,52.666666666666664,50.0,57.0,57.0,69.5,66.0,68.2,77.5,77.0],\"colorbar\":{\"thickness\":15,\"title\":{\"side\":\"right\",\"text\":\"\"},\"xanchor\":\"left\"},\"colorscale\":[[0.0,\"rgb(103,0,31)\"],[0.1,\"rgb(178,24,43)\"],[0.2,\"rgb(214,96,77)\"],[0.3,\"rgb(244,165,130)\"],[0.4,\"rgb(253,219,199)\"],[0.5,\"rgb(247,247,247)\"],[0.6,\"rgb(209,229,240)\"],[0.7,\"rgb(146,197,222)\"],[0.8,\"rgb(67,147,195)\"],[0.9,\"rgb(33,102,172)\"],[1.0,\"rgb(5,48,97)\"]],\"line\":{\"color\":\"#888\",\"width\":1},\"opacity\":1.0,\"reversescale\":false,\"showscale\":true,\"size\":[6,4,2,2,3,3,1,1,2,5,4,6,2,1,1,2,2,2,3,4,5,21,16,3,2,13,1,1,3,4,2,3,1,3,3,4,3,5,2,1],\"sizemin\":4,\"sizemode\":\"area\",\"sizeref\":0.105},\"mode\":\"markers\",\"name\":\"node_trace\",\"x\":[-2.3883669774183414,-1.6294571201844323,-4.368508141573654,-4.1308245187306785,4.6658767554806815,4.13449286459015,3.871134102140952,3.1853148389713355,-1.0462773476907112,0.41291481301973704,-0.6254439193128579,5.627927739309354,-3.171834695617343,-3.9899104038254536,5.392308395421453,4.511522206833514,0.7427285454078811,1.5739784829481536,-0.4091808684897316,-1.3193441903835808,-3.9300874433216895,2.081568944677317,1.961429685413721,-0.05190105910864181,-1.0892983549554984,1.3448454529842873,4.818920460186684,4.175835517219961,-1.5416971852751866,-1.9345522305073612,2.7015185066923766,3.5502770884726162,-2.956163389776843,0.244154097264036,1.1297368675913566,1.0037600166650917,2.6575408528674385,1.9653221244775858,-2.2660367635002867,-1.8930270662631639],\"y\":[-3.788527895059038,-4.221191849554271,-0.20880746293012573,0.6059597635670636,-2.568162550320679,-3.2289226104319075,3.8344241585115837,4.347411384597541,4.915996636139803,0.6164775998048159,0.29756486352489386,0.9630835570493813,2.3273483069161753,2.5753004043764594,-0.7660750686538335,-0.5387596512359729,4.891641275693176,4.920478191306652,3.155480456745458,2.8306585670401136,-2.447094037927696,2.8724616350282655,1.9358789468537219,-2.5150729182576383,-2.1268704512906975,1.1217163211340233,2.4117692150554633,1.8289292527513787,-0.2829141652168352,-1.3329278036771193,-0.9720975446539968,-0.5915390200443128,-1.3485975204861613,-4.759033531137681,-4.863616726950513,-2.7302403729420486,-3.817830705497854,-3.1481053067141422,2.5509592526056073,4.625634479808023],\"type\":\"scatter\",\"uid\":\"f09e87e5-1b2c-475d-b97d-33b4fbad39c0\"}],                        {\"autosize\":false,\"hovermode\":\"closest\",\"margin\":{\"b\":20,\"l\":5,\"r\":5,\"t\":40},\"showlegend\":false,\"template\":{\"data\":{\"barpolar\":[{\"marker\":{\"line\":{\"color\":\"white\",\"width\":0.5},\"pattern\":{\"fillmode\":\"overlay\",\"size\":10,\"solidity\":0.2}},\"type\":\"barpolar\"}],\"bar\":[{\"error_x\":{\"color\":\"rgb(36,36,36)\"},\"error_y\":{\"color\":\"rgb(36,36,36)\"},\"marker\":{\"line\":{\"color\":\"white\",\"width\":0.5},\"pattern\":{\"fillmode\":\"overlay\",\"size\":10,\"solidity\":0.2}},\"type\":\"bar\"}],\"carpet\":[{\"aaxis\":{\"endlinecolor\":\"rgb(36,36,36)\",\"gridcolor\":\"white\",\"linecolor\":\"white\",\"minorgridcolor\":\"white\",\"startlinecolor\":\"rgb(36,36,36)\"},\"baxis\":{\"endlinecolor\":\"rgb(36,36,36)\",\"gridcolor\":\"white\",\"linecolor\":\"white\",\"minorgridcolor\":\"white\",\"startlinecolor\":\"rgb(36,36,36)\"},\"type\":\"carpet\"}],\"choropleth\":[{\"colorbar\":{\"outlinewidth\":1,\"tickcolor\":\"rgb(36,36,36)\",\"ticks\":\"outside\"},\"type\":\"choropleth\"}],\"contourcarpet\":[{\"colorbar\":{\"outlinewidth\":1,\"tickcolor\":\"rgb(36,36,36)\",\"ticks\":\"outside\"},\"type\":\"contourcarpet\"}],\"contour\":[{\"colorbar\":{\"outlinewidth\":1,\"tickcolor\":\"rgb(36,36,36)\",\"ticks\":\"outside\"},\"colorscale\":[[0.0,\"#440154\"],[0.1111111111111111,\"#482878\"],[0.2222222222222222,\"#3e4989\"],[0.3333333333333333,\"#31688e\"],[0.4444444444444444,\"#26828e\"],[0.5555555555555556,\"#1f9e89\"],[0.6666666666666666,\"#35b779\"],[0.7777777777777778,\"#6ece58\"],[0.8888888888888888,\"#b5de2b\"],[1.0,\"#fde725\"]],\"type\":\"contour\"}],\"heatmapgl\":[{\"colorbar\":{\"outlinewidth\":1,\"tickcolor\":\"rgb(36,36,36)\",\"ticks\":\"outside\"},\"colorscale\":[[0.0,\"#440154\"],[0.1111111111111111,\"#482878\"],[0.2222222222222222,\"#3e4989\"],[0.3333333333333333,\"#31688e\"],[0.4444444444444444,\"#26828e\"],[0.5555555555555556,\"#1f9e89\"],[0.6666666666666666,\"#35b779\"],[0.7777777777777778,\"#6ece58\"],[0.8888888888888888,\"#b5de2b\"],[1.0,\"#fde725\"]],\"type\":\"heatmapgl\"}],\"heatmap\":[{\"colorbar\":{\"outlinewidth\":1,\"tickcolor\":\"rgb(36,36,36)\",\"ticks\":\"outside\"},\"colorscale\":[[0.0,\"#440154\"],[0.1111111111111111,\"#482878\"],[0.2222222222222222,\"#3e4989\"],[0.3333333333333333,\"#31688e\"],[0.4444444444444444,\"#26828e\"],[0.5555555555555556,\"#1f9e89\"],[0.6666666666666666,\"#35b779\"],[0.7777777777777778,\"#6ece58\"],[0.8888888888888888,\"#b5de2b\"],[1.0,\"#fde725\"]],\"type\":\"heatmap\"}],\"histogram2dcontour\":[{\"colorbar\":{\"outlinewidth\":1,\"tickcolor\":\"rgb(36,36,36)\",\"ticks\":\"outside\"},\"colorscale\":[[0.0,\"#440154\"],[0.1111111111111111,\"#482878\"],[0.2222222222222222,\"#3e4989\"],[0.3333333333333333,\"#31688e\"],[0.4444444444444444,\"#26828e\"],[0.5555555555555556,\"#1f9e89\"],[0.6666666666666666,\"#35b779\"],[0.7777777777777778,\"#6ece58\"],[0.8888888888888888,\"#b5de2b\"],[1.0,\"#fde725\"]],\"type\":\"histogram2dcontour\"}],\"histogram2d\":[{\"colorbar\":{\"outlinewidth\":1,\"tickcolor\":\"rgb(36,36,36)\",\"ticks\":\"outside\"},\"colorscale\":[[0.0,\"#440154\"],[0.1111111111111111,\"#482878\"],[0.2222222222222222,\"#3e4989\"],[0.3333333333333333,\"#31688e\"],[0.4444444444444444,\"#26828e\"],[0.5555555555555556,\"#1f9e89\"],[0.6666666666666666,\"#35b779\"],[0.7777777777777778,\"#6ece58\"],[0.8888888888888888,\"#b5de2b\"],[1.0,\"#fde725\"]],\"type\":\"histogram2d\"}],\"histogram\":[{\"marker\":{\"line\":{\"color\":\"white\",\"width\":0.6}},\"type\":\"histogram\"}],\"mesh3d\":[{\"colorbar\":{\"outlinewidth\":1,\"tickcolor\":\"rgb(36,36,36)\",\"ticks\":\"outside\"},\"type\":\"mesh3d\"}],\"parcoords\":[{\"line\":{\"colorbar\":{\"outlinewidth\":1,\"tickcolor\":\"rgb(36,36,36)\",\"ticks\":\"outside\"}},\"type\":\"parcoords\"}],\"pie\":[{\"automargin\":true,\"type\":\"pie\"}],\"scatter3d\":[{\"line\":{\"colorbar\":{\"outlinewidth\":1,\"tickcolor\":\"rgb(36,36,36)\",\"ticks\":\"outside\"}},\"marker\":{\"colorbar\":{\"outlinewidth\":1,\"tickcolor\":\"rgb(36,36,36)\",\"ticks\":\"outside\"}},\"type\":\"scatter3d\"}],\"scattercarpet\":[{\"marker\":{\"colorbar\":{\"outlinewidth\":1,\"tickcolor\":\"rgb(36,36,36)\",\"ticks\":\"outside\"}},\"type\":\"scattercarpet\"}],\"scattergeo\":[{\"marker\":{\"colorbar\":{\"outlinewidth\":1,\"tickcolor\":\"rgb(36,36,36)\",\"ticks\":\"outside\"}},\"type\":\"scattergeo\"}],\"scattergl\":[{\"marker\":{\"colorbar\":{\"outlinewidth\":1,\"tickcolor\":\"rgb(36,36,36)\",\"ticks\":\"outside\"}},\"type\":\"scattergl\"}],\"scattermapbox\":[{\"marker\":{\"colorbar\":{\"outlinewidth\":1,\"tickcolor\":\"rgb(36,36,36)\",\"ticks\":\"outside\"}},\"type\":\"scattermapbox\"}],\"scatterpolargl\":[{\"marker\":{\"colorbar\":{\"outlinewidth\":1,\"tickcolor\":\"rgb(36,36,36)\",\"ticks\":\"outside\"}},\"type\":\"scatterpolargl\"}],\"scatterpolar\":[{\"marker\":{\"colorbar\":{\"outlinewidth\":1,\"tickcolor\":\"rgb(36,36,36)\",\"ticks\":\"outside\"}},\"type\":\"scatterpolar\"}],\"scatter\":[{\"marker\":{\"colorbar\":{\"outlinewidth\":1,\"tickcolor\":\"rgb(36,36,36)\",\"ticks\":\"outside\"}},\"type\":\"scatter\"}],\"scatterternary\":[{\"marker\":{\"colorbar\":{\"outlinewidth\":1,\"tickcolor\":\"rgb(36,36,36)\",\"ticks\":\"outside\"}},\"type\":\"scatterternary\"}],\"surface\":[{\"colorbar\":{\"outlinewidth\":1,\"tickcolor\":\"rgb(36,36,36)\",\"ticks\":\"outside\"},\"colorscale\":[[0.0,\"#440154\"],[0.1111111111111111,\"#482878\"],[0.2222222222222222,\"#3e4989\"],[0.3333333333333333,\"#31688e\"],[0.4444444444444444,\"#26828e\"],[0.5555555555555556,\"#1f9e89\"],[0.6666666666666666,\"#35b779\"],[0.7777777777777778,\"#6ece58\"],[0.8888888888888888,\"#b5de2b\"],[1.0,\"#fde725\"]],\"type\":\"surface\"}],\"table\":[{\"cells\":{\"fill\":{\"color\":\"rgb(237,237,237)\"},\"line\":{\"color\":\"white\"}},\"header\":{\"fill\":{\"color\":\"rgb(217,217,217)\"},\"line\":{\"color\":\"white\"}},\"type\":\"table\"}]},\"layout\":{\"annotationdefaults\":{\"arrowhead\":0,\"arrowwidth\":1},\"autotypenumbers\":\"strict\",\"coloraxis\":{\"colorbar\":{\"outlinewidth\":1,\"tickcolor\":\"rgb(36,36,36)\",\"ticks\":\"outside\"}},\"colorscale\":{\"diverging\":[[0.0,\"rgb(103,0,31)\"],[0.1,\"rgb(178,24,43)\"],[0.2,\"rgb(214,96,77)\"],[0.3,\"rgb(244,165,130)\"],[0.4,\"rgb(253,219,199)\"],[0.5,\"rgb(247,247,247)\"],[0.6,\"rgb(209,229,240)\"],[0.7,\"rgb(146,197,222)\"],[0.8,\"rgb(67,147,195)\"],[0.9,\"rgb(33,102,172)\"],[1.0,\"rgb(5,48,97)\"]],\"sequential\":[[0.0,\"#440154\"],[0.1111111111111111,\"#482878\"],[0.2222222222222222,\"#3e4989\"],[0.3333333333333333,\"#31688e\"],[0.4444444444444444,\"#26828e\"],[0.5555555555555556,\"#1f9e89\"],[0.6666666666666666,\"#35b779\"],[0.7777777777777778,\"#6ece58\"],[0.8888888888888888,\"#b5de2b\"],[1.0,\"#fde725\"]],\"sequentialminus\":[[0.0,\"#440154\"],[0.1111111111111111,\"#482878\"],[0.2222222222222222,\"#3e4989\"],[0.3333333333333333,\"#31688e\"],[0.4444444444444444,\"#26828e\"],[0.5555555555555556,\"#1f9e89\"],[0.6666666666666666,\"#35b779\"],[0.7777777777777778,\"#6ece58\"],[0.8888888888888888,\"#b5de2b\"],[1.0,\"#fde725\"]]},\"colorway\":[\"#1F77B4\",\"#FF7F0E\",\"#2CA02C\",\"#D62728\",\"#9467BD\",\"#8C564B\",\"#E377C2\",\"#7F7F7F\",\"#BCBD22\",\"#17BECF\"],\"font\":{\"color\":\"rgb(36,36,36)\"},\"geo\":{\"bgcolor\":\"white\",\"lakecolor\":\"white\",\"landcolor\":\"white\",\"showlakes\":true,\"showland\":true,\"subunitcolor\":\"white\"},\"hoverlabel\":{\"align\":\"left\"},\"hovermode\":\"closest\",\"mapbox\":{\"style\":\"light\"},\"paper_bgcolor\":\"white\",\"plot_bgcolor\":\"white\",\"polar\":{\"angularaxis\":{\"gridcolor\":\"rgb(232,232,232)\",\"linecolor\":\"rgb(36,36,36)\",\"showgrid\":false,\"showline\":true,\"ticks\":\"outside\"},\"bgcolor\":\"white\",\"radialaxis\":{\"gridcolor\":\"rgb(232,232,232)\",\"linecolor\":\"rgb(36,36,36)\",\"showgrid\":false,\"showline\":true,\"ticks\":\"outside\"}},\"scene\":{\"xaxis\":{\"backgroundcolor\":\"white\",\"gridcolor\":\"rgb(232,232,232)\",\"gridwidth\":2,\"linecolor\":\"rgb(36,36,36)\",\"showbackground\":true,\"showgrid\":false,\"showline\":true,\"ticks\":\"outside\",\"zeroline\":false,\"zerolinecolor\":\"rgb(36,36,36)\"},\"yaxis\":{\"backgroundcolor\":\"white\",\"gridcolor\":\"rgb(232,232,232)\",\"gridwidth\":2,\"linecolor\":\"rgb(36,36,36)\",\"showbackground\":true,\"showgrid\":false,\"showline\":true,\"ticks\":\"outside\",\"zeroline\":false,\"zerolinecolor\":\"rgb(36,36,36)\"},\"zaxis\":{\"backgroundcolor\":\"white\",\"gridcolor\":\"rgb(232,232,232)\",\"gridwidth\":2,\"linecolor\":\"rgb(36,36,36)\",\"showbackground\":true,\"showgrid\":false,\"showline\":true,\"ticks\":\"outside\",\"zeroline\":false,\"zerolinecolor\":\"rgb(36,36,36)\"}},\"shapedefaults\":{\"fillcolor\":\"black\",\"line\":{\"width\":0},\"opacity\":0.3},\"ternary\":{\"aaxis\":{\"gridcolor\":\"rgb(232,232,232)\",\"linecolor\":\"rgb(36,36,36)\",\"showgrid\":false,\"showline\":true,\"ticks\":\"outside\"},\"baxis\":{\"gridcolor\":\"rgb(232,232,232)\",\"linecolor\":\"rgb(36,36,36)\",\"showgrid\":false,\"showline\":true,\"ticks\":\"outside\"},\"bgcolor\":\"white\",\"caxis\":{\"gridcolor\":\"rgb(232,232,232)\",\"linecolor\":\"rgb(36,36,36)\",\"showgrid\":false,\"showline\":true,\"ticks\":\"outside\"}},\"title\":{\"x\":0.05},\"xaxis\":{\"automargin\":true,\"gridcolor\":\"rgb(232,232,232)\",\"linecolor\":\"rgb(36,36,36)\",\"showgrid\":false,\"showline\":true,\"ticks\":\"outside\",\"title\":{\"standoff\":15},\"zeroline\":false,\"zerolinecolor\":\"rgb(36,36,36)\"},\"yaxis\":{\"automargin\":true,\"gridcolor\":\"rgb(232,232,232)\",\"linecolor\":\"rgb(36,36,36)\",\"showgrid\":false,\"showline\":true,\"ticks\":\"outside\",\"title\":{\"standoff\":15},\"zeroline\":false,\"zerolinecolor\":\"rgb(36,36,36)\"}}},\"title\":{\"text\":\"\"},\"xaxis\":{\"showgrid\":false,\"showline\":false,\"showticklabels\":false,\"ticks\":\"\",\"title\":{\"text\":\"\"},\"zeroline\":false},\"yaxis\":{\"showgrid\":false,\"showline\":false,\"showticklabels\":false,\"ticks\":\"\",\"title\":{\"text\":\"\"},\"zeroline\":false}},                        {\"scrollZoom\": true, \"responsive\": true}                    ).then(function(){\n",
              "                            \n",
              "var gd = document.getElementById('b8437f8c-0254-4174-9da9-330975898442');\n",
              "var x = new MutationObserver(function (mutations, observer) {{\n",
              "        var display = window.getComputedStyle(gd).display;\n",
              "        if (!display || display === 'none') {{\n",
              "            console.log([gd, 'removed!']);\n",
              "            Plotly.purge(gd);\n",
              "            observer.disconnect();\n",
              "        }}\n",
              "}});\n",
              "\n",
              "// Listen for the removal of the full notebook cells\n",
              "var notebookContainer = gd.closest('#notebook-container');\n",
              "if (notebookContainer) {{\n",
              "    x.observe(notebookContainer, {childList: true});\n",
              "}}\n",
              "\n",
              "// Listen for the clearing of the current output cell\n",
              "var outputEl = gd.closest('.output');\n",
              "if (outputEl) {{\n",
              "    x.observe(outputEl, {childList: true});\n",
              "}}\n",
              "\n",
              "                        })                };                            </script>        </div>\n",
              "</body>\n",
              "</html>"
            ]
          },
          "metadata": {}
        }
      ]
    },
    {
      "cell_type": "code",
      "source": [
        "graph = pipe_mapper.fit_transform(intermediate_output_0)\n",
        "\n",
        "node_id = 29 \n",
        "node_elements = graph.vs[\"node_elements\"]\n",
        "\n",
        "# Node elements refer to the indices of the original data that belong to each node \n",
        "print(f\"\"\"\n",
        "Node ID: {node_id}\n",
        "Node elements: {node_elements[node_id]}\n",
        "\"\"\")"
      ],
      "metadata": {
        "colab": {
          "base_uri": "https://localhost:8080/"
        },
        "id": "t3C-1rjeoyR3",
        "outputId": "cf010b1f-c4cd-4605-c8f2-2b0ac0b5c333"
      },
      "execution_count": null,
      "outputs": [
        {
          "output_type": "stream",
          "name": "stdout",
          "text": [
            "\n",
            "Node ID: 29\n",
            "Node elements: [32 33 50 63]\n",
            "\n"
          ]
        }
      ]
    },
    {
      "cell_type": "code",
      "source": [
        "node_id = 32\n",
        "print(f\"\"\"\n",
        "Node ID: {node_id}\n",
        "Node elements: {node_elements[node_id]}\n",
        "\"\"\")"
      ],
      "metadata": {
        "colab": {
          "base_uri": "https://localhost:8080/"
        },
        "id": "RaKNLsnNqQLO",
        "outputId": "3f4f59be-fecf-4584-809d-822e1bcd4222"
      },
      "execution_count": null,
      "outputs": [
        {
          "output_type": "stream",
          "name": "stdout",
          "text": [
            "\n",
            "Node ID: 32\n",
            "Node elements: [50]\n",
            "\n"
          ]
        }
      ]
    },
    {
      "cell_type": "code",
      "source": [
        "clean.iloc[[50]]"
      ],
      "metadata": {
        "colab": {
          "base_uri": "https://localhost:8080/",
          "height": 174
        },
        "id": "YqZZsWYgrElI",
        "outputId": "89a08907-9597-424a-a334-148c7c365f08"
      },
      "execution_count": null,
      "outputs": [
        {
          "output_type": "execute_result",
          "data": {
            "text/plain": [
              "    MolecularWeight  XLogP   ExactMass  MonoisotopicMass  TPSA  Complexity  \\\n",
              "50            334.1    4.6  332.995948        332.995948  52.3       388.0   \n",
              "\n",
              "    Charge  HBondDonorCount  HBondAcceptorCount  RotatableBondCount  ...  \\\n",
              "50     0.0              0.0                 4.0                 4.0  ...   \n",
              "\n",
              "    FeatureAcceptorCount3D  FeatureDonorCount3D  FeatureAnionCount3D  \\\n",
              "50                     3.0                  0.0                  0.0   \n",
              "\n",
              "    FeatureCationCount3D  FeatureRingCount3D  FeatureHydrophobeCount3D  \\\n",
              "50                   0.0                 3.0                       0.0   \n",
              "\n",
              "    ConformerModelRMSD3D  EffectiveRotorCount3D  ConformerCount3D     pIC50  \n",
              "50                   0.6                    4.0              10.0  1.200659  \n",
              "\n",
              "[1 rows x 34 columns]"
            ],
            "text/html": [
              "\n",
              "  <div id=\"df-5382f0cc-135c-4fd6-8e9e-5c3f49654581\">\n",
              "    <div class=\"colab-df-container\">\n",
              "      <div>\n",
              "<style scoped>\n",
              "    .dataframe tbody tr th:only-of-type {\n",
              "        vertical-align: middle;\n",
              "    }\n",
              "\n",
              "    .dataframe tbody tr th {\n",
              "        vertical-align: top;\n",
              "    }\n",
              "\n",
              "    .dataframe thead th {\n",
              "        text-align: right;\n",
              "    }\n",
              "</style>\n",
              "<table border=\"1\" class=\"dataframe\">\n",
              "  <thead>\n",
              "    <tr style=\"text-align: right;\">\n",
              "      <th></th>\n",
              "      <th>MolecularWeight</th>\n",
              "      <th>XLogP</th>\n",
              "      <th>ExactMass</th>\n",
              "      <th>MonoisotopicMass</th>\n",
              "      <th>TPSA</th>\n",
              "      <th>Complexity</th>\n",
              "      <th>Charge</th>\n",
              "      <th>HBondDonorCount</th>\n",
              "      <th>HBondAcceptorCount</th>\n",
              "      <th>RotatableBondCount</th>\n",
              "      <th>...</th>\n",
              "      <th>FeatureAcceptorCount3D</th>\n",
              "      <th>FeatureDonorCount3D</th>\n",
              "      <th>FeatureAnionCount3D</th>\n",
              "      <th>FeatureCationCount3D</th>\n",
              "      <th>FeatureRingCount3D</th>\n",
              "      <th>FeatureHydrophobeCount3D</th>\n",
              "      <th>ConformerModelRMSD3D</th>\n",
              "      <th>EffectiveRotorCount3D</th>\n",
              "      <th>ConformerCount3D</th>\n",
              "      <th>pIC50</th>\n",
              "    </tr>\n",
              "  </thead>\n",
              "  <tbody>\n",
              "    <tr>\n",
              "      <th>50</th>\n",
              "      <td>334.1</td>\n",
              "      <td>4.6</td>\n",
              "      <td>332.995948</td>\n",
              "      <td>332.995948</td>\n",
              "      <td>52.3</td>\n",
              "      <td>388.0</td>\n",
              "      <td>0.0</td>\n",
              "      <td>0.0</td>\n",
              "      <td>4.0</td>\n",
              "      <td>4.0</td>\n",
              "      <td>...</td>\n",
              "      <td>3.0</td>\n",
              "      <td>0.0</td>\n",
              "      <td>0.0</td>\n",
              "      <td>0.0</td>\n",
              "      <td>3.0</td>\n",
              "      <td>0.0</td>\n",
              "      <td>0.6</td>\n",
              "      <td>4.0</td>\n",
              "      <td>10.0</td>\n",
              "      <td>1.200659</td>\n",
              "    </tr>\n",
              "  </tbody>\n",
              "</table>\n",
              "<p>1 rows × 34 columns</p>\n",
              "</div>\n",
              "      <button class=\"colab-df-convert\" onclick=\"convertToInteractive('df-5382f0cc-135c-4fd6-8e9e-5c3f49654581')\"\n",
              "              title=\"Convert this dataframe to an interactive table.\"\n",
              "              style=\"display:none;\">\n",
              "        \n",
              "  <svg xmlns=\"http://www.w3.org/2000/svg\" height=\"24px\"viewBox=\"0 0 24 24\"\n",
              "       width=\"24px\">\n",
              "    <path d=\"M0 0h24v24H0V0z\" fill=\"none\"/>\n",
              "    <path d=\"M18.56 5.44l.94 2.06.94-2.06 2.06-.94-2.06-.94-.94-2.06-.94 2.06-2.06.94zm-11 1L8.5 8.5l.94-2.06 2.06-.94-2.06-.94L8.5 2.5l-.94 2.06-2.06.94zm10 10l.94 2.06.94-2.06 2.06-.94-2.06-.94-.94-2.06-.94 2.06-2.06.94z\"/><path d=\"M17.41 7.96l-1.37-1.37c-.4-.4-.92-.59-1.43-.59-.52 0-1.04.2-1.43.59L10.3 9.45l-7.72 7.72c-.78.78-.78 2.05 0 2.83L4 21.41c.39.39.9.59 1.41.59.51 0 1.02-.2 1.41-.59l7.78-7.78 2.81-2.81c.8-.78.8-2.07 0-2.86zM5.41 20L4 18.59l7.72-7.72 1.47 1.35L5.41 20z\"/>\n",
              "  </svg>\n",
              "      </button>\n",
              "      \n",
              "  <style>\n",
              "    .colab-df-container {\n",
              "      display:flex;\n",
              "      flex-wrap:wrap;\n",
              "      gap: 12px;\n",
              "    }\n",
              "\n",
              "    .colab-df-convert {\n",
              "      background-color: #E8F0FE;\n",
              "      border: none;\n",
              "      border-radius: 50%;\n",
              "      cursor: pointer;\n",
              "      display: none;\n",
              "      fill: #1967D2;\n",
              "      height: 32px;\n",
              "      padding: 0 0 0 0;\n",
              "      width: 32px;\n",
              "    }\n",
              "\n",
              "    .colab-df-convert:hover {\n",
              "      background-color: #E2EBFA;\n",
              "      box-shadow: 0px 1px 2px rgba(60, 64, 67, 0.3), 0px 1px 3px 1px rgba(60, 64, 67, 0.15);\n",
              "      fill: #174EA6;\n",
              "    }\n",
              "\n",
              "    [theme=dark] .colab-df-convert {\n",
              "      background-color: #3B4455;\n",
              "      fill: #D2E3FC;\n",
              "    }\n",
              "\n",
              "    [theme=dark] .colab-df-convert:hover {\n",
              "      background-color: #434B5C;\n",
              "      box-shadow: 0px 1px 3px 1px rgba(0, 0, 0, 0.15);\n",
              "      filter: drop-shadow(0px 1px 2px rgba(0, 0, 0, 0.3));\n",
              "      fill: #FFFFFF;\n",
              "    }\n",
              "  </style>\n",
              "\n",
              "      <script>\n",
              "        const buttonEl =\n",
              "          document.querySelector('#df-5382f0cc-135c-4fd6-8e9e-5c3f49654581 button.colab-df-convert');\n",
              "        buttonEl.style.display =\n",
              "          google.colab.kernel.accessAllowed ? 'block' : 'none';\n",
              "\n",
              "        async function convertToInteractive(key) {\n",
              "          const element = document.querySelector('#df-5382f0cc-135c-4fd6-8e9e-5c3f49654581');\n",
              "          const dataTable =\n",
              "            await google.colab.kernel.invokeFunction('convertToInteractive',\n",
              "                                                     [key], {});\n",
              "          if (!dataTable) return;\n",
              "\n",
              "          const docLinkHtml = 'Like what you see? Visit the ' +\n",
              "            '<a target=\"_blank\" href=https://colab.research.google.com/notebooks/data_table.ipynb>data table notebook</a>'\n",
              "            + ' to learn more about interactive tables.';\n",
              "          element.innerHTML = '';\n",
              "          dataTable['output_type'] = 'display_data';\n",
              "          await google.colab.output.renderOutput(dataTable, element);\n",
              "          const docLink = document.createElement('div');\n",
              "          docLink.innerHTML = docLinkHtml;\n",
              "          element.appendChild(docLink);\n",
              "        }\n",
              "      </script>\n",
              "    </div>\n",
              "  </div>\n",
              "  "
            ]
          },
          "metadata": {},
          "execution_count": 65
        }
      ]
    },
    {
      "cell_type": "code",
      "source": [
        "node_id = 28\n",
        "print(f\"\"\"\n",
        "Node ID: {node_id}\n",
        "Node elements: {node_elements[node_id]}\n",
        "\"\"\")"
      ],
      "metadata": {
        "colab": {
          "base_uri": "https://localhost:8080/"
        },
        "id": "sg6dksziqXnO",
        "outputId": "da8446c4-38af-43bb-d5ba-f679dbac1244"
      },
      "execution_count": null,
      "outputs": [
        {
          "output_type": "stream",
          "name": "stdout",
          "text": [
            "\n",
            "Node ID: 28\n",
            "Node elements: [32 33 48]\n",
            "\n"
          ]
        }
      ]
    },
    {
      "cell_type": "code",
      "source": [
        "clean.iloc[[32, 33, 48]]"
      ],
      "metadata": {
        "colab": {
          "base_uri": "https://localhost:8080/",
          "height": 237
        },
        "id": "Hp6nV2l1rZB1",
        "outputId": "dd6cb418-4184-4427-ba40-3db82b0e6d45"
      },
      "execution_count": null,
      "outputs": [
        {
          "output_type": "execute_result",
          "data": {
            "text/plain": [
              "    MolecularWeight  XLogP   ExactMass  MonoisotopicMass   TPSA  Complexity  \\\n",
              "32           565.00    7.3  563.814325        561.817275   95.1       777.0   \n",
              "33           284.72    1.5  284.013474        284.013474  120.0       378.0   \n",
              "48           334.40    3.9  334.055818        334.055818  132.0       409.0   \n",
              "\n",
              "    Charge  HBondDonorCount  HBondAcceptorCount  RotatableBondCount  ...  \\\n",
              "32     0.0              0.0                 6.0                 8.0  ...   \n",
              "33     0.0              2.0                 6.0                 2.0  ...   \n",
              "48     0.0              1.0                 6.0                 4.0  ...   \n",
              "\n",
              "    FeatureAcceptorCount3D  FeatureDonorCount3D  FeatureAnionCount3D  \\\n",
              "32                     4.0                  0.0                  0.0   \n",
              "33                     2.0                  2.0                  0.0   \n",
              "48                     3.0                  1.0                  1.0   \n",
              "\n",
              "    FeatureCationCount3D  FeatureRingCount3D  FeatureHydrophobeCount3D  \\\n",
              "32                   0.0                 2.0                       0.0   \n",
              "33                   1.0                 2.0                       0.0   \n",
              "48                   1.0                 3.0                       0.0   \n",
              "\n",
              "    ConformerModelRMSD3D  EffectiveRotorCount3D  ConformerCount3D     pIC50  \n",
              "32                   1.0                    8.0              10.0  0.045757  \n",
              "33                   0.6                    2.0               2.0 -0.778151  \n",
              "48                   0.8                    5.0              10.0 -1.301030  \n",
              "\n",
              "[3 rows x 34 columns]"
            ],
            "text/html": [
              "\n",
              "  <div id=\"df-ee1455ee-90ca-41b1-80f2-ac5eac044351\">\n",
              "    <div class=\"colab-df-container\">\n",
              "      <div>\n",
              "<style scoped>\n",
              "    .dataframe tbody tr th:only-of-type {\n",
              "        vertical-align: middle;\n",
              "    }\n",
              "\n",
              "    .dataframe tbody tr th {\n",
              "        vertical-align: top;\n",
              "    }\n",
              "\n",
              "    .dataframe thead th {\n",
              "        text-align: right;\n",
              "    }\n",
              "</style>\n",
              "<table border=\"1\" class=\"dataframe\">\n",
              "  <thead>\n",
              "    <tr style=\"text-align: right;\">\n",
              "      <th></th>\n",
              "      <th>MolecularWeight</th>\n",
              "      <th>XLogP</th>\n",
              "      <th>ExactMass</th>\n",
              "      <th>MonoisotopicMass</th>\n",
              "      <th>TPSA</th>\n",
              "      <th>Complexity</th>\n",
              "      <th>Charge</th>\n",
              "      <th>HBondDonorCount</th>\n",
              "      <th>HBondAcceptorCount</th>\n",
              "      <th>RotatableBondCount</th>\n",
              "      <th>...</th>\n",
              "      <th>FeatureAcceptorCount3D</th>\n",
              "      <th>FeatureDonorCount3D</th>\n",
              "      <th>FeatureAnionCount3D</th>\n",
              "      <th>FeatureCationCount3D</th>\n",
              "      <th>FeatureRingCount3D</th>\n",
              "      <th>FeatureHydrophobeCount3D</th>\n",
              "      <th>ConformerModelRMSD3D</th>\n",
              "      <th>EffectiveRotorCount3D</th>\n",
              "      <th>ConformerCount3D</th>\n",
              "      <th>pIC50</th>\n",
              "    </tr>\n",
              "  </thead>\n",
              "  <tbody>\n",
              "    <tr>\n",
              "      <th>32</th>\n",
              "      <td>565.00</td>\n",
              "      <td>7.3</td>\n",
              "      <td>563.814325</td>\n",
              "      <td>561.817275</td>\n",
              "      <td>95.1</td>\n",
              "      <td>777.0</td>\n",
              "      <td>0.0</td>\n",
              "      <td>0.0</td>\n",
              "      <td>6.0</td>\n",
              "      <td>8.0</td>\n",
              "      <td>...</td>\n",
              "      <td>4.0</td>\n",
              "      <td>0.0</td>\n",
              "      <td>0.0</td>\n",
              "      <td>0.0</td>\n",
              "      <td>2.0</td>\n",
              "      <td>0.0</td>\n",
              "      <td>1.0</td>\n",
              "      <td>8.0</td>\n",
              "      <td>10.0</td>\n",
              "      <td>0.045757</td>\n",
              "    </tr>\n",
              "    <tr>\n",
              "      <th>33</th>\n",
              "      <td>284.72</td>\n",
              "      <td>1.5</td>\n",
              "      <td>284.013474</td>\n",
              "      <td>284.013474</td>\n",
              "      <td>120.0</td>\n",
              "      <td>378.0</td>\n",
              "      <td>0.0</td>\n",
              "      <td>2.0</td>\n",
              "      <td>6.0</td>\n",
              "      <td>2.0</td>\n",
              "      <td>...</td>\n",
              "      <td>2.0</td>\n",
              "      <td>2.0</td>\n",
              "      <td>0.0</td>\n",
              "      <td>1.0</td>\n",
              "      <td>2.0</td>\n",
              "      <td>0.0</td>\n",
              "      <td>0.6</td>\n",
              "      <td>2.0</td>\n",
              "      <td>2.0</td>\n",
              "      <td>-0.778151</td>\n",
              "    </tr>\n",
              "    <tr>\n",
              "      <th>48</th>\n",
              "      <td>334.40</td>\n",
              "      <td>3.9</td>\n",
              "      <td>334.055818</td>\n",
              "      <td>334.055818</td>\n",
              "      <td>132.0</td>\n",
              "      <td>409.0</td>\n",
              "      <td>0.0</td>\n",
              "      <td>1.0</td>\n",
              "      <td>6.0</td>\n",
              "      <td>4.0</td>\n",
              "      <td>...</td>\n",
              "      <td>3.0</td>\n",
              "      <td>1.0</td>\n",
              "      <td>1.0</td>\n",
              "      <td>1.0</td>\n",
              "      <td>3.0</td>\n",
              "      <td>0.0</td>\n",
              "      <td>0.8</td>\n",
              "      <td>5.0</td>\n",
              "      <td>10.0</td>\n",
              "      <td>-1.301030</td>\n",
              "    </tr>\n",
              "  </tbody>\n",
              "</table>\n",
              "<p>3 rows × 34 columns</p>\n",
              "</div>\n",
              "      <button class=\"colab-df-convert\" onclick=\"convertToInteractive('df-ee1455ee-90ca-41b1-80f2-ac5eac044351')\"\n",
              "              title=\"Convert this dataframe to an interactive table.\"\n",
              "              style=\"display:none;\">\n",
              "        \n",
              "  <svg xmlns=\"http://www.w3.org/2000/svg\" height=\"24px\"viewBox=\"0 0 24 24\"\n",
              "       width=\"24px\">\n",
              "    <path d=\"M0 0h24v24H0V0z\" fill=\"none\"/>\n",
              "    <path d=\"M18.56 5.44l.94 2.06.94-2.06 2.06-.94-2.06-.94-.94-2.06-.94 2.06-2.06.94zm-11 1L8.5 8.5l.94-2.06 2.06-.94-2.06-.94L8.5 2.5l-.94 2.06-2.06.94zm10 10l.94 2.06.94-2.06 2.06-.94-2.06-.94-.94-2.06-.94 2.06-2.06.94z\"/><path d=\"M17.41 7.96l-1.37-1.37c-.4-.4-.92-.59-1.43-.59-.52 0-1.04.2-1.43.59L10.3 9.45l-7.72 7.72c-.78.78-.78 2.05 0 2.83L4 21.41c.39.39.9.59 1.41.59.51 0 1.02-.2 1.41-.59l7.78-7.78 2.81-2.81c.8-.78.8-2.07 0-2.86zM5.41 20L4 18.59l7.72-7.72 1.47 1.35L5.41 20z\"/>\n",
              "  </svg>\n",
              "      </button>\n",
              "      \n",
              "  <style>\n",
              "    .colab-df-container {\n",
              "      display:flex;\n",
              "      flex-wrap:wrap;\n",
              "      gap: 12px;\n",
              "    }\n",
              "\n",
              "    .colab-df-convert {\n",
              "      background-color: #E8F0FE;\n",
              "      border: none;\n",
              "      border-radius: 50%;\n",
              "      cursor: pointer;\n",
              "      display: none;\n",
              "      fill: #1967D2;\n",
              "      height: 32px;\n",
              "      padding: 0 0 0 0;\n",
              "      width: 32px;\n",
              "    }\n",
              "\n",
              "    .colab-df-convert:hover {\n",
              "      background-color: #E2EBFA;\n",
              "      box-shadow: 0px 1px 2px rgba(60, 64, 67, 0.3), 0px 1px 3px 1px rgba(60, 64, 67, 0.15);\n",
              "      fill: #174EA6;\n",
              "    }\n",
              "\n",
              "    [theme=dark] .colab-df-convert {\n",
              "      background-color: #3B4455;\n",
              "      fill: #D2E3FC;\n",
              "    }\n",
              "\n",
              "    [theme=dark] .colab-df-convert:hover {\n",
              "      background-color: #434B5C;\n",
              "      box-shadow: 0px 1px 3px 1px rgba(0, 0, 0, 0.15);\n",
              "      filter: drop-shadow(0px 1px 2px rgba(0, 0, 0, 0.3));\n",
              "      fill: #FFFFFF;\n",
              "    }\n",
              "  </style>\n",
              "\n",
              "      <script>\n",
              "        const buttonEl =\n",
              "          document.querySelector('#df-ee1455ee-90ca-41b1-80f2-ac5eac044351 button.colab-df-convert');\n",
              "        buttonEl.style.display =\n",
              "          google.colab.kernel.accessAllowed ? 'block' : 'none';\n",
              "\n",
              "        async function convertToInteractive(key) {\n",
              "          const element = document.querySelector('#df-ee1455ee-90ca-41b1-80f2-ac5eac044351');\n",
              "          const dataTable =\n",
              "            await google.colab.kernel.invokeFunction('convertToInteractive',\n",
              "                                                     [key], {});\n",
              "          if (!dataTable) return;\n",
              "\n",
              "          const docLinkHtml = 'Like what you see? Visit the ' +\n",
              "            '<a target=\"_blank\" href=https://colab.research.google.com/notebooks/data_table.ipynb>data table notebook</a>'\n",
              "            + ' to learn more about interactive tables.';\n",
              "          element.innerHTML = '';\n",
              "          dataTable['output_type'] = 'display_data';\n",
              "          await google.colab.output.renderOutput(dataTable, element);\n",
              "          const docLink = document.createElement('div');\n",
              "          docLink.innerHTML = docLinkHtml;\n",
              "          element.appendChild(docLink);\n",
              "        }\n",
              "      </script>\n",
              "    </div>\n",
              "  </div>\n",
              "  "
            ]
          },
          "metadata": {},
          "execution_count": 66
        }
      ]
    },
    {
      "cell_type": "code",
      "source": [
        "node_id = 24\n",
        "print(f\"\"\"\n",
        "Node ID: {node_id}\n",
        "Node elements: {node_elements[node_id]}\n",
        "\"\"\")"
      ],
      "metadata": {
        "colab": {
          "base_uri": "https://localhost:8080/"
        },
        "id": "ae6ob9qUqgwO",
        "outputId": "a8a31f4c-c62a-4e2c-b5a2-ed84fb69f0ab"
      },
      "execution_count": null,
      "outputs": [
        {
          "output_type": "stream",
          "name": "stdout",
          "text": [
            "\n",
            "Node ID: 24\n",
            "Node elements: [21 63]\n",
            "\n"
          ]
        }
      ]
    },
    {
      "cell_type": "code",
      "source": [
        "clean.iloc[[21, 63]]"
      ],
      "metadata": {
        "id": "RTlkW30vrpay",
        "outputId": "1e768146-f93f-468c-a57e-ed21092860e5",
        "colab": {
          "base_uri": "https://localhost:8080/",
          "height": 205
        }
      },
      "execution_count": null,
      "outputs": [
        {
          "output_type": "execute_result",
          "data": {
            "text/plain": [
              "    MolecularWeight  XLogP   ExactMass  MonoisotopicMass   TPSA  Complexity  \\\n",
              "21            410.9    3.7  410.060425        410.060425  120.0       728.0   \n",
              "63            389.4    0.2  389.068156        389.068156  125.0       740.0   \n",
              "\n",
              "    Charge  HBondDonorCount  HBondAcceptorCount  RotatableBondCount  ...  \\\n",
              "21     0.0              2.0                 5.0                 5.0  ...   \n",
              "63     0.0              1.0                 7.0                 3.0  ...   \n",
              "\n",
              "    FeatureAcceptorCount3D  FeatureDonorCount3D  FeatureAnionCount3D  \\\n",
              "21                     3.0                  2.0                  0.0   \n",
              "63                     6.0                  1.0                  0.0   \n",
              "\n",
              "    FeatureCationCount3D  FeatureRingCount3D  FeatureHydrophobeCount3D  \\\n",
              "21                   0.0                 3.0                       1.0   \n",
              "63                   0.0                 4.0                       0.0   \n",
              "\n",
              "    ConformerModelRMSD3D  EffectiveRotorCount3D  ConformerCount3D     pIC50  \n",
              "21                   0.8                    6.0              10.0 -2.477121  \n",
              "63                   0.8                    5.4              10.0 -1.003029  \n",
              "\n",
              "[2 rows x 34 columns]"
            ],
            "text/html": [
              "\n",
              "  <div id=\"df-6fcf59f2-2115-4e1f-b4f6-9160f03fdb7a\">\n",
              "    <div class=\"colab-df-container\">\n",
              "      <div>\n",
              "<style scoped>\n",
              "    .dataframe tbody tr th:only-of-type {\n",
              "        vertical-align: middle;\n",
              "    }\n",
              "\n",
              "    .dataframe tbody tr th {\n",
              "        vertical-align: top;\n",
              "    }\n",
              "\n",
              "    .dataframe thead th {\n",
              "        text-align: right;\n",
              "    }\n",
              "</style>\n",
              "<table border=\"1\" class=\"dataframe\">\n",
              "  <thead>\n",
              "    <tr style=\"text-align: right;\">\n",
              "      <th></th>\n",
              "      <th>MolecularWeight</th>\n",
              "      <th>XLogP</th>\n",
              "      <th>ExactMass</th>\n",
              "      <th>MonoisotopicMass</th>\n",
              "      <th>TPSA</th>\n",
              "      <th>Complexity</th>\n",
              "      <th>Charge</th>\n",
              "      <th>HBondDonorCount</th>\n",
              "      <th>HBondAcceptorCount</th>\n",
              "      <th>RotatableBondCount</th>\n",
              "      <th>...</th>\n",
              "      <th>FeatureAcceptorCount3D</th>\n",
              "      <th>FeatureDonorCount3D</th>\n",
              "      <th>FeatureAnionCount3D</th>\n",
              "      <th>FeatureCationCount3D</th>\n",
              "      <th>FeatureRingCount3D</th>\n",
              "      <th>FeatureHydrophobeCount3D</th>\n",
              "      <th>ConformerModelRMSD3D</th>\n",
              "      <th>EffectiveRotorCount3D</th>\n",
              "      <th>ConformerCount3D</th>\n",
              "      <th>pIC50</th>\n",
              "    </tr>\n",
              "  </thead>\n",
              "  <tbody>\n",
              "    <tr>\n",
              "      <th>21</th>\n",
              "      <td>410.9</td>\n",
              "      <td>3.7</td>\n",
              "      <td>410.060425</td>\n",
              "      <td>410.060425</td>\n",
              "      <td>120.0</td>\n",
              "      <td>728.0</td>\n",
              "      <td>0.0</td>\n",
              "      <td>2.0</td>\n",
              "      <td>5.0</td>\n",
              "      <td>5.0</td>\n",
              "      <td>...</td>\n",
              "      <td>3.0</td>\n",
              "      <td>2.0</td>\n",
              "      <td>0.0</td>\n",
              "      <td>0.0</td>\n",
              "      <td>3.0</td>\n",
              "      <td>1.0</td>\n",
              "      <td>0.8</td>\n",
              "      <td>6.0</td>\n",
              "      <td>10.0</td>\n",
              "      <td>-2.477121</td>\n",
              "    </tr>\n",
              "    <tr>\n",
              "      <th>63</th>\n",
              "      <td>389.4</td>\n",
              "      <td>0.2</td>\n",
              "      <td>389.068156</td>\n",
              "      <td>389.068156</td>\n",
              "      <td>125.0</td>\n",
              "      <td>740.0</td>\n",
              "      <td>0.0</td>\n",
              "      <td>1.0</td>\n",
              "      <td>7.0</td>\n",
              "      <td>3.0</td>\n",
              "      <td>...</td>\n",
              "      <td>6.0</td>\n",
              "      <td>1.0</td>\n",
              "      <td>0.0</td>\n",
              "      <td>0.0</td>\n",
              "      <td>4.0</td>\n",
              "      <td>0.0</td>\n",
              "      <td>0.8</td>\n",
              "      <td>5.4</td>\n",
              "      <td>10.0</td>\n",
              "      <td>-1.003029</td>\n",
              "    </tr>\n",
              "  </tbody>\n",
              "</table>\n",
              "<p>2 rows × 34 columns</p>\n",
              "</div>\n",
              "      <button class=\"colab-df-convert\" onclick=\"convertToInteractive('df-6fcf59f2-2115-4e1f-b4f6-9160f03fdb7a')\"\n",
              "              title=\"Convert this dataframe to an interactive table.\"\n",
              "              style=\"display:none;\">\n",
              "        \n",
              "  <svg xmlns=\"http://www.w3.org/2000/svg\" height=\"24px\"viewBox=\"0 0 24 24\"\n",
              "       width=\"24px\">\n",
              "    <path d=\"M0 0h24v24H0V0z\" fill=\"none\"/>\n",
              "    <path d=\"M18.56 5.44l.94 2.06.94-2.06 2.06-.94-2.06-.94-.94-2.06-.94 2.06-2.06.94zm-11 1L8.5 8.5l.94-2.06 2.06-.94-2.06-.94L8.5 2.5l-.94 2.06-2.06.94zm10 10l.94 2.06.94-2.06 2.06-.94-2.06-.94-.94-2.06-.94 2.06-2.06.94z\"/><path d=\"M17.41 7.96l-1.37-1.37c-.4-.4-.92-.59-1.43-.59-.52 0-1.04.2-1.43.59L10.3 9.45l-7.72 7.72c-.78.78-.78 2.05 0 2.83L4 21.41c.39.39.9.59 1.41.59.51 0 1.02-.2 1.41-.59l7.78-7.78 2.81-2.81c.8-.78.8-2.07 0-2.86zM5.41 20L4 18.59l7.72-7.72 1.47 1.35L5.41 20z\"/>\n",
              "  </svg>\n",
              "      </button>\n",
              "      \n",
              "  <style>\n",
              "    .colab-df-container {\n",
              "      display:flex;\n",
              "      flex-wrap:wrap;\n",
              "      gap: 12px;\n",
              "    }\n",
              "\n",
              "    .colab-df-convert {\n",
              "      background-color: #E8F0FE;\n",
              "      border: none;\n",
              "      border-radius: 50%;\n",
              "      cursor: pointer;\n",
              "      display: none;\n",
              "      fill: #1967D2;\n",
              "      height: 32px;\n",
              "      padding: 0 0 0 0;\n",
              "      width: 32px;\n",
              "    }\n",
              "\n",
              "    .colab-df-convert:hover {\n",
              "      background-color: #E2EBFA;\n",
              "      box-shadow: 0px 1px 2px rgba(60, 64, 67, 0.3), 0px 1px 3px 1px rgba(60, 64, 67, 0.15);\n",
              "      fill: #174EA6;\n",
              "    }\n",
              "\n",
              "    [theme=dark] .colab-df-convert {\n",
              "      background-color: #3B4455;\n",
              "      fill: #D2E3FC;\n",
              "    }\n",
              "\n",
              "    [theme=dark] .colab-df-convert:hover {\n",
              "      background-color: #434B5C;\n",
              "      box-shadow: 0px 1px 3px 1px rgba(0, 0, 0, 0.15);\n",
              "      filter: drop-shadow(0px 1px 2px rgba(0, 0, 0, 0.3));\n",
              "      fill: #FFFFFF;\n",
              "    }\n",
              "  </style>\n",
              "\n",
              "      <script>\n",
              "        const buttonEl =\n",
              "          document.querySelector('#df-6fcf59f2-2115-4e1f-b4f6-9160f03fdb7a button.colab-df-convert');\n",
              "        buttonEl.style.display =\n",
              "          google.colab.kernel.accessAllowed ? 'block' : 'none';\n",
              "\n",
              "        async function convertToInteractive(key) {\n",
              "          const element = document.querySelector('#df-6fcf59f2-2115-4e1f-b4f6-9160f03fdb7a');\n",
              "          const dataTable =\n",
              "            await google.colab.kernel.invokeFunction('convertToInteractive',\n",
              "                                                     [key], {});\n",
              "          if (!dataTable) return;\n",
              "\n",
              "          const docLinkHtml = 'Like what you see? Visit the ' +\n",
              "            '<a target=\"_blank\" href=https://colab.research.google.com/notebooks/data_table.ipynb>data table notebook</a>'\n",
              "            + ' to learn more about interactive tables.';\n",
              "          element.innerHTML = '';\n",
              "          dataTable['output_type'] = 'display_data';\n",
              "          await google.colab.output.renderOutput(dataTable, element);\n",
              "          const docLink = document.createElement('div');\n",
              "          docLink.innerHTML = docLinkHtml;\n",
              "          element.appendChild(docLink);\n",
              "        }\n",
              "      </script>\n",
              "    </div>\n",
              "  </div>\n",
              "  "
            ]
          },
          "metadata": {},
          "execution_count": 67
        }
      ]
    },
    {
      "cell_type": "markdown",
      "source": [
        "**Mapper for second dense layer**"
      ],
      "metadata": {
        "id": "1X4KrMK9o97V"
      }
    },
    {
      "cell_type": "code",
      "source": [
        "plotly_params = {\"node_trace\": {\"marker_colorscale\": \"RdBu\"}}\n",
        "fig = plot_static_mapper_graph(pipe_mapper,\n",
        "                               intermediate_output_1, \n",
        "                               layout='fruchterman_reingold',\n",
        "                               node_scale =20,\n",
        "                               plotly_params=plotly_params)\n",
        "fig.show(config={'scrollZoom': True})"
      ],
      "metadata": {
        "colab": {
          "base_uri": "https://localhost:8080/",
          "height": 542
        },
        "id": "72bRE2fNlf8m",
        "outputId": "2ba1164b-95f7-4662-bdd5-d4f5c9fb24f3"
      },
      "execution_count": null,
      "outputs": [
        {
          "output_type": "display_data",
          "data": {
            "text/html": [
              "<html>\n",
              "<head><meta charset=\"utf-8\" /></head>\n",
              "<body>\n",
              "    <div>            <script src=\"https://cdnjs.cloudflare.com/ajax/libs/mathjax/2.7.5/MathJax.js?config=TeX-AMS-MML_SVG\"></script><script type=\"text/javascript\">if (window.MathJax) {MathJax.Hub.Config({SVG: {font: \"STIX-Web\"}});}</script>                <script type=\"text/javascript\">window.PlotlyConfig = {MathJaxConfig: 'local'};</script>\n",
              "        <script src=\"https://cdn.plot.ly/plotly-2.8.3.min.js\"></script>                <div id=\"31ebc7a4-d09a-41eb-928f-a18eb98cf0f3\" class=\"plotly-graph-div\" style=\"height:525px; width:100%;\"></div>            <script type=\"text/javascript\">                                    window.PLOTLYENV=window.PLOTLYENV || {};                                    if (document.getElementById(\"31ebc7a4-d09a-41eb-928f-a18eb98cf0f3\")) {                    Plotly.newPlot(                        \"31ebc7a4-d09a-41eb-928f-a18eb98cf0f3\",                        [{\"hoverinfo\":\"none\",\"line\":{\"color\":\"#888\",\"width\":1},\"mode\":\"lines\",\"name\":\"edge_trace\",\"x\":[-3.554495744361032,-3.5930361508111437,null,-3.5930361508111437,-3.735793584844186,null,-1.1777987209739356,-0.36850956006752505,null,-1.1777987209739356,-1.303464455290411,null,-3.4309483040866167,-3.082249523064121,null,-3.4309483040866167,-3.6788362903828826,null,1.4163367795058035,2.348041226878292,null,1.4163367795058035,0.4107761139973237,null,2.5035346723190095,3.243312086850384,null,2.5035346723190095,1.7398497205969718,null,-0.7811857003637582,-1.1819078691443798,null,-0.7811857003637582,0.22560753749345017,null,-1.1819078691443798,-1.0726851385232712,null,-1.0726851385232712,-0.5474779136816973,null,-0.5474779136816973,0.4107761139973237,null,-3.735793584844186,-3.6788362903828826,null,1.2007359155626407,0.22560753749345017,null,1.2007359155626407,2.0459188273216617,null,3.4276285892038962,2.785211016620623,null,2.785211016620623,2.0459188273216617,null,1.0510806906413448,1.7398497205969718,null,-0.9177127132674904,-1.303464455290411,null],\"y\":[-2.2723014683777625,-1.4078384307897187,null,-1.4078384307897187,-0.4974024073841479,null,-2.877922363479506,-2.419246104529924,null,-2.877922363479506,-3.8438399460456187,null,1.392301820056829,2.2657789683400376,null,1.392301820056829,0.4505685952363245,null,-0.6582421728629188,-0.8411270401525636,null,-0.6582421728629188,-0.37379844210706714,null,-3.142513816809597,-2.5892195142188688,null,-3.142513816809597,-3.7309951310180645,null,3.022860675107054,2.0839952630332106,null,3.022860675107054,3.2015869380154753,null,2.0839952630332106,1.0149744815871429,null,1.0149744815871429,0.09307608814053292,null,0.09307608814053292,-0.37379844210706714,null,-0.4974024073841479,0.4505685952363245,null,2.866941303539581,3.2015869380154753,null,2.866941303539581,2.306190697142874,null,0.9709074863442811,1.6468215920646156,null,1.6468215920646156,2.306190697142874,null,-4.329206265317756,-3.7309951310180645,null,-4.659940219343159,-3.8438399460456187,null],\"type\":\"scatter\",\"uid\":\"003d2c57-ffdd-4d7b-bcd3-beb12e3018b3\"},{\"hoverinfo\":\"text\",\"hovertext\":[\"Node ID: 0<br>Pullback set label: 0<br>Partial cluster label: 0<br>Node size: 44<br>Summary statistic: 41.3\",\"Node ID: 1<br>Pullback set label: 1<br>Partial cluster label: 0<br>Node size: 14<br>Summary statistic: 51.9\",\"Node ID: 2<br>Pullback set label: 8<br>Partial cluster label: 0<br>Node size: 4<br>Summary statistic: 44.5\",\"Node ID: 3<br>Pullback set label: 9<br>Partial cluster label: -1<br>Node size: 1<br>Summary statistic: 7.0\",\"Node ID: 4<br>Pullback set label: 17<br>Partial cluster label: -1<br>Node size: 1<br>Summary statistic: 8.0\",\"Node ID: 5<br>Pullback set label: 4<br>Partial cluster label: 0<br>Node size: 5<br>Summary statistic: 39.0\",\"Node ID: 6<br>Pullback set label: 5<br>Partial cluster label: 0<br>Node size: 4<br>Summary statistic: 42.8\",\"Node ID: 7<br>Pullback set label: 11<br>Partial cluster label: 0<br>Node size: 2<br>Summary statistic: 43.5\",\"Node ID: 8<br>Pullback set label: 12<br>Partial cluster label: -1<br>Node size: 1<br>Summary statistic: 11.0\",\"Node ID: 9<br>Pullback set label: 14<br>Partial cluster label: -1<br>Node size: 2<br>Summary statistic: 33.0\",\"Node ID: 10<br>Pullback set label: 15<br>Partial cluster label: -1<br>Node size: 1<br>Summary statistic: 12.0\",\"Node ID: 11<br>Pullback set label: 6<br>Partial cluster label: 0<br>Node size: 3<br>Summary statistic: 34.0\",\"Node ID: 12<br>Pullback set label: 7<br>Partial cluster label: 0<br>Node size: 3<br>Summary statistic: 33.3\",\"Node ID: 13<br>Pullback set label: 8<br>Partial cluster label: 1<br>Node size: 3<br>Summary statistic: 52.3\",\"Node ID: 14<br>Pullback set label: 9<br>Partial cluster label: 0<br>Node size: 3<br>Summary statistic: 58.3\",\"Node ID: 15<br>Pullback set label: 2<br>Partial cluster label: 0<br>Node size: 12<br>Summary statistic: 51.1\",\"Node ID: 16<br>Pullback set label: 4<br>Partial cluster label: 1<br>Node size: 4<br>Summary statistic: 56.5\",\"Node ID: 17<br>Pullback set label: 5<br>Partial cluster label: 1<br>Node size: 3<br>Summary statistic: 53.0\",\"Node ID: 18<br>Pullback set label: 3<br>Partial cluster label: 0<br>Node size: 5<br>Summary statistic: 43.6\",\"Node ID: 19<br>Pullback set label: 1<br>Partial cluster label: 1<br>Node size: 3<br>Summary statistic: 55.7\",\"Node ID: 20<br>Pullback set label: 2<br>Partial cluster label: 1<br>Node size: 6<br>Summary statistic: 55.7\",\"Node ID: 21<br>Pullback set label: 3<br>Partial cluster label: 1<br>Node size: 5<br>Summary statistic: 59.4\",\"Node ID: 22<br>Pullback set label: 12<br>Partial cluster label: 0<br>Node size: 2<br>Summary statistic: 52.0\",\"Node ID: 23<br>Pullback set label: 13<br>Partial cluster label: 0<br>Node size: 3<br>Summary statistic: 52.7\",\"Node ID: 24<br>Pullback set label: 6<br>Partial cluster label: -1<br>Node size: 1<br>Summary statistic: 50.0\",\"Node ID: 25<br>Pullback set label: 7<br>Partial cluster label: 1<br>Node size: 4<br>Summary statistic: 55.2\",\"Node ID: 26<br>Pullback set label: 10<br>Partial cluster label: 0<br>Node size: 2<br>Summary statistic: 77.5\",\"Node ID: 27<br>Pullback set label: 16<br>Partial cluster label: -1<br>Node size: 1<br>Summary statistic: 77.0\"],\"marker\":{\"color\":[41.34090909090909,51.92857142857143,44.5,7.0,8.0,39.0,42.75,43.5,11.0,33.0,12.0,34.0,33.333333333333336,52.333333333333336,58.333333333333336,51.083333333333336,56.5,53.0,43.6,55.666666666666664,55.666666666666664,59.4,52.0,52.666666666666664,50.0,55.25,77.5,77.0],\"colorbar\":{\"thickness\":15,\"title\":{\"side\":\"right\",\"text\":\"\"},\"xanchor\":\"left\"},\"colorscale\":[[0.0,\"rgb(103,0,31)\"],[0.1,\"rgb(178,24,43)\"],[0.2,\"rgb(214,96,77)\"],[0.3,\"rgb(244,165,130)\"],[0.4,\"rgb(253,219,199)\"],[0.5,\"rgb(247,247,247)\"],[0.6,\"rgb(209,229,240)\"],[0.7,\"rgb(146,197,222)\"],[0.8,\"rgb(67,147,195)\"],[0.9,\"rgb(33,102,172)\"],[1.0,\"rgb(5,48,97)\"]],\"line\":{\"color\":\"#888\",\"width\":1},\"opacity\":1.0,\"reversescale\":false,\"showscale\":true,\"size\":[44,14,4,1,1,5,4,2,1,2,1,3,3,3,3,12,4,3,5,3,6,5,2,3,1,4,2,1],\"sizemin\":4,\"sizemode\":\"area\",\"sizeref\":0.22},\"mode\":\"markers\",\"name\":\"node_trace\",\"x\":[-3.554495744361032,-3.5930361508111437,-1.1777987209739356,-0.36850956006752505,-3.0407965676948767,-3.4309483040866167,-3.082249523064121,1.4163367795058035,2.348041226878292,2.5035346723190095,3.243312086850384,-0.7811857003637582,-1.1819078691443798,-1.0726851385232712,-0.5474779136816973,-3.735793584844186,1.2007359155626407,0.22560753749345017,-3.6788362903828826,3.4276285892038962,2.785211016620623,2.0459188273216617,1.0510806906413448,1.7398497205969718,-0.9177127132674904,-1.303464455290411,0.4107761139973237,4.0142072351907965],\"y\":[-2.2723014683777625,-1.4078384307897187,-2.877922363479506,-2.419246104529924,-3.6720915524135527,1.392301820056829,2.2657789683400376,-0.6582421728629188,-0.8411270401525636,-3.142513816809597,-2.5892195142188688,3.022860675107054,2.0839952630332106,1.0149744815871429,0.09307608814053292,-0.4974024073841479,2.866941303539581,3.2015869380154753,0.4505685952363245,0.9709074863442811,1.6468215920646156,2.306190697142874,-4.329206265317756,-3.7309951310180645,-4.659940219343159,-3.8438399460456187,-0.37379844210706714,-0.8330379111581201],\"type\":\"scatter\",\"uid\":\"5ba3ade7-4870-467a-b85c-1fa14fc65f8c\"}],                        {\"autosize\":false,\"hovermode\":\"closest\",\"margin\":{\"b\":20,\"l\":5,\"r\":5,\"t\":40},\"showlegend\":false,\"template\":{\"data\":{\"barpolar\":[{\"marker\":{\"line\":{\"color\":\"white\",\"width\":0.5},\"pattern\":{\"fillmode\":\"overlay\",\"size\":10,\"solidity\":0.2}},\"type\":\"barpolar\"}],\"bar\":[{\"error_x\":{\"color\":\"rgb(36,36,36)\"},\"error_y\":{\"color\":\"rgb(36,36,36)\"},\"marker\":{\"line\":{\"color\":\"white\",\"width\":0.5},\"pattern\":{\"fillmode\":\"overlay\",\"size\":10,\"solidity\":0.2}},\"type\":\"bar\"}],\"carpet\":[{\"aaxis\":{\"endlinecolor\":\"rgb(36,36,36)\",\"gridcolor\":\"white\",\"linecolor\":\"white\",\"minorgridcolor\":\"white\",\"startlinecolor\":\"rgb(36,36,36)\"},\"baxis\":{\"endlinecolor\":\"rgb(36,36,36)\",\"gridcolor\":\"white\",\"linecolor\":\"white\",\"minorgridcolor\":\"white\",\"startlinecolor\":\"rgb(36,36,36)\"},\"type\":\"carpet\"}],\"choropleth\":[{\"colorbar\":{\"outlinewidth\":1,\"tickcolor\":\"rgb(36,36,36)\",\"ticks\":\"outside\"},\"type\":\"choropleth\"}],\"contourcarpet\":[{\"colorbar\":{\"outlinewidth\":1,\"tickcolor\":\"rgb(36,36,36)\",\"ticks\":\"outside\"},\"type\":\"contourcarpet\"}],\"contour\":[{\"colorbar\":{\"outlinewidth\":1,\"tickcolor\":\"rgb(36,36,36)\",\"ticks\":\"outside\"},\"colorscale\":[[0.0,\"#440154\"],[0.1111111111111111,\"#482878\"],[0.2222222222222222,\"#3e4989\"],[0.3333333333333333,\"#31688e\"],[0.4444444444444444,\"#26828e\"],[0.5555555555555556,\"#1f9e89\"],[0.6666666666666666,\"#35b779\"],[0.7777777777777778,\"#6ece58\"],[0.8888888888888888,\"#b5de2b\"],[1.0,\"#fde725\"]],\"type\":\"contour\"}],\"heatmapgl\":[{\"colorbar\":{\"outlinewidth\":1,\"tickcolor\":\"rgb(36,36,36)\",\"ticks\":\"outside\"},\"colorscale\":[[0.0,\"#440154\"],[0.1111111111111111,\"#482878\"],[0.2222222222222222,\"#3e4989\"],[0.3333333333333333,\"#31688e\"],[0.4444444444444444,\"#26828e\"],[0.5555555555555556,\"#1f9e89\"],[0.6666666666666666,\"#35b779\"],[0.7777777777777778,\"#6ece58\"],[0.8888888888888888,\"#b5de2b\"],[1.0,\"#fde725\"]],\"type\":\"heatmapgl\"}],\"heatmap\":[{\"colorbar\":{\"outlinewidth\":1,\"tickcolor\":\"rgb(36,36,36)\",\"ticks\":\"outside\"},\"colorscale\":[[0.0,\"#440154\"],[0.1111111111111111,\"#482878\"],[0.2222222222222222,\"#3e4989\"],[0.3333333333333333,\"#31688e\"],[0.4444444444444444,\"#26828e\"],[0.5555555555555556,\"#1f9e89\"],[0.6666666666666666,\"#35b779\"],[0.7777777777777778,\"#6ece58\"],[0.8888888888888888,\"#b5de2b\"],[1.0,\"#fde725\"]],\"type\":\"heatmap\"}],\"histogram2dcontour\":[{\"colorbar\":{\"outlinewidth\":1,\"tickcolor\":\"rgb(36,36,36)\",\"ticks\":\"outside\"},\"colorscale\":[[0.0,\"#440154\"],[0.1111111111111111,\"#482878\"],[0.2222222222222222,\"#3e4989\"],[0.3333333333333333,\"#31688e\"],[0.4444444444444444,\"#26828e\"],[0.5555555555555556,\"#1f9e89\"],[0.6666666666666666,\"#35b779\"],[0.7777777777777778,\"#6ece58\"],[0.8888888888888888,\"#b5de2b\"],[1.0,\"#fde725\"]],\"type\":\"histogram2dcontour\"}],\"histogram2d\":[{\"colorbar\":{\"outlinewidth\":1,\"tickcolor\":\"rgb(36,36,36)\",\"ticks\":\"outside\"},\"colorscale\":[[0.0,\"#440154\"],[0.1111111111111111,\"#482878\"],[0.2222222222222222,\"#3e4989\"],[0.3333333333333333,\"#31688e\"],[0.4444444444444444,\"#26828e\"],[0.5555555555555556,\"#1f9e89\"],[0.6666666666666666,\"#35b779\"],[0.7777777777777778,\"#6ece58\"],[0.8888888888888888,\"#b5de2b\"],[1.0,\"#fde725\"]],\"type\":\"histogram2d\"}],\"histogram\":[{\"marker\":{\"line\":{\"color\":\"white\",\"width\":0.6}},\"type\":\"histogram\"}],\"mesh3d\":[{\"colorbar\":{\"outlinewidth\":1,\"tickcolor\":\"rgb(36,36,36)\",\"ticks\":\"outside\"},\"type\":\"mesh3d\"}],\"parcoords\":[{\"line\":{\"colorbar\":{\"outlinewidth\":1,\"tickcolor\":\"rgb(36,36,36)\",\"ticks\":\"outside\"}},\"type\":\"parcoords\"}],\"pie\":[{\"automargin\":true,\"type\":\"pie\"}],\"scatter3d\":[{\"line\":{\"colorbar\":{\"outlinewidth\":1,\"tickcolor\":\"rgb(36,36,36)\",\"ticks\":\"outside\"}},\"marker\":{\"colorbar\":{\"outlinewidth\":1,\"tickcolor\":\"rgb(36,36,36)\",\"ticks\":\"outside\"}},\"type\":\"scatter3d\"}],\"scattercarpet\":[{\"marker\":{\"colorbar\":{\"outlinewidth\":1,\"tickcolor\":\"rgb(36,36,36)\",\"ticks\":\"outside\"}},\"type\":\"scattercarpet\"}],\"scattergeo\":[{\"marker\":{\"colorbar\":{\"outlinewidth\":1,\"tickcolor\":\"rgb(36,36,36)\",\"ticks\":\"outside\"}},\"type\":\"scattergeo\"}],\"scattergl\":[{\"marker\":{\"colorbar\":{\"outlinewidth\":1,\"tickcolor\":\"rgb(36,36,36)\",\"ticks\":\"outside\"}},\"type\":\"scattergl\"}],\"scattermapbox\":[{\"marker\":{\"colorbar\":{\"outlinewidth\":1,\"tickcolor\":\"rgb(36,36,36)\",\"ticks\":\"outside\"}},\"type\":\"scattermapbox\"}],\"scatterpolargl\":[{\"marker\":{\"colorbar\":{\"outlinewidth\":1,\"tickcolor\":\"rgb(36,36,36)\",\"ticks\":\"outside\"}},\"type\":\"scatterpolargl\"}],\"scatterpolar\":[{\"marker\":{\"colorbar\":{\"outlinewidth\":1,\"tickcolor\":\"rgb(36,36,36)\",\"ticks\":\"outside\"}},\"type\":\"scatterpolar\"}],\"scatter\":[{\"marker\":{\"colorbar\":{\"outlinewidth\":1,\"tickcolor\":\"rgb(36,36,36)\",\"ticks\":\"outside\"}},\"type\":\"scatter\"}],\"scatterternary\":[{\"marker\":{\"colorbar\":{\"outlinewidth\":1,\"tickcolor\":\"rgb(36,36,36)\",\"ticks\":\"outside\"}},\"type\":\"scatterternary\"}],\"surface\":[{\"colorbar\":{\"outlinewidth\":1,\"tickcolor\":\"rgb(36,36,36)\",\"ticks\":\"outside\"},\"colorscale\":[[0.0,\"#440154\"],[0.1111111111111111,\"#482878\"],[0.2222222222222222,\"#3e4989\"],[0.3333333333333333,\"#31688e\"],[0.4444444444444444,\"#26828e\"],[0.5555555555555556,\"#1f9e89\"],[0.6666666666666666,\"#35b779\"],[0.7777777777777778,\"#6ece58\"],[0.8888888888888888,\"#b5de2b\"],[1.0,\"#fde725\"]],\"type\":\"surface\"}],\"table\":[{\"cells\":{\"fill\":{\"color\":\"rgb(237,237,237)\"},\"line\":{\"color\":\"white\"}},\"header\":{\"fill\":{\"color\":\"rgb(217,217,217)\"},\"line\":{\"color\":\"white\"}},\"type\":\"table\"}]},\"layout\":{\"annotationdefaults\":{\"arrowhead\":0,\"arrowwidth\":1},\"autotypenumbers\":\"strict\",\"coloraxis\":{\"colorbar\":{\"outlinewidth\":1,\"tickcolor\":\"rgb(36,36,36)\",\"ticks\":\"outside\"}},\"colorscale\":{\"diverging\":[[0.0,\"rgb(103,0,31)\"],[0.1,\"rgb(178,24,43)\"],[0.2,\"rgb(214,96,77)\"],[0.3,\"rgb(244,165,130)\"],[0.4,\"rgb(253,219,199)\"],[0.5,\"rgb(247,247,247)\"],[0.6,\"rgb(209,229,240)\"],[0.7,\"rgb(146,197,222)\"],[0.8,\"rgb(67,147,195)\"],[0.9,\"rgb(33,102,172)\"],[1.0,\"rgb(5,48,97)\"]],\"sequential\":[[0.0,\"#440154\"],[0.1111111111111111,\"#482878\"],[0.2222222222222222,\"#3e4989\"],[0.3333333333333333,\"#31688e\"],[0.4444444444444444,\"#26828e\"],[0.5555555555555556,\"#1f9e89\"],[0.6666666666666666,\"#35b779\"],[0.7777777777777778,\"#6ece58\"],[0.8888888888888888,\"#b5de2b\"],[1.0,\"#fde725\"]],\"sequentialminus\":[[0.0,\"#440154\"],[0.1111111111111111,\"#482878\"],[0.2222222222222222,\"#3e4989\"],[0.3333333333333333,\"#31688e\"],[0.4444444444444444,\"#26828e\"],[0.5555555555555556,\"#1f9e89\"],[0.6666666666666666,\"#35b779\"],[0.7777777777777778,\"#6ece58\"],[0.8888888888888888,\"#b5de2b\"],[1.0,\"#fde725\"]]},\"colorway\":[\"#1F77B4\",\"#FF7F0E\",\"#2CA02C\",\"#D62728\",\"#9467BD\",\"#8C564B\",\"#E377C2\",\"#7F7F7F\",\"#BCBD22\",\"#17BECF\"],\"font\":{\"color\":\"rgb(36,36,36)\"},\"geo\":{\"bgcolor\":\"white\",\"lakecolor\":\"white\",\"landcolor\":\"white\",\"showlakes\":true,\"showland\":true,\"subunitcolor\":\"white\"},\"hoverlabel\":{\"align\":\"left\"},\"hovermode\":\"closest\",\"mapbox\":{\"style\":\"light\"},\"paper_bgcolor\":\"white\",\"plot_bgcolor\":\"white\",\"polar\":{\"angularaxis\":{\"gridcolor\":\"rgb(232,232,232)\",\"linecolor\":\"rgb(36,36,36)\",\"showgrid\":false,\"showline\":true,\"ticks\":\"outside\"},\"bgcolor\":\"white\",\"radialaxis\":{\"gridcolor\":\"rgb(232,232,232)\",\"linecolor\":\"rgb(36,36,36)\",\"showgrid\":false,\"showline\":true,\"ticks\":\"outside\"}},\"scene\":{\"xaxis\":{\"backgroundcolor\":\"white\",\"gridcolor\":\"rgb(232,232,232)\",\"gridwidth\":2,\"linecolor\":\"rgb(36,36,36)\",\"showbackground\":true,\"showgrid\":false,\"showline\":true,\"ticks\":\"outside\",\"zeroline\":false,\"zerolinecolor\":\"rgb(36,36,36)\"},\"yaxis\":{\"backgroundcolor\":\"white\",\"gridcolor\":\"rgb(232,232,232)\",\"gridwidth\":2,\"linecolor\":\"rgb(36,36,36)\",\"showbackground\":true,\"showgrid\":false,\"showline\":true,\"ticks\":\"outside\",\"zeroline\":false,\"zerolinecolor\":\"rgb(36,36,36)\"},\"zaxis\":{\"backgroundcolor\":\"white\",\"gridcolor\":\"rgb(232,232,232)\",\"gridwidth\":2,\"linecolor\":\"rgb(36,36,36)\",\"showbackground\":true,\"showgrid\":false,\"showline\":true,\"ticks\":\"outside\",\"zeroline\":false,\"zerolinecolor\":\"rgb(36,36,36)\"}},\"shapedefaults\":{\"fillcolor\":\"black\",\"line\":{\"width\":0},\"opacity\":0.3},\"ternary\":{\"aaxis\":{\"gridcolor\":\"rgb(232,232,232)\",\"linecolor\":\"rgb(36,36,36)\",\"showgrid\":false,\"showline\":true,\"ticks\":\"outside\"},\"baxis\":{\"gridcolor\":\"rgb(232,232,232)\",\"linecolor\":\"rgb(36,36,36)\",\"showgrid\":false,\"showline\":true,\"ticks\":\"outside\"},\"bgcolor\":\"white\",\"caxis\":{\"gridcolor\":\"rgb(232,232,232)\",\"linecolor\":\"rgb(36,36,36)\",\"showgrid\":false,\"showline\":true,\"ticks\":\"outside\"}},\"title\":{\"x\":0.05},\"xaxis\":{\"automargin\":true,\"gridcolor\":\"rgb(232,232,232)\",\"linecolor\":\"rgb(36,36,36)\",\"showgrid\":false,\"showline\":true,\"ticks\":\"outside\",\"title\":{\"standoff\":15},\"zeroline\":false,\"zerolinecolor\":\"rgb(36,36,36)\"},\"yaxis\":{\"automargin\":true,\"gridcolor\":\"rgb(232,232,232)\",\"linecolor\":\"rgb(36,36,36)\",\"showgrid\":false,\"showline\":true,\"ticks\":\"outside\",\"title\":{\"standoff\":15},\"zeroline\":false,\"zerolinecolor\":\"rgb(36,36,36)\"}}},\"title\":{\"text\":\"\"},\"xaxis\":{\"showgrid\":false,\"showline\":false,\"showticklabels\":false,\"ticks\":\"\",\"title\":{\"text\":\"\"},\"zeroline\":false},\"yaxis\":{\"showgrid\":false,\"showline\":false,\"showticklabels\":false,\"ticks\":\"\",\"title\":{\"text\":\"\"},\"zeroline\":false}},                        {\"scrollZoom\": true, \"responsive\": true}                    ).then(function(){\n",
              "                            \n",
              "var gd = document.getElementById('31ebc7a4-d09a-41eb-928f-a18eb98cf0f3');\n",
              "var x = new MutationObserver(function (mutations, observer) {{\n",
              "        var display = window.getComputedStyle(gd).display;\n",
              "        if (!display || display === 'none') {{\n",
              "            console.log([gd, 'removed!']);\n",
              "            Plotly.purge(gd);\n",
              "            observer.disconnect();\n",
              "        }}\n",
              "}});\n",
              "\n",
              "// Listen for the removal of the full notebook cells\n",
              "var notebookContainer = gd.closest('#notebook-container');\n",
              "if (notebookContainer) {{\n",
              "    x.observe(notebookContainer, {childList: true});\n",
              "}}\n",
              "\n",
              "// Listen for the clearing of the current output cell\n",
              "var outputEl = gd.closest('.output');\n",
              "if (outputEl) {{\n",
              "    x.observe(outputEl, {childList: true});\n",
              "}}\n",
              "\n",
              "                        })                };                            </script>        </div>\n",
              "</body>\n",
              "</html>"
            ]
          },
          "metadata": {}
        }
      ]
    },
    {
      "cell_type": "markdown",
      "source": [
        "**Mapper for third dense layer**"
      ],
      "metadata": {
        "id": "Xzh7__i5pDrD"
      }
    },
    {
      "cell_type": "code",
      "source": [
        "plotly_params = {\"node_trace\": {\"marker_colorscale\": \"RdBu\"}}\n",
        "fig = plot_static_mapper_graph(pipe_mapper,\n",
        "                               intermediate_output_2, \n",
        "                               layout='fruchterman_reingold',\n",
        "                               node_scale =20,\n",
        "                               plotly_params=plotly_params)\n",
        "fig.show(config={'scrollZoom': True})"
      ],
      "metadata": {
        "colab": {
          "base_uri": "https://localhost:8080/",
          "height": 542
        },
        "id": "CbJNaTjJkuvM",
        "outputId": "9e816f98-0439-4557-8697-128d5e7616ef"
      },
      "execution_count": null,
      "outputs": [
        {
          "output_type": "display_data",
          "data": {
            "text/html": [
              "<html>\n",
              "<head><meta charset=\"utf-8\" /></head>\n",
              "<body>\n",
              "    <div>            <script src=\"https://cdnjs.cloudflare.com/ajax/libs/mathjax/2.7.5/MathJax.js?config=TeX-AMS-MML_SVG\"></script><script type=\"text/javascript\">if (window.MathJax) {MathJax.Hub.Config({SVG: {font: \"STIX-Web\"}});}</script>                <script type=\"text/javascript\">window.PlotlyConfig = {MathJaxConfig: 'local'};</script>\n",
              "        <script src=\"https://cdn.plot.ly/plotly-2.8.3.min.js\"></script>                <div id=\"bcb607ae-509f-4c12-880c-3c0c8434ffa3\" class=\"plotly-graph-div\" style=\"height:525px; width:100%;\"></div>            <script type=\"text/javascript\">                                    window.PLOTLYENV=window.PLOTLYENV || {};                                    if (document.getElementById(\"bcb607ae-509f-4c12-880c-3c0c8434ffa3\")) {                    Plotly.newPlot(                        \"bcb607ae-509f-4c12-880c-3c0c8434ffa3\",                        [{\"hoverinfo\":\"none\",\"line\":{\"color\":\"#888\",\"width\":1},\"mode\":\"lines\",\"name\":\"edge_trace\",\"x\":[2.676419686942768,2.495442153834979,null,2.495442153834979,2.1797068975458447,null,-3.4666738663180174,-3.2098625114212225,null,-3.4666738663180174,-3.8528607856264276,null,0.881121378591108,-0.03140527212846878,null,0.881121378591108,1.6398247175888476,null,-0.03140527212846878,-1.0513680541124013,null,-0.4759763840405826,0.3818841001482996,null,-0.4759763840405826,-1.3141214929915637,null,0.09712194960614938,0.9825333735782071,null,0.09712194960614938,-0.8585167093941268,null,-1.0513680541124013,-2.0236740467196914,null,-2.0236740467196914,-2.3501268026401525,null,-2.3501268026401525,-1.9982186816464909,null,-1.9982186816464909,-1.3141214929915637,null,2.1797068975458447,1.6398247175888476,null,-1.6591975556921983,-0.8585167093941268,null,-4.214018152257613,-3.8528607856264276,null],\"y\":[-1.2776516798365154,-0.38505305729662526,null,-0.38505305729662526,0.5334307448907994,null,-2.4564371348887697,-3.3306779593708993,null,-2.4564371348887697,-1.578158944947095,null,1.995164162214017,2.426216607675954,null,1.995164162214017,1.3552173631356845,null,2.426216607675954,2.571736263550368,null,-1.171273025131829,-1.6105251393396123,null,-1.171273025131829,-0.5542444534904118,null,-4.004902620289874,-3.7754430117917535,null,-4.004902620289874,-4.073620565136288,null,2.571736263550368,2.2340698992554504,null,2.2340698992554504,1.2693288384704162,null,1.2693288384704162,0.266103239151253,null,0.266103239151253,-0.5542444534904118,null,0.5334307448907994,1.3552173631356845,null,-3.6696976713654377,-4.073620565136288,null,-0.7352881616078112,-1.578158944947095,null],\"type\":\"scatter\",\"uid\":\"da0d1974-4e95-40c1-8116-3bea578ec355\"},{\"hoverinfo\":\"text\",\"hovertext\":[\"Node ID: 0<br>Pullback set label: 0<br>Partial cluster label: 0<br>Node size: 44<br>Summary statistic: 41.3\",\"Node ID: 1<br>Pullback set label: 1<br>Partial cluster label: 0<br>Node size: 17<br>Summary statistic: 52.6\",\"Node ID: 2<br>Pullback set label: 8<br>Partial cluster label: 0<br>Node size: 4<br>Summary statistic: 44.5\",\"Node ID: 3<br>Pullback set label: 9<br>Partial cluster label: -1<br>Node size: 1<br>Summary statistic: 7.0\",\"Node ID: 4<br>Pullback set label: 17<br>Partial cluster label: -1<br>Node size: 1<br>Summary statistic: 8.0\",\"Node ID: 5<br>Pullback set label: 4<br>Partial cluster label: 0<br>Node size: 9<br>Summary statistic: 46.8\",\"Node ID: 6<br>Pullback set label: 5<br>Partial cluster label: 0<br>Node size: 7<br>Summary statistic: 47.1\",\"Node ID: 7<br>Pullback set label: 11<br>Partial cluster label: 0<br>Node size: 2<br>Summary statistic: 43.5\",\"Node ID: 8<br>Pullback set label: 12<br>Partial cluster label: -1<br>Node size: 1<br>Summary statistic: 11.0\",\"Node ID: 9<br>Pullback set label: 14<br>Partial cluster label: -1<br>Node size: 2<br>Summary statistic: 33.0\",\"Node ID: 10<br>Pullback set label: 15<br>Partial cluster label: -1<br>Node size: 1<br>Summary statistic: 12.0\",\"Node ID: 11<br>Pullback set label: 6<br>Partial cluster label: 0<br>Node size: 3<br>Summary statistic: 34.0\",\"Node ID: 12<br>Pullback set label: 7<br>Partial cluster label: 0<br>Node size: 3<br>Summary statistic: 33.3\",\"Node ID: 13<br>Pullback set label: 8<br>Partial cluster label: 1<br>Node size: 3<br>Summary statistic: 52.3\",\"Node ID: 14<br>Pullback set label: 9<br>Partial cluster label: 0<br>Node size: 3<br>Summary statistic: 58.3\",\"Node ID: 15<br>Pullback set label: 2<br>Partial cluster label: 0<br>Node size: 18<br>Summary statistic: 52.6\",\"Node ID: 16<br>Pullback set label: 3<br>Partial cluster label: 0<br>Node size: 10<br>Summary statistic: 51.5\",\"Node ID: 17<br>Pullback set label: 12<br>Partial cluster label: 0<br>Node size: 2<br>Summary statistic: 52.0\",\"Node ID: 18<br>Pullback set label: 13<br>Partial cluster label: 0<br>Node size: 3<br>Summary statistic: 52.7\",\"Node ID: 19<br>Pullback set label: 6<br>Partial cluster label: -1<br>Node size: 1<br>Summary statistic: 50.0\",\"Node ID: 20<br>Pullback set label: 7<br>Partial cluster label: 1<br>Node size: 4<br>Summary statistic: 55.2\",\"Node ID: 21<br>Pullback set label: 10<br>Partial cluster label: 0<br>Node size: 2<br>Summary statistic: 77.5\",\"Node ID: 22<br>Pullback set label: 16<br>Partial cluster label: -1<br>Node size: 1<br>Summary statistic: 77.0\"],\"marker\":{\"color\":[41.34090909090909,52.588235294117645,44.5,7.0,8.0,46.77777777777778,47.142857142857146,43.5,11.0,33.0,12.0,34.0,33.333333333333336,52.333333333333336,58.333333333333336,52.611111111111114,51.5,52.0,52.666666666666664,50.0,55.25,77.5,77.0],\"colorbar\":{\"thickness\":15,\"title\":{\"side\":\"right\",\"text\":\"\"},\"xanchor\":\"left\"},\"colorscale\":[[0.0,\"rgb(103,0,31)\"],[0.1,\"rgb(178,24,43)\"],[0.2,\"rgb(214,96,77)\"],[0.3,\"rgb(244,165,130)\"],[0.4,\"rgb(253,219,199)\"],[0.5,\"rgb(247,247,247)\"],[0.6,\"rgb(209,229,240)\"],[0.7,\"rgb(146,197,222)\"],[0.8,\"rgb(67,147,195)\"],[0.9,\"rgb(33,102,172)\"],[1.0,\"rgb(5,48,97)\"]],\"line\":{\"color\":\"#888\",\"width\":1},\"opacity\":1.0,\"reversescale\":false,\"showscale\":true,\"size\":[44,17,4,1,1,9,7,2,1,2,1,3,3,3,3,18,10,2,3,1,4,2,1],\"sizemin\":4,\"sizemode\":\"area\",\"sizeref\":0.22},\"mode\":\"markers\",\"name\":\"node_trace\",\"x\":[2.676419686942768,2.495442153834979,-3.4666738663180174,-3.2098625114212225,2.261860934791777,0.881121378591108,-0.03140527212846878,-0.4759763840405826,0.3818841001482996,0.09712194960614938,0.9825333735782071,-1.0513680541124013,-2.0236740467196914,-2.3501268026401525,-1.9982186816464909,2.1797068975458447,1.6398247175888476,-1.6591975556921983,-0.8585167093941268,-4.214018152257613,-3.8528607856264276,-1.3141214929915637,-4.077408790476477],\"y\":[-1.2776516798365154,-0.38505305729662526,-2.4564371348887697,-3.3306779593708993,-2.8084131075644803,1.995164162214017,2.426216607675954,-1.171273025131829,-1.6105251393396123,-4.004902620289874,-3.7754430117917535,2.571736263550368,2.2340698992554504,1.2693288384704162,0.266103239151253,0.5334307448907994,1.3552173631356845,-3.6696976713654377,-4.073620565136288,-0.7352881616078112,-1.578158944947095,-0.5542444534904118,1.0530479661331589],\"type\":\"scatter\",\"uid\":\"106a4d3d-9243-4262-8495-20a824b508d5\"}],                        {\"autosize\":false,\"hovermode\":\"closest\",\"margin\":{\"b\":20,\"l\":5,\"r\":5,\"t\":40},\"showlegend\":false,\"template\":{\"data\":{\"barpolar\":[{\"marker\":{\"line\":{\"color\":\"white\",\"width\":0.5},\"pattern\":{\"fillmode\":\"overlay\",\"size\":10,\"solidity\":0.2}},\"type\":\"barpolar\"}],\"bar\":[{\"error_x\":{\"color\":\"rgb(36,36,36)\"},\"error_y\":{\"color\":\"rgb(36,36,36)\"},\"marker\":{\"line\":{\"color\":\"white\",\"width\":0.5},\"pattern\":{\"fillmode\":\"overlay\",\"size\":10,\"solidity\":0.2}},\"type\":\"bar\"}],\"carpet\":[{\"aaxis\":{\"endlinecolor\":\"rgb(36,36,36)\",\"gridcolor\":\"white\",\"linecolor\":\"white\",\"minorgridcolor\":\"white\",\"startlinecolor\":\"rgb(36,36,36)\"},\"baxis\":{\"endlinecolor\":\"rgb(36,36,36)\",\"gridcolor\":\"white\",\"linecolor\":\"white\",\"minorgridcolor\":\"white\",\"startlinecolor\":\"rgb(36,36,36)\"},\"type\":\"carpet\"}],\"choropleth\":[{\"colorbar\":{\"outlinewidth\":1,\"tickcolor\":\"rgb(36,36,36)\",\"ticks\":\"outside\"},\"type\":\"choropleth\"}],\"contourcarpet\":[{\"colorbar\":{\"outlinewidth\":1,\"tickcolor\":\"rgb(36,36,36)\",\"ticks\":\"outside\"},\"type\":\"contourcarpet\"}],\"contour\":[{\"colorbar\":{\"outlinewidth\":1,\"tickcolor\":\"rgb(36,36,36)\",\"ticks\":\"outside\"},\"colorscale\":[[0.0,\"#440154\"],[0.1111111111111111,\"#482878\"],[0.2222222222222222,\"#3e4989\"],[0.3333333333333333,\"#31688e\"],[0.4444444444444444,\"#26828e\"],[0.5555555555555556,\"#1f9e89\"],[0.6666666666666666,\"#35b779\"],[0.7777777777777778,\"#6ece58\"],[0.8888888888888888,\"#b5de2b\"],[1.0,\"#fde725\"]],\"type\":\"contour\"}],\"heatmapgl\":[{\"colorbar\":{\"outlinewidth\":1,\"tickcolor\":\"rgb(36,36,36)\",\"ticks\":\"outside\"},\"colorscale\":[[0.0,\"#440154\"],[0.1111111111111111,\"#482878\"],[0.2222222222222222,\"#3e4989\"],[0.3333333333333333,\"#31688e\"],[0.4444444444444444,\"#26828e\"],[0.5555555555555556,\"#1f9e89\"],[0.6666666666666666,\"#35b779\"],[0.7777777777777778,\"#6ece58\"],[0.8888888888888888,\"#b5de2b\"],[1.0,\"#fde725\"]],\"type\":\"heatmapgl\"}],\"heatmap\":[{\"colorbar\":{\"outlinewidth\":1,\"tickcolor\":\"rgb(36,36,36)\",\"ticks\":\"outside\"},\"colorscale\":[[0.0,\"#440154\"],[0.1111111111111111,\"#482878\"],[0.2222222222222222,\"#3e4989\"],[0.3333333333333333,\"#31688e\"],[0.4444444444444444,\"#26828e\"],[0.5555555555555556,\"#1f9e89\"],[0.6666666666666666,\"#35b779\"],[0.7777777777777778,\"#6ece58\"],[0.8888888888888888,\"#b5de2b\"],[1.0,\"#fde725\"]],\"type\":\"heatmap\"}],\"histogram2dcontour\":[{\"colorbar\":{\"outlinewidth\":1,\"tickcolor\":\"rgb(36,36,36)\",\"ticks\":\"outside\"},\"colorscale\":[[0.0,\"#440154\"],[0.1111111111111111,\"#482878\"],[0.2222222222222222,\"#3e4989\"],[0.3333333333333333,\"#31688e\"],[0.4444444444444444,\"#26828e\"],[0.5555555555555556,\"#1f9e89\"],[0.6666666666666666,\"#35b779\"],[0.7777777777777778,\"#6ece58\"],[0.8888888888888888,\"#b5de2b\"],[1.0,\"#fde725\"]],\"type\":\"histogram2dcontour\"}],\"histogram2d\":[{\"colorbar\":{\"outlinewidth\":1,\"tickcolor\":\"rgb(36,36,36)\",\"ticks\":\"outside\"},\"colorscale\":[[0.0,\"#440154\"],[0.1111111111111111,\"#482878\"],[0.2222222222222222,\"#3e4989\"],[0.3333333333333333,\"#31688e\"],[0.4444444444444444,\"#26828e\"],[0.5555555555555556,\"#1f9e89\"],[0.6666666666666666,\"#35b779\"],[0.7777777777777778,\"#6ece58\"],[0.8888888888888888,\"#b5de2b\"],[1.0,\"#fde725\"]],\"type\":\"histogram2d\"}],\"histogram\":[{\"marker\":{\"line\":{\"color\":\"white\",\"width\":0.6}},\"type\":\"histogram\"}],\"mesh3d\":[{\"colorbar\":{\"outlinewidth\":1,\"tickcolor\":\"rgb(36,36,36)\",\"ticks\":\"outside\"},\"type\":\"mesh3d\"}],\"parcoords\":[{\"line\":{\"colorbar\":{\"outlinewidth\":1,\"tickcolor\":\"rgb(36,36,36)\",\"ticks\":\"outside\"}},\"type\":\"parcoords\"}],\"pie\":[{\"automargin\":true,\"type\":\"pie\"}],\"scatter3d\":[{\"line\":{\"colorbar\":{\"outlinewidth\":1,\"tickcolor\":\"rgb(36,36,36)\",\"ticks\":\"outside\"}},\"marker\":{\"colorbar\":{\"outlinewidth\":1,\"tickcolor\":\"rgb(36,36,36)\",\"ticks\":\"outside\"}},\"type\":\"scatter3d\"}],\"scattercarpet\":[{\"marker\":{\"colorbar\":{\"outlinewidth\":1,\"tickcolor\":\"rgb(36,36,36)\",\"ticks\":\"outside\"}},\"type\":\"scattercarpet\"}],\"scattergeo\":[{\"marker\":{\"colorbar\":{\"outlinewidth\":1,\"tickcolor\":\"rgb(36,36,36)\",\"ticks\":\"outside\"}},\"type\":\"scattergeo\"}],\"scattergl\":[{\"marker\":{\"colorbar\":{\"outlinewidth\":1,\"tickcolor\":\"rgb(36,36,36)\",\"ticks\":\"outside\"}},\"type\":\"scattergl\"}],\"scattermapbox\":[{\"marker\":{\"colorbar\":{\"outlinewidth\":1,\"tickcolor\":\"rgb(36,36,36)\",\"ticks\":\"outside\"}},\"type\":\"scattermapbox\"}],\"scatterpolargl\":[{\"marker\":{\"colorbar\":{\"outlinewidth\":1,\"tickcolor\":\"rgb(36,36,36)\",\"ticks\":\"outside\"}},\"type\":\"scatterpolargl\"}],\"scatterpolar\":[{\"marker\":{\"colorbar\":{\"outlinewidth\":1,\"tickcolor\":\"rgb(36,36,36)\",\"ticks\":\"outside\"}},\"type\":\"scatterpolar\"}],\"scatter\":[{\"marker\":{\"colorbar\":{\"outlinewidth\":1,\"tickcolor\":\"rgb(36,36,36)\",\"ticks\":\"outside\"}},\"type\":\"scatter\"}],\"scatterternary\":[{\"marker\":{\"colorbar\":{\"outlinewidth\":1,\"tickcolor\":\"rgb(36,36,36)\",\"ticks\":\"outside\"}},\"type\":\"scatterternary\"}],\"surface\":[{\"colorbar\":{\"outlinewidth\":1,\"tickcolor\":\"rgb(36,36,36)\",\"ticks\":\"outside\"},\"colorscale\":[[0.0,\"#440154\"],[0.1111111111111111,\"#482878\"],[0.2222222222222222,\"#3e4989\"],[0.3333333333333333,\"#31688e\"],[0.4444444444444444,\"#26828e\"],[0.5555555555555556,\"#1f9e89\"],[0.6666666666666666,\"#35b779\"],[0.7777777777777778,\"#6ece58\"],[0.8888888888888888,\"#b5de2b\"],[1.0,\"#fde725\"]],\"type\":\"surface\"}],\"table\":[{\"cells\":{\"fill\":{\"color\":\"rgb(237,237,237)\"},\"line\":{\"color\":\"white\"}},\"header\":{\"fill\":{\"color\":\"rgb(217,217,217)\"},\"line\":{\"color\":\"white\"}},\"type\":\"table\"}]},\"layout\":{\"annotationdefaults\":{\"arrowhead\":0,\"arrowwidth\":1},\"autotypenumbers\":\"strict\",\"coloraxis\":{\"colorbar\":{\"outlinewidth\":1,\"tickcolor\":\"rgb(36,36,36)\",\"ticks\":\"outside\"}},\"colorscale\":{\"diverging\":[[0.0,\"rgb(103,0,31)\"],[0.1,\"rgb(178,24,43)\"],[0.2,\"rgb(214,96,77)\"],[0.3,\"rgb(244,165,130)\"],[0.4,\"rgb(253,219,199)\"],[0.5,\"rgb(247,247,247)\"],[0.6,\"rgb(209,229,240)\"],[0.7,\"rgb(146,197,222)\"],[0.8,\"rgb(67,147,195)\"],[0.9,\"rgb(33,102,172)\"],[1.0,\"rgb(5,48,97)\"]],\"sequential\":[[0.0,\"#440154\"],[0.1111111111111111,\"#482878\"],[0.2222222222222222,\"#3e4989\"],[0.3333333333333333,\"#31688e\"],[0.4444444444444444,\"#26828e\"],[0.5555555555555556,\"#1f9e89\"],[0.6666666666666666,\"#35b779\"],[0.7777777777777778,\"#6ece58\"],[0.8888888888888888,\"#b5de2b\"],[1.0,\"#fde725\"]],\"sequentialminus\":[[0.0,\"#440154\"],[0.1111111111111111,\"#482878\"],[0.2222222222222222,\"#3e4989\"],[0.3333333333333333,\"#31688e\"],[0.4444444444444444,\"#26828e\"],[0.5555555555555556,\"#1f9e89\"],[0.6666666666666666,\"#35b779\"],[0.7777777777777778,\"#6ece58\"],[0.8888888888888888,\"#b5de2b\"],[1.0,\"#fde725\"]]},\"colorway\":[\"#1F77B4\",\"#FF7F0E\",\"#2CA02C\",\"#D62728\",\"#9467BD\",\"#8C564B\",\"#E377C2\",\"#7F7F7F\",\"#BCBD22\",\"#17BECF\"],\"font\":{\"color\":\"rgb(36,36,36)\"},\"geo\":{\"bgcolor\":\"white\",\"lakecolor\":\"white\",\"landcolor\":\"white\",\"showlakes\":true,\"showland\":true,\"subunitcolor\":\"white\"},\"hoverlabel\":{\"align\":\"left\"},\"hovermode\":\"closest\",\"mapbox\":{\"style\":\"light\"},\"paper_bgcolor\":\"white\",\"plot_bgcolor\":\"white\",\"polar\":{\"angularaxis\":{\"gridcolor\":\"rgb(232,232,232)\",\"linecolor\":\"rgb(36,36,36)\",\"showgrid\":false,\"showline\":true,\"ticks\":\"outside\"},\"bgcolor\":\"white\",\"radialaxis\":{\"gridcolor\":\"rgb(232,232,232)\",\"linecolor\":\"rgb(36,36,36)\",\"showgrid\":false,\"showline\":true,\"ticks\":\"outside\"}},\"scene\":{\"xaxis\":{\"backgroundcolor\":\"white\",\"gridcolor\":\"rgb(232,232,232)\",\"gridwidth\":2,\"linecolor\":\"rgb(36,36,36)\",\"showbackground\":true,\"showgrid\":false,\"showline\":true,\"ticks\":\"outside\",\"zeroline\":false,\"zerolinecolor\":\"rgb(36,36,36)\"},\"yaxis\":{\"backgroundcolor\":\"white\",\"gridcolor\":\"rgb(232,232,232)\",\"gridwidth\":2,\"linecolor\":\"rgb(36,36,36)\",\"showbackground\":true,\"showgrid\":false,\"showline\":true,\"ticks\":\"outside\",\"zeroline\":false,\"zerolinecolor\":\"rgb(36,36,36)\"},\"zaxis\":{\"backgroundcolor\":\"white\",\"gridcolor\":\"rgb(232,232,232)\",\"gridwidth\":2,\"linecolor\":\"rgb(36,36,36)\",\"showbackground\":true,\"showgrid\":false,\"showline\":true,\"ticks\":\"outside\",\"zeroline\":false,\"zerolinecolor\":\"rgb(36,36,36)\"}},\"shapedefaults\":{\"fillcolor\":\"black\",\"line\":{\"width\":0},\"opacity\":0.3},\"ternary\":{\"aaxis\":{\"gridcolor\":\"rgb(232,232,232)\",\"linecolor\":\"rgb(36,36,36)\",\"showgrid\":false,\"showline\":true,\"ticks\":\"outside\"},\"baxis\":{\"gridcolor\":\"rgb(232,232,232)\",\"linecolor\":\"rgb(36,36,36)\",\"showgrid\":false,\"showline\":true,\"ticks\":\"outside\"},\"bgcolor\":\"white\",\"caxis\":{\"gridcolor\":\"rgb(232,232,232)\",\"linecolor\":\"rgb(36,36,36)\",\"showgrid\":false,\"showline\":true,\"ticks\":\"outside\"}},\"title\":{\"x\":0.05},\"xaxis\":{\"automargin\":true,\"gridcolor\":\"rgb(232,232,232)\",\"linecolor\":\"rgb(36,36,36)\",\"showgrid\":false,\"showline\":true,\"ticks\":\"outside\",\"title\":{\"standoff\":15},\"zeroline\":false,\"zerolinecolor\":\"rgb(36,36,36)\"},\"yaxis\":{\"automargin\":true,\"gridcolor\":\"rgb(232,232,232)\",\"linecolor\":\"rgb(36,36,36)\",\"showgrid\":false,\"showline\":true,\"ticks\":\"outside\",\"title\":{\"standoff\":15},\"zeroline\":false,\"zerolinecolor\":\"rgb(36,36,36)\"}}},\"title\":{\"text\":\"\"},\"xaxis\":{\"showgrid\":false,\"showline\":false,\"showticklabels\":false,\"ticks\":\"\",\"title\":{\"text\":\"\"},\"zeroline\":false},\"yaxis\":{\"showgrid\":false,\"showline\":false,\"showticklabels\":false,\"ticks\":\"\",\"title\":{\"text\":\"\"},\"zeroline\":false}},                        {\"scrollZoom\": true, \"responsive\": true}                    ).then(function(){\n",
              "                            \n",
              "var gd = document.getElementById('bcb607ae-509f-4c12-880c-3c0c8434ffa3');\n",
              "var x = new MutationObserver(function (mutations, observer) {{\n",
              "        var display = window.getComputedStyle(gd).display;\n",
              "        if (!display || display === 'none') {{\n",
              "            console.log([gd, 'removed!']);\n",
              "            Plotly.purge(gd);\n",
              "            observer.disconnect();\n",
              "        }}\n",
              "}});\n",
              "\n",
              "// Listen for the removal of the full notebook cells\n",
              "var notebookContainer = gd.closest('#notebook-container');\n",
              "if (notebookContainer) {{\n",
              "    x.observe(notebookContainer, {childList: true});\n",
              "}}\n",
              "\n",
              "// Listen for the clearing of the current output cell\n",
              "var outputEl = gd.closest('.output');\n",
              "if (outputEl) {{\n",
              "    x.observe(outputEl, {childList: true});\n",
              "}}\n",
              "\n",
              "                        })                };                            </script>        </div>\n",
              "</body>\n",
              "</html>"
            ]
          },
          "metadata": {}
        }
      ]
    },
    {
      "cell_type": "markdown",
      "source": [
        "**Mapper for final dense layer**"
      ],
      "metadata": {
        "id": "4QcynqD8pHlC"
      }
    },
    {
      "cell_type": "code",
      "source": [
        "plotly_params = {\"node_trace\": {\"marker_colorscale\": \"RdBu\"}}\n",
        "fig = plot_static_mapper_graph(pipe_mapper,\n",
        "                               intermediate_output_3, \n",
        "                               layout='fruchterman_reingold',\n",
        "                               node_scale =20,\n",
        "                               plotly_params=plotly_params)\n",
        "fig.show(config={'scrollZoom': True})"
      ],
      "metadata": {
        "colab": {
          "base_uri": "https://localhost:8080/",
          "height": 542
        },
        "id": "iup6vee9k4vR",
        "outputId": "93acb001-970d-4946-e56e-be1188cd5ef3"
      },
      "execution_count": null,
      "outputs": [
        {
          "output_type": "display_data",
          "data": {
            "text/html": [
              "<html>\n",
              "<head><meta charset=\"utf-8\" /></head>\n",
              "<body>\n",
              "    <div>            <script src=\"https://cdnjs.cloudflare.com/ajax/libs/mathjax/2.7.5/MathJax.js?config=TeX-AMS-MML_SVG\"></script><script type=\"text/javascript\">if (window.MathJax) {MathJax.Hub.Config({SVG: {font: \"STIX-Web\"}});}</script>                <script type=\"text/javascript\">window.PlotlyConfig = {MathJaxConfig: 'local'};</script>\n",
              "        <script src=\"https://cdn.plot.ly/plotly-2.8.3.min.js\"></script>                <div id=\"a282c7ab-6875-4e10-95e7-8750ff466f3d\" class=\"plotly-graph-div\" style=\"height:525px; width:100%;\"></div>            <script type=\"text/javascript\">                                    window.PLOTLYENV=window.PLOTLYENV || {};                                    if (document.getElementById(\"a282c7ab-6875-4e10-95e7-8750ff466f3d\")) {                    Plotly.newPlot(                        \"a282c7ab-6875-4e10-95e7-8750ff466f3d\",                        [{\"hoverinfo\":\"none\",\"line\":{\"color\":\"#888\",\"width\":1},\"mode\":\"lines\",\"name\":\"edge_trace\",\"x\":[2.5226834777394527,1.901579008846006,null,1.901579008846006,1.8013600289307234,null,-1.283860588864321,-0.9195573935339415,null,-1.283860588864321,-1.4443267635545938,null,2.1232961372257866,2.2996990048537804,null,2.1232961372257866,1.8013600289307234,null,-0.8847722056841295,-1.2548710234964033,null,-1.2548710234964033,-1.4443267635545938,null],\"y\":[1.2659535171304217,0.6338138415621015,null,0.6338138415621015,-0.31449390881243544,null,0.5961923292745627,1.4437939016962775,null,0.5961923292745627,-0.3703098153676382,null,-1.2117821378342042,-2.0860018051806533,null,-1.2117821378342042,-0.31449390881243544,null,-2.1708171949692328,-1.3293004615079753,null,-1.3293004615079753,-0.3703098153676382,null],\"type\":\"scatter\",\"uid\":\"c63e8e5e-6a0a-4568-8ace-af43bb9987e6\"},{\"hoverinfo\":\"text\",\"hovertext\":[\"Node ID: 0<br>Pullback set label: 0<br>Partial cluster label: 0<br>Node size: 54<br>Summary statistic: 43.5\",\"Node ID: 1<br>Pullback set label: 1<br>Partial cluster label: 0<br>Node size: 20<br>Summary statistic: 43.8\",\"Node ID: 2<br>Pullback set label: 8<br>Partial cluster label: 0<br>Node size: 2<br>Summary statistic: 32.5\",\"Node ID: 3<br>Pullback set label: 9<br>Partial cluster label: -1<br>Node size: 1<br>Summary statistic: 7.0\",\"Node ID: 4<br>Pullback set label: 3<br>Partial cluster label: 0<br>Node size: 18<br>Summary statistic: 41.0\",\"Node ID: 5<br>Pullback set label: 4<br>Partial cluster label: 0<br>Node size: 9<br>Summary statistic: 47.2\",\"Node ID: 6<br>Pullback set label: 2<br>Partial cluster label: 0<br>Node size: 20<br>Summary statistic: 46.8\",\"Node ID: 7<br>Pullback set label: 10<br>Partial cluster label: -1<br>Node size: 1<br>Summary statistic: 49.0\",\"Node ID: 8<br>Pullback set label: 5<br>Partial cluster label: -1<br>Node size: 1<br>Summary statistic: 50.0\",\"Node ID: 9<br>Pullback set label: 6<br>Partial cluster label: 0<br>Node size: 3<br>Summary statistic: 54.3\",\"Node ID: 10<br>Pullback set label: 11<br>Partial cluster label: 0<br>Node size: 2<br>Summary statistic: 54.5\",\"Node ID: 11<br>Pullback set label: 7<br>Partial cluster label: 0<br>Node size: 3<br>Summary statistic: 57.0\"],\"marker\":{\"color\":[43.46296296296296,43.75,32.5,7.0,41.0,47.22222222222222,46.85,49.0,50.0,54.333333333333336,54.5,57.0],\"colorbar\":{\"thickness\":15,\"title\":{\"side\":\"right\",\"text\":\"\"},\"xanchor\":\"left\"},\"colorscale\":[[0.0,\"rgb(103,0,31)\"],[0.1,\"rgb(178,24,43)\"],[0.2,\"rgb(214,96,77)\"],[0.3,\"rgb(244,165,130)\"],[0.4,\"rgb(253,219,199)\"],[0.5,\"rgb(247,247,247)\"],[0.6,\"rgb(209,229,240)\"],[0.7,\"rgb(146,197,222)\"],[0.8,\"rgb(67,147,195)\"],[0.9,\"rgb(33,102,172)\"],[1.0,\"rgb(5,48,97)\"]],\"line\":{\"color\":\"#888\",\"width\":1},\"opacity\":1.0,\"reversescale\":false,\"showscale\":true,\"size\":[54,20,2,1,18,9,20,1,1,3,2,3],\"sizemin\":4,\"sizemode\":\"area\",\"sizeref\":0.27},\"mode\":\"markers\",\"name\":\"node_trace\",\"x\":[2.5226834777394527,1.901579008846006,-1.283860588864321,-0.9195573935339415,2.1232961372257866,2.2996990048537804,1.8013600289307234,0.6338697151723438,-0.8847722056841295,-1.2548710234964033,0.6222013353474659,-1.4443267635545938],\"y\":[1.2659535171304217,0.6338138415621015,0.5961923292745627,1.4437939016962775,-1.2117821378342042,-2.0860018051806533,-0.31449390881243544,-2.8161515853446875,-2.1708171949692328,-1.3293004615079753,2.135691094936542,-0.3703098153676382],\"type\":\"scatter\",\"uid\":\"fd04e897-d612-4dac-a0ac-089f3ab9d6f0\"}],                        {\"autosize\":false,\"hovermode\":\"closest\",\"margin\":{\"b\":20,\"l\":5,\"r\":5,\"t\":40},\"showlegend\":false,\"template\":{\"data\":{\"barpolar\":[{\"marker\":{\"line\":{\"color\":\"white\",\"width\":0.5},\"pattern\":{\"fillmode\":\"overlay\",\"size\":10,\"solidity\":0.2}},\"type\":\"barpolar\"}],\"bar\":[{\"error_x\":{\"color\":\"rgb(36,36,36)\"},\"error_y\":{\"color\":\"rgb(36,36,36)\"},\"marker\":{\"line\":{\"color\":\"white\",\"width\":0.5},\"pattern\":{\"fillmode\":\"overlay\",\"size\":10,\"solidity\":0.2}},\"type\":\"bar\"}],\"carpet\":[{\"aaxis\":{\"endlinecolor\":\"rgb(36,36,36)\",\"gridcolor\":\"white\",\"linecolor\":\"white\",\"minorgridcolor\":\"white\",\"startlinecolor\":\"rgb(36,36,36)\"},\"baxis\":{\"endlinecolor\":\"rgb(36,36,36)\",\"gridcolor\":\"white\",\"linecolor\":\"white\",\"minorgridcolor\":\"white\",\"startlinecolor\":\"rgb(36,36,36)\"},\"type\":\"carpet\"}],\"choropleth\":[{\"colorbar\":{\"outlinewidth\":1,\"tickcolor\":\"rgb(36,36,36)\",\"ticks\":\"outside\"},\"type\":\"choropleth\"}],\"contourcarpet\":[{\"colorbar\":{\"outlinewidth\":1,\"tickcolor\":\"rgb(36,36,36)\",\"ticks\":\"outside\"},\"type\":\"contourcarpet\"}],\"contour\":[{\"colorbar\":{\"outlinewidth\":1,\"tickcolor\":\"rgb(36,36,36)\",\"ticks\":\"outside\"},\"colorscale\":[[0.0,\"#440154\"],[0.1111111111111111,\"#482878\"],[0.2222222222222222,\"#3e4989\"],[0.3333333333333333,\"#31688e\"],[0.4444444444444444,\"#26828e\"],[0.5555555555555556,\"#1f9e89\"],[0.6666666666666666,\"#35b779\"],[0.7777777777777778,\"#6ece58\"],[0.8888888888888888,\"#b5de2b\"],[1.0,\"#fde725\"]],\"type\":\"contour\"}],\"heatmapgl\":[{\"colorbar\":{\"outlinewidth\":1,\"tickcolor\":\"rgb(36,36,36)\",\"ticks\":\"outside\"},\"colorscale\":[[0.0,\"#440154\"],[0.1111111111111111,\"#482878\"],[0.2222222222222222,\"#3e4989\"],[0.3333333333333333,\"#31688e\"],[0.4444444444444444,\"#26828e\"],[0.5555555555555556,\"#1f9e89\"],[0.6666666666666666,\"#35b779\"],[0.7777777777777778,\"#6ece58\"],[0.8888888888888888,\"#b5de2b\"],[1.0,\"#fde725\"]],\"type\":\"heatmapgl\"}],\"heatmap\":[{\"colorbar\":{\"outlinewidth\":1,\"tickcolor\":\"rgb(36,36,36)\",\"ticks\":\"outside\"},\"colorscale\":[[0.0,\"#440154\"],[0.1111111111111111,\"#482878\"],[0.2222222222222222,\"#3e4989\"],[0.3333333333333333,\"#31688e\"],[0.4444444444444444,\"#26828e\"],[0.5555555555555556,\"#1f9e89\"],[0.6666666666666666,\"#35b779\"],[0.7777777777777778,\"#6ece58\"],[0.8888888888888888,\"#b5de2b\"],[1.0,\"#fde725\"]],\"type\":\"heatmap\"}],\"histogram2dcontour\":[{\"colorbar\":{\"outlinewidth\":1,\"tickcolor\":\"rgb(36,36,36)\",\"ticks\":\"outside\"},\"colorscale\":[[0.0,\"#440154\"],[0.1111111111111111,\"#482878\"],[0.2222222222222222,\"#3e4989\"],[0.3333333333333333,\"#31688e\"],[0.4444444444444444,\"#26828e\"],[0.5555555555555556,\"#1f9e89\"],[0.6666666666666666,\"#35b779\"],[0.7777777777777778,\"#6ece58\"],[0.8888888888888888,\"#b5de2b\"],[1.0,\"#fde725\"]],\"type\":\"histogram2dcontour\"}],\"histogram2d\":[{\"colorbar\":{\"outlinewidth\":1,\"tickcolor\":\"rgb(36,36,36)\",\"ticks\":\"outside\"},\"colorscale\":[[0.0,\"#440154\"],[0.1111111111111111,\"#482878\"],[0.2222222222222222,\"#3e4989\"],[0.3333333333333333,\"#31688e\"],[0.4444444444444444,\"#26828e\"],[0.5555555555555556,\"#1f9e89\"],[0.6666666666666666,\"#35b779\"],[0.7777777777777778,\"#6ece58\"],[0.8888888888888888,\"#b5de2b\"],[1.0,\"#fde725\"]],\"type\":\"histogram2d\"}],\"histogram\":[{\"marker\":{\"line\":{\"color\":\"white\",\"width\":0.6}},\"type\":\"histogram\"}],\"mesh3d\":[{\"colorbar\":{\"outlinewidth\":1,\"tickcolor\":\"rgb(36,36,36)\",\"ticks\":\"outside\"},\"type\":\"mesh3d\"}],\"parcoords\":[{\"line\":{\"colorbar\":{\"outlinewidth\":1,\"tickcolor\":\"rgb(36,36,36)\",\"ticks\":\"outside\"}},\"type\":\"parcoords\"}],\"pie\":[{\"automargin\":true,\"type\":\"pie\"}],\"scatter3d\":[{\"line\":{\"colorbar\":{\"outlinewidth\":1,\"tickcolor\":\"rgb(36,36,36)\",\"ticks\":\"outside\"}},\"marker\":{\"colorbar\":{\"outlinewidth\":1,\"tickcolor\":\"rgb(36,36,36)\",\"ticks\":\"outside\"}},\"type\":\"scatter3d\"}],\"scattercarpet\":[{\"marker\":{\"colorbar\":{\"outlinewidth\":1,\"tickcolor\":\"rgb(36,36,36)\",\"ticks\":\"outside\"}},\"type\":\"scattercarpet\"}],\"scattergeo\":[{\"marker\":{\"colorbar\":{\"outlinewidth\":1,\"tickcolor\":\"rgb(36,36,36)\",\"ticks\":\"outside\"}},\"type\":\"scattergeo\"}],\"scattergl\":[{\"marker\":{\"colorbar\":{\"outlinewidth\":1,\"tickcolor\":\"rgb(36,36,36)\",\"ticks\":\"outside\"}},\"type\":\"scattergl\"}],\"scattermapbox\":[{\"marker\":{\"colorbar\":{\"outlinewidth\":1,\"tickcolor\":\"rgb(36,36,36)\",\"ticks\":\"outside\"}},\"type\":\"scattermapbox\"}],\"scatterpolargl\":[{\"marker\":{\"colorbar\":{\"outlinewidth\":1,\"tickcolor\":\"rgb(36,36,36)\",\"ticks\":\"outside\"}},\"type\":\"scatterpolargl\"}],\"scatterpolar\":[{\"marker\":{\"colorbar\":{\"outlinewidth\":1,\"tickcolor\":\"rgb(36,36,36)\",\"ticks\":\"outside\"}},\"type\":\"scatterpolar\"}],\"scatter\":[{\"marker\":{\"colorbar\":{\"outlinewidth\":1,\"tickcolor\":\"rgb(36,36,36)\",\"ticks\":\"outside\"}},\"type\":\"scatter\"}],\"scatterternary\":[{\"marker\":{\"colorbar\":{\"outlinewidth\":1,\"tickcolor\":\"rgb(36,36,36)\",\"ticks\":\"outside\"}},\"type\":\"scatterternary\"}],\"surface\":[{\"colorbar\":{\"outlinewidth\":1,\"tickcolor\":\"rgb(36,36,36)\",\"ticks\":\"outside\"},\"colorscale\":[[0.0,\"#440154\"],[0.1111111111111111,\"#482878\"],[0.2222222222222222,\"#3e4989\"],[0.3333333333333333,\"#31688e\"],[0.4444444444444444,\"#26828e\"],[0.5555555555555556,\"#1f9e89\"],[0.6666666666666666,\"#35b779\"],[0.7777777777777778,\"#6ece58\"],[0.8888888888888888,\"#b5de2b\"],[1.0,\"#fde725\"]],\"type\":\"surface\"}],\"table\":[{\"cells\":{\"fill\":{\"color\":\"rgb(237,237,237)\"},\"line\":{\"color\":\"white\"}},\"header\":{\"fill\":{\"color\":\"rgb(217,217,217)\"},\"line\":{\"color\":\"white\"}},\"type\":\"table\"}]},\"layout\":{\"annotationdefaults\":{\"arrowhead\":0,\"arrowwidth\":1},\"autotypenumbers\":\"strict\",\"coloraxis\":{\"colorbar\":{\"outlinewidth\":1,\"tickcolor\":\"rgb(36,36,36)\",\"ticks\":\"outside\"}},\"colorscale\":{\"diverging\":[[0.0,\"rgb(103,0,31)\"],[0.1,\"rgb(178,24,43)\"],[0.2,\"rgb(214,96,77)\"],[0.3,\"rgb(244,165,130)\"],[0.4,\"rgb(253,219,199)\"],[0.5,\"rgb(247,247,247)\"],[0.6,\"rgb(209,229,240)\"],[0.7,\"rgb(146,197,222)\"],[0.8,\"rgb(67,147,195)\"],[0.9,\"rgb(33,102,172)\"],[1.0,\"rgb(5,48,97)\"]],\"sequential\":[[0.0,\"#440154\"],[0.1111111111111111,\"#482878\"],[0.2222222222222222,\"#3e4989\"],[0.3333333333333333,\"#31688e\"],[0.4444444444444444,\"#26828e\"],[0.5555555555555556,\"#1f9e89\"],[0.6666666666666666,\"#35b779\"],[0.7777777777777778,\"#6ece58\"],[0.8888888888888888,\"#b5de2b\"],[1.0,\"#fde725\"]],\"sequentialminus\":[[0.0,\"#440154\"],[0.1111111111111111,\"#482878\"],[0.2222222222222222,\"#3e4989\"],[0.3333333333333333,\"#31688e\"],[0.4444444444444444,\"#26828e\"],[0.5555555555555556,\"#1f9e89\"],[0.6666666666666666,\"#35b779\"],[0.7777777777777778,\"#6ece58\"],[0.8888888888888888,\"#b5de2b\"],[1.0,\"#fde725\"]]},\"colorway\":[\"#1F77B4\",\"#FF7F0E\",\"#2CA02C\",\"#D62728\",\"#9467BD\",\"#8C564B\",\"#E377C2\",\"#7F7F7F\",\"#BCBD22\",\"#17BECF\"],\"font\":{\"color\":\"rgb(36,36,36)\"},\"geo\":{\"bgcolor\":\"white\",\"lakecolor\":\"white\",\"landcolor\":\"white\",\"showlakes\":true,\"showland\":true,\"subunitcolor\":\"white\"},\"hoverlabel\":{\"align\":\"left\"},\"hovermode\":\"closest\",\"mapbox\":{\"style\":\"light\"},\"paper_bgcolor\":\"white\",\"plot_bgcolor\":\"white\",\"polar\":{\"angularaxis\":{\"gridcolor\":\"rgb(232,232,232)\",\"linecolor\":\"rgb(36,36,36)\",\"showgrid\":false,\"showline\":true,\"ticks\":\"outside\"},\"bgcolor\":\"white\",\"radialaxis\":{\"gridcolor\":\"rgb(232,232,232)\",\"linecolor\":\"rgb(36,36,36)\",\"showgrid\":false,\"showline\":true,\"ticks\":\"outside\"}},\"scene\":{\"xaxis\":{\"backgroundcolor\":\"white\",\"gridcolor\":\"rgb(232,232,232)\",\"gridwidth\":2,\"linecolor\":\"rgb(36,36,36)\",\"showbackground\":true,\"showgrid\":false,\"showline\":true,\"ticks\":\"outside\",\"zeroline\":false,\"zerolinecolor\":\"rgb(36,36,36)\"},\"yaxis\":{\"backgroundcolor\":\"white\",\"gridcolor\":\"rgb(232,232,232)\",\"gridwidth\":2,\"linecolor\":\"rgb(36,36,36)\",\"showbackground\":true,\"showgrid\":false,\"showline\":true,\"ticks\":\"outside\",\"zeroline\":false,\"zerolinecolor\":\"rgb(36,36,36)\"},\"zaxis\":{\"backgroundcolor\":\"white\",\"gridcolor\":\"rgb(232,232,232)\",\"gridwidth\":2,\"linecolor\":\"rgb(36,36,36)\",\"showbackground\":true,\"showgrid\":false,\"showline\":true,\"ticks\":\"outside\",\"zeroline\":false,\"zerolinecolor\":\"rgb(36,36,36)\"}},\"shapedefaults\":{\"fillcolor\":\"black\",\"line\":{\"width\":0},\"opacity\":0.3},\"ternary\":{\"aaxis\":{\"gridcolor\":\"rgb(232,232,232)\",\"linecolor\":\"rgb(36,36,36)\",\"showgrid\":false,\"showline\":true,\"ticks\":\"outside\"},\"baxis\":{\"gridcolor\":\"rgb(232,232,232)\",\"linecolor\":\"rgb(36,36,36)\",\"showgrid\":false,\"showline\":true,\"ticks\":\"outside\"},\"bgcolor\":\"white\",\"caxis\":{\"gridcolor\":\"rgb(232,232,232)\",\"linecolor\":\"rgb(36,36,36)\",\"showgrid\":false,\"showline\":true,\"ticks\":\"outside\"}},\"title\":{\"x\":0.05},\"xaxis\":{\"automargin\":true,\"gridcolor\":\"rgb(232,232,232)\",\"linecolor\":\"rgb(36,36,36)\",\"showgrid\":false,\"showline\":true,\"ticks\":\"outside\",\"title\":{\"standoff\":15},\"zeroline\":false,\"zerolinecolor\":\"rgb(36,36,36)\"},\"yaxis\":{\"automargin\":true,\"gridcolor\":\"rgb(232,232,232)\",\"linecolor\":\"rgb(36,36,36)\",\"showgrid\":false,\"showline\":true,\"ticks\":\"outside\",\"title\":{\"standoff\":15},\"zeroline\":false,\"zerolinecolor\":\"rgb(36,36,36)\"}}},\"title\":{\"text\":\"\"},\"xaxis\":{\"showgrid\":false,\"showline\":false,\"showticklabels\":false,\"ticks\":\"\",\"title\":{\"text\":\"\"},\"zeroline\":false},\"yaxis\":{\"showgrid\":false,\"showline\":false,\"showticklabels\":false,\"ticks\":\"\",\"title\":{\"text\":\"\"},\"zeroline\":false}},                        {\"scrollZoom\": true, \"responsive\": true}                    ).then(function(){\n",
              "                            \n",
              "var gd = document.getElementById('a282c7ab-6875-4e10-95e7-8750ff466f3d');\n",
              "var x = new MutationObserver(function (mutations, observer) {{\n",
              "        var display = window.getComputedStyle(gd).display;\n",
              "        if (!display || display === 'none') {{\n",
              "            console.log([gd, 'removed!']);\n",
              "            Plotly.purge(gd);\n",
              "            observer.disconnect();\n",
              "        }}\n",
              "}});\n",
              "\n",
              "// Listen for the removal of the full notebook cells\n",
              "var notebookContainer = gd.closest('#notebook-container');\n",
              "if (notebookContainer) {{\n",
              "    x.observe(notebookContainer, {childList: true});\n",
              "}}\n",
              "\n",
              "// Listen for the clearing of the current output cell\n",
              "var outputEl = gd.closest('.output');\n",
              "if (outputEl) {{\n",
              "    x.observe(outputEl, {childList: true});\n",
              "}}\n",
              "\n",
              "                        })                };                            </script>        </div>\n",
              "</body>\n",
              "</html>"
            ]
          },
          "metadata": {}
        }
      ]
    }
  ]
}