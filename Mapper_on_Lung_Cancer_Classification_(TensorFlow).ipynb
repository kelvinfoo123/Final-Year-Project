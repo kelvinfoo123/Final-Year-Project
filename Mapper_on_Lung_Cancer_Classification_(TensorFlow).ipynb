{
  "nbformat": 4,
  "nbformat_minor": 0,
  "metadata": {
    "colab": {
      "provenance": [],
      "authorship_tag": "ABX9TyNEqcwH391+UQxebvMin9r+",
      "include_colab_link": true
    },
    "kernelspec": {
      "name": "python3",
      "display_name": "Python 3"
    },
    "language_info": {
      "name": "python"
    },
    "accelerator": "GPU",
    "gpuClass": "standard"
  },
  "cells": [
    {
      "cell_type": "markdown",
      "metadata": {
        "id": "view-in-github",
        "colab_type": "text"
      },
      "source": [
        "<a href=\"https://colab.research.google.com/github/kelvinfoo123/Final-Year-Project/blob/main/Mapper_on_Lung_Cancer_Classification_(TensorFlow).ipynb\" target=\"_parent\"><img src=\"https://colab.research.google.com/assets/colab-badge.svg\" alt=\"Open In Colab\"/></a>"
      ]
    },
    {
      "cell_type": "markdown",
      "source": [
        "## **Import data**"
      ],
      "metadata": {
        "id": "Tl6B6FNlf-pD"
      }
    },
    {
      "cell_type": "code",
      "execution_count": 1,
      "metadata": {
        "colab": {
          "base_uri": "https://localhost:8080/",
          "height": 359
        },
        "id": "e59yUnvQfRkC",
        "outputId": "b73b6830-1bc1-4e5d-97a1-af0e4598d8b0"
      },
      "outputs": [
        {
          "output_type": "execute_result",
          "data": {
            "text/plain": [
              "  GENDER  AGE  SMOKING  YELLOW_FINGERS  ANXIETY  PEER_PRESSURE  \\\n",
              "0      M   69        1               2        2              1   \n",
              "1      M   74        2               1        1              1   \n",
              "2      F   59        1               1        1              2   \n",
              "3      M   63        2               2        2              1   \n",
              "4      F   63        1               2        1              1   \n",
              "5      F   75        1               2        1              1   \n",
              "6      M   52        2               1        1              1   \n",
              "7      F   51        2               2        2              2   \n",
              "8      F   68        2               1        2              1   \n",
              "9      M   53        2               2        2              2   \n",
              "\n",
              "   CHRONIC DISEASE  FATIGUE   ALLERGY   WHEEZING  ALCOHOL CONSUMING  COUGHING  \\\n",
              "0                1         2         1         2                  2         2   \n",
              "1                2         2         2         1                  1         1   \n",
              "2                1         2         1         2                  1         2   \n",
              "3                1         1         1         1                  2         1   \n",
              "4                1         1         1         2                  1         2   \n",
              "5                2         2         2         2                  1         2   \n",
              "6                1         2         1         2                  2         2   \n",
              "7                1         2         2         1                  1         1   \n",
              "8                1         2         1         1                  1         1   \n",
              "9                2         1         2         1                  2         1   \n",
              "\n",
              "   SHORTNESS OF BREATH  SWALLOWING DIFFICULTY  CHEST PAIN LUNG_CANCER  \n",
              "0                    2                      2           2         YES  \n",
              "1                    2                      2           2         YES  \n",
              "2                    2                      1           2          NO  \n",
              "3                    1                      2           2          NO  \n",
              "4                    2                      1           1          NO  \n",
              "5                    2                      1           1         YES  \n",
              "6                    2                      1           2         YES  \n",
              "7                    2                      2           1         YES  \n",
              "8                    1                      1           1          NO  \n",
              "9                    1                      2           2         YES  "
            ],
            "text/html": [
              "\n",
              "  <div id=\"df-759a8be8-be10-4534-a810-a82bdf21b806\">\n",
              "    <div class=\"colab-df-container\">\n",
              "      <div>\n",
              "<style scoped>\n",
              "    .dataframe tbody tr th:only-of-type {\n",
              "        vertical-align: middle;\n",
              "    }\n",
              "\n",
              "    .dataframe tbody tr th {\n",
              "        vertical-align: top;\n",
              "    }\n",
              "\n",
              "    .dataframe thead th {\n",
              "        text-align: right;\n",
              "    }\n",
              "</style>\n",
              "<table border=\"1\" class=\"dataframe\">\n",
              "  <thead>\n",
              "    <tr style=\"text-align: right;\">\n",
              "      <th></th>\n",
              "      <th>GENDER</th>\n",
              "      <th>AGE</th>\n",
              "      <th>SMOKING</th>\n",
              "      <th>YELLOW_FINGERS</th>\n",
              "      <th>ANXIETY</th>\n",
              "      <th>PEER_PRESSURE</th>\n",
              "      <th>CHRONIC DISEASE</th>\n",
              "      <th>FATIGUE</th>\n",
              "      <th>ALLERGY</th>\n",
              "      <th>WHEEZING</th>\n",
              "      <th>ALCOHOL CONSUMING</th>\n",
              "      <th>COUGHING</th>\n",
              "      <th>SHORTNESS OF BREATH</th>\n",
              "      <th>SWALLOWING DIFFICULTY</th>\n",
              "      <th>CHEST PAIN</th>\n",
              "      <th>LUNG_CANCER</th>\n",
              "    </tr>\n",
              "  </thead>\n",
              "  <tbody>\n",
              "    <tr>\n",
              "      <th>0</th>\n",
              "      <td>M</td>\n",
              "      <td>69</td>\n",
              "      <td>1</td>\n",
              "      <td>2</td>\n",
              "      <td>2</td>\n",
              "      <td>1</td>\n",
              "      <td>1</td>\n",
              "      <td>2</td>\n",
              "      <td>1</td>\n",
              "      <td>2</td>\n",
              "      <td>2</td>\n",
              "      <td>2</td>\n",
              "      <td>2</td>\n",
              "      <td>2</td>\n",
              "      <td>2</td>\n",
              "      <td>YES</td>\n",
              "    </tr>\n",
              "    <tr>\n",
              "      <th>1</th>\n",
              "      <td>M</td>\n",
              "      <td>74</td>\n",
              "      <td>2</td>\n",
              "      <td>1</td>\n",
              "      <td>1</td>\n",
              "      <td>1</td>\n",
              "      <td>2</td>\n",
              "      <td>2</td>\n",
              "      <td>2</td>\n",
              "      <td>1</td>\n",
              "      <td>1</td>\n",
              "      <td>1</td>\n",
              "      <td>2</td>\n",
              "      <td>2</td>\n",
              "      <td>2</td>\n",
              "      <td>YES</td>\n",
              "    </tr>\n",
              "    <tr>\n",
              "      <th>2</th>\n",
              "      <td>F</td>\n",
              "      <td>59</td>\n",
              "      <td>1</td>\n",
              "      <td>1</td>\n",
              "      <td>1</td>\n",
              "      <td>2</td>\n",
              "      <td>1</td>\n",
              "      <td>2</td>\n",
              "      <td>1</td>\n",
              "      <td>2</td>\n",
              "      <td>1</td>\n",
              "      <td>2</td>\n",
              "      <td>2</td>\n",
              "      <td>1</td>\n",
              "      <td>2</td>\n",
              "      <td>NO</td>\n",
              "    </tr>\n",
              "    <tr>\n",
              "      <th>3</th>\n",
              "      <td>M</td>\n",
              "      <td>63</td>\n",
              "      <td>2</td>\n",
              "      <td>2</td>\n",
              "      <td>2</td>\n",
              "      <td>1</td>\n",
              "      <td>1</td>\n",
              "      <td>1</td>\n",
              "      <td>1</td>\n",
              "      <td>1</td>\n",
              "      <td>2</td>\n",
              "      <td>1</td>\n",
              "      <td>1</td>\n",
              "      <td>2</td>\n",
              "      <td>2</td>\n",
              "      <td>NO</td>\n",
              "    </tr>\n",
              "    <tr>\n",
              "      <th>4</th>\n",
              "      <td>F</td>\n",
              "      <td>63</td>\n",
              "      <td>1</td>\n",
              "      <td>2</td>\n",
              "      <td>1</td>\n",
              "      <td>1</td>\n",
              "      <td>1</td>\n",
              "      <td>1</td>\n",
              "      <td>1</td>\n",
              "      <td>2</td>\n",
              "      <td>1</td>\n",
              "      <td>2</td>\n",
              "      <td>2</td>\n",
              "      <td>1</td>\n",
              "      <td>1</td>\n",
              "      <td>NO</td>\n",
              "    </tr>\n",
              "    <tr>\n",
              "      <th>5</th>\n",
              "      <td>F</td>\n",
              "      <td>75</td>\n",
              "      <td>1</td>\n",
              "      <td>2</td>\n",
              "      <td>1</td>\n",
              "      <td>1</td>\n",
              "      <td>2</td>\n",
              "      <td>2</td>\n",
              "      <td>2</td>\n",
              "      <td>2</td>\n",
              "      <td>1</td>\n",
              "      <td>2</td>\n",
              "      <td>2</td>\n",
              "      <td>1</td>\n",
              "      <td>1</td>\n",
              "      <td>YES</td>\n",
              "    </tr>\n",
              "    <tr>\n",
              "      <th>6</th>\n",
              "      <td>M</td>\n",
              "      <td>52</td>\n",
              "      <td>2</td>\n",
              "      <td>1</td>\n",
              "      <td>1</td>\n",
              "      <td>1</td>\n",
              "      <td>1</td>\n",
              "      <td>2</td>\n",
              "      <td>1</td>\n",
              "      <td>2</td>\n",
              "      <td>2</td>\n",
              "      <td>2</td>\n",
              "      <td>2</td>\n",
              "      <td>1</td>\n",
              "      <td>2</td>\n",
              "      <td>YES</td>\n",
              "    </tr>\n",
              "    <tr>\n",
              "      <th>7</th>\n",
              "      <td>F</td>\n",
              "      <td>51</td>\n",
              "      <td>2</td>\n",
              "      <td>2</td>\n",
              "      <td>2</td>\n",
              "      <td>2</td>\n",
              "      <td>1</td>\n",
              "      <td>2</td>\n",
              "      <td>2</td>\n",
              "      <td>1</td>\n",
              "      <td>1</td>\n",
              "      <td>1</td>\n",
              "      <td>2</td>\n",
              "      <td>2</td>\n",
              "      <td>1</td>\n",
              "      <td>YES</td>\n",
              "    </tr>\n",
              "    <tr>\n",
              "      <th>8</th>\n",
              "      <td>F</td>\n",
              "      <td>68</td>\n",
              "      <td>2</td>\n",
              "      <td>1</td>\n",
              "      <td>2</td>\n",
              "      <td>1</td>\n",
              "      <td>1</td>\n",
              "      <td>2</td>\n",
              "      <td>1</td>\n",
              "      <td>1</td>\n",
              "      <td>1</td>\n",
              "      <td>1</td>\n",
              "      <td>1</td>\n",
              "      <td>1</td>\n",
              "      <td>1</td>\n",
              "      <td>NO</td>\n",
              "    </tr>\n",
              "    <tr>\n",
              "      <th>9</th>\n",
              "      <td>M</td>\n",
              "      <td>53</td>\n",
              "      <td>2</td>\n",
              "      <td>2</td>\n",
              "      <td>2</td>\n",
              "      <td>2</td>\n",
              "      <td>2</td>\n",
              "      <td>1</td>\n",
              "      <td>2</td>\n",
              "      <td>1</td>\n",
              "      <td>2</td>\n",
              "      <td>1</td>\n",
              "      <td>1</td>\n",
              "      <td>2</td>\n",
              "      <td>2</td>\n",
              "      <td>YES</td>\n",
              "    </tr>\n",
              "  </tbody>\n",
              "</table>\n",
              "</div>\n",
              "      <button class=\"colab-df-convert\" onclick=\"convertToInteractive('df-759a8be8-be10-4534-a810-a82bdf21b806')\"\n",
              "              title=\"Convert this dataframe to an interactive table.\"\n",
              "              style=\"display:none;\">\n",
              "        \n",
              "  <svg xmlns=\"http://www.w3.org/2000/svg\" height=\"24px\"viewBox=\"0 0 24 24\"\n",
              "       width=\"24px\">\n",
              "    <path d=\"M0 0h24v24H0V0z\" fill=\"none\"/>\n",
              "    <path d=\"M18.56 5.44l.94 2.06.94-2.06 2.06-.94-2.06-.94-.94-2.06-.94 2.06-2.06.94zm-11 1L8.5 8.5l.94-2.06 2.06-.94-2.06-.94L8.5 2.5l-.94 2.06-2.06.94zm10 10l.94 2.06.94-2.06 2.06-.94-2.06-.94-.94-2.06-.94 2.06-2.06.94z\"/><path d=\"M17.41 7.96l-1.37-1.37c-.4-.4-.92-.59-1.43-.59-.52 0-1.04.2-1.43.59L10.3 9.45l-7.72 7.72c-.78.78-.78 2.05 0 2.83L4 21.41c.39.39.9.59 1.41.59.51 0 1.02-.2 1.41-.59l7.78-7.78 2.81-2.81c.8-.78.8-2.07 0-2.86zM5.41 20L4 18.59l7.72-7.72 1.47 1.35L5.41 20z\"/>\n",
              "  </svg>\n",
              "      </button>\n",
              "      \n",
              "  <style>\n",
              "    .colab-df-container {\n",
              "      display:flex;\n",
              "      flex-wrap:wrap;\n",
              "      gap: 12px;\n",
              "    }\n",
              "\n",
              "    .colab-df-convert {\n",
              "      background-color: #E8F0FE;\n",
              "      border: none;\n",
              "      border-radius: 50%;\n",
              "      cursor: pointer;\n",
              "      display: none;\n",
              "      fill: #1967D2;\n",
              "      height: 32px;\n",
              "      padding: 0 0 0 0;\n",
              "      width: 32px;\n",
              "    }\n",
              "\n",
              "    .colab-df-convert:hover {\n",
              "      background-color: #E2EBFA;\n",
              "      box-shadow: 0px 1px 2px rgba(60, 64, 67, 0.3), 0px 1px 3px 1px rgba(60, 64, 67, 0.15);\n",
              "      fill: #174EA6;\n",
              "    }\n",
              "\n",
              "    [theme=dark] .colab-df-convert {\n",
              "      background-color: #3B4455;\n",
              "      fill: #D2E3FC;\n",
              "    }\n",
              "\n",
              "    [theme=dark] .colab-df-convert:hover {\n",
              "      background-color: #434B5C;\n",
              "      box-shadow: 0px 1px 3px 1px rgba(0, 0, 0, 0.15);\n",
              "      filter: drop-shadow(0px 1px 2px rgba(0, 0, 0, 0.3));\n",
              "      fill: #FFFFFF;\n",
              "    }\n",
              "  </style>\n",
              "\n",
              "      <script>\n",
              "        const buttonEl =\n",
              "          document.querySelector('#df-759a8be8-be10-4534-a810-a82bdf21b806 button.colab-df-convert');\n",
              "        buttonEl.style.display =\n",
              "          google.colab.kernel.accessAllowed ? 'block' : 'none';\n",
              "\n",
              "        async function convertToInteractive(key) {\n",
              "          const element = document.querySelector('#df-759a8be8-be10-4534-a810-a82bdf21b806');\n",
              "          const dataTable =\n",
              "            await google.colab.kernel.invokeFunction('convertToInteractive',\n",
              "                                                     [key], {});\n",
              "          if (!dataTable) return;\n",
              "\n",
              "          const docLinkHtml = 'Like what you see? Visit the ' +\n",
              "            '<a target=\"_blank\" href=https://colab.research.google.com/notebooks/data_table.ipynb>data table notebook</a>'\n",
              "            + ' to learn more about interactive tables.';\n",
              "          element.innerHTML = '';\n",
              "          dataTable['output_type'] = 'display_data';\n",
              "          await google.colab.output.renderOutput(dataTable, element);\n",
              "          const docLink = document.createElement('div');\n",
              "          docLink.innerHTML = docLinkHtml;\n",
              "          element.appendChild(docLink);\n",
              "        }\n",
              "      </script>\n",
              "    </div>\n",
              "  </div>\n",
              "  "
            ]
          },
          "metadata": {},
          "execution_count": 1
        }
      ],
      "source": [
        "import pandas as pd \n",
        "import matplotlib.pyplot as plt\n",
        "import seaborn as sns \n",
        "import numpy as np \n",
        "\n",
        "cancer = pd.read_csv(\"survey lung cancer.csv\")\n",
        "cancer.head(10)"
      ]
    },
    {
      "cell_type": "code",
      "source": [
        "cancer.columns"
      ],
      "metadata": {
        "colab": {
          "base_uri": "https://localhost:8080/"
        },
        "id": "qS3R33RqG3v2",
        "outputId": "10c71bee-ad6d-41ab-cf83-587c70a689de"
      },
      "execution_count": 37,
      "outputs": [
        {
          "output_type": "execute_result",
          "data": {
            "text/plain": [
              "Index(['GENDER', 'AGE', 'SMOKING', 'YELLOW_FINGERS', 'ANXIETY',\n",
              "       'PEER_PRESSURE', 'CHRONIC DISEASE', 'FATIGUE ', 'ALLERGY ', 'WHEEZING',\n",
              "       'ALCOHOL CONSUMING', 'COUGHING', 'SHORTNESS OF BREATH',\n",
              "       'SWALLOWING DIFFICULTY', 'CHEST PAIN', 'LUNG_CANCER'],\n",
              "      dtype='object')"
            ]
          },
          "metadata": {},
          "execution_count": 37
        }
      ]
    },
    {
      "cell_type": "code",
      "source": [
        "plt.figure(figsize = (16,16))\n",
        "sns.heatmap(cancer.corr(), annot = True)"
      ],
      "metadata": {
        "colab": {
          "base_uri": "https://localhost:8080/",
          "height": 1000
        },
        "id": "476G3svivM6F",
        "outputId": "1f43530f-49dd-4490-f6ae-3281e637c555"
      },
      "execution_count": 2,
      "outputs": [
        {
          "output_type": "execute_result",
          "data": {
            "text/plain": [
              "<matplotlib.axes._subplots.AxesSubplot at 0x7ff53ca04b50>"
            ]
          },
          "metadata": {},
          "execution_count": 2
        },
        {
          "output_type": "display_data",
          "data": {
            "text/plain": [
              "<Figure size 1152x1152 with 2 Axes>"
            ],
            "image/png": "[encoded data removed]"
          },
          "metadata": {
            "needs_background": "light"
          }
        }
      ]
    },
    {
      "cell_type": "markdown",
      "source": [
        "## **Data preprocessing**"
      ],
      "metadata": {
        "id": "3DPJtGQ6gLO1"
      }
    },
    {
      "cell_type": "code",
      "source": [
        "cancer.duplicated().sum() # There are 33 duplicated samples in the dataset. \n",
        "\n",
        "# Drop duplicate\n",
        "cancer.drop_duplicates(inplace = True)"
      ],
      "metadata": {
        "id": "9v6YKxMSgOo7"
      },
      "execution_count": 3,
      "outputs": []
    },
    {
      "cell_type": "code",
      "source": [
        "# Label Encoder \n",
        "\n",
        "from sklearn.preprocessing import LabelEncoder \n",
        "encoder = LabelEncoder()\n",
        "cancer[\"GENDER\"] = encoder.fit_transform(cancer[\"GENDER\"])\n",
        "cancer[\"LUNG_CANCER\"] = encoder.fit_transform(cancer[\"LUNG_CANCER\"])"
      ],
      "metadata": {
        "id": "FWMyY5bfl2Xt"
      },
      "execution_count": 4,
      "outputs": []
    },
    {
      "cell_type": "code",
      "source": [
        "# Split into X and y \n",
        "\n",
        "X = cancer.drop([\"LUNG_CANCER\"], axis = 1)\n",
        "y = cancer[\"LUNG_CANCER\"]"
      ],
      "metadata": {
        "id": "UECAdXlMgSOI"
      },
      "execution_count": 5,
      "outputs": []
    },
    {
      "cell_type": "code",
      "source": [
        "X.shape"
      ],
      "metadata": {
        "colab": {
          "base_uri": "https://localhost:8080/"
        },
        "id": "0SLjm5iItdxM",
        "outputId": "2fa5fdd1-1cad-4958-981d-e081249f40bf"
      },
      "execution_count": 6,
      "outputs": [
        {
          "output_type": "execute_result",
          "data": {
            "text/plain": [
              "(276, 15)"
            ]
          },
          "metadata": {},
          "execution_count": 6
        }
      ]
    },
    {
      "cell_type": "code",
      "source": [
        "# Change 1 and 2 to 0 and 1 \n",
        "\n",
        "for i in X.columns[2:]: \n",
        "  temp = []\n",
        "  for j in X[i]: \n",
        "    temp.append(j - 1)\n",
        "  X[i] = temp \n",
        "\n",
        "X.head()"
      ],
      "metadata": {
        "colab": {
          "base_uri": "https://localhost:8080/",
          "height": 204
        },
        "id": "l35Me36thp3k",
        "outputId": "812add52-c0cc-4fac-acc3-dc4face69658"
      },
      "execution_count": 7,
      "outputs": [
        {
          "output_type": "execute_result",
          "data": {
            "text/plain": [
              "   GENDER  AGE  SMOKING  YELLOW_FINGERS  ANXIETY  PEER_PRESSURE  \\\n",
              "0       1   69        0               1        1              0   \n",
              "1       1   74        1               0        0              0   \n",
              "2       0   59        0               0        0              1   \n",
              "3       1   63        1               1        1              0   \n",
              "4       0   63        0               1        0              0   \n",
              "\n",
              "   CHRONIC DISEASE  FATIGUE   ALLERGY   WHEEZING  ALCOHOL CONSUMING  COUGHING  \\\n",
              "0                0         1         0         1                  1         1   \n",
              "1                1         1         1         0                  0         0   \n",
              "2                0         1         0         1                  0         1   \n",
              "3                0         0         0         0                  1         0   \n",
              "4                0         0         0         1                  0         1   \n",
              "\n",
              "   SHORTNESS OF BREATH  SWALLOWING DIFFICULTY  CHEST PAIN  \n",
              "0                    1                      1           1  \n",
              "1                    1                      1           1  \n",
              "2                    1                      0           1  \n",
              "3                    0                      1           1  \n",
              "4                    1                      0           0  "
            ],
            "text/html": [
              "\n",
              "  <div id=\"df-7ba28b16-fbe2-4379-af81-687939ead4e9\">\n",
              "    <div class=\"colab-df-container\">\n",
              "      <div>\n",
              "<style scoped>\n",
              "    .dataframe tbody tr th:only-of-type {\n",
              "        vertical-align: middle;\n",
              "    }\n",
              "\n",
              "    .dataframe tbody tr th {\n",
              "        vertical-align: top;\n",
              "    }\n",
              "\n",
              "    .dataframe thead th {\n",
              "        text-align: right;\n",
              "    }\n",
              "</style>\n",
              "<table border=\"1\" class=\"dataframe\">\n",
              "  <thead>\n",
              "    <tr style=\"text-align: right;\">\n",
              "      <th></th>\n",
              "      <th>GENDER</th>\n",
              "      <th>AGE</th>\n",
              "      <th>SMOKING</th>\n",
              "      <th>YELLOW_FINGERS</th>\n",
              "      <th>ANXIETY</th>\n",
              "      <th>PEER_PRESSURE</th>\n",
              "      <th>CHRONIC DISEASE</th>\n",
              "      <th>FATIGUE</th>\n",
              "      <th>ALLERGY</th>\n",
              "      <th>WHEEZING</th>\n",
              "      <th>ALCOHOL CONSUMING</th>\n",
              "      <th>COUGHING</th>\n",
              "      <th>SHORTNESS OF BREATH</th>\n",
              "      <th>SWALLOWING DIFFICULTY</th>\n",
              "      <th>CHEST PAIN</th>\n",
              "    </tr>\n",
              "  </thead>\n",
              "  <tbody>\n",
              "    <tr>\n",
              "      <th>0</th>\n",
              "      <td>1</td>\n",
              "      <td>69</td>\n",
              "      <td>0</td>\n",
              "      <td>1</td>\n",
              "      <td>1</td>\n",
              "      <td>0</td>\n",
              "      <td>0</td>\n",
              "      <td>1</td>\n",
              "      <td>0</td>\n",
              "      <td>1</td>\n",
              "      <td>1</td>\n",
              "      <td>1</td>\n",
              "      <td>1</td>\n",
              "      <td>1</td>\n",
              "      <td>1</td>\n",
              "    </tr>\n",
              "    <tr>\n",
              "      <th>1</th>\n",
              "      <td>1</td>\n",
              "      <td>74</td>\n",
              "      <td>1</td>\n",
              "      <td>0</td>\n",
              "      <td>0</td>\n",
              "      <td>0</td>\n",
              "      <td>1</td>\n",
              "      <td>1</td>\n",
              "      <td>1</td>\n",
              "      <td>0</td>\n",
              "      <td>0</td>\n",
              "      <td>0</td>\n",
              "      <td>1</td>\n",
              "      <td>1</td>\n",
              "      <td>1</td>\n",
              "    </tr>\n",
              "    <tr>\n",
              "      <th>2</th>\n",
              "      <td>0</td>\n",
              "      <td>59</td>\n",
              "      <td>0</td>\n",
              "      <td>0</td>\n",
              "      <td>0</td>\n",
              "      <td>1</td>\n",
              "      <td>0</td>\n",
              "      <td>1</td>\n",
              "      <td>0</td>\n",
              "      <td>1</td>\n",
              "      <td>0</td>\n",
              "      <td>1</td>\n",
              "      <td>1</td>\n",
              "      <td>0</td>\n",
              "      <td>1</td>\n",
              "    </tr>\n",
              "    <tr>\n",
              "      <th>3</th>\n",
              "      <td>1</td>\n",
              "      <td>63</td>\n",
              "      <td>1</td>\n",
              "      <td>1</td>\n",
              "      <td>1</td>\n",
              "      <td>0</td>\n",
              "      <td>0</td>\n",
              "      <td>0</td>\n",
              "      <td>0</td>\n",
              "      <td>0</td>\n",
              "      <td>1</td>\n",
              "      <td>0</td>\n",
              "      <td>0</td>\n",
              "      <td>1</td>\n",
              "      <td>1</td>\n",
              "    </tr>\n",
              "    <tr>\n",
              "      <th>4</th>\n",
              "      <td>0</td>\n",
              "      <td>63</td>\n",
              "      <td>0</td>\n",
              "      <td>1</td>\n",
              "      <td>0</td>\n",
              "      <td>0</td>\n",
              "      <td>0</td>\n",
              "      <td>0</td>\n",
              "      <td>0</td>\n",
              "      <td>1</td>\n",
              "      <td>0</td>\n",
              "      <td>1</td>\n",
              "      <td>1</td>\n",
              "      <td>0</td>\n",
              "      <td>0</td>\n",
              "    </tr>\n",
              "  </tbody>\n",
              "</table>\n",
              "</div>\n",
              "      <button class=\"colab-df-convert\" onclick=\"convertToInteractive('df-7ba28b16-fbe2-4379-af81-687939ead4e9')\"\n",
              "              title=\"Convert this dataframe to an interactive table.\"\n",
              "              style=\"display:none;\">\n",
              "        \n",
              "  <svg xmlns=\"http://www.w3.org/2000/svg\" height=\"24px\"viewBox=\"0 0 24 24\"\n",
              "       width=\"24px\">\n",
              "    <path d=\"M0 0h24v24H0V0z\" fill=\"none\"/>\n",
              "    <path d=\"M18.56 5.44l.94 2.06.94-2.06 2.06-.94-2.06-.94-.94-2.06-.94 2.06-2.06.94zm-11 1L8.5 8.5l.94-2.06 2.06-.94-2.06-.94L8.5 2.5l-.94 2.06-2.06.94zm10 10l.94 2.06.94-2.06 2.06-.94-2.06-.94-.94-2.06-.94 2.06-2.06.94z\"/><path d=\"M17.41 7.96l-1.37-1.37c-.4-.4-.92-.59-1.43-.59-.52 0-1.04.2-1.43.59L10.3 9.45l-7.72 7.72c-.78.78-.78 2.05 0 2.83L4 21.41c.39.39.9.59 1.41.59.51 0 1.02-.2 1.41-.59l7.78-7.78 2.81-2.81c.8-.78.8-2.07 0-2.86zM5.41 20L4 18.59l7.72-7.72 1.47 1.35L5.41 20z\"/>\n",
              "  </svg>\n",
              "      </button>\n",
              "      \n",
              "  <style>\n",
              "    .colab-df-container {\n",
              "      display:flex;\n",
              "      flex-wrap:wrap;\n",
              "      gap: 12px;\n",
              "    }\n",
              "\n",
              "    .colab-df-convert {\n",
              "      background-color: #E8F0FE;\n",
              "      border: none;\n",
              "      border-radius: 50%;\n",
              "      cursor: pointer;\n",
              "      display: none;\n",
              "      fill: #1967D2;\n",
              "      height: 32px;\n",
              "      padding: 0 0 0 0;\n",
              "      width: 32px;\n",
              "    }\n",
              "\n",
              "    .colab-df-convert:hover {\n",
              "      background-color: #E2EBFA;\n",
              "      box-shadow: 0px 1px 2px rgba(60, 64, 67, 0.3), 0px 1px 3px 1px rgba(60, 64, 67, 0.15);\n",
              "      fill: #174EA6;\n",
              "    }\n",
              "\n",
              "    [theme=dark] .colab-df-convert {\n",
              "      background-color: #3B4455;\n",
              "      fill: #D2E3FC;\n",
              "    }\n",
              "\n",
              "    [theme=dark] .colab-df-convert:hover {\n",
              "      background-color: #434B5C;\n",
              "      box-shadow: 0px 1px 3px 1px rgba(0, 0, 0, 0.15);\n",
              "      filter: drop-shadow(0px 1px 2px rgba(0, 0, 0, 0.3));\n",
              "      fill: #FFFFFF;\n",
              "    }\n",
              "  </style>\n",
              "\n",
              "      <script>\n",
              "        const buttonEl =\n",
              "          document.querySelector('#df-7ba28b16-fbe2-4379-af81-687939ead4e9 button.colab-df-convert');\n",
              "        buttonEl.style.display =\n",
              "          google.colab.kernel.accessAllowed ? 'block' : 'none';\n",
              "\n",
              "        async function convertToInteractive(key) {\n",
              "          const element = document.querySelector('#df-7ba28b16-fbe2-4379-af81-687939ead4e9');\n",
              "          const dataTable =\n",
              "            await google.colab.kernel.invokeFunction('convertToInteractive',\n",
              "                                                     [key], {});\n",
              "          if (!dataTable) return;\n",
              "\n",
              "          const docLinkHtml = 'Like what you see? Visit the ' +\n",
              "            '<a target=\"_blank\" href=https://colab.research.google.com/notebooks/data_table.ipynb>data table notebook</a>'\n",
              "            + ' to learn more about interactive tables.';\n",
              "          element.innerHTML = '';\n",
              "          dataTable['output_type'] = 'display_data';\n",
              "          await google.colab.output.renderOutput(dataTable, element);\n",
              "          const docLink = document.createElement('div');\n",
              "          docLink.innerHTML = docLinkHtml;\n",
              "          element.appendChild(docLink);\n",
              "        }\n",
              "      </script>\n",
              "    </div>\n",
              "  </div>\n",
              "  "
            ]
          },
          "metadata": {},
          "execution_count": 7
        }
      ]
    },
    {
      "cell_type": "code",
      "source": [
        "# Scaling \n",
        "\n",
        "from sklearn.preprocessing import StandardScaler \n",
        "scaler = StandardScaler()\n",
        "X['AGE'] = scaler.fit_transform(X[['AGE']])"
      ],
      "metadata": {
        "id": "ILzDje9_hrhM"
      },
      "execution_count": 8,
      "outputs": []
    },
    {
      "cell_type": "code",
      "source": [
        "# Oversampling of minority class \n",
        "# One way to deal with imbalanced data is to oversample, meaning to add more copies to the minority class.\n",
        "# RandomOverSampler generates new samples by randomly sampling with replacement of the currently available samples. \n",
        "\n",
        "from imblearn.over_sampling import RandomOverSampler \n",
        "X, y = RandomOverSampler().fit_resample(X,y) "
      ],
      "metadata": {
        "id": "SPL2OYMahudM"
      },
      "execution_count": 9,
      "outputs": []
    },
    {
      "cell_type": "code",
      "source": [
        "# Split into training and test set \n",
        "\n",
        "from sklearn.model_selection import train_test_split\n",
        "X_train, X_test, y_train, y_test = train_test_split(X, y, test_size = 0.3, random_state = 42)"
      ],
      "metadata": {
        "id": "xVIhzE2gh7e2"
      },
      "execution_count": 10,
      "outputs": []
    },
    {
      "cell_type": "code",
      "source": [
        "X_test.shape "
      ],
      "metadata": {
        "colab": {
          "base_uri": "https://localhost:8080/"
        },
        "id": "qBE9BQCgpdJy",
        "outputId": "b2c0ff14-7d66-433f-ca0d-4dd36bb712e2"
      },
      "execution_count": null,
      "outputs": [
        {
          "output_type": "execute_result",
          "data": {
            "text/plain": [
              "(143, 15)"
            ]
          },
          "metadata": {},
          "execution_count": 41
        }
      ]
    },
    {
      "cell_type": "code",
      "source": [
        "df_X_test = pd.DataFrame(X_test, columns = ['GENDER', 'AGE', 'SMOKING', 'YELLOW_FINGERS', 'ANXIETY',\n",
        "       'PEER_PRESSURE', 'CHRONIC DISEASE', 'FATIGUE ', 'ALLERGY ', 'WHEEZING',\n",
        "       'ALCOHOL CONSUMING', 'COUGHING', 'SHORTNESS OF BREATH',\n",
        "       'SWALLOWING DIFFICULTY', 'CHEST PAIN'])\n",
        "df_X_test['LUNG_CANCER'] = pd.Series(y_test)\n",
        "df_X_test.head()"
      ],
      "metadata": {
        "colab": {
          "base_uri": "https://localhost:8080/",
          "height": 204
        },
        "id": "Zk-dRIqhGv2K",
        "outputId": "7e690bc2-6f18-431f-9c57-ecef60ae9626"
      },
      "execution_count": 38,
      "outputs": [
        {
          "output_type": "execute_result",
          "data": {
            "text/plain": [
              "     GENDER       AGE  SMOKING  YELLOW_FINGERS  ANXIETY  PEER_PRESSURE  \\\n",
              "467       1  0.728176        1               0        0              0   \n",
              "33        0  0.489060        1               1        1              0   \n",
              "131       1  0.967291        1               1        1              0   \n",
              "72        1  0.489060        0               0        0              0   \n",
              "78        1  0.489060        1               1        1              1   \n",
              "\n",
              "     CHRONIC DISEASE  FATIGUE   ALLERGY   WHEEZING  ALCOHOL CONSUMING  \\\n",
              "467                0         0         1         1                  1   \n",
              "33                 1         0         0         0                  0   \n",
              "131                1         0         1         1                  1   \n",
              "72                 1         1         1         1                  1   \n",
              "78                 1         0         0         0                  1   \n",
              "\n",
              "     COUGHING  SHORTNESS OF BREATH  SWALLOWING DIFFICULTY  CHEST PAIN  \\\n",
              "467         1                    0                      0           1   \n",
              "33          0                    1                      1           1   \n",
              "131         1                    0                      1           1   \n",
              "72          1                    1                      0           1   \n",
              "78          0                    0                      1           1   \n",
              "\n",
              "     LUNG_CANCER  \n",
              "467            0  \n",
              "33             1  \n",
              "131            1  \n",
              "72             1  \n",
              "78             1  "
            ],
            "text/html": [
              "\n",
              "  <div id=\"df-9ea4d99b-fb8f-4b78-94c6-06262a2a1cb4\">\n",
              "    <div class=\"colab-df-container\">\n",
              "      <div>\n",
              "<style scoped>\n",
              "    .dataframe tbody tr th:only-of-type {\n",
              "        vertical-align: middle;\n",
              "    }\n",
              "\n",
              "    .dataframe tbody tr th {\n",
              "        vertical-align: top;\n",
              "    }\n",
              "\n",
              "    .dataframe thead th {\n",
              "        text-align: right;\n",
              "    }\n",
              "</style>\n",
              "<table border=\"1\" class=\"dataframe\">\n",
              "  <thead>\n",
              "    <tr style=\"text-align: right;\">\n",
              "      <th></th>\n",
              "      <th>GENDER</th>\n",
              "      <th>AGE</th>\n",
              "      <th>SMOKING</th>\n",
              "      <th>YELLOW_FINGERS</th>\n",
              "      <th>ANXIETY</th>\n",
              "      <th>PEER_PRESSURE</th>\n",
              "      <th>CHRONIC DISEASE</th>\n",
              "      <th>FATIGUE</th>\n",
              "      <th>ALLERGY</th>\n",
              "      <th>WHEEZING</th>\n",
              "      <th>ALCOHOL CONSUMING</th>\n",
              "      <th>COUGHING</th>\n",
              "      <th>SHORTNESS OF BREATH</th>\n",
              "      <th>SWALLOWING DIFFICULTY</th>\n",
              "      <th>CHEST PAIN</th>\n",
              "      <th>LUNG_CANCER</th>\n",
              "    </tr>\n",
              "  </thead>\n",
              "  <tbody>\n",
              "    <tr>\n",
              "      <th>467</th>\n",
              "      <td>1</td>\n",
              "      <td>0.728176</td>\n",
              "      <td>1</td>\n",
              "      <td>0</td>\n",
              "      <td>0</td>\n",
              "      <td>0</td>\n",
              "      <td>0</td>\n",
              "      <td>0</td>\n",
              "      <td>1</td>\n",
              "      <td>1</td>\n",
              "      <td>1</td>\n",
              "      <td>1</td>\n",
              "      <td>0</td>\n",
              "      <td>0</td>\n",
              "      <td>1</td>\n",
              "      <td>0</td>\n",
              "    </tr>\n",
              "    <tr>\n",
              "      <th>33</th>\n",
              "      <td>0</td>\n",
              "      <td>0.489060</td>\n",
              "      <td>1</td>\n",
              "      <td>1</td>\n",
              "      <td>1</td>\n",
              "      <td>0</td>\n",
              "      <td>1</td>\n",
              "      <td>0</td>\n",
              "      <td>0</td>\n",
              "      <td>0</td>\n",
              "      <td>0</td>\n",
              "      <td>0</td>\n",
              "      <td>1</td>\n",
              "      <td>1</td>\n",
              "      <td>1</td>\n",
              "      <td>1</td>\n",
              "    </tr>\n",
              "    <tr>\n",
              "      <th>131</th>\n",
              "      <td>1</td>\n",
              "      <td>0.967291</td>\n",
              "      <td>1</td>\n",
              "      <td>1</td>\n",
              "      <td>1</td>\n",
              "      <td>0</td>\n",
              "      <td>1</td>\n",
              "      <td>0</td>\n",
              "      <td>1</td>\n",
              "      <td>1</td>\n",
              "      <td>1</td>\n",
              "      <td>1</td>\n",
              "      <td>0</td>\n",
              "      <td>1</td>\n",
              "      <td>1</td>\n",
              "      <td>1</td>\n",
              "    </tr>\n",
              "    <tr>\n",
              "      <th>72</th>\n",
              "      <td>1</td>\n",
              "      <td>0.489060</td>\n",
              "      <td>0</td>\n",
              "      <td>0</td>\n",
              "      <td>0</td>\n",
              "      <td>0</td>\n",
              "      <td>1</td>\n",
              "      <td>1</td>\n",
              "      <td>1</td>\n",
              "      <td>1</td>\n",
              "      <td>1</td>\n",
              "      <td>1</td>\n",
              "      <td>1</td>\n",
              "      <td>0</td>\n",
              "      <td>1</td>\n",
              "      <td>1</td>\n",
              "    </tr>\n",
              "    <tr>\n",
              "      <th>78</th>\n",
              "      <td>1</td>\n",
              "      <td>0.489060</td>\n",
              "      <td>1</td>\n",
              "      <td>1</td>\n",
              "      <td>1</td>\n",
              "      <td>1</td>\n",
              "      <td>1</td>\n",
              "      <td>0</td>\n",
              "      <td>0</td>\n",
              "      <td>0</td>\n",
              "      <td>1</td>\n",
              "      <td>0</td>\n",
              "      <td>0</td>\n",
              "      <td>1</td>\n",
              "      <td>1</td>\n",
              "      <td>1</td>\n",
              "    </tr>\n",
              "  </tbody>\n",
              "</table>\n",
              "</div>\n",
              "      <button class=\"colab-df-convert\" onclick=\"convertToInteractive('df-9ea4d99b-fb8f-4b78-94c6-06262a2a1cb4')\"\n",
              "              title=\"Convert this dataframe to an interactive table.\"\n",
              "              style=\"display:none;\">\n",
              "        \n",
              "  <svg xmlns=\"http://www.w3.org/2000/svg\" height=\"24px\"viewBox=\"0 0 24 24\"\n",
              "       width=\"24px\">\n",
              "    <path d=\"M0 0h24v24H0V0z\" fill=\"none\"/>\n",
              "    <path d=\"M18.56 5.44l.94 2.06.94-2.06 2.06-.94-2.06-.94-.94-2.06-.94 2.06-2.06.94zm-11 1L8.5 8.5l.94-2.06 2.06-.94-2.06-.94L8.5 2.5l-.94 2.06-2.06.94zm10 10l.94 2.06.94-2.06 2.06-.94-2.06-.94-.94-2.06-.94 2.06-2.06.94z\"/><path d=\"M17.41 7.96l-1.37-1.37c-.4-.4-.92-.59-1.43-.59-.52 0-1.04.2-1.43.59L10.3 9.45l-7.72 7.72c-.78.78-.78 2.05 0 2.83L4 21.41c.39.39.9.59 1.41.59.51 0 1.02-.2 1.41-.59l7.78-7.78 2.81-2.81c.8-.78.8-2.07 0-2.86zM5.41 20L4 18.59l7.72-7.72 1.47 1.35L5.41 20z\"/>\n",
              "  </svg>\n",
              "      </button>\n",
              "      \n",
              "  <style>\n",
              "    .colab-df-container {\n",
              "      display:flex;\n",
              "      flex-wrap:wrap;\n",
              "      gap: 12px;\n",
              "    }\n",
              "\n",
              "    .colab-df-convert {\n",
              "      background-color: #E8F0FE;\n",
              "      border: none;\n",
              "      border-radius: 50%;\n",
              "      cursor: pointer;\n",
              "      display: none;\n",
              "      fill: #1967D2;\n",
              "      height: 32px;\n",
              "      padding: 0 0 0 0;\n",
              "      width: 32px;\n",
              "    }\n",
              "\n",
              "    .colab-df-convert:hover {\n",
              "      background-color: #E2EBFA;\n",
              "      box-shadow: 0px 1px 2px rgba(60, 64, 67, 0.3), 0px 1px 3px 1px rgba(60, 64, 67, 0.15);\n",
              "      fill: #174EA6;\n",
              "    }\n",
              "\n",
              "    [theme=dark] .colab-df-convert {\n",
              "      background-color: #3B4455;\n",
              "      fill: #D2E3FC;\n",
              "    }\n",
              "\n",
              "    [theme=dark] .colab-df-convert:hover {\n",
              "      background-color: #434B5C;\n",
              "      box-shadow: 0px 1px 3px 1px rgba(0, 0, 0, 0.15);\n",
              "      filter: drop-shadow(0px 1px 2px rgba(0, 0, 0, 0.3));\n",
              "      fill: #FFFFFF;\n",
              "    }\n",
              "  </style>\n",
              "\n",
              "      <script>\n",
              "        const buttonEl =\n",
              "          document.querySelector('#df-9ea4d99b-fb8f-4b78-94c6-06262a2a1cb4 button.colab-df-convert');\n",
              "        buttonEl.style.display =\n",
              "          google.colab.kernel.accessAllowed ? 'block' : 'none';\n",
              "\n",
              "        async function convertToInteractive(key) {\n",
              "          const element = document.querySelector('#df-9ea4d99b-fb8f-4b78-94c6-06262a2a1cb4');\n",
              "          const dataTable =\n",
              "            await google.colab.kernel.invokeFunction('convertToInteractive',\n",
              "                                                     [key], {});\n",
              "          if (!dataTable) return;\n",
              "\n",
              "          const docLinkHtml = 'Like what you see? Visit the ' +\n",
              "            '<a target=\"_blank\" href=https://colab.research.google.com/notebooks/data_table.ipynb>data table notebook</a>'\n",
              "            + ' to learn more about interactive tables.';\n",
              "          element.innerHTML = '';\n",
              "          dataTable['output_type'] = 'display_data';\n",
              "          await google.colab.output.renderOutput(dataTable, element);\n",
              "          const docLink = document.createElement('div');\n",
              "          docLink.innerHTML = docLinkHtml;\n",
              "          element.appendChild(docLink);\n",
              "        }\n",
              "      </script>\n",
              "    </div>\n",
              "  </div>\n",
              "  "
            ]
          },
          "metadata": {},
          "execution_count": 38
        }
      ]
    },
    {
      "cell_type": "markdown",
      "source": [
        "## **Neural network**"
      ],
      "metadata": {
        "id": "1T0gdCcJiVCh"
      }
    },
    {
      "cell_type": "code",
      "source": [
        "!pip install tensorflow \n",
        "\n",
        "import tensorflow.keras \n",
        "from tensorflow.keras import Sequential, regularizers\n",
        "from tensorflow.keras.layers import Dense, Dropout "
      ],
      "metadata": {
        "colab": {
          "base_uri": "https://localhost:8080/"
        },
        "id": "fXZaOjUNlCn1",
        "outputId": "ab32be72-69fa-4e51-db58-da837307d4ba"
      },
      "execution_count": 11,
      "outputs": [
        {
          "output_type": "stream",
          "name": "stdout",
          "text": [
            "Looking in indexes: https://pypi.org/simple, https://us-python.pkg.dev/colab-wheels/public/simple/\n",
            "Requirement already satisfied: tensorflow in /usr/local/lib/python3.8/dist-packages (2.9.2)\n",
            "Requirement already satisfied: tensorboard<2.10,>=2.9 in /usr/local/lib/python3.8/dist-packages (from tensorflow) (2.9.1)\n",
            "Requirement already satisfied: tensorflow-io-gcs-filesystem>=0.23.1 in /usr/local/lib/python3.8/dist-packages (from tensorflow) (0.29.0)\n",
            "Requirement already satisfied: termcolor>=1.1.0 in /usr/local/lib/python3.8/dist-packages (from tensorflow) (2.2.0)\n",
            "Requirement already satisfied: six>=1.12.0 in /usr/local/lib/python3.8/dist-packages (from tensorflow) (1.15.0)\n",
            "Requirement already satisfied: absl-py>=1.0.0 in /usr/local/lib/python3.8/dist-packages (from tensorflow) (1.3.0)\n",
            "Requirement already satisfied: packaging in /usr/local/lib/python3.8/dist-packages (from tensorflow) (21.3)\n",
            "Requirement already satisfied: grpcio<2.0,>=1.24.3 in /usr/local/lib/python3.8/dist-packages (from tensorflow) (1.51.1)\n",
            "Requirement already satisfied: tensorflow-estimator<2.10.0,>=2.9.0rc0 in /usr/local/lib/python3.8/dist-packages (from tensorflow) (2.9.0)\n",
            "Requirement already satisfied: gast<=0.4.0,>=0.2.1 in /usr/local/lib/python3.8/dist-packages (from tensorflow) (0.4.0)\n",
            "Requirement already satisfied: protobuf<3.20,>=3.9.2 in /usr/local/lib/python3.8/dist-packages (from tensorflow) (3.19.6)\n",
            "Requirement already satisfied: flatbuffers<2,>=1.12 in /usr/local/lib/python3.8/dist-packages (from tensorflow) (1.12)\n",
            "Requirement already satisfied: keras<2.10.0,>=2.9.0rc0 in /usr/local/lib/python3.8/dist-packages (from tensorflow) (2.9.0)\n",
            "Requirement already satisfied: wrapt>=1.11.0 in /usr/local/lib/python3.8/dist-packages (from tensorflow) (1.14.1)\n",
            "Requirement already satisfied: keras-preprocessing>=1.1.1 in /usr/local/lib/python3.8/dist-packages (from tensorflow) (1.1.2)\n",
            "Requirement already satisfied: setuptools in /usr/local/lib/python3.8/dist-packages (from tensorflow) (57.4.0)\n",
            "Requirement already satisfied: h5py>=2.9.0 in /usr/local/lib/python3.8/dist-packages (from tensorflow) (3.1.0)\n",
            "Requirement already satisfied: google-pasta>=0.1.1 in /usr/local/lib/python3.8/dist-packages (from tensorflow) (0.2.0)\n",
            "Requirement already satisfied: astunparse>=1.6.0 in /usr/local/lib/python3.8/dist-packages (from tensorflow) (1.6.3)\n",
            "Requirement already satisfied: libclang>=13.0.0 in /usr/local/lib/python3.8/dist-packages (from tensorflow) (14.0.6)\n",
            "Requirement already satisfied: numpy>=1.20 in /usr/local/lib/python3.8/dist-packages (from tensorflow) (1.21.6)\n",
            "Requirement already satisfied: opt-einsum>=2.3.2 in /usr/local/lib/python3.8/dist-packages (from tensorflow) (3.3.0)\n",
            "Requirement already satisfied: typing-extensions>=3.6.6 in /usr/local/lib/python3.8/dist-packages (from tensorflow) (4.4.0)\n",
            "Requirement already satisfied: wheel<1.0,>=0.23.0 in /usr/local/lib/python3.8/dist-packages (from astunparse>=1.6.0->tensorflow) (0.38.4)\n",
            "Requirement already satisfied: requests<3,>=2.21.0 in /usr/local/lib/python3.8/dist-packages (from tensorboard<2.10,>=2.9->tensorflow) (2.25.1)\n",
            "Requirement already satisfied: werkzeug>=1.0.1 in /usr/local/lib/python3.8/dist-packages (from tensorboard<2.10,>=2.9->tensorflow) (1.0.1)\n",
            "Requirement already satisfied: tensorboard-data-server<0.7.0,>=0.6.0 in /usr/local/lib/python3.8/dist-packages (from tensorboard<2.10,>=2.9->tensorflow) (0.6.1)\n",
            "Requirement already satisfied: markdown>=2.6.8 in /usr/local/lib/python3.8/dist-packages (from tensorboard<2.10,>=2.9->tensorflow) (3.4.1)\n",
            "Requirement already satisfied: tensorboard-plugin-wit>=1.6.0 in /usr/local/lib/python3.8/dist-packages (from tensorboard<2.10,>=2.9->tensorflow) (1.8.1)\n",
            "Requirement already satisfied: google-auth-oauthlib<0.5,>=0.4.1 in /usr/local/lib/python3.8/dist-packages (from tensorboard<2.10,>=2.9->tensorflow) (0.4.6)\n",
            "Requirement already satisfied: google-auth<3,>=1.6.3 in /usr/local/lib/python3.8/dist-packages (from tensorboard<2.10,>=2.9->tensorflow) (2.15.0)\n",
            "Requirement already satisfied: pyparsing!=3.0.5,>=2.0.2 in /usr/local/lib/python3.8/dist-packages (from packaging->tensorflow) (3.0.9)\n",
            "Requirement already satisfied: rsa<5,>=3.1.4 in /usr/local/lib/python3.8/dist-packages (from google-auth<3,>=1.6.3->tensorboard<2.10,>=2.9->tensorflow) (4.9)\n",
            "Requirement already satisfied: cachetools<6.0,>=2.0.0 in /usr/local/lib/python3.8/dist-packages (from google-auth<3,>=1.6.3->tensorboard<2.10,>=2.9->tensorflow) (5.2.0)\n",
            "Requirement already satisfied: pyasn1-modules>=0.2.1 in /usr/local/lib/python3.8/dist-packages (from google-auth<3,>=1.6.3->tensorboard<2.10,>=2.9->tensorflow) (0.2.8)\n",
            "Requirement already satisfied: requests-oauthlib>=0.7.0 in /usr/local/lib/python3.8/dist-packages (from google-auth-oauthlib<0.5,>=0.4.1->tensorboard<2.10,>=2.9->tensorflow) (1.3.1)\n",
            "Requirement already satisfied: importlib-metadata>=4.4 in /usr/local/lib/python3.8/dist-packages (from markdown>=2.6.8->tensorboard<2.10,>=2.9->tensorflow) (6.0.0)\n",
            "Requirement already satisfied: urllib3<1.27,>=1.21.1 in /usr/local/lib/python3.8/dist-packages (from requests<3,>=2.21.0->tensorboard<2.10,>=2.9->tensorflow) (1.24.3)\n",
            "Requirement already satisfied: certifi>=2017.4.17 in /usr/local/lib/python3.8/dist-packages (from requests<3,>=2.21.0->tensorboard<2.10,>=2.9->tensorflow) (2022.12.7)\n",
            "Requirement already satisfied: idna<3,>=2.5 in /usr/local/lib/python3.8/dist-packages (from requests<3,>=2.21.0->tensorboard<2.10,>=2.9->tensorflow) (2.10)\n",
            "Requirement already satisfied: chardet<5,>=3.0.2 in /usr/local/lib/python3.8/dist-packages (from requests<3,>=2.21.0->tensorboard<2.10,>=2.9->tensorflow) (4.0.0)\n",
            "Requirement already satisfied: zipp>=0.5 in /usr/local/lib/python3.8/dist-packages (from importlib-metadata>=4.4->markdown>=2.6.8->tensorboard<2.10,>=2.9->tensorflow) (3.11.0)\n",
            "Requirement already satisfied: pyasn1<0.5.0,>=0.4.6 in /usr/local/lib/python3.8/dist-packages (from pyasn1-modules>=0.2.1->google-auth<3,>=1.6.3->tensorboard<2.10,>=2.9->tensorflow) (0.4.8)\n",
            "Requirement already satisfied: oauthlib>=3.0.0 in /usr/local/lib/python3.8/dist-packages (from requests-oauthlib>=0.7.0->google-auth-oauthlib<0.5,>=0.4.1->tensorboard<2.10,>=2.9->tensorflow) (3.2.2)\n"
          ]
        }
      ]
    },
    {
      "cell_type": "code",
      "source": [
        "model = Sequential()\n",
        "model.add(Dense(128, input_dim = 15, activation = 'relu'))\n",
        "model.add(Dense(64, activation = 'relu', kernel_regularizer = regularizers.l2(0.01)))\n",
        "model.add(Dense(32, activation = 'relu'))\n",
        "model.add(Dropout(0.5))\n",
        "model.add(Dense(1, activation = 'sigmoid'))"
      ],
      "metadata": {
        "id": "zt_BwJIelIYU"
      },
      "execution_count": 12,
      "outputs": []
    },
    {
      "cell_type": "code",
      "source": [
        "model.compile(loss = 'binary_crossentropy', optimizer = 'adam', metrics = ['accuracy'])"
      ],
      "metadata": {
        "id": "5yDJNemulUXA"
      },
      "execution_count": 13,
      "outputs": []
    },
    {
      "cell_type": "code",
      "source": [
        "model.fit(X_train, y_train, validation_data = (X_test, y_test), epochs = 50, batch_size = 64)"
      ],
      "metadata": {
        "colab": {
          "base_uri": "https://localhost:8080/"
        },
        "id": "IN-XvEFzlW8u",
        "outputId": "d570f0b4-46c1-4bca-d59b-7a2cf999e331"
      },
      "execution_count": 14,
      "outputs": [
        {
          "output_type": "stream",
          "name": "stdout",
          "text": [
            "Epoch 1/50\n",
            "6/6 [==============================] - 4s 91ms/step - loss: 1.4963 - accuracy: 0.5586 - val_loss: 1.4212 - val_accuracy: 0.5105\n",
            "Epoch 2/50\n",
            "6/6 [==============================] - 0s 17ms/step - loss: 1.3910 - accuracy: 0.6306 - val_loss: 1.3237 - val_accuracy: 0.6993\n",
            "Epoch 3/50\n",
            "6/6 [==============================] - 0s 32ms/step - loss: 1.3039 - accuracy: 0.6667 - val_loss: 1.2330 - val_accuracy: 0.7273\n",
            "Epoch 4/50\n",
            "6/6 [==============================] - 0s 13ms/step - loss: 1.2303 - accuracy: 0.6997 - val_loss: 1.1496 - val_accuracy: 0.7273\n",
            "Epoch 5/50\n",
            "6/6 [==============================] - 0s 12ms/step - loss: 1.1305 - accuracy: 0.7477 - val_loss: 1.0667 - val_accuracy: 0.7413\n",
            "Epoch 6/50\n",
            "6/6 [==============================] - 0s 17ms/step - loss: 1.0799 - accuracy: 0.7508 - val_loss: 0.9877 - val_accuracy: 0.8042\n",
            "Epoch 7/50\n",
            "6/6 [==============================] - 0s 17ms/step - loss: 0.9756 - accuracy: 0.8408 - val_loss: 0.9161 - val_accuracy: 0.8392\n",
            "Epoch 8/50\n",
            "6/6 [==============================] - 0s 13ms/step - loss: 0.9233 - accuracy: 0.8438 - val_loss: 0.8491 - val_accuracy: 0.8601\n",
            "Epoch 9/50\n",
            "6/6 [==============================] - 0s 21ms/step - loss: 0.8583 - accuracy: 0.8649 - val_loss: 0.7831 - val_accuracy: 0.8951\n",
            "Epoch 10/50\n",
            "6/6 [==============================] - 0s 15ms/step - loss: 0.7941 - accuracy: 0.8859 - val_loss: 0.7203 - val_accuracy: 0.8951\n",
            "Epoch 11/50\n",
            "6/6 [==============================] - 0s 14ms/step - loss: 0.7407 - accuracy: 0.8739 - val_loss: 0.6621 - val_accuracy: 0.9091\n",
            "Epoch 12/50\n",
            "6/6 [==============================] - 0s 15ms/step - loss: 0.6976 - accuracy: 0.8949 - val_loss: 0.6195 - val_accuracy: 0.9231\n",
            "Epoch 13/50\n",
            "6/6 [==============================] - 0s 33ms/step - loss: 0.6577 - accuracy: 0.8949 - val_loss: 0.5796 - val_accuracy: 0.9021\n",
            "Epoch 14/50\n",
            "6/6 [==============================] - 0s 12ms/step - loss: 0.6221 - accuracy: 0.8889 - val_loss: 0.5369 - val_accuracy: 0.9231\n",
            "Epoch 15/50\n",
            "6/6 [==============================] - 0s 15ms/step - loss: 0.5752 - accuracy: 0.9009 - val_loss: 0.4993 - val_accuracy: 0.9441\n",
            "Epoch 16/50\n",
            "6/6 [==============================] - 0s 22ms/step - loss: 0.5454 - accuracy: 0.9159 - val_loss: 0.4685 - val_accuracy: 0.9441\n",
            "Epoch 17/50\n",
            "6/6 [==============================] - 0s 15ms/step - loss: 0.5076 - accuracy: 0.9159 - val_loss: 0.4385 - val_accuracy: 0.9441\n",
            "Epoch 18/50\n",
            "6/6 [==============================] - 0s 23ms/step - loss: 0.4890 - accuracy: 0.9219 - val_loss: 0.4135 - val_accuracy: 0.9650\n",
            "Epoch 19/50\n",
            "6/6 [==============================] - 0s 25ms/step - loss: 0.4592 - accuracy: 0.9279 - val_loss: 0.3874 - val_accuracy: 0.9580\n",
            "Epoch 20/50\n",
            "6/6 [==============================] - 0s 32ms/step - loss: 0.4285 - accuracy: 0.9580 - val_loss: 0.3696 - val_accuracy: 0.9650\n",
            "Epoch 21/50\n",
            "6/6 [==============================] - 0s 18ms/step - loss: 0.4093 - accuracy: 0.9399 - val_loss: 0.3529 - val_accuracy: 0.9650\n",
            "Epoch 22/50\n",
            "6/6 [==============================] - 0s 14ms/step - loss: 0.4060 - accuracy: 0.9459 - val_loss: 0.3411 - val_accuracy: 0.9580\n",
            "Epoch 23/50\n",
            "6/6 [==============================] - 0s 28ms/step - loss: 0.3530 - accuracy: 0.9550 - val_loss: 0.3255 - val_accuracy: 0.9580\n",
            "Epoch 24/50\n",
            "6/6 [==============================] - 0s 11ms/step - loss: 0.3587 - accuracy: 0.9369 - val_loss: 0.3140 - val_accuracy: 0.9580\n",
            "Epoch 25/50\n",
            "6/6 [==============================] - 0s 20ms/step - loss: 0.3467 - accuracy: 0.9520 - val_loss: 0.3044 - val_accuracy: 0.9510\n",
            "Epoch 26/50\n",
            "6/6 [==============================] - 0s 14ms/step - loss: 0.3309 - accuracy: 0.9459 - val_loss: 0.2995 - val_accuracy: 0.9650\n",
            "Epoch 27/50\n",
            "6/6 [==============================] - 0s 14ms/step - loss: 0.3209 - accuracy: 0.9550 - val_loss: 0.2868 - val_accuracy: 0.9580\n",
            "Epoch 28/50\n",
            "6/6 [==============================] - 0s 13ms/step - loss: 0.3031 - accuracy: 0.9520 - val_loss: 0.2899 - val_accuracy: 0.9580\n",
            "Epoch 29/50\n",
            "6/6 [==============================] - 0s 10ms/step - loss: 0.2961 - accuracy: 0.9429 - val_loss: 0.2731 - val_accuracy: 0.9580\n",
            "Epoch 30/50\n",
            "6/6 [==============================] - 0s 15ms/step - loss: 0.2964 - accuracy: 0.9580 - val_loss: 0.2615 - val_accuracy: 0.9580\n",
            "Epoch 31/50\n",
            "6/6 [==============================] - 0s 21ms/step - loss: 0.2814 - accuracy: 0.9640 - val_loss: 0.2572 - val_accuracy: 0.9580\n",
            "Epoch 32/50\n",
            "6/6 [==============================] - 0s 16ms/step - loss: 0.2644 - accuracy: 0.9580 - val_loss: 0.2495 - val_accuracy: 0.9580\n",
            "Epoch 33/50\n",
            "6/6 [==============================] - 0s 15ms/step - loss: 0.2763 - accuracy: 0.9369 - val_loss: 0.2597 - val_accuracy: 0.9441\n",
            "Epoch 34/50\n",
            "6/6 [==============================] - 0s 12ms/step - loss: 0.2581 - accuracy: 0.9610 - val_loss: 0.2555 - val_accuracy: 0.9580\n",
            "Epoch 35/50\n",
            "6/6 [==============================] - 0s 15ms/step - loss: 0.2348 - accuracy: 0.9640 - val_loss: 0.2499 - val_accuracy: 0.9580\n",
            "Epoch 36/50\n",
            "6/6 [==============================] - 0s 16ms/step - loss: 0.2564 - accuracy: 0.9670 - val_loss: 0.2439 - val_accuracy: 0.9650\n",
            "Epoch 37/50\n",
            "6/6 [==============================] - 0s 22ms/step - loss: 0.2409 - accuracy: 0.9670 - val_loss: 0.2331 - val_accuracy: 0.9650\n",
            "Epoch 38/50\n",
            "6/6 [==============================] - 0s 13ms/step - loss: 0.2222 - accuracy: 0.9700 - val_loss: 0.2335 - val_accuracy: 0.9650\n",
            "Epoch 39/50\n",
            "6/6 [==============================] - 0s 19ms/step - loss: 0.2207 - accuracy: 0.9670 - val_loss: 0.2367 - val_accuracy: 0.9650\n",
            "Epoch 40/50\n",
            "6/6 [==============================] - 0s 17ms/step - loss: 0.2206 - accuracy: 0.9550 - val_loss: 0.2324 - val_accuracy: 0.9650\n",
            "Epoch 41/50\n",
            "6/6 [==============================] - 0s 14ms/step - loss: 0.2137 - accuracy: 0.9640 - val_loss: 0.2436 - val_accuracy: 0.9580\n",
            "Epoch 42/50\n",
            "6/6 [==============================] - 0s 20ms/step - loss: 0.2088 - accuracy: 0.9700 - val_loss: 0.2335 - val_accuracy: 0.9650\n",
            "Epoch 43/50\n",
            "6/6 [==============================] - 0s 14ms/step - loss: 0.2115 - accuracy: 0.9670 - val_loss: 0.2225 - val_accuracy: 0.9650\n",
            "Epoch 44/50\n",
            "6/6 [==============================] - 0s 14ms/step - loss: 0.1988 - accuracy: 0.9700 - val_loss: 0.2262 - val_accuracy: 0.9580\n",
            "Epoch 45/50\n",
            "6/6 [==============================] - 0s 13ms/step - loss: 0.2007 - accuracy: 0.9730 - val_loss: 0.2147 - val_accuracy: 0.9580\n",
            "Epoch 46/50\n",
            "6/6 [==============================] - 0s 14ms/step - loss: 0.1908 - accuracy: 0.9730 - val_loss: 0.2123 - val_accuracy: 0.9650\n",
            "Epoch 47/50\n",
            "6/6 [==============================] - 0s 16ms/step - loss: 0.1963 - accuracy: 0.9640 - val_loss: 0.2166 - val_accuracy: 0.9441\n",
            "Epoch 48/50\n",
            "6/6 [==============================] - 0s 12ms/step - loss: 0.1790 - accuracy: 0.9610 - val_loss: 0.2261 - val_accuracy: 0.9580\n",
            "Epoch 49/50\n",
            "6/6 [==============================] - 0s 12ms/step - loss: 0.2039 - accuracy: 0.9550 - val_loss: 0.2132 - val_accuracy: 0.9650\n",
            "Epoch 50/50\n",
            "6/6 [==============================] - 0s 11ms/step - loss: 0.1943 - accuracy: 0.9610 - val_loss: 0.2189 - val_accuracy: 0.9580\n"
          ]
        },
        {
          "output_type": "execute_result",
          "data": {
            "text/plain": [
              "<keras.callbacks.History at 0x7ff47c610880>"
            ]
          },
          "metadata": {},
          "execution_count": 14
        }
      ]
    },
    {
      "cell_type": "code",
      "source": [
        "model.summary()"
      ],
      "metadata": {
        "colab": {
          "base_uri": "https://localhost:8080/"
        },
        "id": "Fn9SLGOGoXB2",
        "outputId": "5d42c7ef-1a16-4f6e-8bb3-44adefbcc3fd"
      },
      "execution_count": null,
      "outputs": [
        {
          "output_type": "stream",
          "name": "stdout",
          "text": [
            "Model: \"sequential\"\n",
            "_________________________________________________________________\n",
            " Layer (type)                Output Shape              Param #   \n",
            "=================================================================\n",
            " dense (Dense)               (None, 128)               2048      \n",
            "                                                                 \n",
            " dense_1 (Dense)             (None, 64)                8256      \n",
            "                                                                 \n",
            " dense_2 (Dense)             (None, 32)                2080      \n",
            "                                                                 \n",
            " dropout (Dropout)           (None, 32)                0         \n",
            "                                                                 \n",
            " dense_3 (Dense)             (None, 1)                 33        \n",
            "                                                                 \n",
            "=================================================================\n",
            "Total params: 12,417\n",
            "Trainable params: 12,417\n",
            "Non-trainable params: 0\n",
            "_________________________________________________________________\n"
          ]
        }
      ]
    },
    {
      "cell_type": "code",
      "source": [
        "y_pred=model.predict(X_test)\n",
        "y_pred =(y_pred > 0.5)"
      ],
      "metadata": {
        "colab": {
          "base_uri": "https://localhost:8080/"
        },
        "id": "DL_IPecXmB77",
        "outputId": "82d5abc0-3272-4267-b3c0-fb7cd68a0fbd"
      },
      "execution_count": 15,
      "outputs": [
        {
          "output_type": "stream",
          "name": "stdout",
          "text": [
            "5/5 [==============================] - 0s 2ms/step\n"
          ]
        }
      ]
    },
    {
      "cell_type": "code",
      "source": [
        "from sklearn.metrics import confusion_matrix\n",
        "import seaborn as sns \n",
        "\n",
        "cm = confusion_matrix(y_test, y_pred)\n",
        "sns.heatmap(cm, annot = True)\n",
        "plt.xlabel(\"Actual\")\n",
        "plt.ylabel(\"Predicted\")"
      ],
      "metadata": {
        "colab": {
          "base_uri": "https://localhost:8080/",
          "height": 296
        },
        "id": "K6oxGselnidd",
        "outputId": "a3c17120-340a-4bfd-bd61-be4deaca5921"
      },
      "execution_count": null,
      "outputs": [
        {
          "output_type": "execute_result",
          "data": {
            "text/plain": [
              "Text(33.0, 0.5, 'Predicted')"
            ]
          },
          "metadata": {},
          "execution_count": 36
        },
        {
          "output_type": "display_data",
          "data": {
            "text/plain": [
              "<Figure size 432x288 with 2 Axes>"
            ],
            "image/png": "[encoded data removed]"
          },
          "metadata": {
            "needs_background": "light"
          }
        }
      ]
    },
    {
      "cell_type": "markdown",
      "source": [
        "## **Extract weights**"
      ],
      "metadata": {
        "id": "g9R8r4cQoJf8"
      }
    },
    {
      "cell_type": "code",
      "source": [
        "from keras.models import Model \n",
        "\n",
        "layer_name_0 = 'dense'\n",
        "layer_name_1 = 'dense_1'\n",
        "layer_name_2 = 'dense_2'\n",
        "layer_name_3 = 'dense_3'\n",
        "\n",
        "# Visualize the output of each layer \n",
        "intermediate_layer_model_0 = Model(inputs=model.input,\n",
        "                                 outputs=model.get_layer(layer_name_0).output)\n",
        "intermediate_layer_model_1 = Model(inputs=model.input,\n",
        "                                 outputs=model.get_layer(layer_name_1).output)\n",
        "intermediate_layer_model_2 = Model(inputs=model.input,\n",
        "                                 outputs=model.get_layer(layer_name_2).output)\n",
        "intermediate_layer_model_3 = Model(inputs=model.input,\n",
        "                                 outputs=model.get_layer(layer_name_3).output)\n",
        "\n",
        "intermediate_output_0 = intermediate_layer_model_0.predict(X_test)\n",
        "intermediate_output_1 = intermediate_layer_model_1.predict(X_test)\n",
        "intermediate_output_2 = intermediate_layer_model_2.predict(X_test)\n",
        "intermediate_output_3 = intermediate_layer_model_3.predict(X_test)"
      ],
      "metadata": {
        "colab": {
          "base_uri": "https://localhost:8080/"
        },
        "id": "0zkqHyx0oMI7",
        "outputId": "39b9461e-4024-4ab1-c93c-3382bb233e1f"
      },
      "execution_count": 16,
      "outputs": [
        {
          "output_type": "stream",
          "name": "stdout",
          "text": [
            "5/5 [==============================] - 0s 3ms/step\n",
            "5/5 [==============================] - 0s 3ms/step\n",
            "5/5 [==============================] - 0s 3ms/step\n",
            "5/5 [==============================] - 0s 3ms/step\n"
          ]
        }
      ]
    },
    {
      "cell_type": "code",
      "source": [
        "intermediate_output_0.shape"
      ],
      "metadata": {
        "colab": {
          "base_uri": "https://localhost:8080/"
        },
        "id": "jAbgGS22pq3Q",
        "outputId": "77850d8d-70c9-4991-c483-439c5ef199a5"
      },
      "execution_count": null,
      "outputs": [
        {
          "output_type": "execute_result",
          "data": {
            "text/plain": [
              "(143, 128)"
            ]
          },
          "metadata": {},
          "execution_count": 129
        }
      ]
    },
    {
      "cell_type": "code",
      "source": [
        "intermediate_output_1.shape"
      ],
      "metadata": {
        "colab": {
          "base_uri": "https://localhost:8080/"
        },
        "id": "ZDlkN0NbpwNK",
        "outputId": "98b3dddd-c6bb-4df7-9b53-57111201c118"
      },
      "execution_count": null,
      "outputs": [
        {
          "output_type": "execute_result",
          "data": {
            "text/plain": [
              "(143, 64)"
            ]
          },
          "metadata": {},
          "execution_count": 130
        }
      ]
    },
    {
      "cell_type": "code",
      "source": [
        "intermediate_output_2.shape"
      ],
      "metadata": {
        "colab": {
          "base_uri": "https://localhost:8080/"
        },
        "id": "USNRRsh1p9g_",
        "outputId": "f0d8ee71-023f-45c5-bad1-ecea136c04f2"
      },
      "execution_count": null,
      "outputs": [
        {
          "output_type": "execute_result",
          "data": {
            "text/plain": [
              "(143, 32)"
            ]
          },
          "metadata": {},
          "execution_count": 131
        }
      ]
    },
    {
      "cell_type": "code",
      "source": [
        "intermediate_output_3.shape"
      ],
      "metadata": {
        "colab": {
          "base_uri": "https://localhost:8080/"
        },
        "id": "0oR5QTYbqAJN",
        "outputId": "e358e851-bb4a-4747-85be-9f0e9bd1b506"
      },
      "execution_count": null,
      "outputs": [
        {
          "output_type": "execute_result",
          "data": {
            "text/plain": [
              "(143, 1)"
            ]
          },
          "metadata": {},
          "execution_count": 132
        }
      ]
    },
    {
      "cell_type": "markdown",
      "source": [
        "## **Mapper algorithm**"
      ],
      "metadata": {
        "id": "2xi9haFwqaU9"
      }
    },
    {
      "cell_type": "markdown",
      "source": [
        "When applying the mapper algorithm, the node ID is the ID of the original data and not the ID of the weights. "
      ],
      "metadata": {
        "id": "2QHLTopGqOyB"
      }
    },
    {
      "cell_type": "code",
      "source": [
        "!pip install giotto-tda"
      ],
      "metadata": {
        "colab": {
          "base_uri": "https://localhost:8080/"
        },
        "id": "ULNUrVcAqXDo",
        "outputId": "17f35df6-83cf-471c-fb37-c814610561e2"
      },
      "execution_count": 17,
      "outputs": [
        {
          "output_type": "stream",
          "name": "stdout",
          "text": [
            "Looking in indexes: https://pypi.org/simple, https://us-python.pkg.dev/colab-wheels/public/simple/\n",
            "Collecting giotto-tda\n",
            "  Downloading giotto_tda-0.6.0-cp38-cp38-manylinux_2_17_x86_64.manylinux2014_x86_64.whl (1.3 MB)\n",
            "\u001b[2K     \u001b[90m━━━━━━━━━━━━━━━━━━━━━━━━━━━━━━━━━━━━━━━━\u001b[0m \u001b[32m1.3/1.3 MB\u001b[0m \u001b[31m26.4 MB/s\u001b[0m eta \u001b[36m0:00:00\u001b[0m\n",
            "\u001b[?25hCollecting igraph>=0.9.8\n",
            "  Downloading igraph-0.10.3-cp38-cp38-manylinux_2_17_x86_64.manylinux2014_x86_64.whl (3.3 MB)\n",
            "\u001b[2K     \u001b[90m━━━━━━━━━━━━━━━━━━━━━━━━━━━━━━━━━━━━━━━━\u001b[0m \u001b[32m3.3/3.3 MB\u001b[0m \u001b[31m92.6 MB/s\u001b[0m eta \u001b[36m0:00:00\u001b[0m\n",
            "\u001b[?25hCollecting giotto-ph>=0.2.1\n",
            "  Downloading giotto_ph-0.2.2-cp38-cp38-manylinux_2_17_x86_64.manylinux2014_x86_64.whl (526 kB)\n",
            "\u001b[2K     \u001b[90m━━━━━━━━━━━━━━━━━━━━━━━━━━━━━━━━━━━━━━\u001b[0m \u001b[32m526.1/526.1 KB\u001b[0m \u001b[31m57.3 MB/s\u001b[0m eta \u001b[36m0:00:00\u001b[0m\n",
            "\u001b[?25hCollecting pyflagser>=0.4.3\n",
            "  Downloading pyflagser-0.4.5-cp38-cp38-manylinux_2_17_x86_64.manylinux2014_x86_64.whl (452 kB)\n",
            "\u001b[2K     \u001b[90m━━━━━━━━━━━━━━━━━━━━━━━━━━━━━━━━━━━━━━\u001b[0m \u001b[32m452.6/452.6 KB\u001b[0m \u001b[31m51.5 MB/s\u001b[0m eta \u001b[36m0:00:00\u001b[0m\n",
            "\u001b[?25hRequirement already satisfied: ipywidgets>=7.5.1 in /usr/local/lib/python3.8/dist-packages (from giotto-tda) (7.7.1)\n",
            "Requirement already satisfied: scikit-learn>=0.23.1 in /usr/local/lib/python3.8/dist-packages (from giotto-tda) (1.0.2)\n",
            "Requirement already satisfied: plotly>=4.8.2 in /usr/local/lib/python3.8/dist-packages (from giotto-tda) (5.5.0)\n",
            "Requirement already satisfied: numpy>=1.19.1 in /usr/local/lib/python3.8/dist-packages (from giotto-tda) (1.21.6)\n",
            "Requirement already satisfied: joblib>=0.16.0 in /usr/local/lib/python3.8/dist-packages (from giotto-tda) (1.2.0)\n",
            "Requirement already satisfied: scipy>=1.5.0 in /usr/local/lib/python3.8/dist-packages (from giotto-tda) (1.7.3)\n",
            "Collecting texttable>=1.6.2\n",
            "  Downloading texttable-1.6.7-py2.py3-none-any.whl (10 kB)\n",
            "Requirement already satisfied: ipykernel>=4.5.1 in /usr/local/lib/python3.8/dist-packages (from ipywidgets>=7.5.1->giotto-tda) (5.3.4)\n",
            "Requirement already satisfied: jupyterlab-widgets>=1.0.0 in /usr/local/lib/python3.8/dist-packages (from ipywidgets>=7.5.1->giotto-tda) (3.0.5)\n",
            "Requirement already satisfied: widgetsnbextension~=3.6.0 in /usr/local/lib/python3.8/dist-packages (from ipywidgets>=7.5.1->giotto-tda) (3.6.1)\n",
            "Requirement already satisfied: traitlets>=4.3.1 in /usr/local/lib/python3.8/dist-packages (from ipywidgets>=7.5.1->giotto-tda) (5.7.1)\n",
            "Requirement already satisfied: ipython-genutils~=0.2.0 in /usr/local/lib/python3.8/dist-packages (from ipywidgets>=7.5.1->giotto-tda) (0.2.0)\n",
            "Requirement already satisfied: ipython>=4.0.0 in /usr/local/lib/python3.8/dist-packages (from ipywidgets>=7.5.1->giotto-tda) (7.9.0)\n",
            "Requirement already satisfied: six in /usr/local/lib/python3.8/dist-packages (from plotly>=4.8.2->giotto-tda) (1.15.0)\n",
            "Requirement already satisfied: tenacity>=6.2.0 in /usr/local/lib/python3.8/dist-packages (from plotly>=4.8.2->giotto-tda) (8.1.0)\n",
            "Requirement already satisfied: threadpoolctl>=2.0.0 in /usr/local/lib/python3.8/dist-packages (from scikit-learn>=0.23.1->giotto-tda) (3.1.0)\n",
            "Requirement already satisfied: jupyter-client in /usr/local/lib/python3.8/dist-packages (from ipykernel>=4.5.1->ipywidgets>=7.5.1->giotto-tda) (6.1.12)\n",
            "Requirement already satisfied: tornado>=4.2 in /usr/local/lib/python3.8/dist-packages (from ipykernel>=4.5.1->ipywidgets>=7.5.1->giotto-tda) (6.0.4)\n",
            "Collecting jedi>=0.10\n",
            "  Downloading jedi-0.18.2-py2.py3-none-any.whl (1.6 MB)\n",
            "\u001b[2K     \u001b[90m━━━━━━━━━━━━━━━━━━━━━━━━━━━━━━━━━━━━━━━━\u001b[0m \u001b[32m1.6/1.6 MB\u001b[0m \u001b[31m83.8 MB/s\u001b[0m eta \u001b[36m0:00:00\u001b[0m\n",
            "\u001b[?25hRequirement already satisfied: pygments in /usr/local/lib/python3.8/dist-packages (from ipython>=4.0.0->ipywidgets>=7.5.1->giotto-tda) (2.6.1)\n",
            "Requirement already satisfied: prompt-toolkit<2.1.0,>=2.0.0 in /usr/local/lib/python3.8/dist-packages (from ipython>=4.0.0->ipywidgets>=7.5.1->giotto-tda) (2.0.10)\n",
            "Requirement already satisfied: pickleshare in /usr/local/lib/python3.8/dist-packages (from ipython>=4.0.0->ipywidgets>=7.5.1->giotto-tda) (0.7.5)\n",
            "Requirement already satisfied: pexpect in /usr/local/lib/python3.8/dist-packages (from ipython>=4.0.0->ipywidgets>=7.5.1->giotto-tda) (4.8.0)\n",
            "Requirement already satisfied: decorator in /usr/local/lib/python3.8/dist-packages (from ipython>=4.0.0->ipywidgets>=7.5.1->giotto-tda) (4.4.2)\n",
            "Requirement already satisfied: backcall in /usr/local/lib/python3.8/dist-packages (from ipython>=4.0.0->ipywidgets>=7.5.1->giotto-tda) (0.2.0)\n",
            "Requirement already satisfied: setuptools>=18.5 in /usr/local/lib/python3.8/dist-packages (from ipython>=4.0.0->ipywidgets>=7.5.1->giotto-tda) (57.4.0)\n",
            "Requirement already satisfied: notebook>=4.4.1 in /usr/local/lib/python3.8/dist-packages (from widgetsnbextension~=3.6.0->ipywidgets>=7.5.1->giotto-tda) (5.7.16)\n",
            "Requirement already satisfied: parso<0.9.0,>=0.8.0 in /usr/local/lib/python3.8/dist-packages (from jedi>=0.10->ipython>=4.0.0->ipywidgets>=7.5.1->giotto-tda) (0.8.3)\n",
            "Requirement already satisfied: jupyter-core>=4.4.0 in /usr/local/lib/python3.8/dist-packages (from notebook>=4.4.1->widgetsnbextension~=3.6.0->ipywidgets>=7.5.1->giotto-tda) (5.1.2)\n",
            "Requirement already satisfied: nbformat in /usr/local/lib/python3.8/dist-packages (from notebook>=4.4.1->widgetsnbextension~=3.6.0->ipywidgets>=7.5.1->giotto-tda) (5.7.1)\n",
            "Requirement already satisfied: Send2Trash in /usr/local/lib/python3.8/dist-packages (from notebook>=4.4.1->widgetsnbextension~=3.6.0->ipywidgets>=7.5.1->giotto-tda) (1.8.0)\n",
            "Requirement already satisfied: terminado>=0.8.1 in /usr/local/lib/python3.8/dist-packages (from notebook>=4.4.1->widgetsnbextension~=3.6.0->ipywidgets>=7.5.1->giotto-tda) (0.13.3)\n",
            "Requirement already satisfied: nbconvert<6.0 in /usr/local/lib/python3.8/dist-packages (from notebook>=4.4.1->widgetsnbextension~=3.6.0->ipywidgets>=7.5.1->giotto-tda) (5.6.1)\n",
            "Requirement already satisfied: jinja2<=3.0.0 in /usr/local/lib/python3.8/dist-packages (from notebook>=4.4.1->widgetsnbextension~=3.6.0->ipywidgets>=7.5.1->giotto-tda) (2.11.3)\n",
            "Requirement already satisfied: prometheus-client in /usr/local/lib/python3.8/dist-packages (from notebook>=4.4.1->widgetsnbextension~=3.6.0->ipywidgets>=7.5.1->giotto-tda) (0.15.0)\n",
            "Requirement already satisfied: pyzmq>=17 in /usr/local/lib/python3.8/dist-packages (from notebook>=4.4.1->widgetsnbextension~=3.6.0->ipywidgets>=7.5.1->giotto-tda) (23.2.1)\n",
            "Requirement already satisfied: python-dateutil>=2.1 in /usr/local/lib/python3.8/dist-packages (from jupyter-client->ipykernel>=4.5.1->ipywidgets>=7.5.1->giotto-tda) (2.8.2)\n",
            "Requirement already satisfied: wcwidth in /usr/local/lib/python3.8/dist-packages (from prompt-toolkit<2.1.0,>=2.0.0->ipython>=4.0.0->ipywidgets>=7.5.1->giotto-tda) (0.2.5)\n",
            "Requirement already satisfied: ptyprocess>=0.5 in /usr/local/lib/python3.8/dist-packages (from pexpect->ipython>=4.0.0->ipywidgets>=7.5.1->giotto-tda) (0.7.0)\n",
            "Requirement already satisfied: MarkupSafe>=0.23 in /usr/local/lib/python3.8/dist-packages (from jinja2<=3.0.0->notebook>=4.4.1->widgetsnbextension~=3.6.0->ipywidgets>=7.5.1->giotto-tda) (2.0.1)\n",
            "Requirement already satisfied: platformdirs>=2.5 in /usr/local/lib/python3.8/dist-packages (from jupyter-core>=4.4.0->notebook>=4.4.1->widgetsnbextension~=3.6.0->ipywidgets>=7.5.1->giotto-tda) (2.6.2)\n",
            "Requirement already satisfied: pandocfilters>=1.4.1 in /usr/local/lib/python3.8/dist-packages (from nbconvert<6.0->notebook>=4.4.1->widgetsnbextension~=3.6.0->ipywidgets>=7.5.1->giotto-tda) (1.5.0)\n",
            "Requirement already satisfied: bleach in /usr/local/lib/python3.8/dist-packages (from nbconvert<6.0->notebook>=4.4.1->widgetsnbextension~=3.6.0->ipywidgets>=7.5.1->giotto-tda) (5.0.1)\n",
            "Requirement already satisfied: mistune<2,>=0.8.1 in /usr/local/lib/python3.8/dist-packages (from nbconvert<6.0->notebook>=4.4.1->widgetsnbextension~=3.6.0->ipywidgets>=7.5.1->giotto-tda) (0.8.4)\n",
            "Requirement already satisfied: entrypoints>=0.2.2 in /usr/local/lib/python3.8/dist-packages (from nbconvert<6.0->notebook>=4.4.1->widgetsnbextension~=3.6.0->ipywidgets>=7.5.1->giotto-tda) (0.4)\n",
            "Requirement already satisfied: defusedxml in /usr/local/lib/python3.8/dist-packages (from nbconvert<6.0->notebook>=4.4.1->widgetsnbextension~=3.6.0->ipywidgets>=7.5.1->giotto-tda) (0.7.1)\n",
            "Requirement already satisfied: testpath in /usr/local/lib/python3.8/dist-packages (from nbconvert<6.0->notebook>=4.4.1->widgetsnbextension~=3.6.0->ipywidgets>=7.5.1->giotto-tda) (0.6.0)\n",
            "Requirement already satisfied: fastjsonschema in /usr/local/lib/python3.8/dist-packages (from nbformat->notebook>=4.4.1->widgetsnbextension~=3.6.0->ipywidgets>=7.5.1->giotto-tda) (2.16.2)\n",
            "Requirement already satisfied: jsonschema>=2.6 in /usr/local/lib/python3.8/dist-packages (from nbformat->notebook>=4.4.1->widgetsnbextension~=3.6.0->ipywidgets>=7.5.1->giotto-tda) (4.3.3)\n",
            "Requirement already satisfied: attrs>=17.4.0 in /usr/local/lib/python3.8/dist-packages (from jsonschema>=2.6->nbformat->notebook>=4.4.1->widgetsnbextension~=3.6.0->ipywidgets>=7.5.1->giotto-tda) (22.2.0)\n",
            "Requirement already satisfied: importlib-resources>=1.4.0 in /usr/local/lib/python3.8/dist-packages (from jsonschema>=2.6->nbformat->notebook>=4.4.1->widgetsnbextension~=3.6.0->ipywidgets>=7.5.1->giotto-tda) (5.10.2)\n",
            "Requirement already satisfied: pyrsistent!=0.17.0,!=0.17.1,!=0.17.2,>=0.14.0 in /usr/local/lib/python3.8/dist-packages (from jsonschema>=2.6->nbformat->notebook>=4.4.1->widgetsnbextension~=3.6.0->ipywidgets>=7.5.1->giotto-tda) (0.19.3)\n",
            "Requirement already satisfied: webencodings in /usr/local/lib/python3.8/dist-packages (from bleach->nbconvert<6.0->notebook>=4.4.1->widgetsnbextension~=3.6.0->ipywidgets>=7.5.1->giotto-tda) (0.5.1)\n",
            "Requirement already satisfied: zipp>=3.1.0 in /usr/local/lib/python3.8/dist-packages (from importlib-resources>=1.4.0->jsonschema>=2.6->nbformat->notebook>=4.4.1->widgetsnbextension~=3.6.0->ipywidgets>=7.5.1->giotto-tda) (3.11.0)\n",
            "Installing collected packages: texttable, jedi, igraph, pyflagser, giotto-ph, giotto-tda\n",
            "Successfully installed giotto-ph-0.2.2 giotto-tda-0.6.0 igraph-0.10.3 jedi-0.18.2 pyflagser-0.4.5 texttable-1.6.7\n"
          ]
        }
      ]
    },
    {
      "cell_type": "code",
      "source": [
        "import gtda.graphs as gr\n",
        "from gtda.pipeline import Pipeline\n",
        "from gtda.plotting import plot_point_cloud, plot_heatmap\n",
        "from gtda.graphs import KNeighborsGraph, GraphGeodesicDistance\n",
        "from gtda.mapper import (\n",
        "    CubicalCover,\n",
        "    OneDimensionalCover,\n",
        "    make_mapper_pipeline,\n",
        "    Projection,\n",
        "    plot_static_mapper_graph,\n",
        "    plot_interactive_mapper_graph)\n",
        "from gtda.mapper import Eccentricity, Entropy\n",
        "from sklearn.cluster import DBSCAN\n",
        "from sklearn.metrics import pairwise_distances\n",
        "from sklearn.decomposition import PCA"
      ],
      "metadata": {
        "id": "sxO4kp-jq7ya"
      },
      "execution_count": 18,
      "outputs": []
    },
    {
      "cell_type": "code",
      "source": [
        "filter_func = Eccentricity(metric = 'euclidean')\n",
        "cover = CubicalCover(n_intervals = 40, overlap_frac = 0.5)\n",
        "clusterer = DBSCAN(eps = 20, min_samples = 5, metric = 'euclidean') \n",
        "pipe_mapper = make_mapper_pipeline(filter_func = filter_func, cover = cover, clusterer = clusterer, verbose = False, n_jobs = 1)"
      ],
      "metadata": {
        "id": "TS8v7c7QrUlM"
      },
      "execution_count": 19,
      "outputs": []
    },
    {
      "cell_type": "code",
      "source": [
        "plotly_params = {\"node_trace\": {\"marker_colorscale\": \"RdBu\"}}\n",
        "fig = plot_static_mapper_graph(pipe_mapper,\n",
        "                               intermediate_output_0, \n",
        "                               layout='fruchterman_reingold',\n",
        "                               node_scale =20,\n",
        "                               plotly_params=plotly_params)\n",
        "fig.show(config={'scrollZoom': True})"
      ],
      "metadata": {
        "colab": {
          "base_uri": "https://localhost:8080/",
          "height": 542
        },
        "id": "Ab-li2rbrWAn",
        "outputId": "35732d18-38ff-4767-dcf5-cfe08017dd9b"
      },
      "execution_count": 20,
      "outputs": [
        {
          "output_type": "display_data",
          "data": {
            "text/html": [
              "<html>\n",
              "<head><meta charset=\"utf-8\" /></head>\n",
              "<body>\n",
              "    <div>            <script src=\"https://cdnjs.cloudflare.com/ajax/libs/mathjax/2.7.5/MathJax.js?config=TeX-AMS-MML_SVG\"></script><script type=\"text/javascript\">if (window.MathJax) {MathJax.Hub.Config({SVG: {font: \"STIX-Web\"}});}</script>                <script type=\"text/javascript\">window.PlotlyConfig = {MathJaxConfig: 'local'};</script>\n",
              "        <script src=\"https://cdn.plot.ly/plotly-2.8.3.min.js\"></script>                <div id=\"1bb9b74f-b7c1-4cdb-a66c-cf9350beac46\" class=\"plotly-graph-div\" style=\"height:525px; width:100%;\"></div>            <script type=\"text/javascript\">                                    window.PLOTLYENV=window.PLOTLYENV || {};                                    if (document.getElementById(\"1bb9b74f-b7c1-4cdb-a66c-cf9350beac46\")) {                    Plotly.newPlot(                        \"1bb9b74f-b7c1-4cdb-a66c-cf9350beac46\",                        [{\"hoverinfo\":\"none\",\"line\":{\"color\":\"#888\",\"width\":1},\"mode\":\"lines\",\"name\":\"edge_trace\",\"x\":[0.6837916250390419,-0.3390498736906283,null,0.6837916250390419,1.2589969646312535,null,-0.3390498736906283,-1.2238559386536636,null,2.681343680124383,1.7840915903617252,null,1.7840915903617252,1.4671558914255123,null,-1.2238559386536636,-1.82049297552194,null,1.4586242778237486,1.4641846929220848,null,1.4586242778237486,1.4671558914255123,null,1.4641846929220848,1.2589969646312535,null,-2.100262372610258,-2.02217221072858,null,-2.100262372610258,-1.82049297552194,null,-2.02217221072858,-1.6002820319283062,null,-1.6002820319283062,-0.9522964013536744,null,-0.9522964013536744,-0.2381560835368919,null],\"y\":[-2.242494186154024,-2.326863242448075,null,-2.242494186154024,-1.3644820952740055,null,-2.326863242448075,-1.775253740737841,null,2.8898120601581296,2.7338765252049515,null,2.7338765252049515,1.7827097283689164,null,-1.775253740737841,-0.9338775851537428,null,0.7415432628485698,-0.3134229499535205,null,0.7415432628485698,1.7827097283689164,null,-0.3134229499535205,-1.3644820952740055,null,0.0407311862306968,1.043335066641937,null,0.0407311862306968,-0.9338775851537428,null,1.043335066641937,1.9521579188446578,null,1.9521579188446578,2.7099663531488583,null,2.7099663531488583,3.326575467139184,null],\"type\":\"scatter\",\"uid\":\"449e7a4a-d857-4ab5-be40-07ce898eeab4\"},{\"hoverinfo\":\"text\",\"hovertext\":[\"Node ID: 0<br>Pullback set label: 6<br>Partial cluster label: 0<br>Node size: 26<br>Summary statistic: 59.7\",\"Node ID: 1<br>Pullback set label: 7<br>Partial cluster label: 0<br>Node size: 20<br>Summary statistic: 63.0\",\"Node ID: 2<br>Pullback set label: 0<br>Partial cluster label: 0<br>Node size: 23<br>Summary statistic: 75.0\",\"Node ID: 3<br>Pullback set label: 1<br>Partial cluster label: 0<br>Node size: 27<br>Summary statistic: 74.6\",\"Node ID: 4<br>Pullback set label: 8<br>Partial cluster label: 0<br>Node size: 10<br>Summary statistic: 71.6\",\"Node ID: 5<br>Pullback set label: 3<br>Partial cluster label: 0<br>Node size: 45<br>Summary statistic: 79.8\",\"Node ID: 6<br>Pullback set label: 4<br>Partial cluster label: 0<br>Node size: 35<br>Summary statistic: 79.3\",\"Node ID: 7<br>Pullback set label: 2<br>Partial cluster label: 0<br>Node size: 26<br>Summary statistic: 75.0\",\"Node ID: 8<br>Pullback set label: 10<br>Partial cluster label: 0<br>Node size: 8<br>Summary statistic: 49.9\",\"Node ID: 9<br>Pullback set label: 11<br>Partial cluster label: 0<br>Node size: 6<br>Summary statistic: 44.2\",\"Node ID: 10<br>Pullback set label: 9<br>Partial cluster label: 0<br>Node size: 5<br>Summary statistic: 68.2\",\"Node ID: 11<br>Pullback set label: 5<br>Partial cluster label: 0<br>Node size: 22<br>Summary statistic: 62.3\",\"Node ID: 12<br>Pullback set label: 17<br>Partial cluster label: -1<br>Node size: 3<br>Summary statistic: 45.3\",\"Node ID: 13<br>Pullback set label: 15<br>Partial cluster label: 0<br>Node size: 8<br>Summary statistic: 67.6\",\"Node ID: 14<br>Pullback set label: 12<br>Partial cluster label: -1<br>Node size: 2<br>Summary statistic: 73.5\",\"Node ID: 15<br>Pullback set label: 16<br>Partial cluster label: -1<br>Node size: 1<br>Summary statistic: 75.0\",\"Node ID: 16<br>Pullback set label: 13<br>Partial cluster label: -1<br>Node size: 2<br>Summary statistic: 124.0\",\"Node ID: 17<br>Pullback set label: 14<br>Partial cluster label: -1<br>Node size: 1<br>Summary statistic: 135.0\"],\"marker\":{\"color\":[59.73076923076923,63.05,75.0,74.62962962962963,71.6,79.8,79.31428571428572,75.0,49.875,44.166666666666664,68.2,62.31818181818182,45.333333333333336,67.625,73.5,75.0,123.5,135.0],\"colorbar\":{\"thickness\":15,\"title\":{\"side\":\"right\",\"text\":\"\"},\"xanchor\":\"left\"},\"colorscale\":[[0.0,\"rgb(103,0,31)\"],[0.1,\"rgb(178,24,43)\"],[0.2,\"rgb(214,96,77)\"],[0.3,\"rgb(244,165,130)\"],[0.4,\"rgb(253,219,199)\"],[0.5,\"rgb(247,247,247)\"],[0.6,\"rgb(209,229,240)\"],[0.7,\"rgb(146,197,222)\"],[0.8,\"rgb(67,147,195)\"],[0.9,\"rgb(33,102,172)\"],[1.0,\"rgb(5,48,97)\"]],\"line\":{\"color\":\"#888\",\"width\":1},\"opacity\":1.0,\"reversescale\":false,\"showscale\":true,\"size\":[26,20,23,27,10,45,35,26,8,6,5,22,3,8,2,1,2,1],\"sizemin\":4,\"sizemode\":\"area\",\"sizeref\":0.225},\"mode\":\"markers\",\"name\":\"node_trace\",\"x\":[0.6837916250390419,-0.3390498736906283,2.681343680124383,1.7840915903617252,-1.2238559386536636,1.4586242778237486,1.4641846929220848,1.4671558914255123,-2.100262372610258,-2.02217221072858,-1.82049297552194,1.2589969646312535,3.7227193076371594,2.803913320857468,-1.6002820319283062,3.637802406095881,-0.9522964013536744,-0.2381560835368919],\"y\":[-2.242494186154024,-2.326863242448075,2.8898120601581296,2.7338765252049515,-1.775253740737841,0.7415432628485698,-0.3134229499535205,1.7827097283689164,0.0407311862306968,1.043335066641937,-0.9338775851537428,-1.3644820952740055,1.0720309930721283,-2.164411493841113,1.9521579188446578,-0.5701915613142355,2.7099663531488583,3.326575467139184],\"type\":\"scatter\",\"uid\":\"0ad308a6-fa53-4186-9205-39c0c525516f\"}],                        {\"autosize\":false,\"hovermode\":\"closest\",\"margin\":{\"b\":20,\"l\":5,\"r\":5,\"t\":40},\"showlegend\":false,\"template\":{\"data\":{\"barpolar\":[{\"marker\":{\"line\":{\"color\":\"white\",\"width\":0.5},\"pattern\":{\"fillmode\":\"overlay\",\"size\":10,\"solidity\":0.2}},\"type\":\"barpolar\"}],\"bar\":[{\"error_x\":{\"color\":\"rgb(36,36,36)\"},\"error_y\":{\"color\":\"rgb(36,36,36)\"},\"marker\":{\"line\":{\"color\":\"white\",\"width\":0.5},\"pattern\":{\"fillmode\":\"overlay\",\"size\":10,\"solidity\":0.2}},\"type\":\"bar\"}],\"carpet\":[{\"aaxis\":{\"endlinecolor\":\"rgb(36,36,36)\",\"gridcolor\":\"white\",\"linecolor\":\"white\",\"minorgridcolor\":\"white\",\"startlinecolor\":\"rgb(36,36,36)\"},\"baxis\":{\"endlinecolor\":\"rgb(36,36,36)\",\"gridcolor\":\"white\",\"linecolor\":\"white\",\"minorgridcolor\":\"white\",\"startlinecolor\":\"rgb(36,36,36)\"},\"type\":\"carpet\"}],\"choropleth\":[{\"colorbar\":{\"outlinewidth\":1,\"tickcolor\":\"rgb(36,36,36)\",\"ticks\":\"outside\"},\"type\":\"choropleth\"}],\"contourcarpet\":[{\"colorbar\":{\"outlinewidth\":1,\"tickcolor\":\"rgb(36,36,36)\",\"ticks\":\"outside\"},\"type\":\"contourcarpet\"}],\"contour\":[{\"colorbar\":{\"outlinewidth\":1,\"tickcolor\":\"rgb(36,36,36)\",\"ticks\":\"outside\"},\"colorscale\":[[0.0,\"#440154\"],[0.1111111111111111,\"#482878\"],[0.2222222222222222,\"#3e4989\"],[0.3333333333333333,\"#31688e\"],[0.4444444444444444,\"#26828e\"],[0.5555555555555556,\"#1f9e89\"],[0.6666666666666666,\"#35b779\"],[0.7777777777777778,\"#6ece58\"],[0.8888888888888888,\"#b5de2b\"],[1.0,\"#fde725\"]],\"type\":\"contour\"}],\"heatmapgl\":[{\"colorbar\":{\"outlinewidth\":1,\"tickcolor\":\"rgb(36,36,36)\",\"ticks\":\"outside\"},\"colorscale\":[[0.0,\"#440154\"],[0.1111111111111111,\"#482878\"],[0.2222222222222222,\"#3e4989\"],[0.3333333333333333,\"#31688e\"],[0.4444444444444444,\"#26828e\"],[0.5555555555555556,\"#1f9e89\"],[0.6666666666666666,\"#35b779\"],[0.7777777777777778,\"#6ece58\"],[0.8888888888888888,\"#b5de2b\"],[1.0,\"#fde725\"]],\"type\":\"heatmapgl\"}],\"heatmap\":[{\"colorbar\":{\"outlinewidth\":1,\"tickcolor\":\"rgb(36,36,36)\",\"ticks\":\"outside\"},\"colorscale\":[[0.0,\"#440154\"],[0.1111111111111111,\"#482878\"],[0.2222222222222222,\"#3e4989\"],[0.3333333333333333,\"#31688e\"],[0.4444444444444444,\"#26828e\"],[0.5555555555555556,\"#1f9e89\"],[0.6666666666666666,\"#35b779\"],[0.7777777777777778,\"#6ece58\"],[0.8888888888888888,\"#b5de2b\"],[1.0,\"#fde725\"]],\"type\":\"heatmap\"}],\"histogram2dcontour\":[{\"colorbar\":{\"outlinewidth\":1,\"tickcolor\":\"rgb(36,36,36)\",\"ticks\":\"outside\"},\"colorscale\":[[0.0,\"#440154\"],[0.1111111111111111,\"#482878\"],[0.2222222222222222,\"#3e4989\"],[0.3333333333333333,\"#31688e\"],[0.4444444444444444,\"#26828e\"],[0.5555555555555556,\"#1f9e89\"],[0.6666666666666666,\"#35b779\"],[0.7777777777777778,\"#6ece58\"],[0.8888888888888888,\"#b5de2b\"],[1.0,\"#fde725\"]],\"type\":\"histogram2dcontour\"}],\"histogram2d\":[{\"colorbar\":{\"outlinewidth\":1,\"tickcolor\":\"rgb(36,36,36)\",\"ticks\":\"outside\"},\"colorscale\":[[0.0,\"#440154\"],[0.1111111111111111,\"#482878\"],[0.2222222222222222,\"#3e4989\"],[0.3333333333333333,\"#31688e\"],[0.4444444444444444,\"#26828e\"],[0.5555555555555556,\"#1f9e89\"],[0.6666666666666666,\"#35b779\"],[0.7777777777777778,\"#6ece58\"],[0.8888888888888888,\"#b5de2b\"],[1.0,\"#fde725\"]],\"type\":\"histogram2d\"}],\"histogram\":[{\"marker\":{\"line\":{\"color\":\"white\",\"width\":0.6}},\"type\":\"histogram\"}],\"mesh3d\":[{\"colorbar\":{\"outlinewidth\":1,\"tickcolor\":\"rgb(36,36,36)\",\"ticks\":\"outside\"},\"type\":\"mesh3d\"}],\"parcoords\":[{\"line\":{\"colorbar\":{\"outlinewidth\":1,\"tickcolor\":\"rgb(36,36,36)\",\"ticks\":\"outside\"}},\"type\":\"parcoords\"}],\"pie\":[{\"automargin\":true,\"type\":\"pie\"}],\"scatter3d\":[{\"line\":{\"colorbar\":{\"outlinewidth\":1,\"tickcolor\":\"rgb(36,36,36)\",\"ticks\":\"outside\"}},\"marker\":{\"colorbar\":{\"outlinewidth\":1,\"tickcolor\":\"rgb(36,36,36)\",\"ticks\":\"outside\"}},\"type\":\"scatter3d\"}],\"scattercarpet\":[{\"marker\":{\"colorbar\":{\"outlinewidth\":1,\"tickcolor\":\"rgb(36,36,36)\",\"ticks\":\"outside\"}},\"type\":\"scattercarpet\"}],\"scattergeo\":[{\"marker\":{\"colorbar\":{\"outlinewidth\":1,\"tickcolor\":\"rgb(36,36,36)\",\"ticks\":\"outside\"}},\"type\":\"scattergeo\"}],\"scattergl\":[{\"marker\":{\"colorbar\":{\"outlinewidth\":1,\"tickcolor\":\"rgb(36,36,36)\",\"ticks\":\"outside\"}},\"type\":\"scattergl\"}],\"scattermapbox\":[{\"marker\":{\"colorbar\":{\"outlinewidth\":1,\"tickcolor\":\"rgb(36,36,36)\",\"ticks\":\"outside\"}},\"type\":\"scattermapbox\"}],\"scatterpolargl\":[{\"marker\":{\"colorbar\":{\"outlinewidth\":1,\"tickcolor\":\"rgb(36,36,36)\",\"ticks\":\"outside\"}},\"type\":\"scatterpolargl\"}],\"scatterpolar\":[{\"marker\":{\"colorbar\":{\"outlinewidth\":1,\"tickcolor\":\"rgb(36,36,36)\",\"ticks\":\"outside\"}},\"type\":\"scatterpolar\"}],\"scatter\":[{\"marker\":{\"colorbar\":{\"outlinewidth\":1,\"tickcolor\":\"rgb(36,36,36)\",\"ticks\":\"outside\"}},\"type\":\"scatter\"}],\"scatterternary\":[{\"marker\":{\"colorbar\":{\"outlinewidth\":1,\"tickcolor\":\"rgb(36,36,36)\",\"ticks\":\"outside\"}},\"type\":\"scatterternary\"}],\"surface\":[{\"colorbar\":{\"outlinewidth\":1,\"tickcolor\":\"rgb(36,36,36)\",\"ticks\":\"outside\"},\"colorscale\":[[0.0,\"#440154\"],[0.1111111111111111,\"#482878\"],[0.2222222222222222,\"#3e4989\"],[0.3333333333333333,\"#31688e\"],[0.4444444444444444,\"#26828e\"],[0.5555555555555556,\"#1f9e89\"],[0.6666666666666666,\"#35b779\"],[0.7777777777777778,\"#6ece58\"],[0.8888888888888888,\"#b5de2b\"],[1.0,\"#fde725\"]],\"type\":\"surface\"}],\"table\":[{\"cells\":{\"fill\":{\"color\":\"rgb(237,237,237)\"},\"line\":{\"color\":\"white\"}},\"header\":{\"fill\":{\"color\":\"rgb(217,217,217)\"},\"line\":{\"color\":\"white\"}},\"type\":\"table\"}]},\"layout\":{\"annotationdefaults\":{\"arrowhead\":0,\"arrowwidth\":1},\"autotypenumbers\":\"strict\",\"coloraxis\":{\"colorbar\":{\"outlinewidth\":1,\"tickcolor\":\"rgb(36,36,36)\",\"ticks\":\"outside\"}},\"colorscale\":{\"diverging\":[[0.0,\"rgb(103,0,31)\"],[0.1,\"rgb(178,24,43)\"],[0.2,\"rgb(214,96,77)\"],[0.3,\"rgb(244,165,130)\"],[0.4,\"rgb(253,219,199)\"],[0.5,\"rgb(247,247,247)\"],[0.6,\"rgb(209,229,240)\"],[0.7,\"rgb(146,197,222)\"],[0.8,\"rgb(67,147,195)\"],[0.9,\"rgb(33,102,172)\"],[1.0,\"rgb(5,48,97)\"]],\"sequential\":[[0.0,\"#440154\"],[0.1111111111111111,\"#482878\"],[0.2222222222222222,\"#3e4989\"],[0.3333333333333333,\"#31688e\"],[0.4444444444444444,\"#26828e\"],[0.5555555555555556,\"#1f9e89\"],[0.6666666666666666,\"#35b779\"],[0.7777777777777778,\"#6ece58\"],[0.8888888888888888,\"#b5de2b\"],[1.0,\"#fde725\"]],\"sequentialminus\":[[0.0,\"#440154\"],[0.1111111111111111,\"#482878\"],[0.2222222222222222,\"#3e4989\"],[0.3333333333333333,\"#31688e\"],[0.4444444444444444,\"#26828e\"],[0.5555555555555556,\"#1f9e89\"],[0.6666666666666666,\"#35b779\"],[0.7777777777777778,\"#6ece58\"],[0.8888888888888888,\"#b5de2b\"],[1.0,\"#fde725\"]]},\"colorway\":[\"#1F77B4\",\"#FF7F0E\",\"#2CA02C\",\"#D62728\",\"#9467BD\",\"#8C564B\",\"#E377C2\",\"#7F7F7F\",\"#BCBD22\",\"#17BECF\"],\"font\":{\"color\":\"rgb(36,36,36)\"},\"geo\":{\"bgcolor\":\"white\",\"lakecolor\":\"white\",\"landcolor\":\"white\",\"showlakes\":true,\"showland\":true,\"subunitcolor\":\"white\"},\"hoverlabel\":{\"align\":\"left\"},\"hovermode\":\"closest\",\"mapbox\":{\"style\":\"light\"},\"paper_bgcolor\":\"white\",\"plot_bgcolor\":\"white\",\"polar\":{\"angularaxis\":{\"gridcolor\":\"rgb(232,232,232)\",\"linecolor\":\"rgb(36,36,36)\",\"showgrid\":false,\"showline\":true,\"ticks\":\"outside\"},\"bgcolor\":\"white\",\"radialaxis\":{\"gridcolor\":\"rgb(232,232,232)\",\"linecolor\":\"rgb(36,36,36)\",\"showgrid\":false,\"showline\":true,\"ticks\":\"outside\"}},\"scene\":{\"xaxis\":{\"backgroundcolor\":\"white\",\"gridcolor\":\"rgb(232,232,232)\",\"gridwidth\":2,\"linecolor\":\"rgb(36,36,36)\",\"showbackground\":true,\"showgrid\":false,\"showline\":true,\"ticks\":\"outside\",\"zeroline\":false,\"zerolinecolor\":\"rgb(36,36,36)\"},\"yaxis\":{\"backgroundcolor\":\"white\",\"gridcolor\":\"rgb(232,232,232)\",\"gridwidth\":2,\"linecolor\":\"rgb(36,36,36)\",\"showbackground\":true,\"showgrid\":false,\"showline\":true,\"ticks\":\"outside\",\"zeroline\":false,\"zerolinecolor\":\"rgb(36,36,36)\"},\"zaxis\":{\"backgroundcolor\":\"white\",\"gridcolor\":\"rgb(232,232,232)\",\"gridwidth\":2,\"linecolor\":\"rgb(36,36,36)\",\"showbackground\":true,\"showgrid\":false,\"showline\":true,\"ticks\":\"outside\",\"zeroline\":false,\"zerolinecolor\":\"rgb(36,36,36)\"}},\"shapedefaults\":{\"fillcolor\":\"black\",\"line\":{\"width\":0},\"opacity\":0.3},\"ternary\":{\"aaxis\":{\"gridcolor\":\"rgb(232,232,232)\",\"linecolor\":\"rgb(36,36,36)\",\"showgrid\":false,\"showline\":true,\"ticks\":\"outside\"},\"baxis\":{\"gridcolor\":\"rgb(232,232,232)\",\"linecolor\":\"rgb(36,36,36)\",\"showgrid\":false,\"showline\":true,\"ticks\":\"outside\"},\"bgcolor\":\"white\",\"caxis\":{\"gridcolor\":\"rgb(232,232,232)\",\"linecolor\":\"rgb(36,36,36)\",\"showgrid\":false,\"showline\":true,\"ticks\":\"outside\"}},\"title\":{\"x\":0.05},\"xaxis\":{\"automargin\":true,\"gridcolor\":\"rgb(232,232,232)\",\"linecolor\":\"rgb(36,36,36)\",\"showgrid\":false,\"showline\":true,\"ticks\":\"outside\",\"title\":{\"standoff\":15},\"zeroline\":false,\"zerolinecolor\":\"rgb(36,36,36)\"},\"yaxis\":{\"automargin\":true,\"gridcolor\":\"rgb(232,232,232)\",\"linecolor\":\"rgb(36,36,36)\",\"showgrid\":false,\"showline\":true,\"ticks\":\"outside\",\"title\":{\"standoff\":15},\"zeroline\":false,\"zerolinecolor\":\"rgb(36,36,36)\"}}},\"title\":{\"text\":\"\"},\"xaxis\":{\"showgrid\":false,\"showline\":false,\"showticklabels\":false,\"ticks\":\"\",\"title\":{\"text\":\"\"},\"zeroline\":false},\"yaxis\":{\"showgrid\":false,\"showline\":false,\"showticklabels\":false,\"ticks\":\"\",\"title\":{\"text\":\"\"},\"zeroline\":false}},                        {\"scrollZoom\": true, \"responsive\": true}                    ).then(function(){\n",
              "                            \n",
              "var gd = document.getElementById('1bb9b74f-b7c1-4cdb-a66c-cf9350beac46');\n",
              "var x = new MutationObserver(function (mutations, observer) {{\n",
              "        var display = window.getComputedStyle(gd).display;\n",
              "        if (!display || display === 'none') {{\n",
              "            console.log([gd, 'removed!']);\n",
              "            Plotly.purge(gd);\n",
              "            observer.disconnect();\n",
              "        }}\n",
              "}});\n",
              "\n",
              "// Listen for the removal of the full notebook cells\n",
              "var notebookContainer = gd.closest('#notebook-container');\n",
              "if (notebookContainer) {{\n",
              "    x.observe(notebookContainer, {childList: true});\n",
              "}}\n",
              "\n",
              "// Listen for the clearing of the current output cell\n",
              "var outputEl = gd.closest('.output');\n",
              "if (outputEl) {{\n",
              "    x.observe(outputEl, {childList: true});\n",
              "}}\n",
              "\n",
              "                        })                };                            </script>        </div>\n",
              "</body>\n",
              "</html>"
            ]
          },
          "metadata": {}
        }
      ]
    },
    {
      "cell_type": "code",
      "source": [
        "plotly_params = {\"node_trace\": {\"marker_colorscale\": \"RdBu\"}}\n",
        "fig = plot_static_mapper_graph(pipe_mapper,\n",
        "                               intermediate_output_1, \n",
        "                               layout='fruchterman_reingold',\n",
        "                               node_scale =20,\n",
        "                               plotly_params=plotly_params)\n",
        "fig.show(config={'scrollZoom': True})"
      ],
      "metadata": {
        "colab": {
          "base_uri": "https://localhost:8080/",
          "height": 542
        },
        "id": "4UAOTqMgr56p",
        "outputId": "2ce42df0-38c4-4fb0-ae8e-b24fcf99c59b"
      },
      "execution_count": 21,
      "outputs": [
        {
          "output_type": "display_data",
          "data": {
            "text/html": [
              "<html>\n",
              "<head><meta charset=\"utf-8\" /></head>\n",
              "<body>\n",
              "    <div>            <script src=\"https://cdnjs.cloudflare.com/ajax/libs/mathjax/2.7.5/MathJax.js?config=TeX-AMS-MML_SVG\"></script><script type=\"text/javascript\">if (window.MathJax) {MathJax.Hub.Config({SVG: {font: \"STIX-Web\"}});}</script>                <script type=\"text/javascript\">window.PlotlyConfig = {MathJaxConfig: 'local'};</script>\n",
              "        <script src=\"https://cdn.plot.ly/plotly-2.8.3.min.js\"></script>                <div id=\"9eccbc25-a73d-41ec-8d95-751e8eeec62c\" class=\"plotly-graph-div\" style=\"height:525px; width:100%;\"></div>            <script type=\"text/javascript\">                                    window.PLOTLYENV=window.PLOTLYENV || {};                                    if (document.getElementById(\"9eccbc25-a73d-41ec-8d95-751e8eeec62c\")) {                    Plotly.newPlot(                        \"9eccbc25-a73d-41ec-8d95-751e8eeec62c\",                        [{\"hoverinfo\":\"none\",\"line\":{\"color\":\"#888\",\"width\":1},\"mode\":\"lines\",\"name\":\"edge_trace\",\"x\":[-1.8771927762630025,-1.270401222158363,null,-1.8771927762630025,-2.8962900772946103,null,-1.270401222158363,-0.8918134883481356,null,-3.6567082264753807,-2.8962900772946103,null,-3.6567082264753807,-3.5267672639155707,null,-0.26756280293498647,-0.40235658410357994,null,-0.26756280293498647,0.29469869434887414,null,-0.40235658410357994,0.22352437409753667,null,-3.5267672639155707,-3.0237569270767337,null,-0.8918134883481356,-0.33768440210091255,null,-0.33768440210091255,0.7019100442852202,null,-2.4243606620200144,-3.0237569270767337,null,4.182795592671425,4.023597506625707,null,4.182795592671425,4.202274911724267,null,4.023597506625707,3.6575927873218665,null,0.7019100442852202,1.3439861163215305,null,1.3439861163215305,1.5284174113599498,null,1.39684523855502,0.9310282908146351,null,1.39684523855502,1.5284174113599498,null,0.9310282908146351,0.29469869434887414,null,2.758370356857672,2.1062931710678,null,2.758370356857672,2.9794141767287847,null,3.6575927873218665,3.171793138939459,null,4.296074227068048,4.202274911724267,null],\"y\":[-0.18917233600783062,0.7860527451012693,null,-0.18917233600783062,-0.5399652278325596,null,0.7860527451012693,1.9065165389303915,null,0.14877670098178322,-0.5399652278325596,null,0.14877670098178322,1.2283762546466328,null,-3.1115683890548587,-4.089640503017553,null,-3.1115683890548587,-2.2446701010372174,null,-4.089640503017553,-4.755419528705128,null,1.2283762546466328,2.2161999181950693,null,1.9065165389303915,2.876295036953038,null,2.876295036953038,2.740158963954872,null,3.052111841961184,2.2161999181950693,null,0.06585024708603616,1.0559056116754943,null,0.06585024708603616,-0.9097101979384936,null,1.0559056116754943,2.005922051964052,null,2.740158963954872,1.8463095372054756,null,1.8463095372054756,0.7192886626125212,null,-0.39735780347646493,-1.3882599664567437,null,-0.39735780347646493,0.7192886626125212,null,-1.3882599664567437,-2.2446701010372174,null,-3.6064019182300853,-4.225688542014179,null,-3.6064019182300853,-2.745224506778336,null,2.005922051964052,2.83766053985637,null,-1.8189256878580369,-0.9097101979384936,null],\"type\":\"scatter\",\"uid\":\"a36c0411-1383-4439-8be2-6d3d00891590\"},{\"hoverinfo\":\"text\",\"hovertext\":[\"Node ID: 0<br>Pullback set label: 5<br>Partial cluster label: 0<br>Node size: 20<br>Summary statistic: 77.4\",\"Node ID: 1<br>Pullback set label: 6<br>Partial cluster label: 0<br>Node size: 19<br>Summary statistic: 65.3\",\"Node ID: 2<br>Pullback set label: 3<br>Partial cluster label: 0<br>Node size: 21<br>Summary statistic: 79.1\",\"Node ID: 3<br>Pullback set label: 4<br>Partial cluster label: 0<br>Node size: 16<br>Summary statistic: 89.4\",\"Node ID: 4<br>Pullback set label: 15<br>Partial cluster label: 0<br>Node size: 11<br>Summary statistic: 62.8\",\"Node ID: 5<br>Pullback set label: 16<br>Partial cluster label: 0<br>Node size: 5<br>Summary statistic: 81.6\",\"Node ID: 6<br>Pullback set label: 2<br>Partial cluster label: 0<br>Node size: 22<br>Summary statistic: 86.5\",\"Node ID: 7<br>Pullback set label: 7<br>Partial cluster label: 0<br>Node size: 21<br>Summary statistic: 64.3\",\"Node ID: 8<br>Pullback set label: 8<br>Partial cluster label: 0<br>Node size: 31<br>Summary statistic: 64.3\",\"Node ID: 9<br>Pullback set label: 0<br>Partial cluster label: -1<br>Node size: 4<br>Summary statistic: 41.0\",\"Node ID: 10<br>Pullback set label: 1<br>Partial cluster label: 0<br>Node size: 13<br>Summary statistic: 82.7\",\"Node ID: 11<br>Pullback set label: 23<br>Partial cluster label: -1<br>Node size: 3<br>Summary statistic: 87.0\",\"Node ID: 12<br>Pullback set label: 24<br>Partial cluster label: -1<br>Node size: 4<br>Summary statistic: 49.5\",\"Node ID: 13<br>Pullback set label: 9<br>Partial cluster label: 0<br>Node size: 23<br>Summary statistic: 63.1\",\"Node ID: 14<br>Pullback set label: 10<br>Partial cluster label: 0<br>Node size: 11<br>Summary statistic: 62.5\",\"Node ID: 15<br>Pullback set label: 12<br>Partial cluster label: 0<br>Node size: 10<br>Summary statistic: 68.2\",\"Node ID: 16<br>Pullback set label: 13<br>Partial cluster label: 0<br>Node size: 7<br>Summary statistic: 60.3\",\"Node ID: 17<br>Pullback set label: 19<br>Partial cluster label: 0<br>Node size: 5<br>Summary statistic: 38.4\",\"Node ID: 18<br>Pullback set label: 20<br>Partial cluster label: -1<br>Node size: 1<br>Summary statistic: 14.0\",\"Node ID: 19<br>Pullback set label: 14<br>Partial cluster label: 0<br>Node size: 8<br>Summary statistic: 63.4\",\"Node ID: 20<br>Pullback set label: 25<br>Partial cluster label: -1<br>Node size: 3<br>Summary statistic: 59.7\",\"Node ID: 21<br>Pullback set label: 18<br>Partial cluster label: -1<br>Node size: 4<br>Summary statistic: 44.5\",\"Node ID: 22<br>Pullback set label: 11<br>Partial cluster label: 0<br>Node size: 7<br>Summary statistic: 83.1\",\"Node ID: 23<br>Pullback set label: 30<br>Partial cluster label: -1<br>Node size: 2<br>Summary statistic: 70.0\",\"Node ID: 24<br>Pullback set label: 29<br>Partial cluster label: -1<br>Node size: 1<br>Summary statistic: 51.0\",\"Node ID: 25<br>Pullback set label: 27<br>Partial cluster label: -1<br>Node size: 1<br>Summary statistic: 75.0\",\"Node ID: 26<br>Pullback set label: 21<br>Partial cluster label: -1<br>Node size: 1<br>Summary statistic: 107.0\",\"Node ID: 27<br>Pullback set label: 22<br>Partial cluster label: -1<br>Node size: 2<br>Summary statistic: 110.0\",\"Node ID: 28<br>Pullback set label: 17<br>Partial cluster label: -1<br>Node size: 1<br>Summary statistic: 121.0\",\"Node ID: 29<br>Pullback set label: 26<br>Partial cluster label: -1<br>Node size: 1<br>Summary statistic: 130.0\",\"Node ID: 30<br>Pullback set label: 28<br>Partial cluster label: -1<br>Node size: 1<br>Summary statistic: 135.0\"],\"marker\":{\"color\":[77.45,65.3157894736842,79.0952380952381,89.375,62.81818181818182,81.6,86.45454545454545,64.33333333333333,64.25806451612904,41.0,82.6923076923077,87.0,49.5,63.08695652173913,62.45454545454545,68.2,60.285714285714285,38.4,14.0,63.375,59.666666666666664,44.5,83.14285714285714,70.0,51.0,75.0,107.0,109.5,121.0,130.0,135.0],\"colorbar\":{\"thickness\":15,\"title\":{\"side\":\"right\",\"text\":\"\"},\"xanchor\":\"left\"},\"colorscale\":[[0.0,\"rgb(103,0,31)\"],[0.1,\"rgb(178,24,43)\"],[0.2,\"rgb(214,96,77)\"],[0.3,\"rgb(244,165,130)\"],[0.4,\"rgb(253,219,199)\"],[0.5,\"rgb(247,247,247)\"],[0.6,\"rgb(209,229,240)\"],[0.7,\"rgb(146,197,222)\"],[0.8,\"rgb(67,147,195)\"],[0.9,\"rgb(33,102,172)\"],[1.0,\"rgb(5,48,97)\"]],\"line\":{\"color\":\"#888\",\"width\":1},\"opacity\":1.0,\"reversescale\":false,\"showscale\":true,\"size\":[20,19,21,16,11,5,22,21,31,4,13,3,4,23,11,10,7,5,1,8,3,4,7,2,1,1,1,2,1,1,1],\"sizemin\":4,\"sizemode\":\"area\",\"sizeref\":0.155},\"mode\":\"markers\",\"name\":\"node_trace\",\"x\":[-1.8771927762630025,-1.270401222158363,-3.6567082264753807,-2.8962900772946103,-0.26756280293498647,-0.40235658410357994,-3.5267672639155707,-0.8918134883481356,-0.33768440210091255,-2.4243606620200144,-3.0237569270767337,4.182795592671425,4.023597506625707,0.7019100442852202,1.3439861163215305,1.39684523855502,0.9310282908146351,2.758370356857672,2.1062931710678,0.29469869434887414,3.6575927873218665,2.9794141767287847,1.5284174113599498,-2.3015246764923565,-2.3221659779962134,-3.7465129456483415,4.296074227068048,4.202274911724267,0.22352437409753667,3.171793138939459,1.1783353489927622],\"y\":[-0.18917233600783062,0.7860527451012693,0.14877670098178322,-0.5399652278325596,-3.1115683890548587,-4.089640503017553,1.2283762546466328,1.9065165389303915,2.876295036953038,3.052111841961184,2.2161999181950693,0.06585024708603616,1.0559056116754943,2.740158963954872,1.8463095372054756,-0.39735780347646493,-1.3882599664567437,-3.6064019182300853,-4.225688542014179,-2.2446701010372174,2.005922051964052,-2.745224506778336,0.7192886626125212,-2.5503971605497955,-3.9899126263180396,-2.2433099871877262,-1.8189256878580369,-0.9097101979384936,-4.755419528705128,2.83766053985637,4.1967741472345805],\"type\":\"scatter\",\"uid\":\"1200355f-9315-4bfe-a380-a57cafcc0c3c\"}],                        {\"autosize\":false,\"hovermode\":\"closest\",\"margin\":{\"b\":20,\"l\":5,\"r\":5,\"t\":40},\"showlegend\":false,\"template\":{\"data\":{\"barpolar\":[{\"marker\":{\"line\":{\"color\":\"white\",\"width\":0.5},\"pattern\":{\"fillmode\":\"overlay\",\"size\":10,\"solidity\":0.2}},\"type\":\"barpolar\"}],\"bar\":[{\"error_x\":{\"color\":\"rgb(36,36,36)\"},\"error_y\":{\"color\":\"rgb(36,36,36)\"},\"marker\":{\"line\":{\"color\":\"white\",\"width\":0.5},\"pattern\":{\"fillmode\":\"overlay\",\"size\":10,\"solidity\":0.2}},\"type\":\"bar\"}],\"carpet\":[{\"aaxis\":{\"endlinecolor\":\"rgb(36,36,36)\",\"gridcolor\":\"white\",\"linecolor\":\"white\",\"minorgridcolor\":\"white\",\"startlinecolor\":\"rgb(36,36,36)\"},\"baxis\":{\"endlinecolor\":\"rgb(36,36,36)\",\"gridcolor\":\"white\",\"linecolor\":\"white\",\"minorgridcolor\":\"white\",\"startlinecolor\":\"rgb(36,36,36)\"},\"type\":\"carpet\"}],\"choropleth\":[{\"colorbar\":{\"outlinewidth\":1,\"tickcolor\":\"rgb(36,36,36)\",\"ticks\":\"outside\"},\"type\":\"choropleth\"}],\"contourcarpet\":[{\"colorbar\":{\"outlinewidth\":1,\"tickcolor\":\"rgb(36,36,36)\",\"ticks\":\"outside\"},\"type\":\"contourcarpet\"}],\"contour\":[{\"colorbar\":{\"outlinewidth\":1,\"tickcolor\":\"rgb(36,36,36)\",\"ticks\":\"outside\"},\"colorscale\":[[0.0,\"#440154\"],[0.1111111111111111,\"#482878\"],[0.2222222222222222,\"#3e4989\"],[0.3333333333333333,\"#31688e\"],[0.4444444444444444,\"#26828e\"],[0.5555555555555556,\"#1f9e89\"],[0.6666666666666666,\"#35b779\"],[0.7777777777777778,\"#6ece58\"],[0.8888888888888888,\"#b5de2b\"],[1.0,\"#fde725\"]],\"type\":\"contour\"}],\"heatmapgl\":[{\"colorbar\":{\"outlinewidth\":1,\"tickcolor\":\"rgb(36,36,36)\",\"ticks\":\"outside\"},\"colorscale\":[[0.0,\"#440154\"],[0.1111111111111111,\"#482878\"],[0.2222222222222222,\"#3e4989\"],[0.3333333333333333,\"#31688e\"],[0.4444444444444444,\"#26828e\"],[0.5555555555555556,\"#1f9e89\"],[0.6666666666666666,\"#35b779\"],[0.7777777777777778,\"#6ece58\"],[0.8888888888888888,\"#b5de2b\"],[1.0,\"#fde725\"]],\"type\":\"heatmapgl\"}],\"heatmap\":[{\"colorbar\":{\"outlinewidth\":1,\"tickcolor\":\"rgb(36,36,36)\",\"ticks\":\"outside\"},\"colorscale\":[[0.0,\"#440154\"],[0.1111111111111111,\"#482878\"],[0.2222222222222222,\"#3e4989\"],[0.3333333333333333,\"#31688e\"],[0.4444444444444444,\"#26828e\"],[0.5555555555555556,\"#1f9e89\"],[0.6666666666666666,\"#35b779\"],[0.7777777777777778,\"#6ece58\"],[0.8888888888888888,\"#b5de2b\"],[1.0,\"#fde725\"]],\"type\":\"heatmap\"}],\"histogram2dcontour\":[{\"colorbar\":{\"outlinewidth\":1,\"tickcolor\":\"rgb(36,36,36)\",\"ticks\":\"outside\"},\"colorscale\":[[0.0,\"#440154\"],[0.1111111111111111,\"#482878\"],[0.2222222222222222,\"#3e4989\"],[0.3333333333333333,\"#31688e\"],[0.4444444444444444,\"#26828e\"],[0.5555555555555556,\"#1f9e89\"],[0.6666666666666666,\"#35b779\"],[0.7777777777777778,\"#6ece58\"],[0.8888888888888888,\"#b5de2b\"],[1.0,\"#fde725\"]],\"type\":\"histogram2dcontour\"}],\"histogram2d\":[{\"colorbar\":{\"outlinewidth\":1,\"tickcolor\":\"rgb(36,36,36)\",\"ticks\":\"outside\"},\"colorscale\":[[0.0,\"#440154\"],[0.1111111111111111,\"#482878\"],[0.2222222222222222,\"#3e4989\"],[0.3333333333333333,\"#31688e\"],[0.4444444444444444,\"#26828e\"],[0.5555555555555556,\"#1f9e89\"],[0.6666666666666666,\"#35b779\"],[0.7777777777777778,\"#6ece58\"],[0.8888888888888888,\"#b5de2b\"],[1.0,\"#fde725\"]],\"type\":\"histogram2d\"}],\"histogram\":[{\"marker\":{\"line\":{\"color\":\"white\",\"width\":0.6}},\"type\":\"histogram\"}],\"mesh3d\":[{\"colorbar\":{\"outlinewidth\":1,\"tickcolor\":\"rgb(36,36,36)\",\"ticks\":\"outside\"},\"type\":\"mesh3d\"}],\"parcoords\":[{\"line\":{\"colorbar\":{\"outlinewidth\":1,\"tickcolor\":\"rgb(36,36,36)\",\"ticks\":\"outside\"}},\"type\":\"parcoords\"}],\"pie\":[{\"automargin\":true,\"type\":\"pie\"}],\"scatter3d\":[{\"line\":{\"colorbar\":{\"outlinewidth\":1,\"tickcolor\":\"rgb(36,36,36)\",\"ticks\":\"outside\"}},\"marker\":{\"colorbar\":{\"outlinewidth\":1,\"tickcolor\":\"rgb(36,36,36)\",\"ticks\":\"outside\"}},\"type\":\"scatter3d\"}],\"scattercarpet\":[{\"marker\":{\"colorbar\":{\"outlinewidth\":1,\"tickcolor\":\"rgb(36,36,36)\",\"ticks\":\"outside\"}},\"type\":\"scattercarpet\"}],\"scattergeo\":[{\"marker\":{\"colorbar\":{\"outlinewidth\":1,\"tickcolor\":\"rgb(36,36,36)\",\"ticks\":\"outside\"}},\"type\":\"scattergeo\"}],\"scattergl\":[{\"marker\":{\"colorbar\":{\"outlinewidth\":1,\"tickcolor\":\"rgb(36,36,36)\",\"ticks\":\"outside\"}},\"type\":\"scattergl\"}],\"scattermapbox\":[{\"marker\":{\"colorbar\":{\"outlinewidth\":1,\"tickcolor\":\"rgb(36,36,36)\",\"ticks\":\"outside\"}},\"type\":\"scattermapbox\"}],\"scatterpolargl\":[{\"marker\":{\"colorbar\":{\"outlinewidth\":1,\"tickcolor\":\"rgb(36,36,36)\",\"ticks\":\"outside\"}},\"type\":\"scatterpolargl\"}],\"scatterpolar\":[{\"marker\":{\"colorbar\":{\"outlinewidth\":1,\"tickcolor\":\"rgb(36,36,36)\",\"ticks\":\"outside\"}},\"type\":\"scatterpolar\"}],\"scatter\":[{\"marker\":{\"colorbar\":{\"outlinewidth\":1,\"tickcolor\":\"rgb(36,36,36)\",\"ticks\":\"outside\"}},\"type\":\"scatter\"}],\"scatterternary\":[{\"marker\":{\"colorbar\":{\"outlinewidth\":1,\"tickcolor\":\"rgb(36,36,36)\",\"ticks\":\"outside\"}},\"type\":\"scatterternary\"}],\"surface\":[{\"colorbar\":{\"outlinewidth\":1,\"tickcolor\":\"rgb(36,36,36)\",\"ticks\":\"outside\"},\"colorscale\":[[0.0,\"#440154\"],[0.1111111111111111,\"#482878\"],[0.2222222222222222,\"#3e4989\"],[0.3333333333333333,\"#31688e\"],[0.4444444444444444,\"#26828e\"],[0.5555555555555556,\"#1f9e89\"],[0.6666666666666666,\"#35b779\"],[0.7777777777777778,\"#6ece58\"],[0.8888888888888888,\"#b5de2b\"],[1.0,\"#fde725\"]],\"type\":\"surface\"}],\"table\":[{\"cells\":{\"fill\":{\"color\":\"rgb(237,237,237)\"},\"line\":{\"color\":\"white\"}},\"header\":{\"fill\":{\"color\":\"rgb(217,217,217)\"},\"line\":{\"color\":\"white\"}},\"type\":\"table\"}]},\"layout\":{\"annotationdefaults\":{\"arrowhead\":0,\"arrowwidth\":1},\"autotypenumbers\":\"strict\",\"coloraxis\":{\"colorbar\":{\"outlinewidth\":1,\"tickcolor\":\"rgb(36,36,36)\",\"ticks\":\"outside\"}},\"colorscale\":{\"diverging\":[[0.0,\"rgb(103,0,31)\"],[0.1,\"rgb(178,24,43)\"],[0.2,\"rgb(214,96,77)\"],[0.3,\"rgb(244,165,130)\"],[0.4,\"rgb(253,219,199)\"],[0.5,\"rgb(247,247,247)\"],[0.6,\"rgb(209,229,240)\"],[0.7,\"rgb(146,197,222)\"],[0.8,\"rgb(67,147,195)\"],[0.9,\"rgb(33,102,172)\"],[1.0,\"rgb(5,48,97)\"]],\"sequential\":[[0.0,\"#440154\"],[0.1111111111111111,\"#482878\"],[0.2222222222222222,\"#3e4989\"],[0.3333333333333333,\"#31688e\"],[0.4444444444444444,\"#26828e\"],[0.5555555555555556,\"#1f9e89\"],[0.6666666666666666,\"#35b779\"],[0.7777777777777778,\"#6ece58\"],[0.8888888888888888,\"#b5de2b\"],[1.0,\"#fde725\"]],\"sequentialminus\":[[0.0,\"#440154\"],[0.1111111111111111,\"#482878\"],[0.2222222222222222,\"#3e4989\"],[0.3333333333333333,\"#31688e\"],[0.4444444444444444,\"#26828e\"],[0.5555555555555556,\"#1f9e89\"],[0.6666666666666666,\"#35b779\"],[0.7777777777777778,\"#6ece58\"],[0.8888888888888888,\"#b5de2b\"],[1.0,\"#fde725\"]]},\"colorway\":[\"#1F77B4\",\"#FF7F0E\",\"#2CA02C\",\"#D62728\",\"#9467BD\",\"#8C564B\",\"#E377C2\",\"#7F7F7F\",\"#BCBD22\",\"#17BECF\"],\"font\":{\"color\":\"rgb(36,36,36)\"},\"geo\":{\"bgcolor\":\"white\",\"lakecolor\":\"white\",\"landcolor\":\"white\",\"showlakes\":true,\"showland\":true,\"subunitcolor\":\"white\"},\"hoverlabel\":{\"align\":\"left\"},\"hovermode\":\"closest\",\"mapbox\":{\"style\":\"light\"},\"paper_bgcolor\":\"white\",\"plot_bgcolor\":\"white\",\"polar\":{\"angularaxis\":{\"gridcolor\":\"rgb(232,232,232)\",\"linecolor\":\"rgb(36,36,36)\",\"showgrid\":false,\"showline\":true,\"ticks\":\"outside\"},\"bgcolor\":\"white\",\"radialaxis\":{\"gridcolor\":\"rgb(232,232,232)\",\"linecolor\":\"rgb(36,36,36)\",\"showgrid\":false,\"showline\":true,\"ticks\":\"outside\"}},\"scene\":{\"xaxis\":{\"backgroundcolor\":\"white\",\"gridcolor\":\"rgb(232,232,232)\",\"gridwidth\":2,\"linecolor\":\"rgb(36,36,36)\",\"showbackground\":true,\"showgrid\":false,\"showline\":true,\"ticks\":\"outside\",\"zeroline\":false,\"zerolinecolor\":\"rgb(36,36,36)\"},\"yaxis\":{\"backgroundcolor\":\"white\",\"gridcolor\":\"rgb(232,232,232)\",\"gridwidth\":2,\"linecolor\":\"rgb(36,36,36)\",\"showbackground\":true,\"showgrid\":false,\"showline\":true,\"ticks\":\"outside\",\"zeroline\":false,\"zerolinecolor\":\"rgb(36,36,36)\"},\"zaxis\":{\"backgroundcolor\":\"white\",\"gridcolor\":\"rgb(232,232,232)\",\"gridwidth\":2,\"linecolor\":\"rgb(36,36,36)\",\"showbackground\":true,\"showgrid\":false,\"showline\":true,\"ticks\":\"outside\",\"zeroline\":false,\"zerolinecolor\":\"rgb(36,36,36)\"}},\"shapedefaults\":{\"fillcolor\":\"black\",\"line\":{\"width\":0},\"opacity\":0.3},\"ternary\":{\"aaxis\":{\"gridcolor\":\"rgb(232,232,232)\",\"linecolor\":\"rgb(36,36,36)\",\"showgrid\":false,\"showline\":true,\"ticks\":\"outside\"},\"baxis\":{\"gridcolor\":\"rgb(232,232,232)\",\"linecolor\":\"rgb(36,36,36)\",\"showgrid\":false,\"showline\":true,\"ticks\":\"outside\"},\"bgcolor\":\"white\",\"caxis\":{\"gridcolor\":\"rgb(232,232,232)\",\"linecolor\":\"rgb(36,36,36)\",\"showgrid\":false,\"showline\":true,\"ticks\":\"outside\"}},\"title\":{\"x\":0.05},\"xaxis\":{\"automargin\":true,\"gridcolor\":\"rgb(232,232,232)\",\"linecolor\":\"rgb(36,36,36)\",\"showgrid\":false,\"showline\":true,\"ticks\":\"outside\",\"title\":{\"standoff\":15},\"zeroline\":false,\"zerolinecolor\":\"rgb(36,36,36)\"},\"yaxis\":{\"automargin\":true,\"gridcolor\":\"rgb(232,232,232)\",\"linecolor\":\"rgb(36,36,36)\",\"showgrid\":false,\"showline\":true,\"ticks\":\"outside\",\"title\":{\"standoff\":15},\"zeroline\":false,\"zerolinecolor\":\"rgb(36,36,36)\"}}},\"title\":{\"text\":\"\"},\"xaxis\":{\"showgrid\":false,\"showline\":false,\"showticklabels\":false,\"ticks\":\"\",\"title\":{\"text\":\"\"},\"zeroline\":false},\"yaxis\":{\"showgrid\":false,\"showline\":false,\"showticklabels\":false,\"ticks\":\"\",\"title\":{\"text\":\"\"},\"zeroline\":false}},                        {\"scrollZoom\": true, \"responsive\": true}                    ).then(function(){\n",
              "                            \n",
              "var gd = document.getElementById('9eccbc25-a73d-41ec-8d95-751e8eeec62c');\n",
              "var x = new MutationObserver(function (mutations, observer) {{\n",
              "        var display = window.getComputedStyle(gd).display;\n",
              "        if (!display || display === 'none') {{\n",
              "            console.log([gd, 'removed!']);\n",
              "            Plotly.purge(gd);\n",
              "            observer.disconnect();\n",
              "        }}\n",
              "}});\n",
              "\n",
              "// Listen for the removal of the full notebook cells\n",
              "var notebookContainer = gd.closest('#notebook-container');\n",
              "if (notebookContainer) {{\n",
              "    x.observe(notebookContainer, {childList: true});\n",
              "}}\n",
              "\n",
              "// Listen for the clearing of the current output cell\n",
              "var outputEl = gd.closest('.output');\n",
              "if (outputEl) {{\n",
              "    x.observe(outputEl, {childList: true});\n",
              "}}\n",
              "\n",
              "                        })                };                            </script>        </div>\n",
              "</body>\n",
              "</html>"
            ]
          },
          "metadata": {}
        }
      ]
    },
    {
      "cell_type": "code",
      "source": [
        "plotly_params = {\"node_trace\": {\"marker_colorscale\": \"RdBu\"}}\n",
        "fig = plot_static_mapper_graph(pipe_mapper,\n",
        "                               intermediate_output_2, \n",
        "                               layout='fruchterman_reingold',\n",
        "                               node_scale =20,\n",
        "                               plotly_params=plotly_params)\n",
        "fig.show(config={'scrollZoom': True})"
      ],
      "metadata": {
        "colab": {
          "base_uri": "https://localhost:8080/",
          "height": 542
        },
        "id": "mg--_Agdr91u",
        "outputId": "92e62b6a-c19f-41e5-c4ed-c10caf7483ae"
      },
      "execution_count": 22,
      "outputs": [
        {
          "output_type": "display_data",
          "data": {
            "text/html": [
              "<html>\n",
              "<head><meta charset=\"utf-8\" /></head>\n",
              "<body>\n",
              "    <div>            <script src=\"https://cdnjs.cloudflare.com/ajax/libs/mathjax/2.7.5/MathJax.js?config=TeX-AMS-MML_SVG\"></script><script type=\"text/javascript\">if (window.MathJax) {MathJax.Hub.Config({SVG: {font: \"STIX-Web\"}});}</script>                <script type=\"text/javascript\">window.PlotlyConfig = {MathJaxConfig: 'local'};</script>\n",
              "        <script src=\"https://cdn.plot.ly/plotly-2.8.3.min.js\"></script>                <div id=\"a396807b-adfb-44f5-becd-860d063342c8\" class=\"plotly-graph-div\" style=\"height:525px; width:100%;\"></div>            <script type=\"text/javascript\">                                    window.PLOTLYENV=window.PLOTLYENV || {};                                    if (document.getElementById(\"a396807b-adfb-44f5-becd-860d063342c8\")) {                    Plotly.newPlot(                        \"a396807b-adfb-44f5-becd-860d063342c8\",                        [{\"hoverinfo\":\"none\",\"line\":{\"color\":\"#888\",\"width\":1},\"mode\":\"lines\",\"name\":\"edge_trace\",\"x\":[3.665611869411218,2.797321782957922,null,3.665611869411218,3.9841435272523325,null,2.797321782957922,1.7983478565472366,null,1.7983478565472366,1.2195714883689446,null,1.6282221241465153,2.364712040340301,null,1.6282221241465153,0.7153225941119339,null,1.2195714883689446,0.8441496046891781,null,0.8441496046891781,0.28449301140275474,null,3.9841435272523325,3.822058669607605,null,0.28449301140275474,-0.5754589255863097,null,-0.5754589255863097,-1.5542207568962447,null,3.131993700641953,3.822058669607605,null,-1.3598674133309796,-1.2908766610003914,null,-1.3598674133309796,-0.6456552786208323,null,-1.2908766610003914,-1.4028348697189021,null,-1.5542207568962447,-2.1758250988861145,null,-2.1758250988861145,-1.3997748095046822,null,-3.9486975854814816,-3.544313963940537,null,-3.9486975854814816,-4.268621735129528,null,-1.3997748095046822,-0.3193254650364547,null,-0.3193254650364547,0.7153225941119339,null,-1.4028348697189021,-1.7731295824604143,null,-1.7731295824604143,-2.2437874611088353,null,-4.268621735129528,-4.416435809073585,null,-4.354369976119526,-4.416435809073585,null,-2.2437874611088353,-2.709208396288835,null],\"y\":[1.955615660360922,2.4804406510384367,null,1.955615660360922,0.9728662367910351,null,2.4804406510384367,2.1589840008902508,null,2.1589840008902508,1.2435154946664746,null,-3.2898746545476163,-2.767117345450257,null,-3.2898746545476163,-3.6913821384635663,null,1.2435154946664746,0.1873592542345332,null,0.1873592542345332,-0.7995403839831843,null,0.9728662367910351,-0.023262086252792438,null,-0.7995403839831843,-1.5774155049677305,null,-1.5774155049677305,-2.2373919395712996,null,-0.6756000923731384,-0.023262086252792438,null,4.198547396749001,3.242205020956616,null,4.198547396749001,4.752032372536567,null,3.242205020956616,2.2450972231564634,null,-2.2373919395712996,-3.1066949844303284,null,-3.1066949844303284,-3.79949020046423,null,2.0989809042944243,3.0163881859878354,null,2.0989809042944243,1.053210096720051,null,-3.79949020046423,-3.902998296411299,null,-3.902998296411299,-3.6913821384635663,null,2.2450972231564634,1.2269443544978555,null,1.2269443544978555,0.20164413413486929,null,1.053210096720051,-0.05992631538131896,null,-1.10991608682578,-0.05992631538131896,null,0.20164413413486929,-0.7529022318495369,null],\"type\":\"scatter\",\"uid\":\"2caf64d8-01c0-49f7-b49b-8fb07a3beadb\"},{\"hoverinfo\":\"text\",\"hovertext\":[\"Node ID: 0<br>Pullback set label: 3<br>Partial cluster label: 0<br>Node size: 17<br>Summary statistic: 81.9\",\"Node ID: 1<br>Pullback set label: 4<br>Partial cluster label: 0<br>Node size: 17<br>Summary statistic: 81.6\",\"Node ID: 2<br>Pullback set label: 5<br>Partial cluster label: 0<br>Node size: 15<br>Summary statistic: 79.5\",\"Node ID: 3<br>Pullback set label: 15<br>Partial cluster label: -1<br>Node size: 3<br>Summary statistic: 83.7\",\"Node ID: 4<br>Pullback set label: 16<br>Partial cluster label: -1<br>Node size: 2<br>Summary statistic: 61.5\",\"Node ID: 5<br>Pullback set label: 6<br>Partial cluster label: 0<br>Node size: 30<br>Summary statistic: 62.6\",\"Node ID: 6<br>Pullback set label: 7<br>Partial cluster label: 0<br>Node size: 31<br>Summary statistic: 60.4\",\"Node ID: 7<br>Pullback set label: 2<br>Partial cluster label: 0<br>Node size: 14<br>Summary statistic: 82.9\",\"Node ID: 8<br>Pullback set label: 8<br>Partial cluster label: 0<br>Node size: 16<br>Summary statistic: 69.3\",\"Node ID: 9<br>Pullback set label: 9<br>Partial cluster label: 0<br>Node size: 18<br>Summary statistic: 71.8\",\"Node ID: 10<br>Pullback set label: 0<br>Partial cluster label: 0<br>Node size: 11<br>Summary statistic: 72.5\",\"Node ID: 11<br>Pullback set label: 23<br>Partial cluster label: -1<br>Node size: 3<br>Summary statistic: 75.7\",\"Node ID: 12<br>Pullback set label: 24<br>Partial cluster label: -1<br>Node size: 2<br>Summary statistic: 74.5\",\"Node ID: 13<br>Pullback set label: 10<br>Partial cluster label: 0<br>Node size: 20<br>Summary statistic: 70.3\",\"Node ID: 14<br>Pullback set label: 11<br>Partial cluster label: 0<br>Node size: 13<br>Summary statistic: 64.5\",\"Node ID: 15<br>Pullback set label: 20<br>Partial cluster label: -1<br>Node size: 3<br>Summary statistic: 35.3\",\"Node ID: 16<br>Pullback set label: 21<br>Partial cluster label: -1<br>Node size: 2<br>Summary statistic: 36.5\",\"Node ID: 17<br>Pullback set label: 12<br>Partial cluster label: 0<br>Node size: 10<br>Summary statistic: 68.4\",\"Node ID: 18<br>Pullback set label: 13<br>Partial cluster label: 0<br>Node size: 10<br>Summary statistic: 69.9\",\"Node ID: 19<br>Pullback set label: 25<br>Partial cluster label: -1<br>Node size: 3<br>Summary statistic: 63.3\",\"Node ID: 20<br>Pullback set label: 26<br>Partial cluster label: -1<br>Node size: 3<br>Summary statistic: 59.7\",\"Node ID: 21<br>Pullback set label: 14<br>Partial cluster label: 0<br>Node size: 6<br>Summary statistic: 77.7\",\"Node ID: 22<br>Pullback set label: 1<br>Partial cluster label: 0<br>Node size: 14<br>Summary statistic: 90.9\",\"Node ID: 23<br>Pullback set label: 19<br>Partial cluster label: -1<br>Node size: 2<br>Summary statistic: 38.5\",\"Node ID: 24<br>Pullback set label: 17<br>Partial cluster label: -1<br>Node size: 1<br>Summary statistic: 42.0\",\"Node ID: 25<br>Pullback set label: 18<br>Partial cluster label: -1<br>Node size: 2<br>Summary statistic: 43.0\",\"Node ID: 26<br>Pullback set label: 31<br>Partial cluster label: -1<br>Node size: 2<br>Summary statistic: 70.0\",\"Node ID: 27<br>Pullback set label: 30<br>Partial cluster label: -1<br>Node size: 1<br>Summary statistic: 51.0\",\"Node ID: 28<br>Pullback set label: 27<br>Partial cluster label: -1<br>Node size: 2<br>Summary statistic: 102.0\",\"Node ID: 29<br>Pullback set label: 28<br>Partial cluster label: -1<br>Node size: 1<br>Summary statistic: 75.0\",\"Node ID: 30<br>Pullback set label: 22<br>Partial cluster label: -1<br>Node size: 2<br>Summary statistic: 110.0\",\"Node ID: 31<br>Pullback set label: 29<br>Partial cluster label: -1<br>Node size: 1<br>Summary statistic: 135.0\"],\"marker\":{\"color\":[81.94117647058823,81.6470588235294,79.46666666666667,83.66666666666667,61.5,62.63333333333333,60.354838709677416,82.92857142857143,69.3125,71.77777777777777,72.45454545454545,75.66666666666667,74.5,70.3,64.53846153846153,35.333333333333336,36.5,68.4,69.9,63.333333333333336,59.666666666666664,77.66666666666667,90.85714285714286,38.5,42.0,43.0,70.0,51.0,102.5,75.0,109.5,135.0],\"colorbar\":{\"thickness\":15,\"title\":{\"side\":\"right\",\"text\":\"\"},\"xanchor\":\"left\"},\"colorscale\":[[0.0,\"rgb(103,0,31)\"],[0.1,\"rgb(178,24,43)\"],[0.2,\"rgb(214,96,77)\"],[0.3,\"rgb(244,165,130)\"],[0.4,\"rgb(253,219,199)\"],[0.5,\"rgb(247,247,247)\"],[0.6,\"rgb(209,229,240)\"],[0.7,\"rgb(146,197,222)\"],[0.8,\"rgb(67,147,195)\"],[0.9,\"rgb(33,102,172)\"],[1.0,\"rgb(5,48,97)\"]],\"line\":{\"color\":\"#888\",\"width\":1},\"opacity\":1.0,\"reversescale\":false,\"showscale\":true,\"size\":[17,17,15,3,2,30,31,14,16,18,11,3,2,20,13,3,2,10,10,3,3,6,14,2,1,2,2,1,2,1,2,1],\"sizemin\":4,\"sizemode\":\"area\",\"sizeref\":0.155},\"mode\":\"markers\",\"name\":\"node_trace\",\"x\":[3.665611869411218,2.797321782957922,1.7983478565472366,1.6282221241465153,2.364712040340301,1.2195714883689446,0.8441496046891781,3.9841435272523325,0.28449301140275474,-0.5754589255863097,3.131993700641953,-1.3598674133309796,-1.2908766610003914,-1.5542207568962447,-2.1758250988861145,-3.9486975854814816,-3.544313963940537,-1.3997748095046822,-0.3193254650364547,-1.4028348697189021,-1.7731295824604143,0.7153225941119339,3.822058669607605,-4.268621735129528,-4.354369976119526,-4.416435809073585,3.751652103619449,2.29803478501556,-2.2437874611088353,-2.709208396288835,-0.6456552786208323,0.8795459071730188],\"y\":[1.955615660360922,2.4804406510384367,2.1589840008902508,-3.2898746545476163,-2.767117345450257,1.2435154946664746,0.1873592542345332,0.9728662367910351,-0.7995403839831843,-1.5774155049677305,-0.6756000923731384,4.198547396749001,3.242205020956616,-2.2373919395712996,-3.1066949844303284,2.0989809042944243,3.0163881859878354,-3.79949020046423,-3.902998296411299,2.2450972231564634,1.2269443544978555,-3.6913821384635663,-0.023262086252792438,1.053210096720051,-1.10991608682578,-0.05992631538131896,-2.056911122443529,4.154192481239318,0.20164413413486929,-0.7529022318495369,4.752032372536567,4.256260849052804],\"type\":\"scatter\",\"uid\":\"c0cee344-fcd4-435e-8f8b-34e7c6697de8\"}],                        {\"autosize\":false,\"hovermode\":\"closest\",\"margin\":{\"b\":20,\"l\":5,\"r\":5,\"t\":40},\"showlegend\":false,\"template\":{\"data\":{\"barpolar\":[{\"marker\":{\"line\":{\"color\":\"white\",\"width\":0.5},\"pattern\":{\"fillmode\":\"overlay\",\"size\":10,\"solidity\":0.2}},\"type\":\"barpolar\"}],\"bar\":[{\"error_x\":{\"color\":\"rgb(36,36,36)\"},\"error_y\":{\"color\":\"rgb(36,36,36)\"},\"marker\":{\"line\":{\"color\":\"white\",\"width\":0.5},\"pattern\":{\"fillmode\":\"overlay\",\"size\":10,\"solidity\":0.2}},\"type\":\"bar\"}],\"carpet\":[{\"aaxis\":{\"endlinecolor\":\"rgb(36,36,36)\",\"gridcolor\":\"white\",\"linecolor\":\"white\",\"minorgridcolor\":\"white\",\"startlinecolor\":\"rgb(36,36,36)\"},\"baxis\":{\"endlinecolor\":\"rgb(36,36,36)\",\"gridcolor\":\"white\",\"linecolor\":\"white\",\"minorgridcolor\":\"white\",\"startlinecolor\":\"rgb(36,36,36)\"},\"type\":\"carpet\"}],\"choropleth\":[{\"colorbar\":{\"outlinewidth\":1,\"tickcolor\":\"rgb(36,36,36)\",\"ticks\":\"outside\"},\"type\":\"choropleth\"}],\"contourcarpet\":[{\"colorbar\":{\"outlinewidth\":1,\"tickcolor\":\"rgb(36,36,36)\",\"ticks\":\"outside\"},\"type\":\"contourcarpet\"}],\"contour\":[{\"colorbar\":{\"outlinewidth\":1,\"tickcolor\":\"rgb(36,36,36)\",\"ticks\":\"outside\"},\"colorscale\":[[0.0,\"#440154\"],[0.1111111111111111,\"#482878\"],[0.2222222222222222,\"#3e4989\"],[0.3333333333333333,\"#31688e\"],[0.4444444444444444,\"#26828e\"],[0.5555555555555556,\"#1f9e89\"],[0.6666666666666666,\"#35b779\"],[0.7777777777777778,\"#6ece58\"],[0.8888888888888888,\"#b5de2b\"],[1.0,\"#fde725\"]],\"type\":\"contour\"}],\"heatmapgl\":[{\"colorbar\":{\"outlinewidth\":1,\"tickcolor\":\"rgb(36,36,36)\",\"ticks\":\"outside\"},\"colorscale\":[[0.0,\"#440154\"],[0.1111111111111111,\"#482878\"],[0.2222222222222222,\"#3e4989\"],[0.3333333333333333,\"#31688e\"],[0.4444444444444444,\"#26828e\"],[0.5555555555555556,\"#1f9e89\"],[0.6666666666666666,\"#35b779\"],[0.7777777777777778,\"#6ece58\"],[0.8888888888888888,\"#b5de2b\"],[1.0,\"#fde725\"]],\"type\":\"heatmapgl\"}],\"heatmap\":[{\"colorbar\":{\"outlinewidth\":1,\"tickcolor\":\"rgb(36,36,36)\",\"ticks\":\"outside\"},\"colorscale\":[[0.0,\"#440154\"],[0.1111111111111111,\"#482878\"],[0.2222222222222222,\"#3e4989\"],[0.3333333333333333,\"#31688e\"],[0.4444444444444444,\"#26828e\"],[0.5555555555555556,\"#1f9e89\"],[0.6666666666666666,\"#35b779\"],[0.7777777777777778,\"#6ece58\"],[0.8888888888888888,\"#b5de2b\"],[1.0,\"#fde725\"]],\"type\":\"heatmap\"}],\"histogram2dcontour\":[{\"colorbar\":{\"outlinewidth\":1,\"tickcolor\":\"rgb(36,36,36)\",\"ticks\":\"outside\"},\"colorscale\":[[0.0,\"#440154\"],[0.1111111111111111,\"#482878\"],[0.2222222222222222,\"#3e4989\"],[0.3333333333333333,\"#31688e\"],[0.4444444444444444,\"#26828e\"],[0.5555555555555556,\"#1f9e89\"],[0.6666666666666666,\"#35b779\"],[0.7777777777777778,\"#6ece58\"],[0.8888888888888888,\"#b5de2b\"],[1.0,\"#fde725\"]],\"type\":\"histogram2dcontour\"}],\"histogram2d\":[{\"colorbar\":{\"outlinewidth\":1,\"tickcolor\":\"rgb(36,36,36)\",\"ticks\":\"outside\"},\"colorscale\":[[0.0,\"#440154\"],[0.1111111111111111,\"#482878\"],[0.2222222222222222,\"#3e4989\"],[0.3333333333333333,\"#31688e\"],[0.4444444444444444,\"#26828e\"],[0.5555555555555556,\"#1f9e89\"],[0.6666666666666666,\"#35b779\"],[0.7777777777777778,\"#6ece58\"],[0.8888888888888888,\"#b5de2b\"],[1.0,\"#fde725\"]],\"type\":\"histogram2d\"}],\"histogram\":[{\"marker\":{\"line\":{\"color\":\"white\",\"width\":0.6}},\"type\":\"histogram\"}],\"mesh3d\":[{\"colorbar\":{\"outlinewidth\":1,\"tickcolor\":\"rgb(36,36,36)\",\"ticks\":\"outside\"},\"type\":\"mesh3d\"}],\"parcoords\":[{\"line\":{\"colorbar\":{\"outlinewidth\":1,\"tickcolor\":\"rgb(36,36,36)\",\"ticks\":\"outside\"}},\"type\":\"parcoords\"}],\"pie\":[{\"automargin\":true,\"type\":\"pie\"}],\"scatter3d\":[{\"line\":{\"colorbar\":{\"outlinewidth\":1,\"tickcolor\":\"rgb(36,36,36)\",\"ticks\":\"outside\"}},\"marker\":{\"colorbar\":{\"outlinewidth\":1,\"tickcolor\":\"rgb(36,36,36)\",\"ticks\":\"outside\"}},\"type\":\"scatter3d\"}],\"scattercarpet\":[{\"marker\":{\"colorbar\":{\"outlinewidth\":1,\"tickcolor\":\"rgb(36,36,36)\",\"ticks\":\"outside\"}},\"type\":\"scattercarpet\"}],\"scattergeo\":[{\"marker\":{\"colorbar\":{\"outlinewidth\":1,\"tickcolor\":\"rgb(36,36,36)\",\"ticks\":\"outside\"}},\"type\":\"scattergeo\"}],\"scattergl\":[{\"marker\":{\"colorbar\":{\"outlinewidth\":1,\"tickcolor\":\"rgb(36,36,36)\",\"ticks\":\"outside\"}},\"type\":\"scattergl\"}],\"scattermapbox\":[{\"marker\":{\"colorbar\":{\"outlinewidth\":1,\"tickcolor\":\"rgb(36,36,36)\",\"ticks\":\"outside\"}},\"type\":\"scattermapbox\"}],\"scatterpolargl\":[{\"marker\":{\"colorbar\":{\"outlinewidth\":1,\"tickcolor\":\"rgb(36,36,36)\",\"ticks\":\"outside\"}},\"type\":\"scatterpolargl\"}],\"scatterpolar\":[{\"marker\":{\"colorbar\":{\"outlinewidth\":1,\"tickcolor\":\"rgb(36,36,36)\",\"ticks\":\"outside\"}},\"type\":\"scatterpolar\"}],\"scatter\":[{\"marker\":{\"colorbar\":{\"outlinewidth\":1,\"tickcolor\":\"rgb(36,36,36)\",\"ticks\":\"outside\"}},\"type\":\"scatter\"}],\"scatterternary\":[{\"marker\":{\"colorbar\":{\"outlinewidth\":1,\"tickcolor\":\"rgb(36,36,36)\",\"ticks\":\"outside\"}},\"type\":\"scatterternary\"}],\"surface\":[{\"colorbar\":{\"outlinewidth\":1,\"tickcolor\":\"rgb(36,36,36)\",\"ticks\":\"outside\"},\"colorscale\":[[0.0,\"#440154\"],[0.1111111111111111,\"#482878\"],[0.2222222222222222,\"#3e4989\"],[0.3333333333333333,\"#31688e\"],[0.4444444444444444,\"#26828e\"],[0.5555555555555556,\"#1f9e89\"],[0.6666666666666666,\"#35b779\"],[0.7777777777777778,\"#6ece58\"],[0.8888888888888888,\"#b5de2b\"],[1.0,\"#fde725\"]],\"type\":\"surface\"}],\"table\":[{\"cells\":{\"fill\":{\"color\":\"rgb(237,237,237)\"},\"line\":{\"color\":\"white\"}},\"header\":{\"fill\":{\"color\":\"rgb(217,217,217)\"},\"line\":{\"color\":\"white\"}},\"type\":\"table\"}]},\"layout\":{\"annotationdefaults\":{\"arrowhead\":0,\"arrowwidth\":1},\"autotypenumbers\":\"strict\",\"coloraxis\":{\"colorbar\":{\"outlinewidth\":1,\"tickcolor\":\"rgb(36,36,36)\",\"ticks\":\"outside\"}},\"colorscale\":{\"diverging\":[[0.0,\"rgb(103,0,31)\"],[0.1,\"rgb(178,24,43)\"],[0.2,\"rgb(214,96,77)\"],[0.3,\"rgb(244,165,130)\"],[0.4,\"rgb(253,219,199)\"],[0.5,\"rgb(247,247,247)\"],[0.6,\"rgb(209,229,240)\"],[0.7,\"rgb(146,197,222)\"],[0.8,\"rgb(67,147,195)\"],[0.9,\"rgb(33,102,172)\"],[1.0,\"rgb(5,48,97)\"]],\"sequential\":[[0.0,\"#440154\"],[0.1111111111111111,\"#482878\"],[0.2222222222222222,\"#3e4989\"],[0.3333333333333333,\"#31688e\"],[0.4444444444444444,\"#26828e\"],[0.5555555555555556,\"#1f9e89\"],[0.6666666666666666,\"#35b779\"],[0.7777777777777778,\"#6ece58\"],[0.8888888888888888,\"#b5de2b\"],[1.0,\"#fde725\"]],\"sequentialminus\":[[0.0,\"#440154\"],[0.1111111111111111,\"#482878\"],[0.2222222222222222,\"#3e4989\"],[0.3333333333333333,\"#31688e\"],[0.4444444444444444,\"#26828e\"],[0.5555555555555556,\"#1f9e89\"],[0.6666666666666666,\"#35b779\"],[0.7777777777777778,\"#6ece58\"],[0.8888888888888888,\"#b5de2b\"],[1.0,\"#fde725\"]]},\"colorway\":[\"#1F77B4\",\"#FF7F0E\",\"#2CA02C\",\"#D62728\",\"#9467BD\",\"#8C564B\",\"#E377C2\",\"#7F7F7F\",\"#BCBD22\",\"#17BECF\"],\"font\":{\"color\":\"rgb(36,36,36)\"},\"geo\":{\"bgcolor\":\"white\",\"lakecolor\":\"white\",\"landcolor\":\"white\",\"showlakes\":true,\"showland\":true,\"subunitcolor\":\"white\"},\"hoverlabel\":{\"align\":\"left\"},\"hovermode\":\"closest\",\"mapbox\":{\"style\":\"light\"},\"paper_bgcolor\":\"white\",\"plot_bgcolor\":\"white\",\"polar\":{\"angularaxis\":{\"gridcolor\":\"rgb(232,232,232)\",\"linecolor\":\"rgb(36,36,36)\",\"showgrid\":false,\"showline\":true,\"ticks\":\"outside\"},\"bgcolor\":\"white\",\"radialaxis\":{\"gridcolor\":\"rgb(232,232,232)\",\"linecolor\":\"rgb(36,36,36)\",\"showgrid\":false,\"showline\":true,\"ticks\":\"outside\"}},\"scene\":{\"xaxis\":{\"backgroundcolor\":\"white\",\"gridcolor\":\"rgb(232,232,232)\",\"gridwidth\":2,\"linecolor\":\"rgb(36,36,36)\",\"showbackground\":true,\"showgrid\":false,\"showline\":true,\"ticks\":\"outside\",\"zeroline\":false,\"zerolinecolor\":\"rgb(36,36,36)\"},\"yaxis\":{\"backgroundcolor\":\"white\",\"gridcolor\":\"rgb(232,232,232)\",\"gridwidth\":2,\"linecolor\":\"rgb(36,36,36)\",\"showbackground\":true,\"showgrid\":false,\"showline\":true,\"ticks\":\"outside\",\"zeroline\":false,\"zerolinecolor\":\"rgb(36,36,36)\"},\"zaxis\":{\"backgroundcolor\":\"white\",\"gridcolor\":\"rgb(232,232,232)\",\"gridwidth\":2,\"linecolor\":\"rgb(36,36,36)\",\"showbackground\":true,\"showgrid\":false,\"showline\":true,\"ticks\":\"outside\",\"zeroline\":false,\"zerolinecolor\":\"rgb(36,36,36)\"}},\"shapedefaults\":{\"fillcolor\":\"black\",\"line\":{\"width\":0},\"opacity\":0.3},\"ternary\":{\"aaxis\":{\"gridcolor\":\"rgb(232,232,232)\",\"linecolor\":\"rgb(36,36,36)\",\"showgrid\":false,\"showline\":true,\"ticks\":\"outside\"},\"baxis\":{\"gridcolor\":\"rgb(232,232,232)\",\"linecolor\":\"rgb(36,36,36)\",\"showgrid\":false,\"showline\":true,\"ticks\":\"outside\"},\"bgcolor\":\"white\",\"caxis\":{\"gridcolor\":\"rgb(232,232,232)\",\"linecolor\":\"rgb(36,36,36)\",\"showgrid\":false,\"showline\":true,\"ticks\":\"outside\"}},\"title\":{\"x\":0.05},\"xaxis\":{\"automargin\":true,\"gridcolor\":\"rgb(232,232,232)\",\"linecolor\":\"rgb(36,36,36)\",\"showgrid\":false,\"showline\":true,\"ticks\":\"outside\",\"title\":{\"standoff\":15},\"zeroline\":false,\"zerolinecolor\":\"rgb(36,36,36)\"},\"yaxis\":{\"automargin\":true,\"gridcolor\":\"rgb(232,232,232)\",\"linecolor\":\"rgb(36,36,36)\",\"showgrid\":false,\"showline\":true,\"ticks\":\"outside\",\"title\":{\"standoff\":15},\"zeroline\":false,\"zerolinecolor\":\"rgb(36,36,36)\"}}},\"title\":{\"text\":\"\"},\"xaxis\":{\"showgrid\":false,\"showline\":false,\"showticklabels\":false,\"ticks\":\"\",\"title\":{\"text\":\"\"},\"zeroline\":false},\"yaxis\":{\"showgrid\":false,\"showline\":false,\"showticklabels\":false,\"ticks\":\"\",\"title\":{\"text\":\"\"},\"zeroline\":false}},                        {\"scrollZoom\": true, \"responsive\": true}                    ).then(function(){\n",
              "                            \n",
              "var gd = document.getElementById('a396807b-adfb-44f5-becd-860d063342c8');\n",
              "var x = new MutationObserver(function (mutations, observer) {{\n",
              "        var display = window.getComputedStyle(gd).display;\n",
              "        if (!display || display === 'none') {{\n",
              "            console.log([gd, 'removed!']);\n",
              "            Plotly.purge(gd);\n",
              "            observer.disconnect();\n",
              "        }}\n",
              "}});\n",
              "\n",
              "// Listen for the removal of the full notebook cells\n",
              "var notebookContainer = gd.closest('#notebook-container');\n",
              "if (notebookContainer) {{\n",
              "    x.observe(notebookContainer, {childList: true});\n",
              "}}\n",
              "\n",
              "// Listen for the clearing of the current output cell\n",
              "var outputEl = gd.closest('.output');\n",
              "if (outputEl) {{\n",
              "    x.observe(outputEl, {childList: true});\n",
              "}}\n",
              "\n",
              "                        })                };                            </script>        </div>\n",
              "</body>\n",
              "</html>"
            ]
          },
          "metadata": {}
        }
      ]
    },
    {
      "cell_type": "code",
      "source": [
        "plotly_params = {\"node_trace\": {\"marker_colorscale\": \"RdBu\"}}\n",
        "fig = plot_static_mapper_graph(pipe_mapper,\n",
        "                               intermediate_output_3, \n",
        "                               layout='fruchterman_reingold',\n",
        "                               node_scale =20,\n",
        "                               plotly_params=plotly_params)\n",
        "fig.show(config={'scrollZoom': True})"
      ],
      "metadata": {
        "colab": {
          "base_uri": "https://localhost:8080/",
          "height": 542
        },
        "id": "a7mb7a83sACL",
        "outputId": "f6ef8407-5d3d-4417-b6e7-84711343adac"
      },
      "execution_count": 23,
      "outputs": [
        {
          "output_type": "display_data",
          "data": {
            "text/html": [
              "<html>\n",
              "<head><meta charset=\"utf-8\" /></head>\n",
              "<body>\n",
              "    <div>            <script src=\"https://cdnjs.cloudflare.com/ajax/libs/mathjax/2.7.5/MathJax.js?config=TeX-AMS-MML_SVG\"></script><script type=\"text/javascript\">if (window.MathJax) {MathJax.Hub.Config({SVG: {font: \"STIX-Web\"}});}</script>                <script type=\"text/javascript\">window.PlotlyConfig = {MathJaxConfig: 'local'};</script>\n",
              "        <script src=\"https://cdn.plot.ly/plotly-2.8.3.min.js\"></script>                <div id=\"99134b4b-a509-49bb-a3f8-b5bccec95cad\" class=\"plotly-graph-div\" style=\"height:525px; width:100%;\"></div>            <script type=\"text/javascript\">                                    window.PLOTLYENV=window.PLOTLYENV || {};                                    if (document.getElementById(\"99134b4b-a509-49bb-a3f8-b5bccec95cad\")) {                    Plotly.newPlot(                        \"99134b4b-a509-49bb-a3f8-b5bccec95cad\",                        [{\"hoverinfo\":\"none\",\"line\":{\"color\":\"#888\",\"width\":1},\"mode\":\"lines\",\"name\":\"edge_trace\",\"x\":[1.626955284057414,2.3878431371295115,null,1.626955284057414,1.0517623679982995,null,1.2945100247696917,0.3375487038969576,null,1.2945100247696917,2.1861509055806536,null,0.3375487038969576,-0.1798887189776134,null,-0.1798887189776134,0.024152071555280773,null,3.014372623407048,2.72058606498802,null,2.72058606498802,2.1861509055806536,null,0.024152071555280773,0.6030698767333642,null,-2.410473684436417,-1.6369103401740663,null,-1.6369103401740663,-0.8331919297452509,null,-3.6175092669586104,-4.095219920513861,null,-3.6175092669586104,-2.787006299424578,null],\"y\":[-2.3242619419758466,-1.8866848661560325,null,-2.3242619419758466,-2.9951943081655905,null,3.0551572172563373,2.666245211676651,null,3.0551572172563373,2.5467158737116624,null,2.666245211676651,1.7416384703233716,null,1.7416384703233716,0.7065960481273402,null,0.8053405910216487,1.684304318148398,null,1.684304318148398,2.5467158737116624,null,0.7065960481273402,-0.10547716796159579,null,-0.8344884640723496,-1.3397896702105279,null,-1.3397896702105279,-1.8274249561780498,null,0.9207180631521165,0.14161150848303317,null,0.9207180631521165,1.32352954906191,null],\"type\":\"scatter\",\"uid\":\"f09f5f2c-d7fe-46dd-87c8-53c5650e9a5a\"},{\"hoverinfo\":\"text\",\"hovertext\":[\"Node ID: 0<br>Pullback set label: 4<br>Partial cluster label: -1<br>Node size: 4<br>Summary statistic: 81.5\",\"Node ID: 1<br>Pullback set label: 5<br>Partial cluster label: -1<br>Node size: 3<br>Summary statistic: 69.0\",\"Node ID: 2<br>Pullback set label: 19<br>Partial cluster label: 0<br>Node size: 26<br>Summary statistic: 79.8\",\"Node ID: 3<br>Pullback set label: 20<br>Partial cluster label: 0<br>Node size: 64<br>Summary statistic: 72.3\",\"Node ID: 4<br>Pullback set label: 21<br>Partial cluster label: 0<br>Node size: 48<br>Summary statistic: 69.7\",\"Node ID: 5<br>Pullback set label: 6<br>Partial cluster label: -1<br>Node size: 1<br>Summary statistic: 7.0\",\"Node ID: 6<br>Pullback set label: 16<br>Partial cluster label: 0<br>Node size: 7<br>Summary statistic: 59.7\",\"Node ID: 7<br>Pullback set label: 17<br>Partial cluster label: 0<br>Node size: 10<br>Summary statistic: 59.5\",\"Node ID: 8<br>Pullback set label: 10<br>Partial cluster label: -1<br>Node size: 3<br>Summary statistic: 38.0\",\"Node ID: 9<br>Pullback set label: 15<br>Partial cluster label: 0<br>Node size: 11<br>Summary statistic: 64.2\",\"Node ID: 10<br>Pullback set label: 22<br>Partial cluster label: 0<br>Node size: 17<br>Summary statistic: 72.9\",\"Node ID: 11<br>Pullback set label: 23<br>Partial cluster label: 0<br>Node size: 20<br>Summary statistic: 66.2\",\"Node ID: 12<br>Pullback set label: 18<br>Partial cluster label: 0<br>Node size: 7<br>Summary statistic: 75.6\",\"Node ID: 13<br>Pullback set label: 2<br>Partial cluster label: -1<br>Node size: 4<br>Summary statistic: 95.2\",\"Node ID: 14<br>Pullback set label: 0<br>Partial cluster label: -1<br>Node size: 4<br>Summary statistic: 85.5\",\"Node ID: 15<br>Pullback set label: 11<br>Partial cluster label: -1<br>Node size: 1<br>Summary statistic: 31.0\",\"Node ID: 16<br>Pullback set label: 12<br>Partial cluster label: -1<br>Node size: 4<br>Summary statistic: 78.8\",\"Node ID: 17<br>Pullback set label: 14<br>Partial cluster label: 0<br>Node size: 5<br>Summary statistic: 57.6\",\"Node ID: 18<br>Pullback set label: 8<br>Partial cluster label: -1<br>Node size: 2<br>Summary statistic: 106.0\",\"Node ID: 19<br>Pullback set label: 9<br>Partial cluster label: -1<br>Node size: 1<br>Summary statistic: 71.0\",\"Node ID: 20<br>Pullback set label: 13<br>Partial cluster label: -1<br>Node size: 3<br>Summary statistic: 94.7\",\"Node ID: 21<br>Pullback set label: 3<br>Partial cluster label: -1<br>Node size: 1<br>Summary statistic: 119.0\",\"Node ID: 22<br>Pullback set label: 1<br>Partial cluster label: -1<br>Node size: 1<br>Summary statistic: 120.0\",\"Node ID: 23<br>Pullback set label: 7<br>Partial cluster label: -1<br>Node size: 1<br>Summary statistic: 142.0\"],\"marker\":{\"color\":[81.5,69.0,79.8076923076923,72.265625,69.70833333333333,7.0,59.714285714285715,59.5,38.0,64.18181818181819,72.94117647058823,66.25,75.57142857142857,95.25,85.5,31.0,78.75,57.6,106.5,71.0,94.66666666666667,119.0,120.0,142.0],\"colorbar\":{\"thickness\":15,\"title\":{\"side\":\"right\",\"text\":\"\"},\"xanchor\":\"left\"},\"colorscale\":[[0.0,\"rgb(103,0,31)\"],[0.1,\"rgb(178,24,43)\"],[0.2,\"rgb(214,96,77)\"],[0.3,\"rgb(244,165,130)\"],[0.4,\"rgb(253,219,199)\"],[0.5,\"rgb(247,247,247)\"],[0.6,\"rgb(209,229,240)\"],[0.7,\"rgb(146,197,222)\"],[0.8,\"rgb(67,147,195)\"],[0.9,\"rgb(33,102,172)\"],[1.0,\"rgb(5,48,97)\"]],\"line\":{\"color\":\"#888\",\"width\":1},\"opacity\":1.0,\"reversescale\":false,\"showscale\":true,\"size\":[4,3,26,64,48,1,7,10,3,11,17,20,7,4,4,1,4,5,2,1,3,1,1,1],\"sizemin\":4,\"sizemode\":\"area\",\"sizeref\":0.32},\"mode\":\"markers\",\"name\":\"node_trace\",\"x\":[1.626955284057414,2.3878431371295115,1.2945100247696917,0.3375487038969576,-0.1798887189776134,-3.2211145888121706,3.014372623407048,2.72058606498802,-0.6162086397560516,-0.4509058422946275,0.024152071555280773,0.6030698767333642,2.1861509055806536,-1.8815189273077204,-3.6230105221817634,-2.410473684436417,-1.6369103401740663,-2.1531835217356403,-3.6175092669586104,-4.095219920513861,-0.8331919297452509,1.0517623679982995,3.2056537606081243,-2.787006299424578],\"y\":[-2.3242619419758466,-1.8866848661560325,3.0551572172563373,2.666245211676651,1.7416384703233716,2.8365387140441514,0.8053405910216487,1.684304318148398,4.112272422680982,-3.581463938853328,0.7065960481273402,-0.10547716796159579,2.5467158737116624,3.2919259854617375,-1.9420434790465158,-0.8344884640723496,-1.3397896702105279,-3.2012284133192965,0.9207180631521165,0.14161150848303317,-1.8274249561780498,-2.9951943081655905,-0.6881667372993272,1.32352954906191],\"type\":\"scatter\",\"uid\":\"ce5edb5b-1404-4cbc-b436-0384442c42c8\"}],                        {\"autosize\":false,\"hovermode\":\"closest\",\"margin\":{\"b\":20,\"l\":5,\"r\":5,\"t\":40},\"showlegend\":false,\"template\":{\"data\":{\"barpolar\":[{\"marker\":{\"line\":{\"color\":\"white\",\"width\":0.5},\"pattern\":{\"fillmode\":\"overlay\",\"size\":10,\"solidity\":0.2}},\"type\":\"barpolar\"}],\"bar\":[{\"error_x\":{\"color\":\"rgb(36,36,36)\"},\"error_y\":{\"color\":\"rgb(36,36,36)\"},\"marker\":{\"line\":{\"color\":\"white\",\"width\":0.5},\"pattern\":{\"fillmode\":\"overlay\",\"size\":10,\"solidity\":0.2}},\"type\":\"bar\"}],\"carpet\":[{\"aaxis\":{\"endlinecolor\":\"rgb(36,36,36)\",\"gridcolor\":\"white\",\"linecolor\":\"white\",\"minorgridcolor\":\"white\",\"startlinecolor\":\"rgb(36,36,36)\"},\"baxis\":{\"endlinecolor\":\"rgb(36,36,36)\",\"gridcolor\":\"white\",\"linecolor\":\"white\",\"minorgridcolor\":\"white\",\"startlinecolor\":\"rgb(36,36,36)\"},\"type\":\"carpet\"}],\"choropleth\":[{\"colorbar\":{\"outlinewidth\":1,\"tickcolor\":\"rgb(36,36,36)\",\"ticks\":\"outside\"},\"type\":\"choropleth\"}],\"contourcarpet\":[{\"colorbar\":{\"outlinewidth\":1,\"tickcolor\":\"rgb(36,36,36)\",\"ticks\":\"outside\"},\"type\":\"contourcarpet\"}],\"contour\":[{\"colorbar\":{\"outlinewidth\":1,\"tickcolor\":\"rgb(36,36,36)\",\"ticks\":\"outside\"},\"colorscale\":[[0.0,\"#440154\"],[0.1111111111111111,\"#482878\"],[0.2222222222222222,\"#3e4989\"],[0.3333333333333333,\"#31688e\"],[0.4444444444444444,\"#26828e\"],[0.5555555555555556,\"#1f9e89\"],[0.6666666666666666,\"#35b779\"],[0.7777777777777778,\"#6ece58\"],[0.8888888888888888,\"#b5de2b\"],[1.0,\"#fde725\"]],\"type\":\"contour\"}],\"heatmapgl\":[{\"colorbar\":{\"outlinewidth\":1,\"tickcolor\":\"rgb(36,36,36)\",\"ticks\":\"outside\"},\"colorscale\":[[0.0,\"#440154\"],[0.1111111111111111,\"#482878\"],[0.2222222222222222,\"#3e4989\"],[0.3333333333333333,\"#31688e\"],[0.4444444444444444,\"#26828e\"],[0.5555555555555556,\"#1f9e89\"],[0.6666666666666666,\"#35b779\"],[0.7777777777777778,\"#6ece58\"],[0.8888888888888888,\"#b5de2b\"],[1.0,\"#fde725\"]],\"type\":\"heatmapgl\"}],\"heatmap\":[{\"colorbar\":{\"outlinewidth\":1,\"tickcolor\":\"rgb(36,36,36)\",\"ticks\":\"outside\"},\"colorscale\":[[0.0,\"#440154\"],[0.1111111111111111,\"#482878\"],[0.2222222222222222,\"#3e4989\"],[0.3333333333333333,\"#31688e\"],[0.4444444444444444,\"#26828e\"],[0.5555555555555556,\"#1f9e89\"],[0.6666666666666666,\"#35b779\"],[0.7777777777777778,\"#6ece58\"],[0.8888888888888888,\"#b5de2b\"],[1.0,\"#fde725\"]],\"type\":\"heatmap\"}],\"histogram2dcontour\":[{\"colorbar\":{\"outlinewidth\":1,\"tickcolor\":\"rgb(36,36,36)\",\"ticks\":\"outside\"},\"colorscale\":[[0.0,\"#440154\"],[0.1111111111111111,\"#482878\"],[0.2222222222222222,\"#3e4989\"],[0.3333333333333333,\"#31688e\"],[0.4444444444444444,\"#26828e\"],[0.5555555555555556,\"#1f9e89\"],[0.6666666666666666,\"#35b779\"],[0.7777777777777778,\"#6ece58\"],[0.8888888888888888,\"#b5de2b\"],[1.0,\"#fde725\"]],\"type\":\"histogram2dcontour\"}],\"histogram2d\":[{\"colorbar\":{\"outlinewidth\":1,\"tickcolor\":\"rgb(36,36,36)\",\"ticks\":\"outside\"},\"colorscale\":[[0.0,\"#440154\"],[0.1111111111111111,\"#482878\"],[0.2222222222222222,\"#3e4989\"],[0.3333333333333333,\"#31688e\"],[0.4444444444444444,\"#26828e\"],[0.5555555555555556,\"#1f9e89\"],[0.6666666666666666,\"#35b779\"],[0.7777777777777778,\"#6ece58\"],[0.8888888888888888,\"#b5de2b\"],[1.0,\"#fde725\"]],\"type\":\"histogram2d\"}],\"histogram\":[{\"marker\":{\"line\":{\"color\":\"white\",\"width\":0.6}},\"type\":\"histogram\"}],\"mesh3d\":[{\"colorbar\":{\"outlinewidth\":1,\"tickcolor\":\"rgb(36,36,36)\",\"ticks\":\"outside\"},\"type\":\"mesh3d\"}],\"parcoords\":[{\"line\":{\"colorbar\":{\"outlinewidth\":1,\"tickcolor\":\"rgb(36,36,36)\",\"ticks\":\"outside\"}},\"type\":\"parcoords\"}],\"pie\":[{\"automargin\":true,\"type\":\"pie\"}],\"scatter3d\":[{\"line\":{\"colorbar\":{\"outlinewidth\":1,\"tickcolor\":\"rgb(36,36,36)\",\"ticks\":\"outside\"}},\"marker\":{\"colorbar\":{\"outlinewidth\":1,\"tickcolor\":\"rgb(36,36,36)\",\"ticks\":\"outside\"}},\"type\":\"scatter3d\"}],\"scattercarpet\":[{\"marker\":{\"colorbar\":{\"outlinewidth\":1,\"tickcolor\":\"rgb(36,36,36)\",\"ticks\":\"outside\"}},\"type\":\"scattercarpet\"}],\"scattergeo\":[{\"marker\":{\"colorbar\":{\"outlinewidth\":1,\"tickcolor\":\"rgb(36,36,36)\",\"ticks\":\"outside\"}},\"type\":\"scattergeo\"}],\"scattergl\":[{\"marker\":{\"colorbar\":{\"outlinewidth\":1,\"tickcolor\":\"rgb(36,36,36)\",\"ticks\":\"outside\"}},\"type\":\"scattergl\"}],\"scattermapbox\":[{\"marker\":{\"colorbar\":{\"outlinewidth\":1,\"tickcolor\":\"rgb(36,36,36)\",\"ticks\":\"outside\"}},\"type\":\"scattermapbox\"}],\"scatterpolargl\":[{\"marker\":{\"colorbar\":{\"outlinewidth\":1,\"tickcolor\":\"rgb(36,36,36)\",\"ticks\":\"outside\"}},\"type\":\"scatterpolargl\"}],\"scatterpolar\":[{\"marker\":{\"colorbar\":{\"outlinewidth\":1,\"tickcolor\":\"rgb(36,36,36)\",\"ticks\":\"outside\"}},\"type\":\"scatterpolar\"}],\"scatter\":[{\"marker\":{\"colorbar\":{\"outlinewidth\":1,\"tickcolor\":\"rgb(36,36,36)\",\"ticks\":\"outside\"}},\"type\":\"scatter\"}],\"scatterternary\":[{\"marker\":{\"colorbar\":{\"outlinewidth\":1,\"tickcolor\":\"rgb(36,36,36)\",\"ticks\":\"outside\"}},\"type\":\"scatterternary\"}],\"surface\":[{\"colorbar\":{\"outlinewidth\":1,\"tickcolor\":\"rgb(36,36,36)\",\"ticks\":\"outside\"},\"colorscale\":[[0.0,\"#440154\"],[0.1111111111111111,\"#482878\"],[0.2222222222222222,\"#3e4989\"],[0.3333333333333333,\"#31688e\"],[0.4444444444444444,\"#26828e\"],[0.5555555555555556,\"#1f9e89\"],[0.6666666666666666,\"#35b779\"],[0.7777777777777778,\"#6ece58\"],[0.8888888888888888,\"#b5de2b\"],[1.0,\"#fde725\"]],\"type\":\"surface\"}],\"table\":[{\"cells\":{\"fill\":{\"color\":\"rgb(237,237,237)\"},\"line\":{\"color\":\"white\"}},\"header\":{\"fill\":{\"color\":\"rgb(217,217,217)\"},\"line\":{\"color\":\"white\"}},\"type\":\"table\"}]},\"layout\":{\"annotationdefaults\":{\"arrowhead\":0,\"arrowwidth\":1},\"autotypenumbers\":\"strict\",\"coloraxis\":{\"colorbar\":{\"outlinewidth\":1,\"tickcolor\":\"rgb(36,36,36)\",\"ticks\":\"outside\"}},\"colorscale\":{\"diverging\":[[0.0,\"rgb(103,0,31)\"],[0.1,\"rgb(178,24,43)\"],[0.2,\"rgb(214,96,77)\"],[0.3,\"rgb(244,165,130)\"],[0.4,\"rgb(253,219,199)\"],[0.5,\"rgb(247,247,247)\"],[0.6,\"rgb(209,229,240)\"],[0.7,\"rgb(146,197,222)\"],[0.8,\"rgb(67,147,195)\"],[0.9,\"rgb(33,102,172)\"],[1.0,\"rgb(5,48,97)\"]],\"sequential\":[[0.0,\"#440154\"],[0.1111111111111111,\"#482878\"],[0.2222222222222222,\"#3e4989\"],[0.3333333333333333,\"#31688e\"],[0.4444444444444444,\"#26828e\"],[0.5555555555555556,\"#1f9e89\"],[0.6666666666666666,\"#35b779\"],[0.7777777777777778,\"#6ece58\"],[0.8888888888888888,\"#b5de2b\"],[1.0,\"#fde725\"]],\"sequentialminus\":[[0.0,\"#440154\"],[0.1111111111111111,\"#482878\"],[0.2222222222222222,\"#3e4989\"],[0.3333333333333333,\"#31688e\"],[0.4444444444444444,\"#26828e\"],[0.5555555555555556,\"#1f9e89\"],[0.6666666666666666,\"#35b779\"],[0.7777777777777778,\"#6ece58\"],[0.8888888888888888,\"#b5de2b\"],[1.0,\"#fde725\"]]},\"colorway\":[\"#1F77B4\",\"#FF7F0E\",\"#2CA02C\",\"#D62728\",\"#9467BD\",\"#8C564B\",\"#E377C2\",\"#7F7F7F\",\"#BCBD22\",\"#17BECF\"],\"font\":{\"color\":\"rgb(36,36,36)\"},\"geo\":{\"bgcolor\":\"white\",\"lakecolor\":\"white\",\"landcolor\":\"white\",\"showlakes\":true,\"showland\":true,\"subunitcolor\":\"white\"},\"hoverlabel\":{\"align\":\"left\"},\"hovermode\":\"closest\",\"mapbox\":{\"style\":\"light\"},\"paper_bgcolor\":\"white\",\"plot_bgcolor\":\"white\",\"polar\":{\"angularaxis\":{\"gridcolor\":\"rgb(232,232,232)\",\"linecolor\":\"rgb(36,36,36)\",\"showgrid\":false,\"showline\":true,\"ticks\":\"outside\"},\"bgcolor\":\"white\",\"radialaxis\":{\"gridcolor\":\"rgb(232,232,232)\",\"linecolor\":\"rgb(36,36,36)\",\"showgrid\":false,\"showline\":true,\"ticks\":\"outside\"}},\"scene\":{\"xaxis\":{\"backgroundcolor\":\"white\",\"gridcolor\":\"rgb(232,232,232)\",\"gridwidth\":2,\"linecolor\":\"rgb(36,36,36)\",\"showbackground\":true,\"showgrid\":false,\"showline\":true,\"ticks\":\"outside\",\"zeroline\":false,\"zerolinecolor\":\"rgb(36,36,36)\"},\"yaxis\":{\"backgroundcolor\":\"white\",\"gridcolor\":\"rgb(232,232,232)\",\"gridwidth\":2,\"linecolor\":\"rgb(36,36,36)\",\"showbackground\":true,\"showgrid\":false,\"showline\":true,\"ticks\":\"outside\",\"zeroline\":false,\"zerolinecolor\":\"rgb(36,36,36)\"},\"zaxis\":{\"backgroundcolor\":\"white\",\"gridcolor\":\"rgb(232,232,232)\",\"gridwidth\":2,\"linecolor\":\"rgb(36,36,36)\",\"showbackground\":true,\"showgrid\":false,\"showline\":true,\"ticks\":\"outside\",\"zeroline\":false,\"zerolinecolor\":\"rgb(36,36,36)\"}},\"shapedefaults\":{\"fillcolor\":\"black\",\"line\":{\"width\":0},\"opacity\":0.3},\"ternary\":{\"aaxis\":{\"gridcolor\":\"rgb(232,232,232)\",\"linecolor\":\"rgb(36,36,36)\",\"showgrid\":false,\"showline\":true,\"ticks\":\"outside\"},\"baxis\":{\"gridcolor\":\"rgb(232,232,232)\",\"linecolor\":\"rgb(36,36,36)\",\"showgrid\":false,\"showline\":true,\"ticks\":\"outside\"},\"bgcolor\":\"white\",\"caxis\":{\"gridcolor\":\"rgb(232,232,232)\",\"linecolor\":\"rgb(36,36,36)\",\"showgrid\":false,\"showline\":true,\"ticks\":\"outside\"}},\"title\":{\"x\":0.05},\"xaxis\":{\"automargin\":true,\"gridcolor\":\"rgb(232,232,232)\",\"linecolor\":\"rgb(36,36,36)\",\"showgrid\":false,\"showline\":true,\"ticks\":\"outside\",\"title\":{\"standoff\":15},\"zeroline\":false,\"zerolinecolor\":\"rgb(36,36,36)\"},\"yaxis\":{\"automargin\":true,\"gridcolor\":\"rgb(232,232,232)\",\"linecolor\":\"rgb(36,36,36)\",\"showgrid\":false,\"showline\":true,\"ticks\":\"outside\",\"title\":{\"standoff\":15},\"zeroline\":false,\"zerolinecolor\":\"rgb(36,36,36)\"}}},\"title\":{\"text\":\"\"},\"xaxis\":{\"showgrid\":false,\"showline\":false,\"showticklabels\":false,\"ticks\":\"\",\"title\":{\"text\":\"\"},\"zeroline\":false},\"yaxis\":{\"showgrid\":false,\"showline\":false,\"showticklabels\":false,\"ticks\":\"\",\"title\":{\"text\":\"\"},\"zeroline\":false}},                        {\"scrollZoom\": true, \"responsive\": true}                    ).then(function(){\n",
              "                            \n",
              "var gd = document.getElementById('99134b4b-a509-49bb-a3f8-b5bccec95cad');\n",
              "var x = new MutationObserver(function (mutations, observer) {{\n",
              "        var display = window.getComputedStyle(gd).display;\n",
              "        if (!display || display === 'none') {{\n",
              "            console.log([gd, 'removed!']);\n",
              "            Plotly.purge(gd);\n",
              "            observer.disconnect();\n",
              "        }}\n",
              "}});\n",
              "\n",
              "// Listen for the removal of the full notebook cells\n",
              "var notebookContainer = gd.closest('#notebook-container');\n",
              "if (notebookContainer) {{\n",
              "    x.observe(notebookContainer, {childList: true});\n",
              "}}\n",
              "\n",
              "// Listen for the clearing of the current output cell\n",
              "var outputEl = gd.closest('.output');\n",
              "if (outputEl) {{\n",
              "    x.observe(outputEl, {childList: true});\n",
              "}}\n",
              "\n",
              "                        })                };                            </script>        </div>\n",
              "</body>\n",
              "</html>"
            ]
          },
          "metadata": {}
        }
      ]
    },
    {
      "cell_type": "code",
      "source": [
        "filter_func = Eccentricity(metric = 'euclidean')\n",
        "cover = CubicalCover(n_intervals = 40, overlap_frac = 0.6)\n",
        "clusterer = DBSCAN(eps = 20, min_samples = 5, metric = 'euclidean') \n",
        "pipe_mapper = make_mapper_pipeline(filter_func = filter_func, cover = cover, clusterer = clusterer, verbose = False, n_jobs = 1)"
      ],
      "metadata": {
        "id": "TFSL2naIDJvS"
      },
      "execution_count": 24,
      "outputs": []
    },
    {
      "cell_type": "code",
      "source": [
        "plotly_params = {\"node_trace\": {\"marker_colorscale\": \"RdBu\"}}\n",
        "fig = plot_static_mapper_graph(pipe_mapper,\n",
        "                               intermediate_output_0, \n",
        "                               layout='fruchterman_reingold',\n",
        "                               node_scale =20,\n",
        "                               plotly_params=plotly_params)\n",
        "fig.show(config={'scrollZoom': True})"
      ],
      "metadata": {
        "colab": {
          "base_uri": "https://localhost:8080/",
          "height": 542
        },
        "id": "JCvJcVDHDSNt",
        "outputId": "4f50cf2c-1a1b-452b-ea61-b1748549f86d"
      },
      "execution_count": 25,
      "outputs": [
        {
          "output_type": "display_data",
          "data": {
            "text/html": [
              "<html>\n",
              "<head><meta charset=\"utf-8\" /></head>\n",
              "<body>\n",
              "    <div>            <script src=\"https://cdnjs.cloudflare.com/ajax/libs/mathjax/2.7.5/MathJax.js?config=TeX-AMS-MML_SVG\"></script><script type=\"text/javascript\">if (window.MathJax) {MathJax.Hub.Config({SVG: {font: \"STIX-Web\"}});}</script>                <script type=\"text/javascript\">window.PlotlyConfig = {MathJaxConfig: 'local'};</script>\n",
              "        <script src=\"https://cdn.plot.ly/plotly-2.8.3.min.js\"></script>                <div id=\"906ab6e0-24ae-4783-b7fa-05225d4aebf9\" class=\"plotly-graph-div\" style=\"height:525px; width:100%;\"></div>            <script type=\"text/javascript\">                                    window.PLOTLYENV=window.PLOTLYENV || {};                                    if (document.getElementById(\"906ab6e0-24ae-4783-b7fa-05225d4aebf9\")) {                    Plotly.newPlot(                        \"906ab6e0-24ae-4783-b7fa-05225d4aebf9\",                        [{\"hoverinfo\":\"none\",\"line\":{\"color\":\"#888\",\"width\":1},\"mode\":\"lines\",\"name\":\"edge_trace\",\"x\":[0.3835514637122325,1.221529418583306,null,0.3835514637122325,1.6964030812772402,null,0.3835514637122325,-0.9969872363256572,null,0.3835514637122325,-0.12467226609948108,null,1.221529418583306,1.6964030812772402,null,1.221529418583306,2.469334091920199,null,1.221529418583306,-0.12467226609948108,null,1.6964030812772402,2.469334091920199,null,1.6964030812772402,2.3586312447365225,null,-2.316115209875254,-2.1466516171872096,null,-2.316115209875254,-1.2976416655157255,null,-2.1466516171872096,-1.2976416655157255,null,-2.1466516171872096,-0.9969872363256572,null,2.469334091920199,2.3586312447365225,null,-1.2976416655157255,-0.9969872363256572,null,-1.2976416655157255,-0.12467226609948108,null,-0.9969872363256572,-0.12467226609948108,null,1.7958645718179806,2.13469197851933,null,1.7958645718179806,1.1321319885022951,null,1.7958645718179806,2.3586312447365225,null,2.13469197851933,1.1321319885022951,null,2.13469197851933,2.3586312447365225,null,2.13469197851933,1.4390732457345385,null,1.1321319885022951,1.4390732457345385,null,1.1321319885022951,0.40761897648005035,null,-2.930621064782837,-2.129371381932166,null,1.4390732457345385,0.40761897648005035,null,-2.129371381932166,-1.2380931738046943,null],\"y\":[1.8994953560467647,2.1055627130952534,null,1.8994953560467647,1.4410547380858525,null,1.8994953560467647,1.2390084255654683,null,1.8994953560467647,1.2920047662278866,null,2.1055627130952534,1.4410547380858525,null,2.1055627130952534,1.6419631923382427,null,2.1055627130952534,1.2920047662278866,null,1.4410547380858525,1.6419631923382427,null,1.4410547380858525,0.3172117398259814,null,-0.40547359863410004,0.5140439328062337,null,-0.40547359863410004,0.33558952116758467,null,0.5140439328062337,0.33558952116758467,null,0.5140439328062337,1.2390084255654683,null,1.6419631923382427,0.3172117398259814,null,0.33558952116758467,1.2390084255654683,null,0.33558952116758467,1.2920047662278866,null,1.2390084255654683,1.2920047662278866,null,-0.5947618464540048,-1.2196179982519522,null,-0.5947618464540048,-1.5806433754252351,null,-0.5947618464540048,0.3172117398259814,null,-1.2196179982519522,-1.5806433754252351,null,-1.2196179982519522,0.3172117398259814,null,-1.2196179982519522,-2.3085669689208514,null,-1.5806433754252351,-2.3085669689208514,null,-1.5806433754252351,-2.447971339427728,null,2.3545170453745015,3.0853013605519357,null,-2.3085669689208514,-2.447971339427728,null,3.0853013605519357,3.675569732411141,null],\"type\":\"scatter\",\"uid\":\"9f27f23e-714f-458b-bdd3-38a873095164\"},{\"hoverinfo\":\"text\",\"hovertext\":[\"Node ID: 0<br>Pullback set label: 5<br>Partial cluster label: 0<br>Node size: 35<br>Summary statistic: 66.3\",\"Node ID: 1<br>Pullback set label: 6<br>Partial cluster label: 0<br>Node size: 35<br>Summary statistic: 57.8\",\"Node ID: 2<br>Pullback set label: 7<br>Partial cluster label: 0<br>Node size: 22<br>Summary statistic: 60.8\",\"Node ID: 3<br>Pullback set label: 0<br>Partial cluster label: 0<br>Node size: 27<br>Summary statistic: 73.1\",\"Node ID: 4<br>Pullback set label: 1<br>Partial cluster label: 0<br>Node size: 33<br>Summary statistic: 76.0\",\"Node ID: 5<br>Pullback set label: 8<br>Partial cluster label: 0<br>Node size: 12<br>Summary statistic: 70.0\",\"Node ID: 6<br>Pullback set label: 2<br>Partial cluster label: 0<br>Node size: 41<br>Summary statistic: 72.9\",\"Node ID: 7<br>Pullback set label: 3<br>Partial cluster label: 0<br>Node size: 48<br>Summary statistic: 82.4\",\"Node ID: 8<br>Pullback set label: 4<br>Partial cluster label: 0<br>Node size: 44<br>Summary statistic: 75.9\",\"Node ID: 9<br>Pullback set label: 10<br>Partial cluster label: 0<br>Node size: 8<br>Summary statistic: 49.9\",\"Node ID: 10<br>Pullback set label: 11<br>Partial cluster label: 0<br>Node size: 6<br>Summary statistic: 44.2\",\"Node ID: 11<br>Pullback set label: 12<br>Partial cluster label: 0<br>Node size: 5<br>Summary statistic: 69.6\",\"Node ID: 12<br>Pullback set label: 9<br>Partial cluster label: 0<br>Node size: 7<br>Summary statistic: 68.3\",\"Node ID: 13<br>Pullback set label: 18<br>Partial cluster label: -1<br>Node size: 3<br>Summary statistic: 45.3\",\"Node ID: 14<br>Pullback set label: 15<br>Partial cluster label: 0<br>Node size: 8<br>Summary statistic: 67.6\",\"Node ID: 15<br>Pullback set label: 13<br>Partial cluster label: -1<br>Node size: 3<br>Summary statistic: 94.0\",\"Node ID: 16<br>Pullback set label: 16<br>Partial cluster label: -1<br>Node size: 2<br>Summary statistic: 63.0\",\"Node ID: 17<br>Pullback set label: 17<br>Partial cluster label: -1<br>Node size: 1<br>Summary statistic: 75.0\",\"Node ID: 18<br>Pullback set label: 14<br>Partial cluster label: -1<br>Node size: 1<br>Summary statistic: 135.0\"],\"marker\":{\"color\":[66.28571428571429,57.8,60.81818181818182,73.14814814814815,76.0,70.0,72.92682926829268,82.375,75.88636363636364,49.875,44.166666666666664,69.6,68.28571428571429,45.333333333333336,67.625,94.0,63.0,75.0,135.0],\"colorbar\":{\"thickness\":15,\"title\":{\"side\":\"right\",\"text\":\"\"},\"xanchor\":\"left\"},\"colorscale\":[[0.0,\"rgb(103,0,31)\"],[0.1,\"rgb(178,24,43)\"],[0.2,\"rgb(214,96,77)\"],[0.3,\"rgb(244,165,130)\"],[0.4,\"rgb(253,219,199)\"],[0.5,\"rgb(247,247,247)\"],[0.6,\"rgb(209,229,240)\"],[0.7,\"rgb(146,197,222)\"],[0.8,\"rgb(67,147,195)\"],[0.9,\"rgb(33,102,172)\"],[1.0,\"rgb(5,48,97)\"]],\"line\":{\"color\":\"#888\",\"width\":1},\"opacity\":1.0,\"reversescale\":false,\"showscale\":true,\"size\":[35,35,22,27,33,12,41,48,44,8,6,5,7,3,8,3,2,1,1],\"sizemin\":4,\"sizemode\":\"area\",\"sizeref\":0.24},\"mode\":\"markers\",\"name\":\"node_trace\",\"x\":[0.3835514637122325,1.221529418583306,1.6964030812772402,-2.316115209875254,-2.1466516171872096,2.469334091920199,-1.2976416655157255,-0.9969872363256572,-0.12467226609948108,1.7958645718179806,2.13469197851933,1.1321319885022951,2.3586312447365225,-2.1952213367142637,-2.930621064782837,1.4390732457345385,-2.129371381932166,-1.2380931738046943,0.40761897648005035],\"y\":[1.8994953560467647,2.1055627130952534,1.4410547380858525,-0.40547359863410004,0.5140439328062337,1.6419631923382427,0.33558952116758467,1.2390084255654683,1.2920047662278866,-0.5947618464540048,-1.2196179982519522,-1.5806433754252351,0.3172117398259814,-2.313136922798605,2.3545170453745015,-2.3085669689208514,3.0853013605519357,3.675569732411141,-2.447971339427728],\"type\":\"scatter\",\"uid\":\"0dd8599c-8c19-49f9-8bcf-d8bce241bf75\"}],                        {\"autosize\":false,\"hovermode\":\"closest\",\"margin\":{\"b\":20,\"l\":5,\"r\":5,\"t\":40},\"showlegend\":false,\"template\":{\"data\":{\"barpolar\":[{\"marker\":{\"line\":{\"color\":\"white\",\"width\":0.5},\"pattern\":{\"fillmode\":\"overlay\",\"size\":10,\"solidity\":0.2}},\"type\":\"barpolar\"}],\"bar\":[{\"error_x\":{\"color\":\"rgb(36,36,36)\"},\"error_y\":{\"color\":\"rgb(36,36,36)\"},\"marker\":{\"line\":{\"color\":\"white\",\"width\":0.5},\"pattern\":{\"fillmode\":\"overlay\",\"size\":10,\"solidity\":0.2}},\"type\":\"bar\"}],\"carpet\":[{\"aaxis\":{\"endlinecolor\":\"rgb(36,36,36)\",\"gridcolor\":\"white\",\"linecolor\":\"white\",\"minorgridcolor\":\"white\",\"startlinecolor\":\"rgb(36,36,36)\"},\"baxis\":{\"endlinecolor\":\"rgb(36,36,36)\",\"gridcolor\":\"white\",\"linecolor\":\"white\",\"minorgridcolor\":\"white\",\"startlinecolor\":\"rgb(36,36,36)\"},\"type\":\"carpet\"}],\"choropleth\":[{\"colorbar\":{\"outlinewidth\":1,\"tickcolor\":\"rgb(36,36,36)\",\"ticks\":\"outside\"},\"type\":\"choropleth\"}],\"contourcarpet\":[{\"colorbar\":{\"outlinewidth\":1,\"tickcolor\":\"rgb(36,36,36)\",\"ticks\":\"outside\"},\"type\":\"contourcarpet\"}],\"contour\":[{\"colorbar\":{\"outlinewidth\":1,\"tickcolor\":\"rgb(36,36,36)\",\"ticks\":\"outside\"},\"colorscale\":[[0.0,\"#440154\"],[0.1111111111111111,\"#482878\"],[0.2222222222222222,\"#3e4989\"],[0.3333333333333333,\"#31688e\"],[0.4444444444444444,\"#26828e\"],[0.5555555555555556,\"#1f9e89\"],[0.6666666666666666,\"#35b779\"],[0.7777777777777778,\"#6ece58\"],[0.8888888888888888,\"#b5de2b\"],[1.0,\"#fde725\"]],\"type\":\"contour\"}],\"heatmapgl\":[{\"colorbar\":{\"outlinewidth\":1,\"tickcolor\":\"rgb(36,36,36)\",\"ticks\":\"outside\"},\"colorscale\":[[0.0,\"#440154\"],[0.1111111111111111,\"#482878\"],[0.2222222222222222,\"#3e4989\"],[0.3333333333333333,\"#31688e\"],[0.4444444444444444,\"#26828e\"],[0.5555555555555556,\"#1f9e89\"],[0.6666666666666666,\"#35b779\"],[0.7777777777777778,\"#6ece58\"],[0.8888888888888888,\"#b5de2b\"],[1.0,\"#fde725\"]],\"type\":\"heatmapgl\"}],\"heatmap\":[{\"colorbar\":{\"outlinewidth\":1,\"tickcolor\":\"rgb(36,36,36)\",\"ticks\":\"outside\"},\"colorscale\":[[0.0,\"#440154\"],[0.1111111111111111,\"#482878\"],[0.2222222222222222,\"#3e4989\"],[0.3333333333333333,\"#31688e\"],[0.4444444444444444,\"#26828e\"],[0.5555555555555556,\"#1f9e89\"],[0.6666666666666666,\"#35b779\"],[0.7777777777777778,\"#6ece58\"],[0.8888888888888888,\"#b5de2b\"],[1.0,\"#fde725\"]],\"type\":\"heatmap\"}],\"histogram2dcontour\":[{\"colorbar\":{\"outlinewidth\":1,\"tickcolor\":\"rgb(36,36,36)\",\"ticks\":\"outside\"},\"colorscale\":[[0.0,\"#440154\"],[0.1111111111111111,\"#482878\"],[0.2222222222222222,\"#3e4989\"],[0.3333333333333333,\"#31688e\"],[0.4444444444444444,\"#26828e\"],[0.5555555555555556,\"#1f9e89\"],[0.6666666666666666,\"#35b779\"],[0.7777777777777778,\"#6ece58\"],[0.8888888888888888,\"#b5de2b\"],[1.0,\"#fde725\"]],\"type\":\"histogram2dcontour\"}],\"histogram2d\":[{\"colorbar\":{\"outlinewidth\":1,\"tickcolor\":\"rgb(36,36,36)\",\"ticks\":\"outside\"},\"colorscale\":[[0.0,\"#440154\"],[0.1111111111111111,\"#482878\"],[0.2222222222222222,\"#3e4989\"],[0.3333333333333333,\"#31688e\"],[0.4444444444444444,\"#26828e\"],[0.5555555555555556,\"#1f9e89\"],[0.6666666666666666,\"#35b779\"],[0.7777777777777778,\"#6ece58\"],[0.8888888888888888,\"#b5de2b\"],[1.0,\"#fde725\"]],\"type\":\"histogram2d\"}],\"histogram\":[{\"marker\":{\"line\":{\"color\":\"white\",\"width\":0.6}},\"type\":\"histogram\"}],\"mesh3d\":[{\"colorbar\":{\"outlinewidth\":1,\"tickcolor\":\"rgb(36,36,36)\",\"ticks\":\"outside\"},\"type\":\"mesh3d\"}],\"parcoords\":[{\"line\":{\"colorbar\":{\"outlinewidth\":1,\"tickcolor\":\"rgb(36,36,36)\",\"ticks\":\"outside\"}},\"type\":\"parcoords\"}],\"pie\":[{\"automargin\":true,\"type\":\"pie\"}],\"scatter3d\":[{\"line\":{\"colorbar\":{\"outlinewidth\":1,\"tickcolor\":\"rgb(36,36,36)\",\"ticks\":\"outside\"}},\"marker\":{\"colorbar\":{\"outlinewidth\":1,\"tickcolor\":\"rgb(36,36,36)\",\"ticks\":\"outside\"}},\"type\":\"scatter3d\"}],\"scattercarpet\":[{\"marker\":{\"colorbar\":{\"outlinewidth\":1,\"tickcolor\":\"rgb(36,36,36)\",\"ticks\":\"outside\"}},\"type\":\"scattercarpet\"}],\"scattergeo\":[{\"marker\":{\"colorbar\":{\"outlinewidth\":1,\"tickcolor\":\"rgb(36,36,36)\",\"ticks\":\"outside\"}},\"type\":\"scattergeo\"}],\"scattergl\":[{\"marker\":{\"colorbar\":{\"outlinewidth\":1,\"tickcolor\":\"rgb(36,36,36)\",\"ticks\":\"outside\"}},\"type\":\"scattergl\"}],\"scattermapbox\":[{\"marker\":{\"colorbar\":{\"outlinewidth\":1,\"tickcolor\":\"rgb(36,36,36)\",\"ticks\":\"outside\"}},\"type\":\"scattermapbox\"}],\"scatterpolargl\":[{\"marker\":{\"colorbar\":{\"outlinewidth\":1,\"tickcolor\":\"rgb(36,36,36)\",\"ticks\":\"outside\"}},\"type\":\"scatterpolargl\"}],\"scatterpolar\":[{\"marker\":{\"colorbar\":{\"outlinewidth\":1,\"tickcolor\":\"rgb(36,36,36)\",\"ticks\":\"outside\"}},\"type\":\"scatterpolar\"}],\"scatter\":[{\"marker\":{\"colorbar\":{\"outlinewidth\":1,\"tickcolor\":\"rgb(36,36,36)\",\"ticks\":\"outside\"}},\"type\":\"scatter\"}],\"scatterternary\":[{\"marker\":{\"colorbar\":{\"outlinewidth\":1,\"tickcolor\":\"rgb(36,36,36)\",\"ticks\":\"outside\"}},\"type\":\"scatterternary\"}],\"surface\":[{\"colorbar\":{\"outlinewidth\":1,\"tickcolor\":\"rgb(36,36,36)\",\"ticks\":\"outside\"},\"colorscale\":[[0.0,\"#440154\"],[0.1111111111111111,\"#482878\"],[0.2222222222222222,\"#3e4989\"],[0.3333333333333333,\"#31688e\"],[0.4444444444444444,\"#26828e\"],[0.5555555555555556,\"#1f9e89\"],[0.6666666666666666,\"#35b779\"],[0.7777777777777778,\"#6ece58\"],[0.8888888888888888,\"#b5de2b\"],[1.0,\"#fde725\"]],\"type\":\"surface\"}],\"table\":[{\"cells\":{\"fill\":{\"color\":\"rgb(237,237,237)\"},\"line\":{\"color\":\"white\"}},\"header\":{\"fill\":{\"color\":\"rgb(217,217,217)\"},\"line\":{\"color\":\"white\"}},\"type\":\"table\"}]},\"layout\":{\"annotationdefaults\":{\"arrowhead\":0,\"arrowwidth\":1},\"autotypenumbers\":\"strict\",\"coloraxis\":{\"colorbar\":{\"outlinewidth\":1,\"tickcolor\":\"rgb(36,36,36)\",\"ticks\":\"outside\"}},\"colorscale\":{\"diverging\":[[0.0,\"rgb(103,0,31)\"],[0.1,\"rgb(178,24,43)\"],[0.2,\"rgb(214,96,77)\"],[0.3,\"rgb(244,165,130)\"],[0.4,\"rgb(253,219,199)\"],[0.5,\"rgb(247,247,247)\"],[0.6,\"rgb(209,229,240)\"],[0.7,\"rgb(146,197,222)\"],[0.8,\"rgb(67,147,195)\"],[0.9,\"rgb(33,102,172)\"],[1.0,\"rgb(5,48,97)\"]],\"sequential\":[[0.0,\"#440154\"],[0.1111111111111111,\"#482878\"],[0.2222222222222222,\"#3e4989\"],[0.3333333333333333,\"#31688e\"],[0.4444444444444444,\"#26828e\"],[0.5555555555555556,\"#1f9e89\"],[0.6666666666666666,\"#35b779\"],[0.7777777777777778,\"#6ece58\"],[0.8888888888888888,\"#b5de2b\"],[1.0,\"#fde725\"]],\"sequentialminus\":[[0.0,\"#440154\"],[0.1111111111111111,\"#482878\"],[0.2222222222222222,\"#3e4989\"],[0.3333333333333333,\"#31688e\"],[0.4444444444444444,\"#26828e\"],[0.5555555555555556,\"#1f9e89\"],[0.6666666666666666,\"#35b779\"],[0.7777777777777778,\"#6ece58\"],[0.8888888888888888,\"#b5de2b\"],[1.0,\"#fde725\"]]},\"colorway\":[\"#1F77B4\",\"#FF7F0E\",\"#2CA02C\",\"#D62728\",\"#9467BD\",\"#8C564B\",\"#E377C2\",\"#7F7F7F\",\"#BCBD22\",\"#17BECF\"],\"font\":{\"color\":\"rgb(36,36,36)\"},\"geo\":{\"bgcolor\":\"white\",\"lakecolor\":\"white\",\"landcolor\":\"white\",\"showlakes\":true,\"showland\":true,\"subunitcolor\":\"white\"},\"hoverlabel\":{\"align\":\"left\"},\"hovermode\":\"closest\",\"mapbox\":{\"style\":\"light\"},\"paper_bgcolor\":\"white\",\"plot_bgcolor\":\"white\",\"polar\":{\"angularaxis\":{\"gridcolor\":\"rgb(232,232,232)\",\"linecolor\":\"rgb(36,36,36)\",\"showgrid\":false,\"showline\":true,\"ticks\":\"outside\"},\"bgcolor\":\"white\",\"radialaxis\":{\"gridcolor\":\"rgb(232,232,232)\",\"linecolor\":\"rgb(36,36,36)\",\"showgrid\":false,\"showline\":true,\"ticks\":\"outside\"}},\"scene\":{\"xaxis\":{\"backgroundcolor\":\"white\",\"gridcolor\":\"rgb(232,232,232)\",\"gridwidth\":2,\"linecolor\":\"rgb(36,36,36)\",\"showbackground\":true,\"showgrid\":false,\"showline\":true,\"ticks\":\"outside\",\"zeroline\":false,\"zerolinecolor\":\"rgb(36,36,36)\"},\"yaxis\":{\"backgroundcolor\":\"white\",\"gridcolor\":\"rgb(232,232,232)\",\"gridwidth\":2,\"linecolor\":\"rgb(36,36,36)\",\"showbackground\":true,\"showgrid\":false,\"showline\":true,\"ticks\":\"outside\",\"zeroline\":false,\"zerolinecolor\":\"rgb(36,36,36)\"},\"zaxis\":{\"backgroundcolor\":\"white\",\"gridcolor\":\"rgb(232,232,232)\",\"gridwidth\":2,\"linecolor\":\"rgb(36,36,36)\",\"showbackground\":true,\"showgrid\":false,\"showline\":true,\"ticks\":\"outside\",\"zeroline\":false,\"zerolinecolor\":\"rgb(36,36,36)\"}},\"shapedefaults\":{\"fillcolor\":\"black\",\"line\":{\"width\":0},\"opacity\":0.3},\"ternary\":{\"aaxis\":{\"gridcolor\":\"rgb(232,232,232)\",\"linecolor\":\"rgb(36,36,36)\",\"showgrid\":false,\"showline\":true,\"ticks\":\"outside\"},\"baxis\":{\"gridcolor\":\"rgb(232,232,232)\",\"linecolor\":\"rgb(36,36,36)\",\"showgrid\":false,\"showline\":true,\"ticks\":\"outside\"},\"bgcolor\":\"white\",\"caxis\":{\"gridcolor\":\"rgb(232,232,232)\",\"linecolor\":\"rgb(36,36,36)\",\"showgrid\":false,\"showline\":true,\"ticks\":\"outside\"}},\"title\":{\"x\":0.05},\"xaxis\":{\"automargin\":true,\"gridcolor\":\"rgb(232,232,232)\",\"linecolor\":\"rgb(36,36,36)\",\"showgrid\":false,\"showline\":true,\"ticks\":\"outside\",\"title\":{\"standoff\":15},\"zeroline\":false,\"zerolinecolor\":\"rgb(36,36,36)\"},\"yaxis\":{\"automargin\":true,\"gridcolor\":\"rgb(232,232,232)\",\"linecolor\":\"rgb(36,36,36)\",\"showgrid\":false,\"showline\":true,\"ticks\":\"outside\",\"title\":{\"standoff\":15},\"zeroline\":false,\"zerolinecolor\":\"rgb(36,36,36)\"}}},\"title\":{\"text\":\"\"},\"xaxis\":{\"showgrid\":false,\"showline\":false,\"showticklabels\":false,\"ticks\":\"\",\"title\":{\"text\":\"\"},\"zeroline\":false},\"yaxis\":{\"showgrid\":false,\"showline\":false,\"showticklabels\":false,\"ticks\":\"\",\"title\":{\"text\":\"\"},\"zeroline\":false}},                        {\"scrollZoom\": true, \"responsive\": true}                    ).then(function(){\n",
              "                            \n",
              "var gd = document.getElementById('906ab6e0-24ae-4783-b7fa-05225d4aebf9');\n",
              "var x = new MutationObserver(function (mutations, observer) {{\n",
              "        var display = window.getComputedStyle(gd).display;\n",
              "        if (!display || display === 'none') {{\n",
              "            console.log([gd, 'removed!']);\n",
              "            Plotly.purge(gd);\n",
              "            observer.disconnect();\n",
              "        }}\n",
              "}});\n",
              "\n",
              "// Listen for the removal of the full notebook cells\n",
              "var notebookContainer = gd.closest('#notebook-container');\n",
              "if (notebookContainer) {{\n",
              "    x.observe(notebookContainer, {childList: true});\n",
              "}}\n",
              "\n",
              "// Listen for the clearing of the current output cell\n",
              "var outputEl = gd.closest('.output');\n",
              "if (outputEl) {{\n",
              "    x.observe(outputEl, {childList: true});\n",
              "}}\n",
              "\n",
              "                        })                };                            </script>        </div>\n",
              "</body>\n",
              "</html>"
            ]
          },
          "metadata": {}
        }
      ]
    },
    {
      "cell_type": "code",
      "source": [
        "plotly_params = {\"node_trace\": {\"marker_colorscale\": \"RdBu\"}}\n",
        "fig = plot_static_mapper_graph(pipe_mapper,\n",
        "                               intermediate_output_1, \n",
        "                               layout='fruchterman_reingold',\n",
        "                               node_scale =20,\n",
        "                               plotly_params=plotly_params)\n",
        "fig.show(config={'scrollZoom': True})"
      ],
      "metadata": {
        "colab": {
          "base_uri": "https://localhost:8080/",
          "height": 542
        },
        "id": "OS2f9BLUDWGY",
        "outputId": "144e8213-5740-402c-cc1a-5bcf1c746e6e"
      },
      "execution_count": 26,
      "outputs": [
        {
          "output_type": "display_data",
          "data": {
            "text/html": [
              "<html>\n",
              "<head><meta charset=\"utf-8\" /></head>\n",
              "<body>\n",
              "    <div>            <script src=\"https://cdnjs.cloudflare.com/ajax/libs/mathjax/2.7.5/MathJax.js?config=TeX-AMS-MML_SVG\"></script><script type=\"text/javascript\">if (window.MathJax) {MathJax.Hub.Config({SVG: {font: \"STIX-Web\"}});}</script>                <script type=\"text/javascript\">window.PlotlyConfig = {MathJaxConfig: 'local'};</script>\n",
              "        <script src=\"https://cdn.plot.ly/plotly-2.8.3.min.js\"></script>                <div id=\"bde44ab1-b8b5-4407-aed1-644427b637a2\" class=\"plotly-graph-div\" style=\"height:525px; width:100%;\"></div>            <script type=\"text/javascript\">                                    window.PLOTLYENV=window.PLOTLYENV || {};                                    if (document.getElementById(\"bde44ab1-b8b5-4407-aed1-644427b637a2\")) {                    Plotly.newPlot(                        \"bde44ab1-b8b5-4407-aed1-644427b637a2\",                        [{\"hoverinfo\":\"none\",\"line\":{\"color\":\"#888\",\"width\":1},\"mode\":\"lines\",\"name\":\"edge_trace\",\"x\":[-1.2263060621385429,-0.3730558681159849,null,-1.2263060621385429,-2.328849213916765,null,-1.2263060621385429,-1.4397916055242013,null,-1.2263060621385429,0.07056263489262775,null,-0.3730558681159849,-1.4397916055242013,null,-0.3730558681159849,0.07056263489262775,null,-0.3730558681159849,0.8672121408630422,null,-2.328849213916765,-1.4397916055242013,null,-2.328849213916765,-3.2422622896844966,null,-2.328849213916765,-2.3996841571254746,null,-1.4397916055242013,-2.3996841571254746,null,3.6865103242526898,2.9541817809524282,null,3.6865103242526898,3.7406089855158475,null,3.6865103242526898,2.8934768442575747,null,2.9541817809524282,3.7406089855158475,null,2.9541817809524282,2.8934768442575747,null,2.9541817809524282,2.9470393072085614,null,3.7406089855158475,2.9470393072085614,null,-3.2422622896844966,-2.3996841571254746,null,-3.2422622896844966,-3.2215802876407325,null,-2.3996841571254746,-3.2215802876407325,null,0.07056263489262775,0.8672121408630422,null,0.07056263489262775,1.2876702130268485,null,0.8672121408630422,1.2876702130268485,null,0.8672121408630422,2.0327370824353985,null,-0.5617221836601715,-1.3231795642954727,null,-0.5617221836601715,-0.5680057690622486,null,-0.5617221836601715,-0.12979234445266444,null,-1.3231795642954727,-0.5680057690622486,null,-1.3231795642954727,-1.3190767596292978,null,-0.5680057690622486,-1.3190767596292978,null,-0.5680057690622486,-0.5107996614824887,null,1.2876702130268485,2.0327370824353985,null,1.2876702130268485,2.3159555733623147,null,2.0327370824353985,2.3159555733623147,null,2.3159555733623147,3.207633745959923,null,2.3159555733623147,2.8934768442575747,null,3.207633745959923,2.8934768442575747,null,2.9287984283067203,2.1650912689427826,null,2.9287984283067203,2.1774125249885987,null,2.9287984283067203,2.9470393072085614,null,2.1650912689427826,2.1774125249885987,null,-1.3190767596292978,-0.5107996614824887,null,2.1774125249885987,2.9470393072085614,null],\"y\":[2.597321561384329,2.2452275492785128,null,2.597321561384329,1.951246411650316,null,2.597321561384329,1.6418685519103695,null,2.597321561384329,2.8656345479854,null,2.2452275492785128,1.6418685519103695,null,2.2452275492785128,2.8656345479854,null,2.2452275492785128,2.8671686515663732,null,1.951246411650316,1.6418685519103695,null,1.951246411650316,1.2580276179241603,null,1.951246411650316,0.9460365495807865,null,1.6418685519103695,0.9460365495807865,null,-0.7446008706605476,-1.243389005498609,null,-0.7446008706605476,-1.789240917092729,null,-0.7446008706605476,0.10159459152767535,null,-1.243389005498609,-1.789240917092729,null,-1.243389005498609,0.10159459152767535,null,-1.243389005498609,-2.5203509613048936,null,-1.789240917092729,-2.5203509613048936,null,1.2580276179241603,0.9460365495807865,null,1.2580276179241603,0.29545012038307494,null,0.9460365495807865,0.29545012038307494,null,2.8656345479854,2.8671686515663732,null,2.8656345479854,2.1659770769201163,null,2.8671686515663732,2.1659770769201163,null,2.8671686515663732,2.5855193803410774,null,-3.9847894194233486,-3.319671347907918,null,-3.9847894194233486,-2.84681046197766,null,-3.9847894194233486,-4.899345853108761,null,-3.319671347907918,-2.84681046197766,null,-3.319671347907918,-2.2716068089495582,null,-2.84681046197766,-2.2716068089495582,null,-2.84681046197766,-1.7722008854203253,null,2.1659770769201163,2.5855193803410774,null,2.1659770769201163,1.4234001179597948,null,2.5855193803410774,1.4234001179597948,null,1.4234001179597948,1.0874241066045363,null,1.4234001179597948,0.10159459152767535,null,1.0874241066045363,0.10159459152767535,null,-3.6588801618386224,-4.305989412897762,null,-3.6588801618386224,-3.345787440020273,null,-3.6588801618386224,-2.5203509613048936,null,-4.305989412897762,-3.345787440020273,null,-2.2716068089495582,-1.7722008854203253,null,-3.345787440020273,-2.5203509613048936,null],\"type\":\"scatter\",\"uid\":\"71da9616-93e7-4f38-8e38-d807cbd57d4b\"},{\"hoverinfo\":\"text\",\"hovertext\":[\"Node ID: 0<br>Pullback set label: 5<br>Partial cluster label: 0<br>Node size: 22<br>Summary statistic: 78.1\",\"Node ID: 1<br>Pullback set label: 6<br>Partial cluster label: 0<br>Node size: 23<br>Summary statistic: 65.1\",\"Node ID: 2<br>Pullback set label: 3<br>Partial cluster label: 0<br>Node size: 23<br>Summary statistic: 80.3\",\"Node ID: 3<br>Pullback set label: 4<br>Partial cluster label: 0<br>Node size: 17<br>Summary statistic: 91.0\",\"Node ID: 4<br>Pullback set label: 14<br>Partial cluster label: 0<br>Node size: 11<br>Summary statistic: 60.5\",\"Node ID: 5<br>Pullback set label: 15<br>Partial cluster label: 0<br>Node size: 12<br>Summary statistic: 67.7\",\"Node ID: 6<br>Pullback set label: 16<br>Partial cluster label: 0<br>Node size: 5<br>Summary statistic: 81.6\",\"Node ID: 7<br>Pullback set label: 1<br>Partial cluster label: 0<br>Node size: 21<br>Summary statistic: 84.7\",\"Node ID: 8<br>Pullback set label: 2<br>Partial cluster label: 0<br>Node size: 24<br>Summary statistic: 87.7\",\"Node ID: 9<br>Pullback set label: 7<br>Partial cluster label: 0<br>Node size: 32<br>Summary statistic: 61.4\",\"Node ID: 10<br>Pullback set label: 8<br>Partial cluster label: 0<br>Node size: 33<br>Summary statistic: 63.7\",\"Node ID: 11<br>Pullback set label: 0<br>Partial cluster label: 0<br>Node size: 8<br>Summary statistic: 61.5\",\"Node ID: 12<br>Pullback set label: 22<br>Partial cluster label: -1<br>Node size: 3<br>Summary statistic: 75.7\",\"Node ID: 13<br>Pullback set label: 23<br>Partial cluster label: -1<br>Node size: 3<br>Summary statistic: 87.0\",\"Node ID: 14<br>Pullback set label: 24<br>Partial cluster label: -1<br>Node size: 4<br>Summary statistic: 49.5\",\"Node ID: 15<br>Pullback set label: 9<br>Partial cluster label: 0<br>Node size: 25<br>Summary statistic: 60.8\",\"Node ID: 16<br>Pullback set label: 10<br>Partial cluster label: 0<br>Node size: 11<br>Summary statistic: 62.5\",\"Node ID: 17<br>Pullback set label: 11<br>Partial cluster label: 0<br>Node size: 11<br>Summary statistic: 67.5\",\"Node ID: 18<br>Pullback set label: 12<br>Partial cluster label: 0<br>Node size: 10<br>Summary statistic: 68.2\",\"Node ID: 19<br>Pullback set label: 13<br>Partial cluster label: 0<br>Node size: 17<br>Summary statistic: 64.8\",\"Node ID: 20<br>Pullback set label: 19<br>Partial cluster label: 0<br>Node size: 5<br>Summary statistic: 38.4\",\"Node ID: 21<br>Pullback set label: 20<br>Partial cluster label: -1<br>Node size: 3<br>Summary statistic: 35.3\",\"Node ID: 22<br>Pullback set label: 25<br>Partial cluster label: -1<br>Node size: 4<br>Summary statistic: 80.0\",\"Node ID: 23<br>Pullback set label: 26<br>Partial cluster label: -1<br>Node size: 2<br>Summary statistic: 78.5\",\"Node ID: 24<br>Pullback set label: 18<br>Partial cluster label: -1<br>Node size: 4<br>Summary statistic: 44.5\",\"Node ID: 25<br>Pullback set label: 17<br>Partial cluster label: -1<br>Node size: 3<br>Summary statistic: 69.0\",\"Node ID: 26<br>Pullback set label: 30<br>Partial cluster label: -1<br>Node size: 2<br>Summary statistic: 70.0\",\"Node ID: 27<br>Pullback set label: 29<br>Partial cluster label: -1<br>Node size: 1<br>Summary statistic: 51.0\",\"Node ID: 28<br>Pullback set label: 27<br>Partial cluster label: -1<br>Node size: 1<br>Summary statistic: 75.0\",\"Node ID: 29<br>Pullback set label: 21<br>Partial cluster label: -1<br>Node size: 1<br>Summary statistic: 107.0\",\"Node ID: 30<br>Pullback set label: 28<br>Partial cluster label: -1<br>Node size: 1<br>Summary statistic: 135.0\"],\"marker\":{\"color\":[78.0909090909091,65.08695652173913,80.26086956521739,91.0,60.54545454545455,67.66666666666667,81.6,84.71428571428571,87.66666666666667,61.375,63.666666666666664,61.5,75.66666666666667,87.0,49.5,60.76,62.45454545454545,67.45454545454545,68.2,64.76470588235294,38.4,35.333333333333336,80.0,78.5,44.5,69.0,70.0,51.0,75.0,107.0,135.0],\"colorbar\":{\"thickness\":15,\"title\":{\"side\":\"right\",\"text\":\"\"},\"xanchor\":\"left\"},\"colorscale\":[[0.0,\"rgb(103,0,31)\"],[0.1,\"rgb(178,24,43)\"],[0.2,\"rgb(214,96,77)\"],[0.3,\"rgb(244,165,130)\"],[0.4,\"rgb(253,219,199)\"],[0.5,\"rgb(247,247,247)\"],[0.6,\"rgb(209,229,240)\"],[0.7,\"rgb(146,197,222)\"],[0.8,\"rgb(67,147,195)\"],[0.9,\"rgb(33,102,172)\"],[1.0,\"rgb(5,48,97)\"]],\"line\":{\"color\":\"#888\",\"width\":1},\"opacity\":1.0,\"reversescale\":false,\"showscale\":true,\"size\":[22,23,23,17,11,12,5,21,24,32,33,8,3,3,4,25,11,11,10,17,5,3,4,2,4,3,2,1,1,1,1],\"sizemin\":4,\"sizemode\":\"area\",\"sizeref\":0.165},\"mode\":\"markers\",\"name\":\"node_trace\",\"x\":[-1.2263060621385429,-0.3730558681159849,-2.328849213916765,-1.4397916055242013,3.6865103242526898,2.9541817809524282,3.7406089855158475,-3.2422622896844966,-2.3996841571254746,0.07056263489262775,0.8672121408630422,-3.2215802876407325,-0.5617221836601715,-1.3231795642954727,-0.5680057690622486,1.2876702130268485,2.0327370824353985,2.3159555733623147,3.207633745959923,2.8934768442575747,2.9287984283067203,2.1650912689427826,-1.3190767596292978,-0.5107996614824887,2.1774125249885987,2.9470393072085614,-2.8731585085260902,4.800861673050078,-3.5218736701168742,-0.12979234445266444,-4.032963286714649],\"y\":[2.597321561384329,2.2452275492785128,1.951246411650316,1.6418685519103695,-0.7446008706605476,-1.243389005498609,-1.789240917092729,1.2580276179241603,0.9460365495807865,2.8656345479854,2.8671686515663732,0.29545012038307494,-3.9847894194233486,-3.319671347907918,-2.84681046197766,2.1659770769201163,2.5855193803410774,1.4234001179597948,1.0874241066045363,0.10159459152767535,-3.6588801618386224,-4.305989412897762,-2.2716068089495582,-1.7722008854203253,-3.345787440020273,-2.5203509613048936,-4.001563729003575,0.9575972550692676,-2.4160832445370883,-4.899345853108761,-1.1418320993349718],\"type\":\"scatter\",\"uid\":\"b855cbae-5180-4f78-a913-35853a2d9392\"}],                        {\"autosize\":false,\"hovermode\":\"closest\",\"margin\":{\"b\":20,\"l\":5,\"r\":5,\"t\":40},\"showlegend\":false,\"template\":{\"data\":{\"barpolar\":[{\"marker\":{\"line\":{\"color\":\"white\",\"width\":0.5},\"pattern\":{\"fillmode\":\"overlay\",\"size\":10,\"solidity\":0.2}},\"type\":\"barpolar\"}],\"bar\":[{\"error_x\":{\"color\":\"rgb(36,36,36)\"},\"error_y\":{\"color\":\"rgb(36,36,36)\"},\"marker\":{\"line\":{\"color\":\"white\",\"width\":0.5},\"pattern\":{\"fillmode\":\"overlay\",\"size\":10,\"solidity\":0.2}},\"type\":\"bar\"}],\"carpet\":[{\"aaxis\":{\"endlinecolor\":\"rgb(36,36,36)\",\"gridcolor\":\"white\",\"linecolor\":\"white\",\"minorgridcolor\":\"white\",\"startlinecolor\":\"rgb(36,36,36)\"},\"baxis\":{\"endlinecolor\":\"rgb(36,36,36)\",\"gridcolor\":\"white\",\"linecolor\":\"white\",\"minorgridcolor\":\"white\",\"startlinecolor\":\"rgb(36,36,36)\"},\"type\":\"carpet\"}],\"choropleth\":[{\"colorbar\":{\"outlinewidth\":1,\"tickcolor\":\"rgb(36,36,36)\",\"ticks\":\"outside\"},\"type\":\"choropleth\"}],\"contourcarpet\":[{\"colorbar\":{\"outlinewidth\":1,\"tickcolor\":\"rgb(36,36,36)\",\"ticks\":\"outside\"},\"type\":\"contourcarpet\"}],\"contour\":[{\"colorbar\":{\"outlinewidth\":1,\"tickcolor\":\"rgb(36,36,36)\",\"ticks\":\"outside\"},\"colorscale\":[[0.0,\"#440154\"],[0.1111111111111111,\"#482878\"],[0.2222222222222222,\"#3e4989\"],[0.3333333333333333,\"#31688e\"],[0.4444444444444444,\"#26828e\"],[0.5555555555555556,\"#1f9e89\"],[0.6666666666666666,\"#35b779\"],[0.7777777777777778,\"#6ece58\"],[0.8888888888888888,\"#b5de2b\"],[1.0,\"#fde725\"]],\"type\":\"contour\"}],\"heatmapgl\":[{\"colorbar\":{\"outlinewidth\":1,\"tickcolor\":\"rgb(36,36,36)\",\"ticks\":\"outside\"},\"colorscale\":[[0.0,\"#440154\"],[0.1111111111111111,\"#482878\"],[0.2222222222222222,\"#3e4989\"],[0.3333333333333333,\"#31688e\"],[0.4444444444444444,\"#26828e\"],[0.5555555555555556,\"#1f9e89\"],[0.6666666666666666,\"#35b779\"],[0.7777777777777778,\"#6ece58\"],[0.8888888888888888,\"#b5de2b\"],[1.0,\"#fde725\"]],\"type\":\"heatmapgl\"}],\"heatmap\":[{\"colorbar\":{\"outlinewidth\":1,\"tickcolor\":\"rgb(36,36,36)\",\"ticks\":\"outside\"},\"colorscale\":[[0.0,\"#440154\"],[0.1111111111111111,\"#482878\"],[0.2222222222222222,\"#3e4989\"],[0.3333333333333333,\"#31688e\"],[0.4444444444444444,\"#26828e\"],[0.5555555555555556,\"#1f9e89\"],[0.6666666666666666,\"#35b779\"],[0.7777777777777778,\"#6ece58\"],[0.8888888888888888,\"#b5de2b\"],[1.0,\"#fde725\"]],\"type\":\"heatmap\"}],\"histogram2dcontour\":[{\"colorbar\":{\"outlinewidth\":1,\"tickcolor\":\"rgb(36,36,36)\",\"ticks\":\"outside\"},\"colorscale\":[[0.0,\"#440154\"],[0.1111111111111111,\"#482878\"],[0.2222222222222222,\"#3e4989\"],[0.3333333333333333,\"#31688e\"],[0.4444444444444444,\"#26828e\"],[0.5555555555555556,\"#1f9e89\"],[0.6666666666666666,\"#35b779\"],[0.7777777777777778,\"#6ece58\"],[0.8888888888888888,\"#b5de2b\"],[1.0,\"#fde725\"]],\"type\":\"histogram2dcontour\"}],\"histogram2d\":[{\"colorbar\":{\"outlinewidth\":1,\"tickcolor\":\"rgb(36,36,36)\",\"ticks\":\"outside\"},\"colorscale\":[[0.0,\"#440154\"],[0.1111111111111111,\"#482878\"],[0.2222222222222222,\"#3e4989\"],[0.3333333333333333,\"#31688e\"],[0.4444444444444444,\"#26828e\"],[0.5555555555555556,\"#1f9e89\"],[0.6666666666666666,\"#35b779\"],[0.7777777777777778,\"#6ece58\"],[0.8888888888888888,\"#b5de2b\"],[1.0,\"#fde725\"]],\"type\":\"histogram2d\"}],\"histogram\":[{\"marker\":{\"line\":{\"color\":\"white\",\"width\":0.6}},\"type\":\"histogram\"}],\"mesh3d\":[{\"colorbar\":{\"outlinewidth\":1,\"tickcolor\":\"rgb(36,36,36)\",\"ticks\":\"outside\"},\"type\":\"mesh3d\"}],\"parcoords\":[{\"line\":{\"colorbar\":{\"outlinewidth\":1,\"tickcolor\":\"rgb(36,36,36)\",\"ticks\":\"outside\"}},\"type\":\"parcoords\"}],\"pie\":[{\"automargin\":true,\"type\":\"pie\"}],\"scatter3d\":[{\"line\":{\"colorbar\":{\"outlinewidth\":1,\"tickcolor\":\"rgb(36,36,36)\",\"ticks\":\"outside\"}},\"marker\":{\"colorbar\":{\"outlinewidth\":1,\"tickcolor\":\"rgb(36,36,36)\",\"ticks\":\"outside\"}},\"type\":\"scatter3d\"}],\"scattercarpet\":[{\"marker\":{\"colorbar\":{\"outlinewidth\":1,\"tickcolor\":\"rgb(36,36,36)\",\"ticks\":\"outside\"}},\"type\":\"scattercarpet\"}],\"scattergeo\":[{\"marker\":{\"colorbar\":{\"outlinewidth\":1,\"tickcolor\":\"rgb(36,36,36)\",\"ticks\":\"outside\"}},\"type\":\"scattergeo\"}],\"scattergl\":[{\"marker\":{\"colorbar\":{\"outlinewidth\":1,\"tickcolor\":\"rgb(36,36,36)\",\"ticks\":\"outside\"}},\"type\":\"scattergl\"}],\"scattermapbox\":[{\"marker\":{\"colorbar\":{\"outlinewidth\":1,\"tickcolor\":\"rgb(36,36,36)\",\"ticks\":\"outside\"}},\"type\":\"scattermapbox\"}],\"scatterpolargl\":[{\"marker\":{\"colorbar\":{\"outlinewidth\":1,\"tickcolor\":\"rgb(36,36,36)\",\"ticks\":\"outside\"}},\"type\":\"scatterpolargl\"}],\"scatterpolar\":[{\"marker\":{\"colorbar\":{\"outlinewidth\":1,\"tickcolor\":\"rgb(36,36,36)\",\"ticks\":\"outside\"}},\"type\":\"scatterpolar\"}],\"scatter\":[{\"marker\":{\"colorbar\":{\"outlinewidth\":1,\"tickcolor\":\"rgb(36,36,36)\",\"ticks\":\"outside\"}},\"type\":\"scatter\"}],\"scatterternary\":[{\"marker\":{\"colorbar\":{\"outlinewidth\":1,\"tickcolor\":\"rgb(36,36,36)\",\"ticks\":\"outside\"}},\"type\":\"scatterternary\"}],\"surface\":[{\"colorbar\":{\"outlinewidth\":1,\"tickcolor\":\"rgb(36,36,36)\",\"ticks\":\"outside\"},\"colorscale\":[[0.0,\"#440154\"],[0.1111111111111111,\"#482878\"],[0.2222222222222222,\"#3e4989\"],[0.3333333333333333,\"#31688e\"],[0.4444444444444444,\"#26828e\"],[0.5555555555555556,\"#1f9e89\"],[0.6666666666666666,\"#35b779\"],[0.7777777777777778,\"#6ece58\"],[0.8888888888888888,\"#b5de2b\"],[1.0,\"#fde725\"]],\"type\":\"surface\"}],\"table\":[{\"cells\":{\"fill\":{\"color\":\"rgb(237,237,237)\"},\"line\":{\"color\":\"white\"}},\"header\":{\"fill\":{\"color\":\"rgb(217,217,217)\"},\"line\":{\"color\":\"white\"}},\"type\":\"table\"}]},\"layout\":{\"annotationdefaults\":{\"arrowhead\":0,\"arrowwidth\":1},\"autotypenumbers\":\"strict\",\"coloraxis\":{\"colorbar\":{\"outlinewidth\":1,\"tickcolor\":\"rgb(36,36,36)\",\"ticks\":\"outside\"}},\"colorscale\":{\"diverging\":[[0.0,\"rgb(103,0,31)\"],[0.1,\"rgb(178,24,43)\"],[0.2,\"rgb(214,96,77)\"],[0.3,\"rgb(244,165,130)\"],[0.4,\"rgb(253,219,199)\"],[0.5,\"rgb(247,247,247)\"],[0.6,\"rgb(209,229,240)\"],[0.7,\"rgb(146,197,222)\"],[0.8,\"rgb(67,147,195)\"],[0.9,\"rgb(33,102,172)\"],[1.0,\"rgb(5,48,97)\"]],\"sequential\":[[0.0,\"#440154\"],[0.1111111111111111,\"#482878\"],[0.2222222222222222,\"#3e4989\"],[0.3333333333333333,\"#31688e\"],[0.4444444444444444,\"#26828e\"],[0.5555555555555556,\"#1f9e89\"],[0.6666666666666666,\"#35b779\"],[0.7777777777777778,\"#6ece58\"],[0.8888888888888888,\"#b5de2b\"],[1.0,\"#fde725\"]],\"sequentialminus\":[[0.0,\"#440154\"],[0.1111111111111111,\"#482878\"],[0.2222222222222222,\"#3e4989\"],[0.3333333333333333,\"#31688e\"],[0.4444444444444444,\"#26828e\"],[0.5555555555555556,\"#1f9e89\"],[0.6666666666666666,\"#35b779\"],[0.7777777777777778,\"#6ece58\"],[0.8888888888888888,\"#b5de2b\"],[1.0,\"#fde725\"]]},\"colorway\":[\"#1F77B4\",\"#FF7F0E\",\"#2CA02C\",\"#D62728\",\"#9467BD\",\"#8C564B\",\"#E377C2\",\"#7F7F7F\",\"#BCBD22\",\"#17BECF\"],\"font\":{\"color\":\"rgb(36,36,36)\"},\"geo\":{\"bgcolor\":\"white\",\"lakecolor\":\"white\",\"landcolor\":\"white\",\"showlakes\":true,\"showland\":true,\"subunitcolor\":\"white\"},\"hoverlabel\":{\"align\":\"left\"},\"hovermode\":\"closest\",\"mapbox\":{\"style\":\"light\"},\"paper_bgcolor\":\"white\",\"plot_bgcolor\":\"white\",\"polar\":{\"angularaxis\":{\"gridcolor\":\"rgb(232,232,232)\",\"linecolor\":\"rgb(36,36,36)\",\"showgrid\":false,\"showline\":true,\"ticks\":\"outside\"},\"bgcolor\":\"white\",\"radialaxis\":{\"gridcolor\":\"rgb(232,232,232)\",\"linecolor\":\"rgb(36,36,36)\",\"showgrid\":false,\"showline\":true,\"ticks\":\"outside\"}},\"scene\":{\"xaxis\":{\"backgroundcolor\":\"white\",\"gridcolor\":\"rgb(232,232,232)\",\"gridwidth\":2,\"linecolor\":\"rgb(36,36,36)\",\"showbackground\":true,\"showgrid\":false,\"showline\":true,\"ticks\":\"outside\",\"zeroline\":false,\"zerolinecolor\":\"rgb(36,36,36)\"},\"yaxis\":{\"backgroundcolor\":\"white\",\"gridcolor\":\"rgb(232,232,232)\",\"gridwidth\":2,\"linecolor\":\"rgb(36,36,36)\",\"showbackground\":true,\"showgrid\":false,\"showline\":true,\"ticks\":\"outside\",\"zeroline\":false,\"zerolinecolor\":\"rgb(36,36,36)\"},\"zaxis\":{\"backgroundcolor\":\"white\",\"gridcolor\":\"rgb(232,232,232)\",\"gridwidth\":2,\"linecolor\":\"rgb(36,36,36)\",\"showbackground\":true,\"showgrid\":false,\"showline\":true,\"ticks\":\"outside\",\"zeroline\":false,\"zerolinecolor\":\"rgb(36,36,36)\"}},\"shapedefaults\":{\"fillcolor\":\"black\",\"line\":{\"width\":0},\"opacity\":0.3},\"ternary\":{\"aaxis\":{\"gridcolor\":\"rgb(232,232,232)\",\"linecolor\":\"rgb(36,36,36)\",\"showgrid\":false,\"showline\":true,\"ticks\":\"outside\"},\"baxis\":{\"gridcolor\":\"rgb(232,232,232)\",\"linecolor\":\"rgb(36,36,36)\",\"showgrid\":false,\"showline\":true,\"ticks\":\"outside\"},\"bgcolor\":\"white\",\"caxis\":{\"gridcolor\":\"rgb(232,232,232)\",\"linecolor\":\"rgb(36,36,36)\",\"showgrid\":false,\"showline\":true,\"ticks\":\"outside\"}},\"title\":{\"x\":0.05},\"xaxis\":{\"automargin\":true,\"gridcolor\":\"rgb(232,232,232)\",\"linecolor\":\"rgb(36,36,36)\",\"showgrid\":false,\"showline\":true,\"ticks\":\"outside\",\"title\":{\"standoff\":15},\"zeroline\":false,\"zerolinecolor\":\"rgb(36,36,36)\"},\"yaxis\":{\"automargin\":true,\"gridcolor\":\"rgb(232,232,232)\",\"linecolor\":\"rgb(36,36,36)\",\"showgrid\":false,\"showline\":true,\"ticks\":\"outside\",\"title\":{\"standoff\":15},\"zeroline\":false,\"zerolinecolor\":\"rgb(36,36,36)\"}}},\"title\":{\"text\":\"\"},\"xaxis\":{\"showgrid\":false,\"showline\":false,\"showticklabels\":false,\"ticks\":\"\",\"title\":{\"text\":\"\"},\"zeroline\":false},\"yaxis\":{\"showgrid\":false,\"showline\":false,\"showticklabels\":false,\"ticks\":\"\",\"title\":{\"text\":\"\"},\"zeroline\":false}},                        {\"scrollZoom\": true, \"responsive\": true}                    ).then(function(){\n",
              "                            \n",
              "var gd = document.getElementById('bde44ab1-b8b5-4407-aed1-644427b637a2');\n",
              "var x = new MutationObserver(function (mutations, observer) {{\n",
              "        var display = window.getComputedStyle(gd).display;\n",
              "        if (!display || display === 'none') {{\n",
              "            console.log([gd, 'removed!']);\n",
              "            Plotly.purge(gd);\n",
              "            observer.disconnect();\n",
              "        }}\n",
              "}});\n",
              "\n",
              "// Listen for the removal of the full notebook cells\n",
              "var notebookContainer = gd.closest('#notebook-container');\n",
              "if (notebookContainer) {{\n",
              "    x.observe(notebookContainer, {childList: true});\n",
              "}}\n",
              "\n",
              "// Listen for the clearing of the current output cell\n",
              "var outputEl = gd.closest('.output');\n",
              "if (outputEl) {{\n",
              "    x.observe(outputEl, {childList: true});\n",
              "}}\n",
              "\n",
              "                        })                };                            </script>        </div>\n",
              "</body>\n",
              "</html>"
            ]
          },
          "metadata": {}
        }
      ]
    },
    {
      "cell_type": "code",
      "source": [
        "plotly_params = {\"node_trace\": {\"marker_colorscale\": \"RdBu\"}}\n",
        "fig = plot_static_mapper_graph(pipe_mapper,\n",
        "                               intermediate_output_2, \n",
        "                               layout='fruchterman_reingold',\n",
        "                               node_scale =20,\n",
        "                               plotly_params=plotly_params)\n",
        "fig.show(config={'scrollZoom': True})"
      ],
      "metadata": {
        "colab": {
          "base_uri": "https://localhost:8080/",
          "height": 542
        },
        "id": "TKR5qbT6DYaG",
        "outputId": "32a69b80-4fbf-494f-e80d-50c55e6338dd"
      },
      "execution_count": 27,
      "outputs": [
        {
          "output_type": "display_data",
          "data": {
            "text/html": [
              "<html>\n",
              "<head><meta charset=\"utf-8\" /></head>\n",
              "<body>\n",
              "    <div>            <script src=\"https://cdnjs.cloudflare.com/ajax/libs/mathjax/2.7.5/MathJax.js?config=TeX-AMS-MML_SVG\"></script><script type=\"text/javascript\">if (window.MathJax) {MathJax.Hub.Config({SVG: {font: \"STIX-Web\"}});}</script>                <script type=\"text/javascript\">window.PlotlyConfig = {MathJaxConfig: 'local'};</script>\n",
              "        <script src=\"https://cdn.plot.ly/plotly-2.8.3.min.js\"></script>                <div id=\"6781012e-e956-43e8-91d7-bb7ca01e03e6\" class=\"plotly-graph-div\" style=\"height:525px; width:100%;\"></div>            <script type=\"text/javascript\">                                    window.PLOTLYENV=window.PLOTLYENV || {};                                    if (document.getElementById(\"6781012e-e956-43e8-91d7-bb7ca01e03e6\")) {                    Plotly.newPlot(                        \"6781012e-e956-43e8-91d7-bb7ca01e03e6\",                        [{\"hoverinfo\":\"none\",\"line\":{\"color\":\"#888\",\"width\":1},\"mode\":\"lines\",\"name\":\"edge_trace\",\"x\":[-0.40719459918798,0.17879980062329398,null,-0.40719459918798,-0.3880326059863728,null,-0.40719459918798,-0.7607884872955265,null,-0.40719459918798,0.03868961965227379,null,0.17879980062329398,-0.3880326059863728,null,0.17879980062329398,-0.42455158631329454,null,0.17879980062329398,0.03868961965227379,null,-0.3880326059863728,-0.42455158631329454,null,-0.3880326059863728,-1.207611879711863,null,-4.052445687528522,-3.614872641922526,null,-4.052445687528522,-4.412443576197062,null,-4.052445687528522,-3.9923993553808086,null,-4.052445687528522,-3.631582248475444,null,-3.614872641922526,-4.412443576197062,null,-0.42455158631329454,-1.207611879711863,null,-0.42455158631329454,-1.941360913123378,null,-1.207611879711863,-1.941360913123378,null,-1.207611879711863,-2.4479261637305116,null,-0.7607884872955265,0.03868961965227379,null,-0.7607884872955265,-0.3230950059700458,null,0.03868961965227379,-0.3230950059700458,null,-1.941360913123378,-2.4479261637305116,null,-1.941360913123378,-3.2520798467154695,null,-2.4479261637305116,-3.2520798467154695,null,-2.4479261637305116,-3.279266001684432,null,2.519999119163933,2.967520465433513,null,2.519999119163933,1.7394300002467873,null,2.519999119163933,2.7527482698821473,null,2.967520465433513,2.7134012096022535,null,2.967520465433513,3.497991857127795,null,-3.2520798467154695,-3.279266001684432,null,-3.2520798467154695,-3.9923993553808086,null,-3.279266001684432,-3.9923993553808086,null,-3.279266001684432,-3.631582248475444,null,1.4045602486113988,1.7394300002467873,null,1.4045602486113988,0.6049905572255028,null,1.7394300002467873,0.6049905572255028,null,1.7394300002467873,2.7527482698821473,null,-3.9923993553808086,-3.631582248475444,null,2.7134012096022535,3.497991857127795,null,2.7134012096022535,3.200232792722602,null,3.497991857127795,3.200232792722602,null,0.6049905572255028,-0.35772698504382117,null,-2.0897654092984372,-2.8102947737772745,null,3.200232792722602,3.8592000587564335,null],\"y\":[0.5715329302932856,1.299793033802403,null,0.5715329302932856,1.9119602533316762,null,0.5715329302932856,-0.6477836301360201,null,0.5715329302932856,-0.21214583519370522,null,1.299793033802403,1.9119602533316762,null,1.299793033802403,2.726479558505177,null,1.299793033802403,-0.21214583519370522,null,1.9119602533316762,2.726479558505177,null,1.9119602533316762,2.8542334337558555,null,-0.686580742047802,-1.8084968050184207,null,-0.686580742047802,-1.7404428260595384,null,-0.686580742047802,0.8487980996963618,null,-0.686580742047802,0.17668051464007736,null,-1.8084968050184207,-1.7404428260595384,null,2.726479558505177,2.8542334337558555,null,2.726479558505177,3.050763719332324,null,2.8542334337558555,3.050763719332324,null,2.8542334337558555,2.4143199631986136,null,-0.6477836301360201,-0.21214583519370522,null,-0.6477836301360201,-1.4360559003112638,null,-0.21214583519370522,-1.4360559003112638,null,3.050763719332324,2.4143199631986136,null,3.050763719332324,2.208487128069022,null,2.4143199631986136,2.208487128069022,null,2.4143199631986136,1.3604727317169558,null,-2.121030597171455,-0.8869541044408237,null,-2.121030597171455,-3.181161192014555,null,-2.121030597171455,-2.989942442899444,null,-0.8869541044408237,0.2653046728282111,null,-0.8869541044408237,0.05284866668756024,null,2.208487128069022,1.3604727317169558,null,2.208487128069022,0.8487980996963618,null,1.3604727317169558,0.8487980996963618,null,1.3604727317169558,0.17668051464007736,null,-4.130750468967511,-3.181161192014555,null,-4.130750468967511,-3.7895861795278525,null,-3.181161192014555,-3.7895861795278525,null,-3.181161192014555,-2.989942442899444,null,0.8487980996963618,0.17668051464007736,null,0.2653046728282111,0.05284866668756024,null,0.2653046728282111,1.1042660127148365,null,0.05284866668756024,1.1042660127148365,null,-3.7895861795278525,-4.249694262894242,null,-4.152823786546907,-3.71986262341322,null,1.1042660127148365,1.7295279869689038,null],\"type\":\"scatter\",\"uid\":\"4559e4b7-ba7c-47c4-9b35-afd18f75ac6e\"},{\"hoverinfo\":\"text\",\"hovertext\":[\"Node ID: 0<br>Pullback set label: 3<br>Partial cluster label: 0<br>Node size: 18<br>Summary statistic: 77.4\",\"Node ID: 1<br>Pullback set label: 4<br>Partial cluster label: 0<br>Node size: 20<br>Summary statistic: 83.5\",\"Node ID: 2<br>Pullback set label: 5<br>Partial cluster label: 0<br>Node size: 26<br>Summary statistic: 66.9\",\"Node ID: 3<br>Pullback set label: 14<br>Partial cluster label: 0<br>Node size: 8<br>Summary statistic: 69.5\",\"Node ID: 4<br>Pullback set label: 15<br>Partial cluster label: -1<br>Node size: 3<br>Summary statistic: 83.7\",\"Node ID: 5<br>Pullback set label: 16<br>Partial cluster label: -1<br>Node size: 2<br>Summary statistic: 61.5\",\"Node ID: 6<br>Pullback set label: 6<br>Partial cluster label: 0<br>Node size: 38<br>Summary statistic: 67.1\",\"Node ID: 7<br>Pullback set label: 7<br>Partial cluster label: 0<br>Node size: 32<br>Summary statistic: 58.7\",\"Node ID: 8<br>Pullback set label: 1<br>Partial cluster label: 0<br>Node size: 16<br>Summary statistic: 86.8\",\"Node ID: 9<br>Pullback set label: 2<br>Partial cluster label: 0<br>Node size: 19<br>Summary statistic: 81.6\",\"Node ID: 10<br>Pullback set label: 8<br>Partial cluster label: 0<br>Node size: 16<br>Summary statistic: 69.3\",\"Node ID: 11<br>Pullback set label: 9<br>Partial cluster label: 0<br>Node size: 19<br>Summary statistic: 69.8\",\"Node ID: 12<br>Pullback set label: 0<br>Partial cluster label: 0<br>Node size: 17<br>Summary statistic: 78.1\",\"Node ID: 13<br>Pullback set label: 22<br>Partial cluster label: -1<br>Node size: 3<br>Summary statistic: 75.7\",\"Node ID: 14<br>Pullback set label: 23<br>Partial cluster label: -1<br>Node size: 3<br>Summary statistic: 57.0\",\"Node ID: 15<br>Pullback set label: 10<br>Partial cluster label: 0<br>Node size: 22<br>Summary statistic: 70.1\",\"Node ID: 16<br>Pullback set label: 11<br>Partial cluster label: 0<br>Node size: 18<br>Summary statistic: 67.4\",\"Node ID: 17<br>Pullback set label: 19<br>Partial cluster label: -1<br>Node size: 3<br>Summary statistic: 35.3\",\"Node ID: 18<br>Pullback set label: 20<br>Partial cluster label: -1<br>Node size: 4<br>Summary statistic: 73.0\",\"Node ID: 19<br>Pullback set label: 12<br>Partial cluster label: 0<br>Node size: 16<br>Summary statistic: 72.2\",\"Node ID: 20<br>Pullback set label: 13<br>Partial cluster label: 0<br>Node size: 10<br>Summary statistic: 69.9\",\"Node ID: 21<br>Pullback set label: 24<br>Partial cluster label: -1<br>Node size: 4<br>Summary statistic: 80.0\",\"Node ID: 22<br>Pullback set label: 25<br>Partial cluster label: -1<br>Node size: 3<br>Summary statistic: 59.7\",\"Node ID: 23<br>Pullback set label: 18<br>Partial cluster label: -1<br>Node size: 4<br>Summary statistic: 44.5\",\"Node ID: 24<br>Pullback set label: 17<br>Partial cluster label: -1<br>Node size: 2<br>Summary statistic: 43.0\",\"Node ID: 25<br>Pullback set label: 30<br>Partial cluster label: -1<br>Node size: 3<br>Summary statistic: 63.7\",\"Node ID: 26<br>Pullback set label: 29<br>Partial cluster label: -1<br>Node size: 1<br>Summary statistic: 51.0\",\"Node ID: 27<br>Pullback set label: 26<br>Partial cluster label: -1<br>Node size: 2<br>Summary statistic: 102.0\",\"Node ID: 28<br>Pullback set label: 27<br>Partial cluster label: -1<br>Node size: 1<br>Summary statistic: 75.0\",\"Node ID: 29<br>Pullback set label: 21<br>Partial cluster label: -1<br>Node size: 2<br>Summary statistic: 110.0\",\"Node ID: 30<br>Pullback set label: 28<br>Partial cluster label: -1<br>Node size: 1<br>Summary statistic: 135.0\"],\"marker\":{\"color\":[77.44444444444444,83.5,66.92307692307692,69.5,83.66666666666667,61.5,67.13157894736842,58.65625,86.8125,81.57894736842105,69.3125,69.78947368421052,78.11764705882354,75.66666666666667,57.0,70.13636363636364,67.38888888888889,35.333333333333336,73.0,72.1875,69.9,80.0,59.666666666666664,44.5,43.0,63.666666666666664,51.0,102.5,75.0,109.5,135.0],\"colorbar\":{\"thickness\":15,\"title\":{\"side\":\"right\",\"text\":\"\"},\"xanchor\":\"left\"},\"colorscale\":[[0.0,\"rgb(103,0,31)\"],[0.1,\"rgb(178,24,43)\"],[0.2,\"rgb(214,96,77)\"],[0.3,\"rgb(244,165,130)\"],[0.4,\"rgb(253,219,199)\"],[0.5,\"rgb(247,247,247)\"],[0.6,\"rgb(209,229,240)\"],[0.7,\"rgb(146,197,222)\"],[0.8,\"rgb(67,147,195)\"],[0.9,\"rgb(33,102,172)\"],[1.0,\"rgb(5,48,97)\"]],\"line\":{\"color\":\"#888\",\"width\":1},\"opacity\":1.0,\"reversescale\":false,\"showscale\":true,\"size\":[18,20,26,8,3,2,38,32,16,19,16,19,17,3,3,22,18,3,4,16,10,4,3,4,2,3,1,2,1,2,1],\"sizemin\":4,\"sizemode\":\"area\",\"sizeref\":0.19},\"mode\":\"markers\",\"name\":\"node_trace\",\"x\":[-0.40719459918798,0.17879980062329398,-0.3880326059863728,-4.052445687528522,-3.614872641922526,-4.412443576197062,-0.42455158631329454,-1.207611879711863,-0.7607884872955265,0.03868961965227379,-1.941360913123378,-2.4479261637305116,-0.3230950059700458,2.519999119163933,2.967520465433513,-3.2520798467154695,-3.279266001684432,1.4045602486113988,1.7394300002467873,-3.9923993553808086,-3.631582248475444,2.7134012096022535,3.497991857127795,0.6049905572255028,-0.35772698504382117,-2.0897654092984372,-2.8102947737772745,3.200232792722602,3.8592000587564335,2.7527482698821473,1.7920379611845718],\"y\":[0.5715329302932856,1.299793033802403,1.9119602533316762,-0.686580742047802,-1.8084968050184207,-1.7404428260595384,2.726479558505177,2.8542334337558555,-0.6477836301360201,-0.21214583519370522,3.050763719332324,2.4143199631986136,-1.4360559003112638,-2.121030597171455,-0.8869541044408237,2.208487128069022,1.3604727317169558,-4.130750468967511,-3.181161192014555,0.8487980996963618,0.17668051464007736,0.2653046728282111,0.05284866668756024,-3.7895861795278525,-4.249694262894242,-4.152823786546907,-3.71986262341322,1.1042660127148365,1.7295279869689038,-2.989942442899444,3.6154621330879113],\"type\":\"scatter\",\"uid\":\"0aab882d-6411-4908-ab39-d07a9c8b2d8d\"}],                        {\"autosize\":false,\"hovermode\":\"closest\",\"margin\":{\"b\":20,\"l\":5,\"r\":5,\"t\":40},\"showlegend\":false,\"template\":{\"data\":{\"barpolar\":[{\"marker\":{\"line\":{\"color\":\"white\",\"width\":0.5},\"pattern\":{\"fillmode\":\"overlay\",\"size\":10,\"solidity\":0.2}},\"type\":\"barpolar\"}],\"bar\":[{\"error_x\":{\"color\":\"rgb(36,36,36)\"},\"error_y\":{\"color\":\"rgb(36,36,36)\"},\"marker\":{\"line\":{\"color\":\"white\",\"width\":0.5},\"pattern\":{\"fillmode\":\"overlay\",\"size\":10,\"solidity\":0.2}},\"type\":\"bar\"}],\"carpet\":[{\"aaxis\":{\"endlinecolor\":\"rgb(36,36,36)\",\"gridcolor\":\"white\",\"linecolor\":\"white\",\"minorgridcolor\":\"white\",\"startlinecolor\":\"rgb(36,36,36)\"},\"baxis\":{\"endlinecolor\":\"rgb(36,36,36)\",\"gridcolor\":\"white\",\"linecolor\":\"white\",\"minorgridcolor\":\"white\",\"startlinecolor\":\"rgb(36,36,36)\"},\"type\":\"carpet\"}],\"choropleth\":[{\"colorbar\":{\"outlinewidth\":1,\"tickcolor\":\"rgb(36,36,36)\",\"ticks\":\"outside\"},\"type\":\"choropleth\"}],\"contourcarpet\":[{\"colorbar\":{\"outlinewidth\":1,\"tickcolor\":\"rgb(36,36,36)\",\"ticks\":\"outside\"},\"type\":\"contourcarpet\"}],\"contour\":[{\"colorbar\":{\"outlinewidth\":1,\"tickcolor\":\"rgb(36,36,36)\",\"ticks\":\"outside\"},\"colorscale\":[[0.0,\"#440154\"],[0.1111111111111111,\"#482878\"],[0.2222222222222222,\"#3e4989\"],[0.3333333333333333,\"#31688e\"],[0.4444444444444444,\"#26828e\"],[0.5555555555555556,\"#1f9e89\"],[0.6666666666666666,\"#35b779\"],[0.7777777777777778,\"#6ece58\"],[0.8888888888888888,\"#b5de2b\"],[1.0,\"#fde725\"]],\"type\":\"contour\"}],\"heatmapgl\":[{\"colorbar\":{\"outlinewidth\":1,\"tickcolor\":\"rgb(36,36,36)\",\"ticks\":\"outside\"},\"colorscale\":[[0.0,\"#440154\"],[0.1111111111111111,\"#482878\"],[0.2222222222222222,\"#3e4989\"],[0.3333333333333333,\"#31688e\"],[0.4444444444444444,\"#26828e\"],[0.5555555555555556,\"#1f9e89\"],[0.6666666666666666,\"#35b779\"],[0.7777777777777778,\"#6ece58\"],[0.8888888888888888,\"#b5de2b\"],[1.0,\"#fde725\"]],\"type\":\"heatmapgl\"}],\"heatmap\":[{\"colorbar\":{\"outlinewidth\":1,\"tickcolor\":\"rgb(36,36,36)\",\"ticks\":\"outside\"},\"colorscale\":[[0.0,\"#440154\"],[0.1111111111111111,\"#482878\"],[0.2222222222222222,\"#3e4989\"],[0.3333333333333333,\"#31688e\"],[0.4444444444444444,\"#26828e\"],[0.5555555555555556,\"#1f9e89\"],[0.6666666666666666,\"#35b779\"],[0.7777777777777778,\"#6ece58\"],[0.8888888888888888,\"#b5de2b\"],[1.0,\"#fde725\"]],\"type\":\"heatmap\"}],\"histogram2dcontour\":[{\"colorbar\":{\"outlinewidth\":1,\"tickcolor\":\"rgb(36,36,36)\",\"ticks\":\"outside\"},\"colorscale\":[[0.0,\"#440154\"],[0.1111111111111111,\"#482878\"],[0.2222222222222222,\"#3e4989\"],[0.3333333333333333,\"#31688e\"],[0.4444444444444444,\"#26828e\"],[0.5555555555555556,\"#1f9e89\"],[0.6666666666666666,\"#35b779\"],[0.7777777777777778,\"#6ece58\"],[0.8888888888888888,\"#b5de2b\"],[1.0,\"#fde725\"]],\"type\":\"histogram2dcontour\"}],\"histogram2d\":[{\"colorbar\":{\"outlinewidth\":1,\"tickcolor\":\"rgb(36,36,36)\",\"ticks\":\"outside\"},\"colorscale\":[[0.0,\"#440154\"],[0.1111111111111111,\"#482878\"],[0.2222222222222222,\"#3e4989\"],[0.3333333333333333,\"#31688e\"],[0.4444444444444444,\"#26828e\"],[0.5555555555555556,\"#1f9e89\"],[0.6666666666666666,\"#35b779\"],[0.7777777777777778,\"#6ece58\"],[0.8888888888888888,\"#b5de2b\"],[1.0,\"#fde725\"]],\"type\":\"histogram2d\"}],\"histogram\":[{\"marker\":{\"line\":{\"color\":\"white\",\"width\":0.6}},\"type\":\"histogram\"}],\"mesh3d\":[{\"colorbar\":{\"outlinewidth\":1,\"tickcolor\":\"rgb(36,36,36)\",\"ticks\":\"outside\"},\"type\":\"mesh3d\"}],\"parcoords\":[{\"line\":{\"colorbar\":{\"outlinewidth\":1,\"tickcolor\":\"rgb(36,36,36)\",\"ticks\":\"outside\"}},\"type\":\"parcoords\"}],\"pie\":[{\"automargin\":true,\"type\":\"pie\"}],\"scatter3d\":[{\"line\":{\"colorbar\":{\"outlinewidth\":1,\"tickcolor\":\"rgb(36,36,36)\",\"ticks\":\"outside\"}},\"marker\":{\"colorbar\":{\"outlinewidth\":1,\"tickcolor\":\"rgb(36,36,36)\",\"ticks\":\"outside\"}},\"type\":\"scatter3d\"}],\"scattercarpet\":[{\"marker\":{\"colorbar\":{\"outlinewidth\":1,\"tickcolor\":\"rgb(36,36,36)\",\"ticks\":\"outside\"}},\"type\":\"scattercarpet\"}],\"scattergeo\":[{\"marker\":{\"colorbar\":{\"outlinewidth\":1,\"tickcolor\":\"rgb(36,36,36)\",\"ticks\":\"outside\"}},\"type\":\"scattergeo\"}],\"scattergl\":[{\"marker\":{\"colorbar\":{\"outlinewidth\":1,\"tickcolor\":\"rgb(36,36,36)\",\"ticks\":\"outside\"}},\"type\":\"scattergl\"}],\"scattermapbox\":[{\"marker\":{\"colorbar\":{\"outlinewidth\":1,\"tickcolor\":\"rgb(36,36,36)\",\"ticks\":\"outside\"}},\"type\":\"scattermapbox\"}],\"scatterpolargl\":[{\"marker\":{\"colorbar\":{\"outlinewidth\":1,\"tickcolor\":\"rgb(36,36,36)\",\"ticks\":\"outside\"}},\"type\":\"scatterpolargl\"}],\"scatterpolar\":[{\"marker\":{\"colorbar\":{\"outlinewidth\":1,\"tickcolor\":\"rgb(36,36,36)\",\"ticks\":\"outside\"}},\"type\":\"scatterpolar\"}],\"scatter\":[{\"marker\":{\"colorbar\":{\"outlinewidth\":1,\"tickcolor\":\"rgb(36,36,36)\",\"ticks\":\"outside\"}},\"type\":\"scatter\"}],\"scatterternary\":[{\"marker\":{\"colorbar\":{\"outlinewidth\":1,\"tickcolor\":\"rgb(36,36,36)\",\"ticks\":\"outside\"}},\"type\":\"scatterternary\"}],\"surface\":[{\"colorbar\":{\"outlinewidth\":1,\"tickcolor\":\"rgb(36,36,36)\",\"ticks\":\"outside\"},\"colorscale\":[[0.0,\"#440154\"],[0.1111111111111111,\"#482878\"],[0.2222222222222222,\"#3e4989\"],[0.3333333333333333,\"#31688e\"],[0.4444444444444444,\"#26828e\"],[0.5555555555555556,\"#1f9e89\"],[0.6666666666666666,\"#35b779\"],[0.7777777777777778,\"#6ece58\"],[0.8888888888888888,\"#b5de2b\"],[1.0,\"#fde725\"]],\"type\":\"surface\"}],\"table\":[{\"cells\":{\"fill\":{\"color\":\"rgb(237,237,237)\"},\"line\":{\"color\":\"white\"}},\"header\":{\"fill\":{\"color\":\"rgb(217,217,217)\"},\"line\":{\"color\":\"white\"}},\"type\":\"table\"}]},\"layout\":{\"annotationdefaults\":{\"arrowhead\":0,\"arrowwidth\":1},\"autotypenumbers\":\"strict\",\"coloraxis\":{\"colorbar\":{\"outlinewidth\":1,\"tickcolor\":\"rgb(36,36,36)\",\"ticks\":\"outside\"}},\"colorscale\":{\"diverging\":[[0.0,\"rgb(103,0,31)\"],[0.1,\"rgb(178,24,43)\"],[0.2,\"rgb(214,96,77)\"],[0.3,\"rgb(244,165,130)\"],[0.4,\"rgb(253,219,199)\"],[0.5,\"rgb(247,247,247)\"],[0.6,\"rgb(209,229,240)\"],[0.7,\"rgb(146,197,222)\"],[0.8,\"rgb(67,147,195)\"],[0.9,\"rgb(33,102,172)\"],[1.0,\"rgb(5,48,97)\"]],\"sequential\":[[0.0,\"#440154\"],[0.1111111111111111,\"#482878\"],[0.2222222222222222,\"#3e4989\"],[0.3333333333333333,\"#31688e\"],[0.4444444444444444,\"#26828e\"],[0.5555555555555556,\"#1f9e89\"],[0.6666666666666666,\"#35b779\"],[0.7777777777777778,\"#6ece58\"],[0.8888888888888888,\"#b5de2b\"],[1.0,\"#fde725\"]],\"sequentialminus\":[[0.0,\"#440154\"],[0.1111111111111111,\"#482878\"],[0.2222222222222222,\"#3e4989\"],[0.3333333333333333,\"#31688e\"],[0.4444444444444444,\"#26828e\"],[0.5555555555555556,\"#1f9e89\"],[0.6666666666666666,\"#35b779\"],[0.7777777777777778,\"#6ece58\"],[0.8888888888888888,\"#b5de2b\"],[1.0,\"#fde725\"]]},\"colorway\":[\"#1F77B4\",\"#FF7F0E\",\"#2CA02C\",\"#D62728\",\"#9467BD\",\"#8C564B\",\"#E377C2\",\"#7F7F7F\",\"#BCBD22\",\"#17BECF\"],\"font\":{\"color\":\"rgb(36,36,36)\"},\"geo\":{\"bgcolor\":\"white\",\"lakecolor\":\"white\",\"landcolor\":\"white\",\"showlakes\":true,\"showland\":true,\"subunitcolor\":\"white\"},\"hoverlabel\":{\"align\":\"left\"},\"hovermode\":\"closest\",\"mapbox\":{\"style\":\"light\"},\"paper_bgcolor\":\"white\",\"plot_bgcolor\":\"white\",\"polar\":{\"angularaxis\":{\"gridcolor\":\"rgb(232,232,232)\",\"linecolor\":\"rgb(36,36,36)\",\"showgrid\":false,\"showline\":true,\"ticks\":\"outside\"},\"bgcolor\":\"white\",\"radialaxis\":{\"gridcolor\":\"rgb(232,232,232)\",\"linecolor\":\"rgb(36,36,36)\",\"showgrid\":false,\"showline\":true,\"ticks\":\"outside\"}},\"scene\":{\"xaxis\":{\"backgroundcolor\":\"white\",\"gridcolor\":\"rgb(232,232,232)\",\"gridwidth\":2,\"linecolor\":\"rgb(36,36,36)\",\"showbackground\":true,\"showgrid\":false,\"showline\":true,\"ticks\":\"outside\",\"zeroline\":false,\"zerolinecolor\":\"rgb(36,36,36)\"},\"yaxis\":{\"backgroundcolor\":\"white\",\"gridcolor\":\"rgb(232,232,232)\",\"gridwidth\":2,\"linecolor\":\"rgb(36,36,36)\",\"showbackground\":true,\"showgrid\":false,\"showline\":true,\"ticks\":\"outside\",\"zeroline\":false,\"zerolinecolor\":\"rgb(36,36,36)\"},\"zaxis\":{\"backgroundcolor\":\"white\",\"gridcolor\":\"rgb(232,232,232)\",\"gridwidth\":2,\"linecolor\":\"rgb(36,36,36)\",\"showbackground\":true,\"showgrid\":false,\"showline\":true,\"ticks\":\"outside\",\"zeroline\":false,\"zerolinecolor\":\"rgb(36,36,36)\"}},\"shapedefaults\":{\"fillcolor\":\"black\",\"line\":{\"width\":0},\"opacity\":0.3},\"ternary\":{\"aaxis\":{\"gridcolor\":\"rgb(232,232,232)\",\"linecolor\":\"rgb(36,36,36)\",\"showgrid\":false,\"showline\":true,\"ticks\":\"outside\"},\"baxis\":{\"gridcolor\":\"rgb(232,232,232)\",\"linecolor\":\"rgb(36,36,36)\",\"showgrid\":false,\"showline\":true,\"ticks\":\"outside\"},\"bgcolor\":\"white\",\"caxis\":{\"gridcolor\":\"rgb(232,232,232)\",\"linecolor\":\"rgb(36,36,36)\",\"showgrid\":false,\"showline\":true,\"ticks\":\"outside\"}},\"title\":{\"x\":0.05},\"xaxis\":{\"automargin\":true,\"gridcolor\":\"rgb(232,232,232)\",\"linecolor\":\"rgb(36,36,36)\",\"showgrid\":false,\"showline\":true,\"ticks\":\"outside\",\"title\":{\"standoff\":15},\"zeroline\":false,\"zerolinecolor\":\"rgb(36,36,36)\"},\"yaxis\":{\"automargin\":true,\"gridcolor\":\"rgb(232,232,232)\",\"linecolor\":\"rgb(36,36,36)\",\"showgrid\":false,\"showline\":true,\"ticks\":\"outside\",\"title\":{\"standoff\":15},\"zeroline\":false,\"zerolinecolor\":\"rgb(36,36,36)\"}}},\"title\":{\"text\":\"\"},\"xaxis\":{\"showgrid\":false,\"showline\":false,\"showticklabels\":false,\"ticks\":\"\",\"title\":{\"text\":\"\"},\"zeroline\":false},\"yaxis\":{\"showgrid\":false,\"showline\":false,\"showticklabels\":false,\"ticks\":\"\",\"title\":{\"text\":\"\"},\"zeroline\":false}},                        {\"scrollZoom\": true, \"responsive\": true}                    ).then(function(){\n",
              "                            \n",
              "var gd = document.getElementById('6781012e-e956-43e8-91d7-bb7ca01e03e6');\n",
              "var x = new MutationObserver(function (mutations, observer) {{\n",
              "        var display = window.getComputedStyle(gd).display;\n",
              "        if (!display || display === 'none') {{\n",
              "            console.log([gd, 'removed!']);\n",
              "            Plotly.purge(gd);\n",
              "            observer.disconnect();\n",
              "        }}\n",
              "}});\n",
              "\n",
              "// Listen for the removal of the full notebook cells\n",
              "var notebookContainer = gd.closest('#notebook-container');\n",
              "if (notebookContainer) {{\n",
              "    x.observe(notebookContainer, {childList: true});\n",
              "}}\n",
              "\n",
              "// Listen for the clearing of the current output cell\n",
              "var outputEl = gd.closest('.output');\n",
              "if (outputEl) {{\n",
              "    x.observe(outputEl, {childList: true});\n",
              "}}\n",
              "\n",
              "                        })                };                            </script>        </div>\n",
              "</body>\n",
              "</html>"
            ]
          },
          "metadata": {}
        }
      ]
    },
    {
      "cell_type": "code",
      "source": [
        "plotly_params = {\"node_trace\": {\"marker_colorscale\": \"RdBu\"}}\n",
        "fig = plot_static_mapper_graph(pipe_mapper,\n",
        "                               intermediate_output_3, \n",
        "                               layout='fruchterman_reingold',\n",
        "                               node_scale =20,\n",
        "                               plotly_params=plotly_params)\n",
        "fig.show(config={'scrollZoom': True})"
      ],
      "metadata": {
        "colab": {
          "base_uri": "https://localhost:8080/",
          "height": 542
        },
        "id": "9KbG-56IDbH2",
        "outputId": "9fca1a31-0193-4445-cbac-253893b1525b"
      },
      "execution_count": 28,
      "outputs": [
        {
          "output_type": "display_data",
          "data": {
            "text/html": [
              "<html>\n",
              "<head><meta charset=\"utf-8\" /></head>\n",
              "<body>\n",
              "    <div>            <script src=\"https://cdnjs.cloudflare.com/ajax/libs/mathjax/2.7.5/MathJax.js?config=TeX-AMS-MML_SVG\"></script><script type=\"text/javascript\">if (window.MathJax) {MathJax.Hub.Config({SVG: {font: \"STIX-Web\"}});}</script>                <script type=\"text/javascript\">window.PlotlyConfig = {MathJaxConfig: 'local'};</script>\n",
              "        <script src=\"https://cdn.plot.ly/plotly-2.8.3.min.js\"></script>                <div id=\"44a8a142-f9d1-4142-ab4b-7c5c288fd3e3\" class=\"plotly-graph-div\" style=\"height:525px; width:100%;\"></div>            <script type=\"text/javascript\">                                    window.PLOTLYENV=window.PLOTLYENV || {};                                    if (document.getElementById(\"44a8a142-f9d1-4142-ab4b-7c5c288fd3e3\")) {                    Plotly.newPlot(                        \"44a8a142-f9d1-4142-ab4b-7c5c288fd3e3\",                        [{\"hoverinfo\":\"none\",\"line\":{\"color\":\"#888\",\"width\":1},\"mode\":\"lines\",\"name\":\"edge_trace\",\"x\":[-3.1381841706571163,-2.55832631709983,null,-3.1381841706571163,-3.731368327130185,null,-0.35515455165890175,-0.08487262345885559,null,-0.35515455165890175,0.7686972411189511,null,-0.35515455165890175,-0.5196889703477247,null,-0.08487262345885559,0.7686972411189511,null,-0.08487262345885559,0.7322292243597249,null,-0.08487262345885559,-0.5196889703477247,null,0.7686972411189511,0.7322292243597249,null,0.7686972411189511,1.651497668695711,null,0.2276529699765292,1.0348947506188058,null,1.0348947506188058,2.034089682250811,null,1.0348947506188058,1.738581261256761,null,-0.34163043898859236,-1.1645926326139275,null,-0.34163043898859236,-0.5196889703477247,null,-1.1645926326139275,-0.5196889703477247,null,-2.353637128594969,-2.3119299871311143,null,-2.353637128594969,-1.576149380665082,null,-2.353637128594969,-1.4967181194704358,null,-2.353637128594969,-3.194396827703646,null,-2.3119299871311143,-1.4967181194704358,null,-2.3119299871311143,-3.194396827703646,null,0.7322292243597249,1.651497668695711,null,-3.9750012703552504,-4.450941971558868,null,-3.9750012703552504,-3.0628629389175397,null,3.9008940048533876,2.9553564297599997,null,2.9553564297599997,1.9665299670377583,null,2.9553564297599997,2.297311075576059,null,-1.576149380665082,-1.4967181194704358,null,2.034089682250811,2.9946915197306327,null,2.034089682250811,1.738581261256761,null,1.9665299670377583,2.297311075576059,null],\"y\":[-2.2476208561076847,-2.9933093333281957,null,-2.2476208561076847,-1.5331993442853002,null,-2.120586297237419,-2.683260867931701,null,-2.120586297237419,-2.5625040816402396,null,-2.120586297237419,-1.273482285848855,null,-2.683260867931701,-2.5625040816402396,null,-2.683260867931701,-3.429352183644925,null,-2.683260867931701,-1.273482285848855,null,-2.5625040816402396,-3.429352183644925,null,-2.5625040816402396,-3.066709905469313,null,4.189450306323066,3.6286065176525804,null,3.6286065176525804,3.3296824866384434,null,3.6286065176525804,4.189324148597256,null,-0.13647105019142874,-0.3827566192213407,null,-0.13647105019142874,-1.273482285848855,null,-0.3827566192213407,-1.273482285848855,null,3.5111904578167277,2.5952456810718894,null,3.5111904578167277,4.1265545572359255,null,3.5111904578167277,3.157183064589742,null,3.5111904578167277,2.970261950982537,null,2.5952456810718894,3.157183064589742,null,2.5952456810718894,2.970261950982537,null,-3.429352183644925,-3.066709905469313,null,0.4375026108966846,1.191229927907207,null,0.4375026108966846,0.43504632477382205,null,1.1924681681974059,0.8862510138462962,null,0.8862510138462962,1.0151698930957236,null,0.8862510138462962,0.19479457454922153,null,4.1265545572359255,3.157183064589742,null,3.3296824866384434,3.0281691493989675,null,3.3296824866384434,4.189324148597256,null,1.0151698930957236,0.19479457454922153,null],\"type\":\"scatter\",\"uid\":\"2baedd34-de40-4af2-a003-eebeff72d4f4\"},{\"hoverinfo\":\"text\",\"hovertext\":[\"Node ID: 0<br>Pullback set label: 5<br>Partial cluster label: -1<br>Node size: 4<br>Summary statistic: 81.5\",\"Node ID: 1<br>Pullback set label: 6<br>Partial cluster label: -1<br>Node size: 3<br>Summary statistic: 69.0\",\"Node ID: 2<br>Pullback set label: 25<br>Partial cluster label: 0<br>Node size: 33<br>Summary statistic: 75.7\",\"Node ID: 3<br>Pullback set label: 26<br>Partial cluster label: 0<br>Node size: 65<br>Summary statistic: 72.8\",\"Node ID: 4<br>Pullback set label: 27<br>Partial cluster label: 0<br>Node size: 67<br>Summary statistic: 71.4\",\"Node ID: 5<br>Pullback set label: 7<br>Partial cluster label: -1<br>Node size: 1<br>Summary statistic: 7.0\",\"Node ID: 6<br>Pullback set label: 8<br>Partial cluster label: -1<br>Node size: 2<br>Summary statistic: 74.5\",\"Node ID: 7<br>Pullback set label: 22<br>Partial cluster label: 0<br>Node size: 7<br>Summary statistic: 59.7\",\"Node ID: 8<br>Pullback set label: 23<br>Partial cluster label: 0<br>Node size: 10<br>Summary statistic: 59.5\",\"Node ID: 9<br>Pullback set label: 12<br>Partial cluster label: -1<br>Node size: 3<br>Summary statistic: 38.0\",\"Node ID: 10<br>Pullback set label: 19<br>Partial cluster label: 0<br>Node size: 16<br>Summary statistic: 62.1\",\"Node ID: 11<br>Pullback set label: 20<br>Partial cluster label: 0<br>Node size: 11<br>Summary statistic: 64.2\",\"Node ID: 12<br>Pullback set label: 28<br>Partial cluster label: 0<br>Node size: 21<br>Summary statistic: 73.0\",\"Node ID: 13<br>Pullback set label: 29<br>Partial cluster label: 0<br>Node size: 26<br>Summary statistic: 68.0\",\"Node ID: 14<br>Pullback set label: 24<br>Partial cluster label: 0<br>Node size: 11<br>Summary statistic: 76.0\",\"Node ID: 15<br>Pullback set label: 2<br>Partial cluster label: 0<br>Node size: 5<br>Summary statistic: 100.0\",\"Node ID: 16<br>Pullback set label: 3<br>Partial cluster label: -1<br>Node size: 4<br>Summary statistic: 95.2\",\"Node ID: 17<br>Pullback set label: 0<br>Partial cluster label: -1<br>Node size: 4<br>Summary statistic: 85.5\",\"Node ID: 18<br>Pullback set label: 13<br>Partial cluster label: -1<br>Node size: 1<br>Summary statistic: 31.0\",\"Node ID: 19<br>Pullback set label: 14<br>Partial cluster label: -1<br>Node size: 4<br>Summary statistic: 78.8\",\"Node ID: 20<br>Pullback set label: 17<br>Partial cluster label: 0<br>Node size: 5<br>Summary statistic: 57.6\",\"Node ID: 21<br>Pullback set label: 18<br>Partial cluster label: 0<br>Node size: 8<br>Summary statistic: 73.6\",\"Node ID: 22<br>Pullback set label: 21<br>Partial cluster label: -1<br>Node size: 1<br>Summary statistic: 47.0\",\"Node ID: 23<br>Pullback set label: 10<br>Partial cluster label: -1<br>Node size: 2<br>Summary statistic: 106.0\",\"Node ID: 24<br>Pullback set label: 11<br>Partial cluster label: -1<br>Node size: 1<br>Summary statistic: 71.0\",\"Node ID: 25<br>Pullback set label: 15<br>Partial cluster label: -1<br>Node size: 3<br>Summary statistic: 94.7\",\"Node ID: 26<br>Pullback set label: 4<br>Partial cluster label: -1<br>Node size: 1<br>Summary statistic: 119.0\",\"Node ID: 27<br>Pullback set label: 1<br>Partial cluster label: -1<br>Node size: 1<br>Summary statistic: 120.0\",\"Node ID: 28<br>Pullback set label: 16<br>Partial cluster label: -1<br>Node size: 1<br>Summary statistic: 131.0\",\"Node ID: 29<br>Pullback set label: 9<br>Partial cluster label: -1<br>Node size: 1<br>Summary statistic: 142.0\"],\"marker\":{\"color\":[81.5,69.0,75.66666666666667,72.78461538461538,71.41791044776119,7.0,74.5,59.714285714285715,59.5,38.0,62.125,64.18181818181819,73.04761904761905,68.03846153846153,76.0,100.2,95.25,85.5,31.0,78.75,57.6,73.625,47.0,106.5,71.0,94.66666666666667,119.0,120.0,131.0,142.0],\"colorbar\":{\"thickness\":15,\"title\":{\"side\":\"right\",\"text\":\"\"},\"xanchor\":\"left\"},\"colorscale\":[[0.0,\"rgb(103,0,31)\"],[0.1,\"rgb(178,24,43)\"],[0.2,\"rgb(214,96,77)\"],[0.3,\"rgb(244,165,130)\"],[0.4,\"rgb(253,219,199)\"],[0.5,\"rgb(247,247,247)\"],[0.6,\"rgb(209,229,240)\"],[0.7,\"rgb(146,197,222)\"],[0.8,\"rgb(67,147,195)\"],[0.9,\"rgb(33,102,172)\"],[1.0,\"rgb(5,48,97)\"]],\"line\":{\"color\":\"#888\",\"width\":1},\"opacity\":1.0,\"reversescale\":false,\"showscale\":true,\"size\":[4,3,33,65,67,1,2,7,10,3,16,11,21,26,11,5,4,4,1,4,5,8,1,2,1,3,1,1,1,1],\"sizemin\":4,\"sizemode\":\"area\",\"sizeref\":0.335},\"mode\":\"markers\",\"name\":\"node_trace\",\"x\":[-3.1381841706571163,-2.55832631709983,-0.35515455165890175,-0.08487262345885559,0.7686972411189511,0.2276529699765292,1.0348947506188058,-0.34163043898859236,-1.1645926326139275,4.02728871435534,-2.353637128594969,-2.3119299871311143,0.7322292243597249,1.651497668695711,-0.5196889703477247,-3.9750012703552504,-4.450941971558868,3.165012409089569,3.9008940048533876,2.9553564297599997,-1.576149380665082,-1.4967181194704358,-3.194396827703646,2.034089682250811,2.9946915197306327,1.9665299670377583,-3.731368327130185,-3.0628629389175397,2.297311075576059,1.738581261256761],\"y\":[-2.2476208561076847,-2.9933093333281957,-2.120586297237419,-2.683260867931701,-2.5625040816402396,4.189450306323066,3.6286065176525804,-0.13647105019142874,-0.3827566192213407,-0.7766775331702993,3.5111904578167277,2.5952456810718894,-3.429352183644925,-3.066709905469313,-1.273482285848855,0.4375026108966846,1.191229927907207,-2.00257351401608,1.1924681681974059,0.8862510138462962,4.1265545572359255,3.157183064589742,2.970261950982537,3.3296824866384434,3.0281691493989675,1.0151698930957236,-1.5331993442853002,0.43504632477382205,0.19479457454922153,4.189324148597256],\"type\":\"scatter\",\"uid\":\"58cb65dd-413f-44d4-ab33-11bb65860fa6\"}],                        {\"autosize\":false,\"hovermode\":\"closest\",\"margin\":{\"b\":20,\"l\":5,\"r\":5,\"t\":40},\"showlegend\":false,\"template\":{\"data\":{\"barpolar\":[{\"marker\":{\"line\":{\"color\":\"white\",\"width\":0.5},\"pattern\":{\"fillmode\":\"overlay\",\"size\":10,\"solidity\":0.2}},\"type\":\"barpolar\"}],\"bar\":[{\"error_x\":{\"color\":\"rgb(36,36,36)\"},\"error_y\":{\"color\":\"rgb(36,36,36)\"},\"marker\":{\"line\":{\"color\":\"white\",\"width\":0.5},\"pattern\":{\"fillmode\":\"overlay\",\"size\":10,\"solidity\":0.2}},\"type\":\"bar\"}],\"carpet\":[{\"aaxis\":{\"endlinecolor\":\"rgb(36,36,36)\",\"gridcolor\":\"white\",\"linecolor\":\"white\",\"minorgridcolor\":\"white\",\"startlinecolor\":\"rgb(36,36,36)\"},\"baxis\":{\"endlinecolor\":\"rgb(36,36,36)\",\"gridcolor\":\"white\",\"linecolor\":\"white\",\"minorgridcolor\":\"white\",\"startlinecolor\":\"rgb(36,36,36)\"},\"type\":\"carpet\"}],\"choropleth\":[{\"colorbar\":{\"outlinewidth\":1,\"tickcolor\":\"rgb(36,36,36)\",\"ticks\":\"outside\"},\"type\":\"choropleth\"}],\"contourcarpet\":[{\"colorbar\":{\"outlinewidth\":1,\"tickcolor\":\"rgb(36,36,36)\",\"ticks\":\"outside\"},\"type\":\"contourcarpet\"}],\"contour\":[{\"colorbar\":{\"outlinewidth\":1,\"tickcolor\":\"rgb(36,36,36)\",\"ticks\":\"outside\"},\"colorscale\":[[0.0,\"#440154\"],[0.1111111111111111,\"#482878\"],[0.2222222222222222,\"#3e4989\"],[0.3333333333333333,\"#31688e\"],[0.4444444444444444,\"#26828e\"],[0.5555555555555556,\"#1f9e89\"],[0.6666666666666666,\"#35b779\"],[0.7777777777777778,\"#6ece58\"],[0.8888888888888888,\"#b5de2b\"],[1.0,\"#fde725\"]],\"type\":\"contour\"}],\"heatmapgl\":[{\"colorbar\":{\"outlinewidth\":1,\"tickcolor\":\"rgb(36,36,36)\",\"ticks\":\"outside\"},\"colorscale\":[[0.0,\"#440154\"],[0.1111111111111111,\"#482878\"],[0.2222222222222222,\"#3e4989\"],[0.3333333333333333,\"#31688e\"],[0.4444444444444444,\"#26828e\"],[0.5555555555555556,\"#1f9e89\"],[0.6666666666666666,\"#35b779\"],[0.7777777777777778,\"#6ece58\"],[0.8888888888888888,\"#b5de2b\"],[1.0,\"#fde725\"]],\"type\":\"heatmapgl\"}],\"heatmap\":[{\"colorbar\":{\"outlinewidth\":1,\"tickcolor\":\"rgb(36,36,36)\",\"ticks\":\"outside\"},\"colorscale\":[[0.0,\"#440154\"],[0.1111111111111111,\"#482878\"],[0.2222222222222222,\"#3e4989\"],[0.3333333333333333,\"#31688e\"],[0.4444444444444444,\"#26828e\"],[0.5555555555555556,\"#1f9e89\"],[0.6666666666666666,\"#35b779\"],[0.7777777777777778,\"#6ece58\"],[0.8888888888888888,\"#b5de2b\"],[1.0,\"#fde725\"]],\"type\":\"heatmap\"}],\"histogram2dcontour\":[{\"colorbar\":{\"outlinewidth\":1,\"tickcolor\":\"rgb(36,36,36)\",\"ticks\":\"outside\"},\"colorscale\":[[0.0,\"#440154\"],[0.1111111111111111,\"#482878\"],[0.2222222222222222,\"#3e4989\"],[0.3333333333333333,\"#31688e\"],[0.4444444444444444,\"#26828e\"],[0.5555555555555556,\"#1f9e89\"],[0.6666666666666666,\"#35b779\"],[0.7777777777777778,\"#6ece58\"],[0.8888888888888888,\"#b5de2b\"],[1.0,\"#fde725\"]],\"type\":\"histogram2dcontour\"}],\"histogram2d\":[{\"colorbar\":{\"outlinewidth\":1,\"tickcolor\":\"rgb(36,36,36)\",\"ticks\":\"outside\"},\"colorscale\":[[0.0,\"#440154\"],[0.1111111111111111,\"#482878\"],[0.2222222222222222,\"#3e4989\"],[0.3333333333333333,\"#31688e\"],[0.4444444444444444,\"#26828e\"],[0.5555555555555556,\"#1f9e89\"],[0.6666666666666666,\"#35b779\"],[0.7777777777777778,\"#6ece58\"],[0.8888888888888888,\"#b5de2b\"],[1.0,\"#fde725\"]],\"type\":\"histogram2d\"}],\"histogram\":[{\"marker\":{\"line\":{\"color\":\"white\",\"width\":0.6}},\"type\":\"histogram\"}],\"mesh3d\":[{\"colorbar\":{\"outlinewidth\":1,\"tickcolor\":\"rgb(36,36,36)\",\"ticks\":\"outside\"},\"type\":\"mesh3d\"}],\"parcoords\":[{\"line\":{\"colorbar\":{\"outlinewidth\":1,\"tickcolor\":\"rgb(36,36,36)\",\"ticks\":\"outside\"}},\"type\":\"parcoords\"}],\"pie\":[{\"automargin\":true,\"type\":\"pie\"}],\"scatter3d\":[{\"line\":{\"colorbar\":{\"outlinewidth\":1,\"tickcolor\":\"rgb(36,36,36)\",\"ticks\":\"outside\"}},\"marker\":{\"colorbar\":{\"outlinewidth\":1,\"tickcolor\":\"rgb(36,36,36)\",\"ticks\":\"outside\"}},\"type\":\"scatter3d\"}],\"scattercarpet\":[{\"marker\":{\"colorbar\":{\"outlinewidth\":1,\"tickcolor\":\"rgb(36,36,36)\",\"ticks\":\"outside\"}},\"type\":\"scattercarpet\"}],\"scattergeo\":[{\"marker\":{\"colorbar\":{\"outlinewidth\":1,\"tickcolor\":\"rgb(36,36,36)\",\"ticks\":\"outside\"}},\"type\":\"scattergeo\"}],\"scattergl\":[{\"marker\":{\"colorbar\":{\"outlinewidth\":1,\"tickcolor\":\"rgb(36,36,36)\",\"ticks\":\"outside\"}},\"type\":\"scattergl\"}],\"scattermapbox\":[{\"marker\":{\"colorbar\":{\"outlinewidth\":1,\"tickcolor\":\"rgb(36,36,36)\",\"ticks\":\"outside\"}},\"type\":\"scattermapbox\"}],\"scatterpolargl\":[{\"marker\":{\"colorbar\":{\"outlinewidth\":1,\"tickcolor\":\"rgb(36,36,36)\",\"ticks\":\"outside\"}},\"type\":\"scatterpolargl\"}],\"scatterpolar\":[{\"marker\":{\"colorbar\":{\"outlinewidth\":1,\"tickcolor\":\"rgb(36,36,36)\",\"ticks\":\"outside\"}},\"type\":\"scatterpolar\"}],\"scatter\":[{\"marker\":{\"colorbar\":{\"outlinewidth\":1,\"tickcolor\":\"rgb(36,36,36)\",\"ticks\":\"outside\"}},\"type\":\"scatter\"}],\"scatterternary\":[{\"marker\":{\"colorbar\":{\"outlinewidth\":1,\"tickcolor\":\"rgb(36,36,36)\",\"ticks\":\"outside\"}},\"type\":\"scatterternary\"}],\"surface\":[{\"colorbar\":{\"outlinewidth\":1,\"tickcolor\":\"rgb(36,36,36)\",\"ticks\":\"outside\"},\"colorscale\":[[0.0,\"#440154\"],[0.1111111111111111,\"#482878\"],[0.2222222222222222,\"#3e4989\"],[0.3333333333333333,\"#31688e\"],[0.4444444444444444,\"#26828e\"],[0.5555555555555556,\"#1f9e89\"],[0.6666666666666666,\"#35b779\"],[0.7777777777777778,\"#6ece58\"],[0.8888888888888888,\"#b5de2b\"],[1.0,\"#fde725\"]],\"type\":\"surface\"}],\"table\":[{\"cells\":{\"fill\":{\"color\":\"rgb(237,237,237)\"},\"line\":{\"color\":\"white\"}},\"header\":{\"fill\":{\"color\":\"rgb(217,217,217)\"},\"line\":{\"color\":\"white\"}},\"type\":\"table\"}]},\"layout\":{\"annotationdefaults\":{\"arrowhead\":0,\"arrowwidth\":1},\"autotypenumbers\":\"strict\",\"coloraxis\":{\"colorbar\":{\"outlinewidth\":1,\"tickcolor\":\"rgb(36,36,36)\",\"ticks\":\"outside\"}},\"colorscale\":{\"diverging\":[[0.0,\"rgb(103,0,31)\"],[0.1,\"rgb(178,24,43)\"],[0.2,\"rgb(214,96,77)\"],[0.3,\"rgb(244,165,130)\"],[0.4,\"rgb(253,219,199)\"],[0.5,\"rgb(247,247,247)\"],[0.6,\"rgb(209,229,240)\"],[0.7,\"rgb(146,197,222)\"],[0.8,\"rgb(67,147,195)\"],[0.9,\"rgb(33,102,172)\"],[1.0,\"rgb(5,48,97)\"]],\"sequential\":[[0.0,\"#440154\"],[0.1111111111111111,\"#482878\"],[0.2222222222222222,\"#3e4989\"],[0.3333333333333333,\"#31688e\"],[0.4444444444444444,\"#26828e\"],[0.5555555555555556,\"#1f9e89\"],[0.6666666666666666,\"#35b779\"],[0.7777777777777778,\"#6ece58\"],[0.8888888888888888,\"#b5de2b\"],[1.0,\"#fde725\"]],\"sequentialminus\":[[0.0,\"#440154\"],[0.1111111111111111,\"#482878\"],[0.2222222222222222,\"#3e4989\"],[0.3333333333333333,\"#31688e\"],[0.4444444444444444,\"#26828e\"],[0.5555555555555556,\"#1f9e89\"],[0.6666666666666666,\"#35b779\"],[0.7777777777777778,\"#6ece58\"],[0.8888888888888888,\"#b5de2b\"],[1.0,\"#fde725\"]]},\"colorway\":[\"#1F77B4\",\"#FF7F0E\",\"#2CA02C\",\"#D62728\",\"#9467BD\",\"#8C564B\",\"#E377C2\",\"#7F7F7F\",\"#BCBD22\",\"#17BECF\"],\"font\":{\"color\":\"rgb(36,36,36)\"},\"geo\":{\"bgcolor\":\"white\",\"lakecolor\":\"white\",\"landcolor\":\"white\",\"showlakes\":true,\"showland\":true,\"subunitcolor\":\"white\"},\"hoverlabel\":{\"align\":\"left\"},\"hovermode\":\"closest\",\"mapbox\":{\"style\":\"light\"},\"paper_bgcolor\":\"white\",\"plot_bgcolor\":\"white\",\"polar\":{\"angularaxis\":{\"gridcolor\":\"rgb(232,232,232)\",\"linecolor\":\"rgb(36,36,36)\",\"showgrid\":false,\"showline\":true,\"ticks\":\"outside\"},\"bgcolor\":\"white\",\"radialaxis\":{\"gridcolor\":\"rgb(232,232,232)\",\"linecolor\":\"rgb(36,36,36)\",\"showgrid\":false,\"showline\":true,\"ticks\":\"outside\"}},\"scene\":{\"xaxis\":{\"backgroundcolor\":\"white\",\"gridcolor\":\"rgb(232,232,232)\",\"gridwidth\":2,\"linecolor\":\"rgb(36,36,36)\",\"showbackground\":true,\"showgrid\":false,\"showline\":true,\"ticks\":\"outside\",\"zeroline\":false,\"zerolinecolor\":\"rgb(36,36,36)\"},\"yaxis\":{\"backgroundcolor\":\"white\",\"gridcolor\":\"rgb(232,232,232)\",\"gridwidth\":2,\"linecolor\":\"rgb(36,36,36)\",\"showbackground\":true,\"showgrid\":false,\"showline\":true,\"ticks\":\"outside\",\"zeroline\":false,\"zerolinecolor\":\"rgb(36,36,36)\"},\"zaxis\":{\"backgroundcolor\":\"white\",\"gridcolor\":\"rgb(232,232,232)\",\"gridwidth\":2,\"linecolor\":\"rgb(36,36,36)\",\"showbackground\":true,\"showgrid\":false,\"showline\":true,\"ticks\":\"outside\",\"zeroline\":false,\"zerolinecolor\":\"rgb(36,36,36)\"}},\"shapedefaults\":{\"fillcolor\":\"black\",\"line\":{\"width\":0},\"opacity\":0.3},\"ternary\":{\"aaxis\":{\"gridcolor\":\"rgb(232,232,232)\",\"linecolor\":\"rgb(36,36,36)\",\"showgrid\":false,\"showline\":true,\"ticks\":\"outside\"},\"baxis\":{\"gridcolor\":\"rgb(232,232,232)\",\"linecolor\":\"rgb(36,36,36)\",\"showgrid\":false,\"showline\":true,\"ticks\":\"outside\"},\"bgcolor\":\"white\",\"caxis\":{\"gridcolor\":\"rgb(232,232,232)\",\"linecolor\":\"rgb(36,36,36)\",\"showgrid\":false,\"showline\":true,\"ticks\":\"outside\"}},\"title\":{\"x\":0.05},\"xaxis\":{\"automargin\":true,\"gridcolor\":\"rgb(232,232,232)\",\"linecolor\":\"rgb(36,36,36)\",\"showgrid\":false,\"showline\":true,\"ticks\":\"outside\",\"title\":{\"standoff\":15},\"zeroline\":false,\"zerolinecolor\":\"rgb(36,36,36)\"},\"yaxis\":{\"automargin\":true,\"gridcolor\":\"rgb(232,232,232)\",\"linecolor\":\"rgb(36,36,36)\",\"showgrid\":false,\"showline\":true,\"ticks\":\"outside\",\"title\":{\"standoff\":15},\"zeroline\":false,\"zerolinecolor\":\"rgb(36,36,36)\"}}},\"title\":{\"text\":\"\"},\"xaxis\":{\"showgrid\":false,\"showline\":false,\"showticklabels\":false,\"ticks\":\"\",\"title\":{\"text\":\"\"},\"zeroline\":false},\"yaxis\":{\"showgrid\":false,\"showline\":false,\"showticklabels\":false,\"ticks\":\"\",\"title\":{\"text\":\"\"},\"zeroline\":false}},                        {\"scrollZoom\": true, \"responsive\": true}                    ).then(function(){\n",
              "                            \n",
              "var gd = document.getElementById('44a8a142-f9d1-4142-ab4b-7c5c288fd3e3');\n",
              "var x = new MutationObserver(function (mutations, observer) {{\n",
              "        var display = window.getComputedStyle(gd).display;\n",
              "        if (!display || display === 'none') {{\n",
              "            console.log([gd, 'removed!']);\n",
              "            Plotly.purge(gd);\n",
              "            observer.disconnect();\n",
              "        }}\n",
              "}});\n",
              "\n",
              "// Listen for the removal of the full notebook cells\n",
              "var notebookContainer = gd.closest('#notebook-container');\n",
              "if (notebookContainer) {{\n",
              "    x.observe(notebookContainer, {childList: true});\n",
              "}}\n",
              "\n",
              "// Listen for the clearing of the current output cell\n",
              "var outputEl = gd.closest('.output');\n",
              "if (outputEl) {{\n",
              "    x.observe(outputEl, {childList: true});\n",
              "}}\n",
              "\n",
              "                        })                };                            </script>        </div>\n",
              "</body>\n",
              "</html>"
            ]
          },
          "metadata": {}
        }
      ]
    },
    {
      "cell_type": "markdown",
      "source": [
        "## **Focusing on no loops**\n",
        "**Study the last layer to see how well the segmentation is**"
      ],
      "metadata": {
        "id": "8C2IPHeKDrNi"
      }
    },
    {
      "cell_type": "code",
      "source": [
        "filter_func = Eccentricity(metric = 'euclidean')\n",
        "cover = CubicalCover(n_intervals = 40, overlap_frac = 0.5)\n",
        "clusterer = DBSCAN(eps = 20, min_samples = 5, metric = 'euclidean') \n",
        "pipe_mapper = make_mapper_pipeline(filter_func = filter_func, cover = cover, clusterer = clusterer, verbose = False, n_jobs = 1)"
      ],
      "metadata": {
        "id": "9t9bWPRnDvD1"
      },
      "execution_count": 29,
      "outputs": []
    },
    {
      "cell_type": "code",
      "source": [
        "plotly_params = {\"node_trace\": {\"marker_colorscale\": \"RdBu\"}}\n",
        "fig = plot_static_mapper_graph(pipe_mapper,\n",
        "                               intermediate_output_3, \n",
        "                               layout='fruchterman_reingold',\n",
        "                               node_scale =20,\n",
        "                               plotly_params=plotly_params)\n",
        "fig.show(config={'scrollZoom': True})"
      ],
      "metadata": {
        "colab": {
          "base_uri": "https://localhost:8080/",
          "height": 542
        },
        "id": "mOp4ZauSEilr",
        "outputId": "3cc5c496-dcb1-4ffc-a238-2f738f30e195"
      },
      "execution_count": 31,
      "outputs": [
        {
          "output_type": "display_data",
          "data": {
            "text/html": [
              "<html>\n",
              "<head><meta charset=\"utf-8\" /></head>\n",
              "<body>\n",
              "    <div>            <script src=\"https://cdnjs.cloudflare.com/ajax/libs/mathjax/2.7.5/MathJax.js?config=TeX-AMS-MML_SVG\"></script><script type=\"text/javascript\">if (window.MathJax) {MathJax.Hub.Config({SVG: {font: \"STIX-Web\"}});}</script>                <script type=\"text/javascript\">window.PlotlyConfig = {MathJaxConfig: 'local'};</script>\n",
              "        <script src=\"https://cdn.plot.ly/plotly-2.8.3.min.js\"></script>                <div id=\"17e40f70-d88b-47a3-87e2-8ba2c94855ec\" class=\"plotly-graph-div\" style=\"height:525px; width:100%;\"></div>            <script type=\"text/javascript\">                                    window.PLOTLYENV=window.PLOTLYENV || {};                                    if (document.getElementById(\"17e40f70-d88b-47a3-87e2-8ba2c94855ec\")) {                    Plotly.newPlot(                        \"17e40f70-d88b-47a3-87e2-8ba2c94855ec\",                        [{\"hoverinfo\":\"none\",\"line\":{\"color\":\"#888\",\"width\":1},\"mode\":\"lines\",\"name\":\"edge_trace\",\"x\":[1.3220455150917187,0.41223832422568263,null,1.3220455150917187,2.2271476217197517,null,-2.482752885398523,-1.4726343978465215,null,-2.482752885398523,-2.920567473859239,null,-1.4726343978465215,-0.45798599167553006,null,-0.45798599167553006,0.44077326416828294,null,-1.8714572541416092,-2.5772291483987204,null,-2.5772291483987204,-2.920567473859239,null,0.44077326416828294,1.1741080736477145,null,-0.7627895871242855,-1.5893356901830176,null,-1.5893356901830176,-2.3866357226344554,null,1.6641079933443668,2.553519201668209,null,1.6641079933443668,0.7386443704431729,null],\"y\":[-3.770600198283502,-3.814103039491147,null,-3.770600198283502,-3.588721632189409,null,-0.18975145127666915,0.09253301137091485,null,-0.18975145127666915,-1.0710390562902894,null,0.09253301137091485,0.4731312609878974,null,0.4731312609878974,1.0678681818153901,null,-2.5902304998439956,-2.005894295043465,null,-2.005894295043465,-1.0710390562902894,null,1.0678681818153901,1.7071868982073406,null,2.994100364131055,2.4971426415027285,null,2.4971426415027285,1.9417741479768398,null,-1.3791376947584,-1.0588386071753724,null,-1.3791376947584,-1.6743406391695852,null],\"type\":\"scatter\",\"uid\":\"fe1b684c-1d5b-4e26-a932-ca223c7a454f\"},{\"hoverinfo\":\"text\",\"hovertext\":[\"Node ID: 0<br>Pullback set label: 4<br>Partial cluster label: -1<br>Node size: 4<br>Summary statistic: 81.5\",\"Node ID: 1<br>Pullback set label: 5<br>Partial cluster label: -1<br>Node size: 3<br>Summary statistic: 69.0\",\"Node ID: 2<br>Pullback set label: 19<br>Partial cluster label: 0<br>Node size: 26<br>Summary statistic: 79.8\",\"Node ID: 3<br>Pullback set label: 20<br>Partial cluster label: 0<br>Node size: 64<br>Summary statistic: 72.3\",\"Node ID: 4<br>Pullback set label: 21<br>Partial cluster label: 0<br>Node size: 48<br>Summary statistic: 69.7\",\"Node ID: 5<br>Pullback set label: 6<br>Partial cluster label: -1<br>Node size: 1<br>Summary statistic: 7.0\",\"Node ID: 6<br>Pullback set label: 16<br>Partial cluster label: 0<br>Node size: 7<br>Summary statistic: 59.7\",\"Node ID: 7<br>Pullback set label: 17<br>Partial cluster label: 0<br>Node size: 10<br>Summary statistic: 59.5\",\"Node ID: 8<br>Pullback set label: 10<br>Partial cluster label: -1<br>Node size: 3<br>Summary statistic: 38.0\",\"Node ID: 9<br>Pullback set label: 15<br>Partial cluster label: 0<br>Node size: 11<br>Summary statistic: 64.2\",\"Node ID: 10<br>Pullback set label: 22<br>Partial cluster label: 0<br>Node size: 17<br>Summary statistic: 72.9\",\"Node ID: 11<br>Pullback set label: 23<br>Partial cluster label: 0<br>Node size: 20<br>Summary statistic: 66.2\",\"Node ID: 12<br>Pullback set label: 18<br>Partial cluster label: 0<br>Node size: 7<br>Summary statistic: 75.6\",\"Node ID: 13<br>Pullback set label: 2<br>Partial cluster label: -1<br>Node size: 4<br>Summary statistic: 95.2\",\"Node ID: 14<br>Pullback set label: 0<br>Partial cluster label: -1<br>Node size: 4<br>Summary statistic: 85.5\",\"Node ID: 15<br>Pullback set label: 11<br>Partial cluster label: -1<br>Node size: 1<br>Summary statistic: 31.0\",\"Node ID: 16<br>Pullback set label: 12<br>Partial cluster label: -1<br>Node size: 4<br>Summary statistic: 78.8\",\"Node ID: 17<br>Pullback set label: 14<br>Partial cluster label: 0<br>Node size: 5<br>Summary statistic: 57.6\",\"Node ID: 18<br>Pullback set label: 8<br>Partial cluster label: -1<br>Node size: 2<br>Summary statistic: 106.0\",\"Node ID: 19<br>Pullback set label: 9<br>Partial cluster label: -1<br>Node size: 1<br>Summary statistic: 71.0\",\"Node ID: 20<br>Pullback set label: 13<br>Partial cluster label: -1<br>Node size: 3<br>Summary statistic: 94.7\",\"Node ID: 21<br>Pullback set label: 3<br>Partial cluster label: -1<br>Node size: 1<br>Summary statistic: 119.0\",\"Node ID: 22<br>Pullback set label: 1<br>Partial cluster label: -1<br>Node size: 1<br>Summary statistic: 120.0\",\"Node ID: 23<br>Pullback set label: 7<br>Partial cluster label: -1<br>Node size: 1<br>Summary statistic: 142.0\"],\"marker\":{\"color\":[81.5,69.0,79.8076923076923,72.265625,69.70833333333333,7.0,59.714285714285715,59.5,38.0,64.18181818181819,72.94117647058823,66.25,75.57142857142857,95.25,85.5,31.0,78.75,57.6,106.5,71.0,94.66666666666667,119.0,120.0,142.0],\"colorbar\":{\"thickness\":15,\"title\":{\"side\":\"right\",\"text\":\"\"},\"xanchor\":\"left\"},\"colorscale\":[[0.0,\"rgb(103,0,31)\"],[0.1,\"rgb(178,24,43)\"],[0.2,\"rgb(214,96,77)\"],[0.3,\"rgb(244,165,130)\"],[0.4,\"rgb(253,219,199)\"],[0.5,\"rgb(247,247,247)\"],[0.6,\"rgb(209,229,240)\"],[0.7,\"rgb(146,197,222)\"],[0.8,\"rgb(67,147,195)\"],[0.9,\"rgb(33,102,172)\"],[1.0,\"rgb(5,48,97)\"]],\"line\":{\"color\":\"#888\",\"width\":1},\"opacity\":1.0,\"reversescale\":false,\"showscale\":true,\"size\":[4,3,26,64,48,1,7,10,3,11,17,20,7,4,4,1,4,5,2,1,3,1,1,1],\"sizemin\":4,\"sizemode\":\"area\",\"sizeref\":0.32},\"mode\":\"markers\",\"name\":\"node_trace\",\"x\":[1.3220455150917187,0.41223832422568263,-2.482752885398523,-1.4726343978465215,-0.45798599167553006,-1.0976080952146305,-1.8714572541416092,-2.5772291483987204,2.9330499432360346,4.192231933834499,0.44077326416828294,1.1741080736477145,-2.920567473859239,1.2676502544181327,2.8610473931559266,-0.7627895871242855,-1.5893356901830176,4.25069235870294,1.6641079933443668,2.553519201668209,-2.3866357226344554,2.2271476217197517,3.6897851431202935,0.7386443704431729],\"y\":[-3.770600198283502,-3.814103039491147,-0.18975145127666915,0.09253301137091485,0.4731312609878974,-3.809847453783232,-2.5902304998439956,-2.005894295043465,2.56086968639506,0.8378533109911752,1.0678681818153901,1.7071868982073406,-1.0710390562902894,3.362930190614711,0.967849255128547,2.994100364131055,2.4971426415027285,-0.8393466223682948,-1.3791376947584,-1.0588386071753724,1.9417741479768398,-3.588721632189409,-2.49447168587044,-1.6743406391695852],\"type\":\"scatter\",\"uid\":\"54d7cf32-141f-48b7-9c65-9c19ba2e9c49\"}],                        {\"autosize\":false,\"hovermode\":\"closest\",\"margin\":{\"b\":20,\"l\":5,\"r\":5,\"t\":40},\"showlegend\":false,\"template\":{\"data\":{\"barpolar\":[{\"marker\":{\"line\":{\"color\":\"white\",\"width\":0.5},\"pattern\":{\"fillmode\":\"overlay\",\"size\":10,\"solidity\":0.2}},\"type\":\"barpolar\"}],\"bar\":[{\"error_x\":{\"color\":\"rgb(36,36,36)\"},\"error_y\":{\"color\":\"rgb(36,36,36)\"},\"marker\":{\"line\":{\"color\":\"white\",\"width\":0.5},\"pattern\":{\"fillmode\":\"overlay\",\"size\":10,\"solidity\":0.2}},\"type\":\"bar\"}],\"carpet\":[{\"aaxis\":{\"endlinecolor\":\"rgb(36,36,36)\",\"gridcolor\":\"white\",\"linecolor\":\"white\",\"minorgridcolor\":\"white\",\"startlinecolor\":\"rgb(36,36,36)\"},\"baxis\":{\"endlinecolor\":\"rgb(36,36,36)\",\"gridcolor\":\"white\",\"linecolor\":\"white\",\"minorgridcolor\":\"white\",\"startlinecolor\":\"rgb(36,36,36)\"},\"type\":\"carpet\"}],\"choropleth\":[{\"colorbar\":{\"outlinewidth\":1,\"tickcolor\":\"rgb(36,36,36)\",\"ticks\":\"outside\"},\"type\":\"choropleth\"}],\"contourcarpet\":[{\"colorbar\":{\"outlinewidth\":1,\"tickcolor\":\"rgb(36,36,36)\",\"ticks\":\"outside\"},\"type\":\"contourcarpet\"}],\"contour\":[{\"colorbar\":{\"outlinewidth\":1,\"tickcolor\":\"rgb(36,36,36)\",\"ticks\":\"outside\"},\"colorscale\":[[0.0,\"#440154\"],[0.1111111111111111,\"#482878\"],[0.2222222222222222,\"#3e4989\"],[0.3333333333333333,\"#31688e\"],[0.4444444444444444,\"#26828e\"],[0.5555555555555556,\"#1f9e89\"],[0.6666666666666666,\"#35b779\"],[0.7777777777777778,\"#6ece58\"],[0.8888888888888888,\"#b5de2b\"],[1.0,\"#fde725\"]],\"type\":\"contour\"}],\"heatmapgl\":[{\"colorbar\":{\"outlinewidth\":1,\"tickcolor\":\"rgb(36,36,36)\",\"ticks\":\"outside\"},\"colorscale\":[[0.0,\"#440154\"],[0.1111111111111111,\"#482878\"],[0.2222222222222222,\"#3e4989\"],[0.3333333333333333,\"#31688e\"],[0.4444444444444444,\"#26828e\"],[0.5555555555555556,\"#1f9e89\"],[0.6666666666666666,\"#35b779\"],[0.7777777777777778,\"#6ece58\"],[0.8888888888888888,\"#b5de2b\"],[1.0,\"#fde725\"]],\"type\":\"heatmapgl\"}],\"heatmap\":[{\"colorbar\":{\"outlinewidth\":1,\"tickcolor\":\"rgb(36,36,36)\",\"ticks\":\"outside\"},\"colorscale\":[[0.0,\"#440154\"],[0.1111111111111111,\"#482878\"],[0.2222222222222222,\"#3e4989\"],[0.3333333333333333,\"#31688e\"],[0.4444444444444444,\"#26828e\"],[0.5555555555555556,\"#1f9e89\"],[0.6666666666666666,\"#35b779\"],[0.7777777777777778,\"#6ece58\"],[0.8888888888888888,\"#b5de2b\"],[1.0,\"#fde725\"]],\"type\":\"heatmap\"}],\"histogram2dcontour\":[{\"colorbar\":{\"outlinewidth\":1,\"tickcolor\":\"rgb(36,36,36)\",\"ticks\":\"outside\"},\"colorscale\":[[0.0,\"#440154\"],[0.1111111111111111,\"#482878\"],[0.2222222222222222,\"#3e4989\"],[0.3333333333333333,\"#31688e\"],[0.4444444444444444,\"#26828e\"],[0.5555555555555556,\"#1f9e89\"],[0.6666666666666666,\"#35b779\"],[0.7777777777777778,\"#6ece58\"],[0.8888888888888888,\"#b5de2b\"],[1.0,\"#fde725\"]],\"type\":\"histogram2dcontour\"}],\"histogram2d\":[{\"colorbar\":{\"outlinewidth\":1,\"tickcolor\":\"rgb(36,36,36)\",\"ticks\":\"outside\"},\"colorscale\":[[0.0,\"#440154\"],[0.1111111111111111,\"#482878\"],[0.2222222222222222,\"#3e4989\"],[0.3333333333333333,\"#31688e\"],[0.4444444444444444,\"#26828e\"],[0.5555555555555556,\"#1f9e89\"],[0.6666666666666666,\"#35b779\"],[0.7777777777777778,\"#6ece58\"],[0.8888888888888888,\"#b5de2b\"],[1.0,\"#fde725\"]],\"type\":\"histogram2d\"}],\"histogram\":[{\"marker\":{\"line\":{\"color\":\"white\",\"width\":0.6}},\"type\":\"histogram\"}],\"mesh3d\":[{\"colorbar\":{\"outlinewidth\":1,\"tickcolor\":\"rgb(36,36,36)\",\"ticks\":\"outside\"},\"type\":\"mesh3d\"}],\"parcoords\":[{\"line\":{\"colorbar\":{\"outlinewidth\":1,\"tickcolor\":\"rgb(36,36,36)\",\"ticks\":\"outside\"}},\"type\":\"parcoords\"}],\"pie\":[{\"automargin\":true,\"type\":\"pie\"}],\"scatter3d\":[{\"line\":{\"colorbar\":{\"outlinewidth\":1,\"tickcolor\":\"rgb(36,36,36)\",\"ticks\":\"outside\"}},\"marker\":{\"colorbar\":{\"outlinewidth\":1,\"tickcolor\":\"rgb(36,36,36)\",\"ticks\":\"outside\"}},\"type\":\"scatter3d\"}],\"scattercarpet\":[{\"marker\":{\"colorbar\":{\"outlinewidth\":1,\"tickcolor\":\"rgb(36,36,36)\",\"ticks\":\"outside\"}},\"type\":\"scattercarpet\"}],\"scattergeo\":[{\"marker\":{\"colorbar\":{\"outlinewidth\":1,\"tickcolor\":\"rgb(36,36,36)\",\"ticks\":\"outside\"}},\"type\":\"scattergeo\"}],\"scattergl\":[{\"marker\":{\"colorbar\":{\"outlinewidth\":1,\"tickcolor\":\"rgb(36,36,36)\",\"ticks\":\"outside\"}},\"type\":\"scattergl\"}],\"scattermapbox\":[{\"marker\":{\"colorbar\":{\"outlinewidth\":1,\"tickcolor\":\"rgb(36,36,36)\",\"ticks\":\"outside\"}},\"type\":\"scattermapbox\"}],\"scatterpolargl\":[{\"marker\":{\"colorbar\":{\"outlinewidth\":1,\"tickcolor\":\"rgb(36,36,36)\",\"ticks\":\"outside\"}},\"type\":\"scatterpolargl\"}],\"scatterpolar\":[{\"marker\":{\"colorbar\":{\"outlinewidth\":1,\"tickcolor\":\"rgb(36,36,36)\",\"ticks\":\"outside\"}},\"type\":\"scatterpolar\"}],\"scatter\":[{\"marker\":{\"colorbar\":{\"outlinewidth\":1,\"tickcolor\":\"rgb(36,36,36)\",\"ticks\":\"outside\"}},\"type\":\"scatter\"}],\"scatterternary\":[{\"marker\":{\"colorbar\":{\"outlinewidth\":1,\"tickcolor\":\"rgb(36,36,36)\",\"ticks\":\"outside\"}},\"type\":\"scatterternary\"}],\"surface\":[{\"colorbar\":{\"outlinewidth\":1,\"tickcolor\":\"rgb(36,36,36)\",\"ticks\":\"outside\"},\"colorscale\":[[0.0,\"#440154\"],[0.1111111111111111,\"#482878\"],[0.2222222222222222,\"#3e4989\"],[0.3333333333333333,\"#31688e\"],[0.4444444444444444,\"#26828e\"],[0.5555555555555556,\"#1f9e89\"],[0.6666666666666666,\"#35b779\"],[0.7777777777777778,\"#6ece58\"],[0.8888888888888888,\"#b5de2b\"],[1.0,\"#fde725\"]],\"type\":\"surface\"}],\"table\":[{\"cells\":{\"fill\":{\"color\":\"rgb(237,237,237)\"},\"line\":{\"color\":\"white\"}},\"header\":{\"fill\":{\"color\":\"rgb(217,217,217)\"},\"line\":{\"color\":\"white\"}},\"type\":\"table\"}]},\"layout\":{\"annotationdefaults\":{\"arrowhead\":0,\"arrowwidth\":1},\"autotypenumbers\":\"strict\",\"coloraxis\":{\"colorbar\":{\"outlinewidth\":1,\"tickcolor\":\"rgb(36,36,36)\",\"ticks\":\"outside\"}},\"colorscale\":{\"diverging\":[[0.0,\"rgb(103,0,31)\"],[0.1,\"rgb(178,24,43)\"],[0.2,\"rgb(214,96,77)\"],[0.3,\"rgb(244,165,130)\"],[0.4,\"rgb(253,219,199)\"],[0.5,\"rgb(247,247,247)\"],[0.6,\"rgb(209,229,240)\"],[0.7,\"rgb(146,197,222)\"],[0.8,\"rgb(67,147,195)\"],[0.9,\"rgb(33,102,172)\"],[1.0,\"rgb(5,48,97)\"]],\"sequential\":[[0.0,\"#440154\"],[0.1111111111111111,\"#482878\"],[0.2222222222222222,\"#3e4989\"],[0.3333333333333333,\"#31688e\"],[0.4444444444444444,\"#26828e\"],[0.5555555555555556,\"#1f9e89\"],[0.6666666666666666,\"#35b779\"],[0.7777777777777778,\"#6ece58\"],[0.8888888888888888,\"#b5de2b\"],[1.0,\"#fde725\"]],\"sequentialminus\":[[0.0,\"#440154\"],[0.1111111111111111,\"#482878\"],[0.2222222222222222,\"#3e4989\"],[0.3333333333333333,\"#31688e\"],[0.4444444444444444,\"#26828e\"],[0.5555555555555556,\"#1f9e89\"],[0.6666666666666666,\"#35b779\"],[0.7777777777777778,\"#6ece58\"],[0.8888888888888888,\"#b5de2b\"],[1.0,\"#fde725\"]]},\"colorway\":[\"#1F77B4\",\"#FF7F0E\",\"#2CA02C\",\"#D62728\",\"#9467BD\",\"#8C564B\",\"#E377C2\",\"#7F7F7F\",\"#BCBD22\",\"#17BECF\"],\"font\":{\"color\":\"rgb(36,36,36)\"},\"geo\":{\"bgcolor\":\"white\",\"lakecolor\":\"white\",\"landcolor\":\"white\",\"showlakes\":true,\"showland\":true,\"subunitcolor\":\"white\"},\"hoverlabel\":{\"align\":\"left\"},\"hovermode\":\"closest\",\"mapbox\":{\"style\":\"light\"},\"paper_bgcolor\":\"white\",\"plot_bgcolor\":\"white\",\"polar\":{\"angularaxis\":{\"gridcolor\":\"rgb(232,232,232)\",\"linecolor\":\"rgb(36,36,36)\",\"showgrid\":false,\"showline\":true,\"ticks\":\"outside\"},\"bgcolor\":\"white\",\"radialaxis\":{\"gridcolor\":\"rgb(232,232,232)\",\"linecolor\":\"rgb(36,36,36)\",\"showgrid\":false,\"showline\":true,\"ticks\":\"outside\"}},\"scene\":{\"xaxis\":{\"backgroundcolor\":\"white\",\"gridcolor\":\"rgb(232,232,232)\",\"gridwidth\":2,\"linecolor\":\"rgb(36,36,36)\",\"showbackground\":true,\"showgrid\":false,\"showline\":true,\"ticks\":\"outside\",\"zeroline\":false,\"zerolinecolor\":\"rgb(36,36,36)\"},\"yaxis\":{\"backgroundcolor\":\"white\",\"gridcolor\":\"rgb(232,232,232)\",\"gridwidth\":2,\"linecolor\":\"rgb(36,36,36)\",\"showbackground\":true,\"showgrid\":false,\"showline\":true,\"ticks\":\"outside\",\"zeroline\":false,\"zerolinecolor\":\"rgb(36,36,36)\"},\"zaxis\":{\"backgroundcolor\":\"white\",\"gridcolor\":\"rgb(232,232,232)\",\"gridwidth\":2,\"linecolor\":\"rgb(36,36,36)\",\"showbackground\":true,\"showgrid\":false,\"showline\":true,\"ticks\":\"outside\",\"zeroline\":false,\"zerolinecolor\":\"rgb(36,36,36)\"}},\"shapedefaults\":{\"fillcolor\":\"black\",\"line\":{\"width\":0},\"opacity\":0.3},\"ternary\":{\"aaxis\":{\"gridcolor\":\"rgb(232,232,232)\",\"linecolor\":\"rgb(36,36,36)\",\"showgrid\":false,\"showline\":true,\"ticks\":\"outside\"},\"baxis\":{\"gridcolor\":\"rgb(232,232,232)\",\"linecolor\":\"rgb(36,36,36)\",\"showgrid\":false,\"showline\":true,\"ticks\":\"outside\"},\"bgcolor\":\"white\",\"caxis\":{\"gridcolor\":\"rgb(232,232,232)\",\"linecolor\":\"rgb(36,36,36)\",\"showgrid\":false,\"showline\":true,\"ticks\":\"outside\"}},\"title\":{\"x\":0.05},\"xaxis\":{\"automargin\":true,\"gridcolor\":\"rgb(232,232,232)\",\"linecolor\":\"rgb(36,36,36)\",\"showgrid\":false,\"showline\":true,\"ticks\":\"outside\",\"title\":{\"standoff\":15},\"zeroline\":false,\"zerolinecolor\":\"rgb(36,36,36)\"},\"yaxis\":{\"automargin\":true,\"gridcolor\":\"rgb(232,232,232)\",\"linecolor\":\"rgb(36,36,36)\",\"showgrid\":false,\"showline\":true,\"ticks\":\"outside\",\"title\":{\"standoff\":15},\"zeroline\":false,\"zerolinecolor\":\"rgb(36,36,36)\"}}},\"title\":{\"text\":\"\"},\"xaxis\":{\"showgrid\":false,\"showline\":false,\"showticklabels\":false,\"ticks\":\"\",\"title\":{\"text\":\"\"},\"zeroline\":false},\"yaxis\":{\"showgrid\":false,\"showline\":false,\"showticklabels\":false,\"ticks\":\"\",\"title\":{\"text\":\"\"},\"zeroline\":false}},                        {\"scrollZoom\": true, \"responsive\": true}                    ).then(function(){\n",
              "                            \n",
              "var gd = document.getElementById('17e40f70-d88b-47a3-87e2-8ba2c94855ec');\n",
              "var x = new MutationObserver(function (mutations, observer) {{\n",
              "        var display = window.getComputedStyle(gd).display;\n",
              "        if (!display || display === 'none') {{\n",
              "            console.log([gd, 'removed!']);\n",
              "            Plotly.purge(gd);\n",
              "            observer.disconnect();\n",
              "        }}\n",
              "}});\n",
              "\n",
              "// Listen for the removal of the full notebook cells\n",
              "var notebookContainer = gd.closest('#notebook-container');\n",
              "if (notebookContainer) {{\n",
              "    x.observe(notebookContainer, {childList: true});\n",
              "}}\n",
              "\n",
              "// Listen for the clearing of the current output cell\n",
              "var outputEl = gd.closest('.output');\n",
              "if (outputEl) {{\n",
              "    x.observe(outputEl, {childList: true});\n",
              "}}\n",
              "\n",
              "                        })                };                            </script>        </div>\n",
              "</body>\n",
              "</html>"
            ]
          },
          "metadata": {}
        }
      ]
    },
    {
      "cell_type": "code",
      "source": [
        "graph = pipe_mapper.fit_transform(intermediate_output_3)\n",
        "node_elements = graph.vs['node_elements']\n",
        "\n",
        "node_1 = []\n",
        "node_2 = []\n",
        "node_3 = []\n",
        "node_4 = []\n",
        "\n",
        "for node_id in [0, 1, 21, 23, 18, 19, 20, 16, 15, 6, 7, 12, 2, 3, 4, 10, 11]: \n",
        "  if node_id in [0, 1, 21]: \n",
        "    node_1.append(node_elements[node_id])\n",
        "  if node_id in [23, 18, 19]: \n",
        "    node_3.append(node_elements[node_id])\n",
        "  if node_id in [20, 16, 15]:\n",
        "    node_4.append(node_elements[node_id])\n",
        "  else: \n",
        "    node_2.append(node_elements[node_id])"
      ],
      "metadata": {
        "id": "Q0ESO_qhE2tV"
      },
      "execution_count": 32,
      "outputs": []
    },
    {
      "cell_type": "code",
      "source": [
        "node_1"
      ],
      "metadata": {
        "colab": {
          "base_uri": "https://localhost:8080/"
        },
        "id": "26ZCdNTkGam1",
        "outputId": "cfd79aa9-a7c4-407a-d1ac-d53c4a2ff0d0"
      },
      "execution_count": 33,
      "outputs": [
        {
          "output_type": "execute_result",
          "data": {
            "text/plain": [
              "[array([  0,  69, 119, 138]), array([  0,  69, 138]), array([119])]"
            ]
          },
          "metadata": {},
          "execution_count": 33
        }
      ]
    },
    {
      "cell_type": "code",
      "source": [
        "node_2"
      ],
      "metadata": {
        "colab": {
          "base_uri": "https://localhost:8080/"
        },
        "id": "Z_wmNITTGcoH",
        "outputId": "8bf6bddf-ec9d-4cce-9b3e-5ca873b958f4"
      },
      "execution_count": 34,
      "outputs": [
        {
          "output_type": "execute_result",
          "data": {
            "text/plain": [
              "[array([  0,  69, 119, 138]),\n",
              " array([  0,  69, 138]),\n",
              " array([119]),\n",
              " array([142]),\n",
              " array([ 71, 142]),\n",
              " array([71]),\n",
              " array([ 10,  29,  38,  54,  68, 104, 115]),\n",
              " array([ 10,  29,  38,  40,  54,  56,  68,  81, 104, 115]),\n",
              " array([ 20,  40,  56,  81,  89, 106, 137]),\n",
              " array([  1,   4,   5,   6,  17,  20,  26,  61,  62,  66,  86,  89,  92,\n",
              "         96, 106, 108, 109, 110, 113, 117, 118, 123, 133, 134, 136, 137]),\n",
              " array([  1,   2,   3,   4,   5,   6,   8,   9,  14,  17,  19,  21,  22,\n",
              "         24,  26,  27,  33,  34,  36,  42,  44,  49,  51,  53,  55,  59,\n",
              "         60,  61,  62,  63,  66,  75,  85,  86,  88,  91,  92,  93,  96,\n",
              "         97, 101, 102, 103, 107, 108, 109, 110, 111, 112, 113, 114, 116,\n",
              "        117, 118, 121, 123, 124, 128, 130, 133, 134, 135, 136, 141]),\n",
              " array([  2,   3,   8,   9,  14,  19,  21,  22,  24,  27,  33,  34,  36,\n",
              "         42,  44,  46,  49,  51,  53,  55,  57,  59,  60,  63,  65,  67,\n",
              "         75,  83,  85,  88,  91,  93,  97, 101, 102, 103, 107, 111, 112,\n",
              "        114, 116, 121, 124, 126, 128, 130, 135, 141]),\n",
              " array([ 13,  15,  23,  43,  46,  57,  65,  67,  70,  83,  87,  90,  98,\n",
              "        100, 125, 126, 132]),\n",
              " array([ 13,  15,  16,  23,  35,  43,  48,  50,  52,  70,  72,  73,  84,\n",
              "         87,  90,  98,  99, 100, 125, 132])]"
            ]
          },
          "metadata": {},
          "execution_count": 34
        }
      ]
    },
    {
      "cell_type": "code",
      "source": [
        "node_3"
      ],
      "metadata": {
        "colab": {
          "base_uri": "https://localhost:8080/"
        },
        "id": "VgT5IMKUGelC",
        "outputId": "0afdc399-f5f1-4ddc-8d1b-07f6762c1508"
      },
      "execution_count": 35,
      "outputs": [
        {
          "output_type": "execute_result",
          "data": {
            "text/plain": [
              "[array([142]), array([ 71, 142]), array([71])]"
            ]
          },
          "metadata": {},
          "execution_count": 35
        }
      ]
    },
    {
      "cell_type": "code",
      "source": [
        "node_4"
      ],
      "metadata": {
        "colab": {
          "base_uri": "https://localhost:8080/"
        },
        "id": "k-Fc2YPCGgId",
        "outputId": "1e1709fc-f21f-4ee0-b864-73a83be3a3e5"
      },
      "execution_count": 36,
      "outputs": [
        {
          "output_type": "execute_result",
          "data": {
            "text/plain": [
              "[array([ 74,  79, 131]), array([ 31,  74,  79, 131]), array([31])]"
            ]
          },
          "metadata": {},
          "execution_count": 36
        }
      ]
    },
    {
      "cell_type": "code",
      "source": [
        "df_1 = df_X_test.iloc[[0,  69, 119, 138]]\n",
        "df_3 = df_X_test.iloc[[142, 71]]\n",
        "df_4 = df_X_test.iloc[[74, 79, 131, 31]]"
      ],
      "metadata": {
        "id": "4eyMro9lII3x"
      },
      "execution_count": 45,
      "outputs": []
    },
    {
      "cell_type": "code",
      "source": [
        "node_2_new = [0,  69, 119, 138, 71, 142, 10,  29,  38,  54,  68, 104, 115, 10,  29,  38,  40,  54,  56,  68,  81, 104, 115, 20,  40,  56,  81,  89, 106, 137, \n",
        "              1,   4,   5,   6,  17,  20,  26,  61,  62,  66,  86,  89,  92, 96, 106, 108, 109, 110, 113, 117, 118, 123, 133, 134, 136, 137, \n",
        "              1,   2,   3,   4,   5,   6,   8,   9,  14,  17,  19,  21,  22, 24,  26,  27,  33,  34,  36,  42,  44,  49,  51,  53,  55,  59, 60,  61,  62,  63,  66,  75,  85,  86,  88,  91,  92,  93,  96,\n",
        "              97, 101, 102, 103, 107, 108, 109, 110, 111, 112, 113, 114, 116, 117, 118, 121, 123, 124, 128, 130, 133, 134, 135, 136, 141, 2,   3,   8,   9,  14,  19,  21,  22,  24,  27,  33,  34,  36,\n",
        "              42,  44,  46,  49,  51,  53,  55,  57,  59,  60,  63,  65,  67, 75,  83,  85,  88,  91,  93,  97, 101, 102, 103, 107, 111, 112, 114, 116, 121, 124, 126, 128, 130, 135, 141, 13,  15,  23,  43,  46,  57,  65,  67,  70,  83,  87,  90,  98,\n",
        "              100, 125, 126, 132,  13,  15,  16,  23,  35,  43,  48,  50,  52,  70,  72,  73,  84, 87,  90,  98,  99, 100, 125, 132]"
      ],
      "metadata": {
        "id": "D4ScSa-lIqB6"
      },
      "execution_count": 52,
      "outputs": []
    },
    {
      "cell_type": "code",
      "source": [
        "id_list = []\n",
        "row  = []\n",
        "\n",
        "for id in node_2_new: \n",
        "  if id in id_list: \n",
        "    id_list.append(id)\n",
        "  else: \n",
        "    row.append(id)\n",
        "    id_list.append(id)"
      ],
      "metadata": {
        "id": "T-_6dheqK64S"
      },
      "execution_count": 55,
      "outputs": []
    },
    {
      "cell_type": "code",
      "source": [
        "np.transpose(row)"
      ],
      "metadata": {
        "colab": {
          "base_uri": "https://localhost:8080/"
        },
        "id": "rdCR58XBLlWI",
        "outputId": "40c2d0cf-db26-4e95-b3b6-ca67abac1330"
      },
      "execution_count": 58,
      "outputs": [
        {
          "output_type": "execute_result",
          "data": {
            "text/plain": [
              "array([  0,  69, 119, 138,  71, 142,  10,  29,  38,  54,  68, 104, 115,\n",
              "        40,  56,  81,  20,  89, 106, 137,   1,   4,   5,   6,  17,  26,\n",
              "        61,  62,  66,  86,  92,  96, 108, 109, 110, 113, 117, 118, 123,\n",
              "       133, 134, 136,   2,   3,   8,   9,  14,  19,  21,  22,  24,  27,\n",
              "        33,  34,  36,  42,  44,  49,  51,  53,  55,  59,  60,  63,  75,\n",
              "        85,  88,  91,  93,  97, 101, 102, 103, 107, 111, 112, 114, 116,\n",
              "       121, 124, 128, 130, 135, 141,  46,  57,  65,  67,  83, 126,  13,\n",
              "        15,  23,  43,  70,  87,  90,  98, 100, 125, 132,  16,  35,  48,\n",
              "        50,  52,  72,  73,  84,  99])"
            ]
          },
          "metadata": {},
          "execution_count": 58
        }
      ]
    },
    {
      "cell_type": "code",
      "source": [
        "df_2 = df_X_test.iloc[[ 0,  69, 119, 138,  71, 142,  10,  29,  38,  54,  68, 104, 115,\n",
        "        40,  56,  81,  20,  89, 106, 137,   1,   4,   5,   6,  17,  26,\n",
        "        61,  62,  66,  86,  92,  96, 108, 109, 110, 113, 117, 118, 123,\n",
        "       133, 134, 136,   2,   3,   8,   9,  14,  19,  21,  22,  24,  27,\n",
        "        33,  34,  36,  42,  44,  49,  51,  53,  55,  59,  60,  63,  75,\n",
        "        85,  88,  91,  93,  97, 101, 102, 103, 107, 111, 112, 114, 116,\n",
        "       121, 124, 128, 130, 135, 141,  46,  57,  65,  67,  83, 126,  13,\n",
        "        15,  23,  43,  70,  87,  90,  98, 100, 125, 132,  16,  35,  48,\n",
        "        50,  52,  72,  73,  84,  99]]\n",
        "df_2"
      ],
      "metadata": {
        "colab": {
          "base_uri": "https://localhost:8080/",
          "height": 419
        },
        "id": "lN7htD4jLfia",
        "outputId": "d35f9d6c-eb70-4cb7-cd1a-dd8d7fc150bb"
      },
      "execution_count": 61,
      "outputs": [
        {
          "output_type": "execute_result",
          "data": {
            "text/plain": [
              "     GENDER       AGE  SMOKING  YELLOW_FINGERS  ANXIETY  PEER_PRESSURE  \\\n",
              "467       1  0.728176        1               0        0              0   \n",
              "403       1  0.728176        1               0        0              0   \n",
              "424       0  0.130387        1               1        0              1   \n",
              "341       1  0.728176        1               0        0              0   \n",
              "471       0 -0.467401        1               0        0              0   \n",
              "..      ...       ...      ...             ...      ...            ...   \n",
              "320       0  0.847734        1               0        0              0   \n",
              "460       0  0.847734        1               0        0              0   \n",
              "331       0 -0.586959        0               0        0              0   \n",
              "316       0 -0.586959        0               0        0              0   \n",
              "310       0 -0.347844        1               0        0              0   \n",
              "\n",
              "     CHRONIC DISEASE  FATIGUE   ALLERGY   WHEEZING  ALCOHOL CONSUMING  \\\n",
              "467                0         0         1         1                  1   \n",
              "403                0         0         1         1                  1   \n",
              "424                1         0         0         0                  0   \n",
              "341                0         0         1         1                  1   \n",
              "471                1         1         1         0                  0   \n",
              "..               ...       ...       ...       ...                ...   \n",
              "320                0         1         0         0                  0   \n",
              "460                0         1         0         0                  0   \n",
              "331                0         1         0         0                  0   \n",
              "316                0         1         0         0                  0   \n",
              "310                0         1         0         0                  0   \n",
              "\n",
              "     COUGHING  SHORTNESS OF BREATH  SWALLOWING DIFFICULTY  CHEST PAIN  \\\n",
              "467         1                    0                      0           1   \n",
              "403         1                    0                      0           1   \n",
              "424         0                    0                      0           0   \n",
              "341         1                    0                      0           1   \n",
              "471         0                    1                      0           0   \n",
              "..        ...                  ...                    ...         ...   \n",
              "320         0                    1                      0           0   \n",
              "460         0                    1                      0           0   \n",
              "331         0                    1                      0           0   \n",
              "316         0                    1                      0           0   \n",
              "310         0                    1                      0           0   \n",
              "\n",
              "     LUNG_CANCER  \n",
              "467            0  \n",
              "403            0  \n",
              "424            0  \n",
              "341            0  \n",
              "471            0  \n",
              "..           ...  \n",
              "320            0  \n",
              "460            0  \n",
              "331            0  \n",
              "316            0  \n",
              "310            0  \n",
              "\n",
              "[110 rows x 16 columns]"
            ],
            "text/html": [
              "\n",
              "  <div id=\"df-ba81bc5d-b485-4b92-9b5f-27e9ff7a03b3\">\n",
              "    <div class=\"colab-df-container\">\n",
              "      <div>\n",
              "<style scoped>\n",
              "    .dataframe tbody tr th:only-of-type {\n",
              "        vertical-align: middle;\n",
              "    }\n",
              "\n",
              "    .dataframe tbody tr th {\n",
              "        vertical-align: top;\n",
              "    }\n",
              "\n",
              "    .dataframe thead th {\n",
              "        text-align: right;\n",
              "    }\n",
              "</style>\n",
              "<table border=\"1\" class=\"dataframe\">\n",
              "  <thead>\n",
              "    <tr style=\"text-align: right;\">\n",
              "      <th></th>\n",
              "      <th>GENDER</th>\n",
              "      <th>AGE</th>\n",
              "      <th>SMOKING</th>\n",
              "      <th>YELLOW_FINGERS</th>\n",
              "      <th>ANXIETY</th>\n",
              "      <th>PEER_PRESSURE</th>\n",
              "      <th>CHRONIC DISEASE</th>\n",
              "      <th>FATIGUE</th>\n",
              "      <th>ALLERGY</th>\n",
              "      <th>WHEEZING</th>\n",
              "      <th>ALCOHOL CONSUMING</th>\n",
              "      <th>COUGHING</th>\n",
              "      <th>SHORTNESS OF BREATH</th>\n",
              "      <th>SWALLOWING DIFFICULTY</th>\n",
              "      <th>CHEST PAIN</th>\n",
              "      <th>LUNG_CANCER</th>\n",
              "    </tr>\n",
              "  </thead>\n",
              "  <tbody>\n",
              "    <tr>\n",
              "      <th>467</th>\n",
              "      <td>1</td>\n",
              "      <td>0.728176</td>\n",
              "      <td>1</td>\n",
              "      <td>0</td>\n",
              "      <td>0</td>\n",
              "      <td>0</td>\n",
              "      <td>0</td>\n",
              "      <td>0</td>\n",
              "      <td>1</td>\n",
              "      <td>1</td>\n",
              "      <td>1</td>\n",
              "      <td>1</td>\n",
              "      <td>0</td>\n",
              "      <td>0</td>\n",
              "      <td>1</td>\n",
              "      <td>0</td>\n",
              "    </tr>\n",
              "    <tr>\n",
              "      <th>403</th>\n",
              "      <td>1</td>\n",
              "      <td>0.728176</td>\n",
              "      <td>1</td>\n",
              "      <td>0</td>\n",
              "      <td>0</td>\n",
              "      <td>0</td>\n",
              "      <td>0</td>\n",
              "      <td>0</td>\n",
              "      <td>1</td>\n",
              "      <td>1</td>\n",
              "      <td>1</td>\n",
              "      <td>1</td>\n",
              "      <td>0</td>\n",
              "      <td>0</td>\n",
              "      <td>1</td>\n",
              "      <td>0</td>\n",
              "    </tr>\n",
              "    <tr>\n",
              "      <th>424</th>\n",
              "      <td>0</td>\n",
              "      <td>0.130387</td>\n",
              "      <td>1</td>\n",
              "      <td>1</td>\n",
              "      <td>0</td>\n",
              "      <td>1</td>\n",
              "      <td>1</td>\n",
              "      <td>0</td>\n",
              "      <td>0</td>\n",
              "      <td>0</td>\n",
              "      <td>0</td>\n",
              "      <td>0</td>\n",
              "      <td>0</td>\n",
              "      <td>0</td>\n",
              "      <td>0</td>\n",
              "      <td>0</td>\n",
              "    </tr>\n",
              "    <tr>\n",
              "      <th>341</th>\n",
              "      <td>1</td>\n",
              "      <td>0.728176</td>\n",
              "      <td>1</td>\n",
              "      <td>0</td>\n",
              "      <td>0</td>\n",
              "      <td>0</td>\n",
              "      <td>0</td>\n",
              "      <td>0</td>\n",
              "      <td>1</td>\n",
              "      <td>1</td>\n",
              "      <td>1</td>\n",
              "      <td>1</td>\n",
              "      <td>0</td>\n",
              "      <td>0</td>\n",
              "      <td>1</td>\n",
              "      <td>0</td>\n",
              "    </tr>\n",
              "    <tr>\n",
              "      <th>471</th>\n",
              "      <td>0</td>\n",
              "      <td>-0.467401</td>\n",
              "      <td>1</td>\n",
              "      <td>0</td>\n",
              "      <td>0</td>\n",
              "      <td>0</td>\n",
              "      <td>1</td>\n",
              "      <td>1</td>\n",
              "      <td>1</td>\n",
              "      <td>0</td>\n",
              "      <td>0</td>\n",
              "      <td>0</td>\n",
              "      <td>1</td>\n",
              "      <td>0</td>\n",
              "      <td>0</td>\n",
              "      <td>0</td>\n",
              "    </tr>\n",
              "    <tr>\n",
              "      <th>...</th>\n",
              "      <td>...</td>\n",
              "      <td>...</td>\n",
              "      <td>...</td>\n",
              "      <td>...</td>\n",
              "      <td>...</td>\n",
              "      <td>...</td>\n",
              "      <td>...</td>\n",
              "      <td>...</td>\n",
              "      <td>...</td>\n",
              "      <td>...</td>\n",
              "      <td>...</td>\n",
              "      <td>...</td>\n",
              "      <td>...</td>\n",
              "      <td>...</td>\n",
              "      <td>...</td>\n",
              "      <td>...</td>\n",
              "    </tr>\n",
              "    <tr>\n",
              "      <th>320</th>\n",
              "      <td>0</td>\n",
              "      <td>0.847734</td>\n",
              "      <td>1</td>\n",
              "      <td>0</td>\n",
              "      <td>0</td>\n",
              "      <td>0</td>\n",
              "      <td>0</td>\n",
              "      <td>1</td>\n",
              "      <td>0</td>\n",
              "      <td>0</td>\n",
              "      <td>0</td>\n",
              "      <td>0</td>\n",
              "      <td>1</td>\n",
              "      <td>0</td>\n",
              "      <td>0</td>\n",
              "      <td>0</td>\n",
              "    </tr>\n",
              "    <tr>\n",
              "      <th>460</th>\n",
              "      <td>0</td>\n",
              "      <td>0.847734</td>\n",
              "      <td>1</td>\n",
              "      <td>0</td>\n",
              "      <td>0</td>\n",
              "      <td>0</td>\n",
              "      <td>0</td>\n",
              "      <td>1</td>\n",
              "      <td>0</td>\n",
              "      <td>0</td>\n",
              "      <td>0</td>\n",
              "      <td>0</td>\n",
              "      <td>1</td>\n",
              "      <td>0</td>\n",
              "      <td>0</td>\n",
              "      <td>0</td>\n",
              "    </tr>\n",
              "    <tr>\n",
              "      <th>331</th>\n",
              "      <td>0</td>\n",
              "      <td>-0.586959</td>\n",
              "      <td>0</td>\n",
              "      <td>0</td>\n",
              "      <td>0</td>\n",
              "      <td>0</td>\n",
              "      <td>0</td>\n",
              "      <td>1</td>\n",
              "      <td>0</td>\n",
              "      <td>0</td>\n",
              "      <td>0</td>\n",
              "      <td>0</td>\n",
              "      <td>1</td>\n",
              "      <td>0</td>\n",
              "      <td>0</td>\n",
              "      <td>0</td>\n",
              "    </tr>\n",
              "    <tr>\n",
              "      <th>316</th>\n",
              "      <td>0</td>\n",
              "      <td>-0.586959</td>\n",
              "      <td>0</td>\n",
              "      <td>0</td>\n",
              "      <td>0</td>\n",
              "      <td>0</td>\n",
              "      <td>0</td>\n",
              "      <td>1</td>\n",
              "      <td>0</td>\n",
              "      <td>0</td>\n",
              "      <td>0</td>\n",
              "      <td>0</td>\n",
              "      <td>1</td>\n",
              "      <td>0</td>\n",
              "      <td>0</td>\n",
              "      <td>0</td>\n",
              "    </tr>\n",
              "    <tr>\n",
              "      <th>310</th>\n",
              "      <td>0</td>\n",
              "      <td>-0.347844</td>\n",
              "      <td>1</td>\n",
              "      <td>0</td>\n",
              "      <td>0</td>\n",
              "      <td>0</td>\n",
              "      <td>0</td>\n",
              "      <td>1</td>\n",
              "      <td>0</td>\n",
              "      <td>0</td>\n",
              "      <td>0</td>\n",
              "      <td>0</td>\n",
              "      <td>1</td>\n",
              "      <td>0</td>\n",
              "      <td>0</td>\n",
              "      <td>0</td>\n",
              "    </tr>\n",
              "  </tbody>\n",
              "</table>\n",
              "<p>110 rows × 16 columns</p>\n",
              "</div>\n",
              "      <button class=\"colab-df-convert\" onclick=\"convertToInteractive('df-ba81bc5d-b485-4b92-9b5f-27e9ff7a03b3')\"\n",
              "              title=\"Convert this dataframe to an interactive table.\"\n",
              "              style=\"display:none;\">\n",
              "        \n",
              "  <svg xmlns=\"http://www.w3.org/2000/svg\" height=\"24px\"viewBox=\"0 0 24 24\"\n",
              "       width=\"24px\">\n",
              "    <path d=\"M0 0h24v24H0V0z\" fill=\"none\"/>\n",
              "    <path d=\"M18.56 5.44l.94 2.06.94-2.06 2.06-.94-2.06-.94-.94-2.06-.94 2.06-2.06.94zm-11 1L8.5 8.5l.94-2.06 2.06-.94-2.06-.94L8.5 2.5l-.94 2.06-2.06.94zm10 10l.94 2.06.94-2.06 2.06-.94-2.06-.94-.94-2.06-.94 2.06-2.06.94z\"/><path d=\"M17.41 7.96l-1.37-1.37c-.4-.4-.92-.59-1.43-.59-.52 0-1.04.2-1.43.59L10.3 9.45l-7.72 7.72c-.78.78-.78 2.05 0 2.83L4 21.41c.39.39.9.59 1.41.59.51 0 1.02-.2 1.41-.59l7.78-7.78 2.81-2.81c.8-.78.8-2.07 0-2.86zM5.41 20L4 18.59l7.72-7.72 1.47 1.35L5.41 20z\"/>\n",
              "  </svg>\n",
              "      </button>\n",
              "      \n",
              "  <style>\n",
              "    .colab-df-container {\n",
              "      display:flex;\n",
              "      flex-wrap:wrap;\n",
              "      gap: 12px;\n",
              "    }\n",
              "\n",
              "    .colab-df-convert {\n",
              "      background-color: #E8F0FE;\n",
              "      border: none;\n",
              "      border-radius: 50%;\n",
              "      cursor: pointer;\n",
              "      display: none;\n",
              "      fill: #1967D2;\n",
              "      height: 32px;\n",
              "      padding: 0 0 0 0;\n",
              "      width: 32px;\n",
              "    }\n",
              "\n",
              "    .colab-df-convert:hover {\n",
              "      background-color: #E2EBFA;\n",
              "      box-shadow: 0px 1px 2px rgba(60, 64, 67, 0.3), 0px 1px 3px 1px rgba(60, 64, 67, 0.15);\n",
              "      fill: #174EA6;\n",
              "    }\n",
              "\n",
              "    [theme=dark] .colab-df-convert {\n",
              "      background-color: #3B4455;\n",
              "      fill: #D2E3FC;\n",
              "    }\n",
              "\n",
              "    [theme=dark] .colab-df-convert:hover {\n",
              "      background-color: #434B5C;\n",
              "      box-shadow: 0px 1px 3px 1px rgba(0, 0, 0, 0.15);\n",
              "      filter: drop-shadow(0px 1px 2px rgba(0, 0, 0, 0.3));\n",
              "      fill: #FFFFFF;\n",
              "    }\n",
              "  </style>\n",
              "\n",
              "      <script>\n",
              "        const buttonEl =\n",
              "          document.querySelector('#df-ba81bc5d-b485-4b92-9b5f-27e9ff7a03b3 button.colab-df-convert');\n",
              "        buttonEl.style.display =\n",
              "          google.colab.kernel.accessAllowed ? 'block' : 'none';\n",
              "\n",
              "        async function convertToInteractive(key) {\n",
              "          const element = document.querySelector('#df-ba81bc5d-b485-4b92-9b5f-27e9ff7a03b3');\n",
              "          const dataTable =\n",
              "            await google.colab.kernel.invokeFunction('convertToInteractive',\n",
              "                                                     [key], {});\n",
              "          if (!dataTable) return;\n",
              "\n",
              "          const docLinkHtml = 'Like what you see? Visit the ' +\n",
              "            '<a target=\"_blank\" href=https://colab.research.google.com/notebooks/data_table.ipynb>data table notebook</a>'\n",
              "            + ' to learn more about interactive tables.';\n",
              "          element.innerHTML = '';\n",
              "          dataTable['output_type'] = 'display_data';\n",
              "          await google.colab.output.renderOutput(dataTable, element);\n",
              "          const docLink = document.createElement('div');\n",
              "          docLink.innerHTML = docLinkHtml;\n",
              "          element.appendChild(docLink);\n",
              "        }\n",
              "      </script>\n",
              "    </div>\n",
              "  </div>\n",
              "  "
            ]
          },
          "metadata": {},
          "execution_count": 61
        }
      ]
    },
    {
      "cell_type": "code",
      "source": [
        "print(df_1['LUNG_CANCER'].value_counts())\n",
        "print(df_2['LUNG_CANCER'].value_counts())\n",
        "print(df_3['LUNG_CANCER'].value_counts())\n",
        "print(df_4['LUNG_CANCER'].value_counts())"
      ],
      "metadata": {
        "colab": {
          "base_uri": "https://localhost:8080/"
        },
        "id": "4uESMe1CNayp",
        "outputId": "a26d1e8b-78b6-4969-bc4a-dbadf9938044"
      },
      "execution_count": 66,
      "outputs": [
        {
          "output_type": "stream",
          "name": "stdout",
          "text": [
            "0    4\n",
            "Name: LUNG_CANCER, dtype: int64\n",
            "1    66\n",
            "0    44\n",
            "Name: LUNG_CANCER, dtype: int64\n",
            "1    1\n",
            "0    1\n",
            "Name: LUNG_CANCER, dtype: int64\n",
            "0    3\n",
            "1    1\n",
            "Name: LUNG_CANCER, dtype: int64\n"
          ]
        }
      ]
    },
    {
      "cell_type": "markdown",
      "source": [
        "## **Analyzing df_2 and df_4**"
      ],
      "metadata": {
        "id": "nCa6QMMFOa6-"
      }
    },
    {
      "cell_type": "code",
      "source": [
        "df_2[\"LUNG_CANCER\"] = df_2[\"LUNG_CANCER\"].map({0: 'No', 1:'Yes'})\n",
        "df_4[\"LUNG_CANCER\"] = df_4[\"LUNG_CANCER\"].map({0: 'No', 1:'Yes'})\n",
        "\n",
        "for col in ['GENDER', 'SMOKING', 'YELLOW_FINGERS', 'ANXIETY','PEER_PRESSURE', 'CHRONIC DISEASE', 'FATIGUE ', 'ALLERGY ', 'WHEEZING', 'ALCOHOL CONSUMING', 'COUGHING', 'SHORTNESS OF BREATH', 'SWALLOWING DIFFICULTY', 'CHEST PAIN']: \n",
        "  for data in [df_2, df_4]: \n",
        "    sns.countplot(x = col, data = data)\n",
        "    plt.show()"
      ],
      "metadata": {
        "colab": {
          "base_uri": "https://localhost:8080/",
          "height": 1000
        },
        "id": "Nh-kIRfCOaBe",
        "outputId": "958b710e-1cb0-4d29-e233-099b60008a08"
      },
      "execution_count": 73,
      "outputs": [
        {
          "output_type": "stream",
          "name": "stderr",
          "text": [
            "<ipython-input-73-a48d90a3d7d8>:1: SettingWithCopyWarning:\n",
            "\n",
            "\n",
            "A value is trying to be set on a copy of a slice from a DataFrame.\n",
            "Try using .loc[row_indexer,col_indexer] = value instead\n",
            "\n",
            "See the caveats in the documentation: https://pandas.pydata.org/pandas-docs/stable/user_guide/indexing.html#returning-a-view-versus-a-copy\n",
            "\n",
            "<ipython-input-73-a48d90a3d7d8>:2: SettingWithCopyWarning:\n",
            "\n",
            "\n",
            "A value is trying to be set on a copy of a slice from a DataFrame.\n",
            "Try using .loc[row_indexer,col_indexer] = value instead\n",
            "\n",
            "See the caveats in the documentation: https://pandas.pydata.org/pandas-docs/stable/user_guide/indexing.html#returning-a-view-versus-a-copy\n",
            "\n"
          ]
        },
        {
          "output_type": "display_data",
          "data": {
            "text/plain": [
              "<Figure size 432x288 with 1 Axes>"
            ],
            "image/png": "[encoded data removed]"
          },
          "metadata": {
            "needs_background": "light"
          }
        },
        {
          "output_type": "display_data",
          "data": {
            "text/plain": [
              "<Figure size 432x288 with 1 Axes>"
            ],
            "image/png": "[encoded data removed]"
          },
          "metadata": {
            "needs_background": "light"
          }
        },
        {
          "output_type": "display_data",
          "data": {
            "text/plain": [
              "<Figure size 432x288 with 1 Axes>"
            ],
            "image/png": "[encoded data removed]"
          },
          "metadata": {
            "needs_background": "light"
          }
        },
        {
          "output_type": "display_data",
          "data": {
            "text/plain": [
              "<Figure size 432x288 with 1 Axes>"
            ],
            "image/png": "[encoded data removed]"
          },
          "metadata": {
            "needs_background": "light"
          }
        },
        {
          "output_type": "display_data",
          "data": {
            "text/plain": [
              "<Figure size 432x288 with 1 Axes>"
            ],
            "image/png": "[encoded data removed]"
          },
          "metadata": {
            "needs_background": "light"
          }
        },
        {
          "output_type": "display_data",
          "data": {
            "text/plain": [
              "<Figure size 432x288 with 1 Axes>"
            ],
            "image/png": "[encoded data removed]"
          },
          "metadata": {
            "needs_background": "light"
          }
        },
        {
          "output_type": "display_data",
          "data": {
            "text/plain": [
              "<Figure size 432x288 with 1 Axes>"
            ],
            "image/png": "[encoded data removed]"
          },
          "metadata": {
            "needs_background": "light"
          }
        },
        {
          "output_type": "display_data",
          "data": {
            "text/plain": [
              "<Figure size 432x288 with 1 Axes>"
            ],
            "image/png": "[encoded data removed]"
          },
          "metadata": {
            "needs_background": "light"
          }
        },
        {
          "output_type": "display_data",
          "data": {
            "text/plain": [
              "<Figure size 432x288 with 1 Axes>"
            ],
            "image/png": "[encoded data removed]"
          },
          "metadata": {
            "needs_background": "light"
          }
        },
        {
          "output_type": "display_data",
          "data": {
            "text/plain": [
              "<Figure size 432x288 with 1 Axes>"
            ],
            "image/png": "[encoded data removed]"
          },
          "metadata": {
            "needs_background": "light"
          }
        },
        {
          "output_type": "display_data",
          "data": {
            "text/plain": [
              "<Figure size 432x288 with 1 Axes>"
            ],
            "image/png": "[encoded data removed]"
          },
          "metadata": {
            "needs_background": "light"
          }
        },
        {
          "output_type": "display_data",
          "data": {
            "text/plain": [
              "<Figure size 432x288 with 1 Axes>"
            ],
            "image/png": "[encoded data removed]"
          },
          "metadata": {
            "needs_background": "light"
          }
        },
        {
          "output_type": "display_data",
          "data": {
            "text/plain": [
              "<Figure size 432x288 with 1 Axes>"
            ],
            "image/png": "[encoded data removed]"
          },
          "metadata": {
            "needs_background": "light"
          }
        },
        {
          "output_type": "display_data",
          "data": {
            "text/plain": [
              "<Figure size 432x288 with 1 Axes>"
            ],
            "image/png": "[encoded data removed]"
          },
          "metadata": {
            "needs_background": "light"
          }
        },
        {
          "output_type": "display_data",
          "data": {
            "text/plain": [
              "<Figure size 432x288 with 1 Axes>"
            ],
            "image/png": "[encoded data removed]"
          },
          "metadata": {
            "needs_background": "light"
          }
        },
        {
          "output_type": "display_data",
          "data": {
            "text/plain": [
              "<Figure size 432x288 with 1 Axes>"
            ],
            "image/png": "[encoded data removed]"
          },
          "metadata": {
            "needs_background": "light"
          }
        },
        {
          "output_type": "display_data",
          "data": {
            "text/plain": [
              "<Figure size 432x288 with 1 Axes>"
            ],
            "image/png": "[encoded data removed]"
          },
          "metadata": {
            "needs_background": "light"
          }
        },
        {
          "output_type": "display_data",
          "data": {
            "text/plain": [
              "<Figure size 432x288 with 1 Axes>"
            ],
            "image/png": "[encoded data removed]"
          },
          "metadata": {
            "needs_background": "light"
          }
        },
        {
          "output_type": "display_data",
          "data": {
            "text/plain": [
              "<Figure size 432x288 with 1 Axes>"
            ],
            "image/png": "[encoded data removed]"
          },
          "metadata": {
            "needs_background": "light"
          }
        },
        {
          "output_type": "display_data",
          "data": {
            "text/plain": [
              "<Figure size 432x288 with 1 Axes>"
            ],
            "image/png": "[encoded data removed]"
          },
          "metadata": {
            "needs_background": "light"
          }
        },
        {
          "output_type": "display_data",
          "data": {
            "text/plain": [
              "<Figure size 432x288 with 1 Axes>"
            ],
            "image/png": "[encoded data removed]"
          },
          "metadata": {
            "needs_background": "light"
          }
        },
        {
          "output_type": "display_data",
          "data": {
            "text/plain": [
              "<Figure size 432x288 with 1 Axes>"
            ],
            "image/png": "[encoded data removed]"
          },
          "metadata": {
            "needs_background": "light"
          }
        },
        {
          "output_type": "display_data",
          "data": {
            "text/plain": [
              "<Figure size 432x288 with 1 Axes>"
            ],
            "image/png": "[encoded data removed]"
          },
          "metadata": {
            "needs_background": "light"
          }
        },
        {
          "output_type": "display_data",
          "data": {
            "text/plain": [
              "<Figure size 432x288 with 1 Axes>"
            ],
            "image/png": "[encoded data removed]"
          },
          "metadata": {
            "needs_background": "light"
          }
        },
        {
          "output_type": "display_data",
          "data": {
            "text/plain": [
              "<Figure size 432x288 with 1 Axes>"
            ],
            "image/png": "[encoded data removed]"
          },
          "metadata": {
            "needs_background": "light"
          }
        },
        {
          "output_type": "display_data",
          "data": {
            "text/plain": [
              "<Figure size 432x288 with 1 Axes>"
            ],
            "image/png": "[encoded data removed]"
          },
          "metadata": {
            "needs_background": "light"
          }
        },
        {
          "output_type": "display_data",
          "data": {
            "text/plain": [
              "<Figure size 432x288 with 1 Axes>"
            ],
            "image/png": "[encoded data removed]"
          },
          "metadata": {
            "needs_background": "light"
          }
        },
        {
          "output_type": "display_data",
          "data": {
            "text/plain": [
              "<Figure size 432x288 with 1 Axes>"
            ],
            "image/png": "[encoded data removed]"
          },
          "metadata": {
            "needs_background": "light"
          }
        }
      ]
    },
    {
      "cell_type": "markdown",
      "source": [
        "Factors that are different: peer pressure, fatigue, chest pain"
      ],
      "metadata": {
        "id": "3rI3taaQQx7y"
      }
    }
  ]
}